{
 "cells": [
  {
   "cell_type": "markdown",
   "id": "e99d9b08-e0aa-4689-b844-d0b091b3ee25",
   "metadata": {},
   "source": [
    "# T01 - Markdown"
   ]
  },
  {
   "cell_type": "markdown",
   "id": "574b2dc9-c612-4d48-9241-e2a7461d2731",
   "metadata": {},
   "source": [
    "## Santiago Padillla Arias EXP:750985 Fecha: 15/08/2024"
   ]
  },
  {
   "cell_type": "markdown",
   "id": "28be0519-e636-49dd-9077-e8d8198bd98e",
   "metadata": {},
   "source": [
    "### Tipos de variables"
   ]
  },
  {
   "cell_type": "code",
   "execution_count": 1,
   "id": "9a4b856b-8b20-4250-ba08-860cad7c447f",
   "metadata": {},
   "outputs": [
    {
     "data": {
      "text/plain": [
       "3"
      ]
     },
     "execution_count": 1,
     "metadata": {},
     "output_type": "execute_result"
    }
   ],
   "source": [
    "pedro = 3\n",
    "pedro"
   ]
  },
  {
   "cell_type": "code",
   "execution_count": 3,
   "id": "fc4c8e46-e784-4653-b5ce-7ae02523a7d9",
   "metadata": {},
   "outputs": [
    {
     "name": "stdout",
     "output_type": "stream",
     "text": [
      "3\n"
     ]
    }
   ],
   "source": [
    "print(pedro)"
   ]
  },
  {
   "cell_type": "code",
   "execution_count": 4,
   "id": "a29c5da8-553d-4a4e-a33f-cd778e6cf1a0",
   "metadata": {},
   "outputs": [
    {
     "data": {
      "text/plain": [
       "int"
      ]
     },
     "execution_count": 4,
     "metadata": {},
     "output_type": "execute_result"
    }
   ],
   "source": [
    "type(pedro)"
   ]
  },
  {
   "cell_type": "code",
   "execution_count": 5,
   "id": "e111935b-7008-4bb4-ae22-045481c9702e",
   "metadata": {},
   "outputs": [
    {
     "data": {
      "text/plain": [
       "3.14"
      ]
     },
     "execution_count": 5,
     "metadata": {},
     "output_type": "execute_result"
    }
   ],
   "source": [
    "luis = 3.14\n",
    "\n",
    "type(luis)\n",
    "\n",
    "luis"
   ]
  },
  {
   "cell_type": "code",
   "execution_count": 9,
   "id": "e613d0f4-e79a-4b7d-bada-4d086aa8b875",
   "metadata": {},
   "outputs": [],
   "source": [
    "juan = \"Hola\""
   ]
  },
  {
   "cell_type": "code",
   "execution_count": 11,
   "id": "ce07eaac-3249-4adb-a5f1-6d9bd9e2538c",
   "metadata": {},
   "outputs": [
    {
     "name": "stdout",
     "output_type": "stream",
     "text": [
      "Hola\n"
     ]
    },
    {
     "data": {
      "text/plain": [
       "str"
      ]
     },
     "execution_count": 11,
     "metadata": {},
     "output_type": "execute_result"
    }
   ],
   "source": [
    "print(juan)\n",
    "type(juan)"
   ]
  },
  {
   "cell_type": "code",
   "execution_count": null,
   "id": "6e58d328-d01b-42c7-bacd-2c69786ed327",
   "metadata": {},
   "outputs": [],
   "source": []
  },
  {
   "cell_type": "code",
   "execution_count": null,
   "id": "b4db3e59-84cd-469e-8eb3-a7af8dae7c01",
   "metadata": {},
   "outputs": [],
   "source": []
  },
  {
   "cell_type": "code",
   "execution_count": 15,
   "id": "6e2aad3b-51ee-44cf-8aa9-728d9b1a9c31",
   "metadata": {},
   "outputs": [
    {
     "name": "stdout",
     "output_type": "stream",
     "text": [
      "4\n",
      "3.141592\n"
     ]
    },
    {
     "data": {
      "text/plain": [
       "float"
      ]
     },
     "execution_count": 15,
     "metadata": {},
     "output_type": "execute_result"
    }
   ],
   "source": [
    "no_intentos = 4\n",
    "print(no_intentos)\n",
    "type(no_intentos)\n",
    "\n",
    "pi = 3.141592\n",
    "print(pi)\n",
    "type(pi)"
   ]
  },
  {
   "cell_type": "code",
   "execution_count": 17,
   "id": "fb7c1a68-e263-47dd-b524-ca3df167ce52",
   "metadata": {},
   "outputs": [
    {
     "name": "stdout",
     "output_type": "stream",
     "text": [
      "S\n"
     ]
    },
    {
     "data": {
      "text/plain": [
       "str"
      ]
     },
     "execution_count": 17,
     "metadata": {},
     "output_type": "execute_result"
    }
   ],
   "source": [
    "inicial = 'S'\n",
    "print(inicial)\n",
    "type(inicial)"
   ]
  },
  {
   "cell_type": "code",
   "execution_count": 19,
   "id": "e6e2690c-1aca-4232-88bd-53fddce00404",
   "metadata": {},
   "outputs": [
    {
     "name": "stdout",
     "output_type": "stream",
     "text": [
      "Padilla\n"
     ]
    },
    {
     "data": {
      "text/plain": [
       "str"
      ]
     },
     "execution_count": 19,
     "metadata": {},
     "output_type": "execute_result"
    }
   ],
   "source": [
    "apellido = \"Padilla\"\n",
    "print(apellido)\n",
    "type(apellido)"
   ]
  },
  {
   "cell_type": "code",
   "execution_count": 21,
   "id": "23d3ac38-d368-4cba-a1f5-b4bda79eb2c7",
   "metadata": {},
   "outputs": [
    {
     "name": "stdout",
     "output_type": "stream",
     "text": [
      "True\n"
     ]
    },
    {
     "data": {
      "text/plain": [
       "bool"
      ]
     },
     "execution_count": 21,
     "metadata": {},
     "output_type": "execute_result"
    }
   ],
   "source": [
    "desayuno = True\n",
    "print(desayuno)\n",
    "type(desayuno)"
   ]
  },
  {
   "cell_type": "markdown",
   "id": "94138fee-89e8-4b68-a26e-5c9e09b54349",
   "metadata": {},
   "source": [
    "### Operadores "
   ]
  },
  {
   "cell_type": "markdown",
   "id": "699e87e1-a3de-4ee6-b80f-4ea5124885df",
   "metadata": {},
   "source": [
    "#### Matemáticos"
   ]
  },
  {
   "cell_type": "markdown",
   "id": "4df7ade4-d99b-429d-bc8d-c5ec2dd65b26",
   "metadata": {},
   "source": [
    "$$ + $$\n",
    "$$ - $$\n",
    "$$ * $$\n",
    "$$ / $$\n",
    "$$ //$$\n",
    "$$ ** $$\n",
    "$$ /% $$"
   ]
  },
  {
   "cell_type": "markdown",
   "id": "01275c0f-accc-46e6-9b15-d9a9d797f293",
   "metadata": {},
   "source": [
    "#### Booleanos"
   ]
  },
  {
   "cell_type": "markdown",
   "id": "8e392d7b-afa2-4f82-bbd4-d46da162ec18",
   "metadata": {},
   "source": [
    "$$ & $$"
   ]
  },
  {
   "cell_type": "markdown",
   "id": "c5ba3563-0117-4836-90fa-2a6eaacdb5b2",
   "metadata": {},
   "source": [
    "#### Control de flujo"
   ]
  },
  {
   "cell_type": "code",
   "execution_count": 1,
   "id": "28c99331-169c-41ab-9c50-0337e312324e",
   "metadata": {},
   "outputs": [
    {
     "name": "stdout",
     "output_type": "stream",
     "text": [
      "87 no es múltiplo de 6\n"
     ]
    }
   ],
   "source": [
    "# Inicio\n",
    "\n",
    "\n",
    "a = 87\n",
    "b = 6\n",
    "\n",
    "if (b != 0):\n",
    "    if (a % b == 0) :\n",
    "        print(str(a) + \" si es múltiplo de \" + str(b))\n",
    "    else:\n",
    "        print(str(a) + \" no es múltiplo de \" + str(b))\n",
    "else:\n",
    "    print(\"´b´ no puede ser 0\") "
   ]
  },
  {
   "cell_type": "code",
   "execution_count": 2,
   "id": "1adb7e7b-6f64-4d7f-9f13-45017eef8c2d",
   "metadata": {},
   "outputs": [
    {
     "name": "stdout",
     "output_type": "stream",
     "text": [
      "0\n",
      "1\n",
      "2\n",
      "3\n",
      "4\n",
      "5\n",
      "6\n",
      "7\n",
      "8\n",
      "9\n",
      "10\n"
     ]
    }
   ],
   "source": [
    "a = 10\n",
    "i = 0\n",
    "while(i <= a):\n",
    "    print(i)\n",
    "\n",
    "    i += 1"
   ]
  },
  {
   "cell_type": "code",
   "execution_count": 17,
   "id": "47f4a22e-2110-4f6f-a6bc-8ac20a0d61f1",
   "metadata": {},
   "outputs": [
    {
     "name": "stdout",
     "output_type": "stream",
     "text": [
      "120\n"
     ]
    }
   ],
   "source": [
    "# Ejercicio de clase factorial\n",
    "\n",
    "a = 5\n",
    "z = 1\n",
    "factorial = 1\n",
    "while z <= a:\n",
    "    factorial = factorial * z\n",
    "    z = z + 1\n",
    "print(factorial)"
   ]
  },
  {
   "cell_type": "markdown",
   "id": "e16ed40b-fd19-45a3-a13a-6759632c610e",
   "metadata": {},
   "source": [
    "![](Diagrama1.jpg)"
   ]
  },
  {
   "cell_type": "code",
   "execution_count": null,
   "id": "62e63d3d-1a42-4657-8a5d-faba992c5019",
   "metadata": {},
   "outputs": [],
   "source": [
    "# Ejercicio de clase factorial\n"
   ]
  }
 ],
 "metadata": {
  "kernelspec": {
   "display_name": "Python 3 (ipykernel)",
   "language": "python",
   "name": "python3"
  },
  "language_info": {
   "codemirror_mode": {
    "name": "ipython",
    "version": 3
   },
   "file_extension": ".py",
   "mimetype": "text/x-python",
   "name": "python",
   "nbconvert_exporter": "python",
   "pygments_lexer": "ipython3",
   "version": "3.12.4"
  }
 },
 "nbformat": 4,
 "nbformat_minor": 5
}
