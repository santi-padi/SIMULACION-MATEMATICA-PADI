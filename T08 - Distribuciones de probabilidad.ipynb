{
 "cells": [
  {
   "cell_type": "markdown",
   "id": "457a5e3c-5512-497c-a3e6-082a4468fb2e",
   "metadata": {},
   "source": [
    "# Actividad en clase 10"
   ]
  },
  {
   "cell_type": "markdown",
   "id": "ba13c736-1e1b-4c73-a339-08605c4feeb8",
   "metadata": {},
   "source": [
    "## Santiago Padillla Arias EXP:750985 Fecha: 17/10/2024"
   ]
  },
  {
   "cell_type": "markdown",
   "id": "424ca0c5-10b1-4250-b5b8-b2f5f7a090d5",
   "metadata": {},
   "source": [
    "### T08 - Distribuciones de probabilidad"
   ]
  },
  {
   "cell_type": "markdown",
   "id": "65e83225-e210-4697-ad58-6f065e64c050",
   "metadata": {},
   "source": [
    "1.- Un proyecto de construcción está por comenzar. Se hace la compra de los materiales y el proveedor dice que en promedio tardan una semana con una desviación de 3 días en llegar. Una vez llegados los materiales se tarda entre 3 y 5 semanas en construir (uniforme). Después de la construcción se deben esperar 3 días antes de empezar a pintar, y toma 6 días en promedio con 2 días de desviación estándar hacerlo."
   ]
  },
  {
   "cell_type": "markdown",
   "id": "287a2ddd-dc7c-4c93-8a0c-fb75bae477b4",
   "metadata": {},
   "source": [
    "a) Describe en una celda qué distribución usarías para cada paso del proceso"
   ]
  },
  {
   "cell_type": "markdown",
   "id": "81fcdf12-0699-41d3-9b3f-bc85e1e271a0",
   "metadata": {},
   "source": [
    "- Una parte será distribución normal, para tiempo de entrega de materiales y para tiempo para pintar \n",
    "- En otra será distribución uniforme, para tiempo que tardará la construcción"
   ]
  },
  {
   "cell_type": "markdown",
   "id": "1532617b-48f5-44f4-8253-ce11d523c5aa",
   "metadata": {
    "scrolled": true
   },
   "source": [
    "b) Simula cada paso en el proceso un millón de veces"
   ]
  },
  {
   "cell_type": "code",
   "execution_count": 35,
   "id": "47b42964-98c9-486e-85de-049715e2687d",
   "metadata": {},
   "outputs": [],
   "source": [
    "import numpy as np\n",
    "\n",
    "\n",
    "simulaciones = 1000000\n",
    "\n",
    "tiempos_entrega = np.random.normal(7, 3, simulaciones) \n",
    "\n",
    "tiempos_construccion = np.random.uniform(21, 35, simulaciones) # 3 semanas = 21 dias y 5 semanas = 35 dias\n",
    "\n",
    "tiempos_pintura = np.random.normal(6, 2, simulaciones)\n",
    "\n",
    "# print(\"Tiempos de entrega de materiales: \", tiempos_entrega)\n",
    "# print(\"Tiempos de entrega de construccion: \", tiempos_construccion)\n",
    "# print(\"Tiempos de entrega de pintura: \", tiempos_pintura)"
   ]
  },
  {
   "cell_type": "markdown",
   "id": "89dc4981-170a-4ff4-8a5e-2523f5ee89f4",
   "metadata": {},
   "source": [
    "c) Agrupa las simulaciones de cada paso para tener la simulación del proceso completo"
   ]
  },
  {
   "cell_type": "code",
   "execution_count": 38,
   "id": "32acd327-3bf9-4bb0-a279-62006ec5e5b0",
   "metadata": {},
   "outputs": [
    {
     "name": "stdout",
     "output_type": "stream",
     "text": [
      "Tiempo total de cada simulación:  [39.35590343 44.24355652 41.28105796 ... 41.28187023 38.94015221\n",
      " 43.95719654]\n"
     ]
    }
   ],
   "source": [
    "# Cálculo del tiempo total: entrega + construcción + espera de 3 días + pintura\n",
    "tiempo_total= tiempos_entrega + tiempos_construccion + 3 + tiempos_pintura\n",
    "\n",
    "print(\"Tiempo total de cada simulación: \", tiempo_total) \n",
    "\n",
    "\n"
   ]
  },
  {
   "cell_type": "markdown",
   "id": "c0532704-4b47-4cb4-a3cf-a8bccec7da7a",
   "metadata": {},
   "source": [
    "d) ¿Cuál es el tiempo promedio para de inicio-fin del proyecto?"
   ]
  },
  {
   "cell_type": "code",
   "execution_count": 41,
   "id": "e28a0045-4f79-4fe4-9292-df9977adab79",
   "metadata": {},
   "outputs": [
    {
     "name": "stdout",
     "output_type": "stream",
     "text": [
      "Tiempo promedio del proyecto:  43.99653791463081\n"
     ]
    }
   ],
   "source": [
    "tiempo_promedio = np.mean(tiempo_total)\n",
    "\n",
    "print(\"Tiempo promedio del proyecto: \", tiempo_promedio) "
   ]
  },
  {
   "cell_type": "markdown",
   "id": "3d22969d-6902-49d1-a4e1-e14137009c95",
   "metadata": {},
   "source": [
    "\n",
    "e) De acuerdo a tus simulaciones, ¿cuál es el peor caso? ¿cuál es el mejor caso?"
   ]
  },
  {
   "cell_type": "code",
   "execution_count": 44,
   "id": "cc02570a-74a2-4235-9394-d6ce0488447e",
   "metadata": {},
   "outputs": [
    {
     "name": "stdout",
     "output_type": "stream",
     "text": [
      "Según un millón de simulaciones en el peor caso se tardaría:  66.48693144612365\n",
      "\n",
      "\n",
      "Según un millón de simulaciones en el mejor caso se tardaría:  22.167427290415258\n"
     ]
    }
   ],
   "source": [
    "peor_caso = np.max(tiempo_total)\n",
    "mejor_caso = np.min(tiempo_total)\n",
    "\n",
    "print(\"Según un millón de simulaciones en el peor caso se tardaría: \", peor_caso) \n",
    "print()\n",
    "print()\n",
    "print(\"Según un millón de simulaciones en el mejor caso se tardaría: \", mejor_caso) "
   ]
  },
  {
   "cell_type": "markdown",
   "id": "d4d96c9c-7f2d-41f3-9637-b108ef325e05",
   "metadata": {},
   "source": [
    "\n",
    "f) Si el proyecto se tiene que entregar a más tardar en 50 días o se tiene que pagar una compensación al cliente, ¿cuál es la probabilidad de que el proyecto se entregue a tiempo?\n"
   ]
  },
  {
   "cell_type": "code",
   "execution_count": 47,
   "id": "081d51d0-58e8-4986-b483-61116d33559b",
   "metadata": {},
   "outputs": [
    {
     "name": "stdout",
     "output_type": "stream",
     "text": [
      "Según un millón de simulaciones la probabilidad de que el proyecto se entregue a tiempo:  0.857921\n"
     ]
    }
   ],
   "source": [
    "# Entrega menor de o igual a 50 días\n",
    "verificacion_entrega_tiempo = tiempo_total <= 50\n",
    "\n",
    "# Sumar las simulaciones que entregan a tiempo\n",
    "cantidad_entrega_tiempo = np.sum(verificacion_entrega_tiempo)\n",
    "\n",
    "# Calcular la probabilidad\n",
    "probabilidad = cantidad_entrega_tiempo / simulaciones\n",
    "\n",
    "print(\"Según un millón de simulaciones la probabilidad de que el proyecto se entregue a tiempo: \", probabilidad) \n"
   ]
  },
  {
   "cell_type": "markdown",
   "id": "46433d75-cf30-4ee8-bc06-8da68e632b2b",
   "metadata": {},
   "source": [
    "\n",
    "g) ¿Cuál es la probabilidad de que el proyecto tome entre 20 y 40 días?"
   ]
  },
  {
   "cell_type": "code",
   "execution_count": 50,
   "id": "48117e14-b112-4d4f-857b-89bb1724d504",
   "metadata": {},
   "outputs": [
    {
     "name": "stdout",
     "output_type": "stream",
     "text": [
      "Según un millón de simulaciones la probabilidad de que el proyecto tome entre 20 y 40 días es:  0.243479\n"
     ]
    }
   ],
   "source": [
    "# Verificación del tiempo total del proyecto entre 20 y 40 días\n",
    "verificacion_20_dias = tiempo_total >= 20\n",
    "verificacion_40_dias = tiempo_total <= 40\n",
    "\n",
    "probabilidad_2 = np.sum((verificacion_20_dias) & (verificacion_40_dias)) / simulaciones\n",
    "\n",
    "print(\"Según un millón de simulaciones la probabilidad de que el proyecto tome entre 20 y 40 días es: \", probabilidad_2) "
   ]
  },
  {
   "cell_type": "markdown",
   "id": "85c8a6ba-edbc-4033-8864-ef15ba465b60",
   "metadata": {},
   "source": [
    "2.- Hay un elevador pequeño en una plaza donde se espera que entren máximo 4 personas a la vez, y su capacidad de peso para poder operar es de 300 kg. En el último censo se encontró que habían 378350 personas en la zona:\n",
    "\n",
    "- 185392 mujeres\n",
    "- 162690 hombres\n",
    "- 30268 personas que o prefirieron no dar la información o se identificaron como no binarias\n",
    "  \n",
    "El peso promedio medido en mujeres es de 70 kg con una desviación estándar de 11 kg. En los hombres se midió un peso promedio de 80 kg y una desviación estándar de 16 kg. En el tercer grupo se midió un peso promedio de 73 kg con una desviación estándar de 12 kg."
   ]
  },
  {
   "cell_type": "markdown",
   "id": "75c7a10b-30b1-48e1-bbad-9e9c012bf0af",
   "metadata": {},
   "source": [
    "a) Si el elevador se llenara 10,000 veces, ¿cuántas de esas veces se excedería el peso permitido?"
   ]
  },
  {
   "cell_type": "code",
   "execution_count": 60,
   "id": "5a4b7e1e-0681-4277-a41d-9cf90cc7397f",
   "metadata": {},
   "outputs": [
    {
     "name": "stdout",
     "output_type": "stream",
     "text": [
      "Según 10 mil simulaciones las veces que se llega al fallo (pasa de los 300 kg) es:  4731\n"
     ]
    }
   ],
   "source": [
    "import numpy as np\n",
    "\n",
    "simulaciones = 10000  # Veces que se llena el elevador\n",
    "\n",
    "pesos_sim = [] # Lista para guardar los pesos totales de cada simulación\n",
    "\n",
    "prob_hombre = 162690 / 378350\n",
    "prob_mujer = 185392 / 378350\n",
    "prob_no = 30268 / 378350\n",
    "\n",
    "# Simulación de llenado del elevador en cada ocasión\n",
    "for santiago in range(simulaciones):\n",
    "    peso_elevador = 0  # Reiniciar peso del elevador \n",
    "    for padilla in range(4):  # Capacidad del elevador: 4 personas\n",
    "        # Elegir aleatoriamente el grupo de cada persona (hombre, mujer, no binario)\n",
    "        persona = np.random.choice([\"hombre\", \"mujer\", \"neutro\"], p=[prob_hombre, prob_mujer, prob_no])\n",
    "\n",
    "        # Pesos depende del grupo\n",
    "        if persona == \"hombre\":\n",
    "            peso_elevador += np.random.normal(80, 16)  # Peso promedio de los hombres con desviación estándar de 16 kg\n",
    "        elif persona == \"mujer\":\n",
    "            peso_elevador += np.random.normal(70, 11)  # Peso promedio de las mujeres con desviación estándar de 11 kg\n",
    "        else:\n",
    "            peso_elevador += np.random.normal(73, 12)  # Peso promedio de personas no binarias con desviación estándar de 12 kg\n",
    "\n",
    "    # Guardar el peso total de la simulación actual\n",
    "    pesos_sim.append(peso_elevador)\n",
    "\n",
    "# Convertir lista a un arreglo de NumPy\n",
    "pesos_arreglo = np.array(pesos_sim)\n",
    "\n",
    "# Veces que pasas 300 kg\n",
    "fallo = np.sum(pesos_arreglo > 300)\n",
    "print(\"Según 10 mil simulaciones las veces que se llega al fallo (pasa de los 300 kg) es: \", fallo) "
   ]
  },
  {
   "cell_type": "markdown",
   "id": "d98ec0e9-fc9e-4605-bea8-4bc233ff3173",
   "metadata": {},
   "source": [
    "b) ¿Qué peso total tendría que soportar el elevador si se quiere que el 95% de las veces que se llene no se exceda el peso permitido?"
   ]
  },
  {
   "cell_type": "code",
   "execution_count": 68,
   "id": "d8fab481-77ca-4af3-a103-900a6ce7800b",
   "metadata": {},
   "outputs": [
    {
     "name": "stdout",
     "output_type": "stream",
     "text": [
      "Peso total tendría que soportar el elevador para no fallar el 95 % de ocasiones:  347.2028527645803\n"
     ]
    }
   ],
   "source": [
    "# Calcular el percentil 95 para determinar el peso máximo que soporta el elevador en el 95% de los casos\n",
    "peso_95 = np.percentile(pesos_sim, 95)\n",
    "print(\"Peso total tendría que soportar el elevador para no fallar el 95 % de ocasiones: \", peso_95) "
   ]
  },
  {
   "cell_type": "markdown",
   "id": "6dfdcf96-4e77-41c4-bcab-db4fb051af42",
   "metadata": {},
   "source": [
    "3.- Tienes diez dados justos. Si arrojas todos al mismo tiempo, ¿cuál es la probabilidad de que la suma de los dados sea múltiplo de 6?"
   ]
  },
  {
   "cell_type": "code",
   "execution_count": 81,
   "id": "69b6718c-7b74-47c8-b04a-6f49d032095b",
   "metadata": {},
   "outputs": [
    {
     "data": {
      "text/plain": [
       "0.1708"
      ]
     },
     "execution_count": 81,
     "metadata": {},
     "output_type": "execute_result"
    }
   ],
   "source": [
    "import numpy as np\n",
    "\n",
    "simulaciones = 10000\n",
    "\n",
    "# Simulación del lanzamiento de 10 dados justos, obteniendo números entre 1 y 6 (incluidos)\n",
    "lanzamientos_dados = np.random.randint(1, 7, (simulaciones, 10)) # (simulaciones, 10) = numero de filas(veces que se lanza el dado), dados a lanzar \n",
    "\n",
    "# Calcular la suma de los 10 dados en cada simulación\n",
    "suma_dados = lanzamientos_dados.sum(axis=1) # lo de axis = 1 es para sumar los elementos de una matriz a lo largo de un eje, en este caso x.\n",
    "\n",
    "# Verificar cuántas sumas son múltiplos de 6\n",
    "multiplos_de_6 = np.sum(suma_dados % 6 == 0)\n",
    "\n",
    "# Calcular la probabilidad dividiendo el número de sumas múltiplos de 6 entre el total de simulaciones\n",
    "probabilidad = multiplos_de_6 / simulaciones\n",
    "\n",
    "probabilidad\n"
   ]
  },
  {
   "cell_type": "markdown",
   "id": "54e42f7f-09dd-4c16-a500-82d15ef02a04",
   "metadata": {},
   "source": [
    "4.- A y B juegan al siguiente juego: un número k del 1 al 6 es elegido, y A y B avientan el dado por turnos hasta que alguien consiga que el dado caiga en k. El ganador recibe $100."
   ]
  },
  {
   "cell_type": "markdown",
   "id": "76d75136-f530-469f-9c27-e19fb36d577f",
   "metadata": {},
   "source": [
    "a) ¿Cuál es la probabilidad de que el primer jugador gane?"
   ]
  },
  {
   "cell_type": "code",
   "execution_count": null,
   "id": "a8a70e24-14e5-494e-8fc7-3d4d35fe012f",
   "metadata": {},
   "outputs": [],
   "source": []
  },
  {
   "cell_type": "markdown",
   "id": "69c31017-5cfe-499d-88ed-5656bd25ae1a",
   "metadata": {
    "scrolled": true
   },
   "source": [
    "b) ¿Cuál es la probabilidad de que el segundo jugador gane?"
   ]
  },
  {
   "cell_type": "code",
   "execution_count": null,
   "id": "ce638e0f-f111-4b1e-b97a-93045d3855d2",
   "metadata": {},
   "outputs": [],
   "source": []
  },
  {
   "cell_type": "markdown",
   "id": "1a2a378a-91bd-4745-94f2-fe3543d792aa",
   "metadata": {},
   "source": [
    "c) ¿Cuánto vale la pena pagar para ir primero?"
   ]
  },
  {
   "cell_type": "code",
   "execution_count": null,
   "id": "f77aa01c-4eac-4e08-a789-42b40a135481",
   "metadata": {},
   "outputs": [],
   "source": []
  }
 ],
 "metadata": {
  "kernelspec": {
   "display_name": "Python 3 (ipykernel)",
   "language": "python",
   "name": "python3"
  },
  "language_info": {
   "codemirror_mode": {
    "name": "ipython",
    "version": 3
   },
   "file_extension": ".py",
   "mimetype": "text/x-python",
   "name": "python",
   "nbconvert_exporter": "python",
   "pygments_lexer": "ipython3",
   "version": "3.12.4"
  }
 },
 "nbformat": 4,
 "nbformat_minor": 5
}
