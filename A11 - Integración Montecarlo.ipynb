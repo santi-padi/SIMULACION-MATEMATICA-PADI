{
 "cells": [
  {
   "cell_type": "markdown",
   "id": "457a5e3c-5512-497c-a3e6-082a4468fb2e",
   "metadata": {},
   "source": [
    "# Actividad en clase 11"
   ]
  },
  {
   "cell_type": "markdown",
   "id": "ba13c736-1e1b-4c73-a339-08605c4feeb8",
   "metadata": {},
   "source": [
    "## Santiago Padillla Arias EXP:750985 Fecha: 24/10/2024"
   ]
  },
  {
   "cell_type": "markdown",
   "id": "65e83225-e210-4697-ad58-6f065e64c050",
   "metadata": {},
   "source": [
    "1.- Se tiene la siguiente ecuación diferencial:\r\n"
   ]
  },
  {
   "cell_type": "markdown",
   "id": "287a2ddd-dc7c-4c93-8a0c-fb75bae477b4",
   "metadata": {},
   "source": [
    "\n",
    "$$\\frac {dy}{dx}=\\frac{ln(1.5 + sin(x^{2}))}{xe^{-x^{2}}}$$"
   ]
  },
  {
   "cell_type": "markdown",
   "id": "81fcdf12-0699-41d3-9b3f-bc85e1e271a0",
   "metadata": {},
   "source": [
    "- y(x) es la acumulación de todos sus cambios instantáneos.\n",
    "\n",
    "\n",
    "\r\n",
    "a) Integra los siguientes intervalos utilizando 1 millón de muestras. Escribe los resultados en un DataFrame de pandas."
   ]
  },
  {
   "cell_type": "code",
   "execution_count": 25,
   "id": "af2cfdfb-e350-49f3-a137-62c19f4bef91",
   "metadata": {
    "scrolled": true
   },
   "outputs": [],
   "source": [
    "def montecarlo_tipo1(f, a, b, n):\n",
    "    u = np.random.uniform(a, b, n)\n",
    "    return np.mean(f(u))*(b-a)"
   ]
  },
  {
   "cell_type": "code",
   "execution_count": 67,
   "id": "998c63bd-0888-409e-b908-da6b4c54b951",
   "metadata": {},
   "outputs": [],
   "source": [
    "import numpy as np\n",
    "def f2(x):\n",
    "    return (np.log(1.5+np.sin(x**2))) / (x*np.exp(-x**2))"
   ]
  },
  {
   "cell_type": "markdown",
   "id": "ee89e447-2399-4d32-9b2a-7c8f24bd2d56",
   "metadata": {},
   "source": [
    "$ (0.1 \\geq x \\geq 0.3) $"
   ]
  },
  {
   "cell_type": "code",
   "execution_count": 86,
   "id": "4d4648bc-65d5-4d30-84a1-116f5e66d98b",
   "metadata": {},
   "outputs": [
    {
     "data": {
      "text/plain": [
       "0.4895927152649866"
      ]
     },
     "execution_count": 86,
     "metadata": {},
     "output_type": "execute_result"
    }
   ],
   "source": [
    "a1 = montecarlo_tipo1(f2, 0.1, 0.3, 10000000)\n",
    "a1"
   ]
  },
  {
   "cell_type": "markdown",
   "id": "85e53a8d-1884-4a0a-a07f-8854349fa15b",
   "metadata": {},
   "source": [
    "$ (0.3 \\geq x \\geq 0.5) $"
   ]
  },
  {
   "cell_type": "markdown",
   "id": "1130c965-8f88-4976-9470-a9638835001a",
   "metadata": {
    "scrolled": true
   },
   "source": [
    "a2 = montecarlo_tipo1(f2, 0.3, 0.5, 10000000)\n",
    "a2"
   ]
  },
  {
   "cell_type": "markdown",
   "id": "31e9a28e-8778-4cb0-a8b2-bc34cee37f9f",
   "metadata": {},
   "source": [
    "$ (0.5 \\geq x \\geq 0.7) $"
   ]
  },
  {
   "cell_type": "code",
   "execution_count": 91,
   "id": "b5312163-9971-4b42-b9cc-b87b7d004511",
   "metadata": {},
   "outputs": [
    {
     "data": {
      "text/plain": [
       "0.2968274631414459"
      ]
     },
     "execution_count": 91,
     "metadata": {},
     "output_type": "execute_result"
    }
   ],
   "source": [
    "a3 = montecarlo_tipo1(f2, 0.5, 0.7, 10000000)\n",
    "a3"
   ]
  },
  {
   "cell_type": "markdown",
   "id": "763f4661-60d3-4614-90ab-da5c7c9a1e14",
   "metadata": {},
   "source": [
    "$ (0.7 \\geq x \\geq 0.9) $"
   ]
  },
  {
   "cell_type": "code",
   "execution_count": 93,
   "id": "36f56f39-e792-4815-9927-8a2b8c807a8b",
   "metadata": {},
   "outputs": [
    {
     "data": {
      "text/plain": [
       "0.35335117669221044"
      ]
     },
     "execution_count": 93,
     "metadata": {},
     "output_type": "execute_result"
    }
   ],
   "source": [
    "a4 = montecarlo_tipo1(f2, 0.7, 0.9, 10000000)\n",
    "a4"
   ]
  },
  {
   "cell_type": "markdown",
   "id": "0134122d-42e8-44cf-aefb-5549ff8f388d",
   "metadata": {},
   "source": [
    "$ (0.9 \\geq x \\geq 1.1) $"
   ]
  },
  {
   "cell_type": "code",
   "execution_count": 96,
   "id": "0cbfbdaf-82c4-4507-95c1-ae7f42a8d67d",
   "metadata": {},
   "outputs": [
    {
     "data": {
      "text/plain": [
       "0.46535304920426607"
      ]
     },
     "execution_count": 96,
     "metadata": {},
     "output_type": "execute_result"
    }
   ],
   "source": [
    "a5 = montecarlo_tipo1(f2, 0.9, 1.1, 10000000)\n",
    "a5"
   ]
  },
  {
   "cell_type": "markdown",
   "id": "fd27ed9c-35fa-47de-a086-b7d8748c9233",
   "metadata": {},
   "source": [
    "![](A11_1b.png )"
   ]
  },
  {
   "cell_type": "code",
   "execution_count": 137,
   "id": "980bb49a-0a32-43ba-b57d-0050ba10c53b",
   "metadata": {},
   "outputs": [
    {
     "ename": "NameError",
     "evalue": "name 'vc1' is not defined",
     "output_type": "error",
     "traceback": [
      "\u001b[1;31m---------------------------------------------------------------------------\u001b[0m",
      "\u001b[1;31mNameError\u001b[0m                                 Traceback (most recent call last)",
      "Cell \u001b[1;32mIn[137], line 6\u001b[0m\n\u001b[0;32m      2\u001b[0m N \u001b[38;5;241m=\u001b[39m np\u001b[38;5;241m.\u001b[39mlogspace(\u001b[38;5;241m1\u001b[39m, \u001b[38;5;241m7\u001b[39m, \u001b[38;5;241m7\u001b[39m)\n\u001b[0;32m      3\u001b[0m tabla \u001b[38;5;241m=\u001b[39m pd\u001b[38;5;241m.\u001b[39mDataFrame(columns\u001b[38;5;241m=\u001b[39m[\u001b[38;5;124m\"\u001b[39m\u001b[38;5;124m1\u001b[39m\u001b[38;5;124m\"\u001b[39m,\u001b[38;5;124m\"\u001b[39m\u001b[38;5;124ma\u001b[39m\u001b[38;5;124m\"\u001b[39m,\u001b[38;5;124m\"\u001b[39m\u001b[38;5;124mb\u001b[39m\u001b[38;5;124m\"\u001b[39m,\u001b[38;5;124m\"\u001b[39m\u001b[38;5;124mc\u001b[39m\u001b[38;5;124m\"\u001b[39m,\u001b[38;5;124m\"\u001b[39m\u001b[38;5;124md\u001b[39m\u001b[38;5;124m\"\u001b[39m,\u001b[38;5;124m\"\u001b[39m\u001b[38;5;124me\u001b[39m\u001b[38;5;124m\"\u001b[39m])\n\u001b[1;32m----> 6\u001b[0m tabla\u001b[38;5;241m.\u001b[39mloc[\u001b[38;5;124m\"\u001b[39m\u001b[38;5;124m1\u001b[39m\u001b[38;5;124m\"\u001b[39m,\u001b[38;5;124m\"\u001b[39m\u001b[38;5;124ma\u001b[39m\u001b[38;5;124m\"\u001b[39m]\u001b[38;5;241m=\u001b[39mvc1\n\u001b[0;32m      7\u001b[0m tabla\u001b[38;5;241m.\u001b[39mloc[\u001b[38;5;124m\"\u001b[39m\u001b[38;5;124m1\u001b[39m\u001b[38;5;124m\"\u001b[39m,\u001b[38;5;124m\"\u001b[39m\u001b[38;5;124mb\u001b[39m\u001b[38;5;124m\"\u001b[39m]\u001b[38;5;241m=\u001b[39mvc2\n\u001b[0;32m      8\u001b[0m tabla\u001b[38;5;241m.\u001b[39mloc[\u001b[38;5;124m\"\u001b[39m\u001b[38;5;124m1\u001b[39m\u001b[38;5;124m\"\u001b[39m,\u001b[38;5;124m\"\u001b[39m\u001b[38;5;124mc\u001b[39m\u001b[38;5;124m\"\u001b[39m]\u001b[38;5;241m=\u001b[39mvc3\n",
      "\u001b[1;31mNameError\u001b[0m: name 'vc1' is not defined"
     ]
    }
   ],
   "source": [
    "import pandas as pd\n",
    "N = np.logspace(1, 7, 7)\n",
    "tabla = pd.DataFrame(columns=[\"1\",\"a\",\"b\",\"c\",\"d\",\"e\")\n",
    "\n",
    "for i in range(6) :\n",
    "    tabla.loc[\"1\",\"a\"]=vc1\n",
    "    tabla.loc[\"1\",\"b\"]=vc2\n",
    "    tabla.loc[\"1\",\"c\"]=vc3\n",
    "    tabla.loc[\"1\",\"d\"]=vc4\n",
    "    tabla.loc[\"1\",\"e\"]=vc5\n",
    "\n",
    "tabla\n",
    "\n",
    "vc1\n",
    "vc2"
   ]
  },
  {
   "cell_type": "markdown",
   "id": "81647e7e-e9ac-4c88-a6bb-4ea243172398",
   "metadata": {},
   "source": [
    "![](A11_2.png )"
   ]
  },
  {
   "cell_type": "code",
   "execution_count": null,
   "id": "35ab147c-cebc-4840-91b4-b7648f0ec4f5",
   "metadata": {},
   "outputs": [],
   "source": []
  }
 ],
 "metadata": {
  "kernelspec": {
   "display_name": "Python 3 (ipykernel)",
   "language": "python",
   "name": "python3"
  },
  "language_info": {
   "codemirror_mode": {
    "name": "ipython",
    "version": 3
   },
   "file_extension": ".py",
   "mimetype": "text/x-python",
   "name": "python",
   "nbconvert_exporter": "python",
   "pygments_lexer": "ipython3",
   "version": "3.12.4"
  }
 },
 "nbformat": 4,
 "nbformat_minor": 5
}
