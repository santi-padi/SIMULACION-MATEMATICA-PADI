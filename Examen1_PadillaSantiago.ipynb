{
 "cells": [
  {
   "cell_type": "markdown",
   "id": "318694d0-33e1-44f1-9650-3443bbcd7f43",
   "metadata": {
    "id": "318694d0-33e1-44f1-9650-3443bbcd7f43"
   },
   "source": [
    "# Examen A Módulo 1 - Optimización.\n",
    "\n",
    "**Lea cuidadosamente las siguientes indicaciones antes de comenzar el examen:**\n",
    "- Para resolver el examen edite este mismo archivo y renómbrelo de la siguiente manera: *Examen1_ApellidoNombre*, donde *ApellidoNombre* corresponde a su apellido paterno con la inicial en mayúscula, seguido de su primer nombre con la inicial en mayúscula **sin tildes**. Por ejemplo, en mi caso el nombre del archivo sería *Examen1_MoralesGabriel*.\n",
    "- Resuelva los puntos en el espacio provisto. Si requiere agregar más celdas para código o escritura, hágalo (`Esc`,`B`) o (`Esc`,`A`).\n",
    "- Recuerde que también se está evaluando su capacidad de interpretar los resultados. Escriba sus interpretaciones/conclusiones en celdas utilizando *Markdown*.\n",
    "- El formato de presentación de todo el examen en general debe ser adecuado. Use tamaños de letra, colores, etiquetas, etcétera.\n",
    "- No se resuelven dudas de ningún tipo por los profesores de la asignatura. Por favor, absténgase de preguntar.\n",
    "- Revise bien el tipo de examen. Sólo se le calificará si realiza el tipo de examen asignado."
   ]
  },
  {
   "cell_type": "markdown",
   "id": "416c5986-27e8-4eac-84f7-d5ca143cbbae",
   "metadata": {
    "id": "416c5986-27e8-4eac-84f7-d5ca143cbbae"
   },
   "source": [
    "## 1. Optimización de funciones con `Sympy`\n",
    "\n",
    "Funciones permitidas: subs, solve, var, expresiones matemáticas"
   ]
  },
  {
   "cell_type": "markdown",
   "id": "07dadfa1-7f83-484a-909c-0150a65ce280",
   "metadata": {
    "id": "07dadfa1-7f83-484a-909c-0150a65ce280"
   },
   "source": [
    "\n",
    "Un cine cobra 86 pesos la entrada estándar y 60 pesos la entrada a estudiantes. Una sala con capacidad para 120 personas se ocupó al 70\\%. Los ingresos para esa función fueron de 6,600 MXN. ¿Cuántos estudiantes entraron?"
   ]
  },
  {
   "cell_type": "markdown",
   "id": "s_RacYfxFpDL",
   "metadata": {
    "id": "s_RacYfxFpDL"
   },
   "source": [
    "*  $$ 6600 = 86x + 60y $$\n",
    "*  $$ 84 = x + y $$\n",
    "\n",
    "\n",
    "\n",
    "\n",
    "\n",
    "\n",
    "\n",
    "\n",
    "\n"
   ]
  },
  {
   "cell_type": "code",
   "execution_count": 124,
   "id": "789f4501-2b81-44b3-83dd-4e757a6d90cd",
   "metadata": {
    "id": "789f4501-2b81-44b3-83dd-4e757a6d90cd"
   },
   "outputs": [
    {
     "data": {
      "text/plain": [
       "84.0"
      ]
     },
     "execution_count": 124,
     "metadata": {},
     "output_type": "execute_result"
    }
   ],
   "source": [
    "Cap= 120 * 0.7\n",
    "Cap"
   ]
  },
  {
   "cell_type": "code",
   "execution_count": 126,
   "id": "5a752908-3926-471b-8ab2-eb76be4411ab",
   "metadata": {},
   "outputs": [
    {
     "data": {
      "text/plain": [
       "[24.0000000000000]"
      ]
     },
     "execution_count": 126,
     "metadata": {},
     "output_type": "execute_result"
    }
   ],
   "source": [
    "import sympy as sp\n",
    "sp.var(\"x\")\n",
    "sp.var(\"y\")\n",
    "Din = 86*x+60*y-6600\n",
    "Pub = x + y - Cap\n",
    "x_y=sp.solve(Pub,x)[0]\n",
    "Ry=sp.solve(Din.subs(x,x_y),y)\n",
    "Ry"
   ]
  },
  {
   "cell_type": "markdown",
   "id": "1c5a3ef3-851e-40d0-89bc-922ab0d99672",
   "metadata": {},
   "source": [
    "24 estudiantes"
   ]
  },
  {
   "cell_type": "markdown",
   "id": "cb9897ae-f689-4575-82ad-d265f7243f77",
   "metadata": {
    "id": "cb9897ae-f689-4575-82ad-d265f7243f77"
   },
   "source": [
    "El cine ofrece combos y opciones individuales. El combo 'amigos' tiene un costo de 156 MXN y consiste de 2 refrescos y unas palomitas. Existe también el combo 'nachos' que tiene un costo de 112 MXN y consiste de un refresco y una orden de nachos. Por separado el refresco tiene un costo de 60 MXN, las palomitas 58 MXN y los nachos 72 MXN. Se obtuvo un total de 6450 de ingresos en dulcería:\n",
    "\n",
    "- 38 combos vendidos\n",
    "- 70 refrescos vendidos\n",
    "- 33 órdenes de palomitas grandes vendidas\n",
    "- 16 órdenes de nachos vendidas\n",
    "\n",
    "¿Cuántas personas compraron palomitas sueltas?"
   ]
  },
  {
   "cell_type": "markdown",
   "id": "98ef339f-8921-410a-88e3-bff9ca27d00c",
   "metadata": {
    "id": "bc41bf74-c9a0-47db-9381-c39d2f675dd4"
   },
   "source": [
    "*  $ Cn + Ca = 38$\n",
    "\n",
    "*  $ r + Cn + Ca = 70$\n",
    "\n",
    "* $ p + Ca = 33$\n",
    "\n",
    "*  $ n + Cn = 16$\n",
    "\n",
    "*  $ 60r + 72n + 58p + 156Ca + 112Cn = 6450$"
   ]
  },
  {
   "cell_type": "code",
   "execution_count": 131,
   "id": "49e9f450-7dc5-437e-bd6f-e4e161de86ef",
   "metadata": {
    "id": "65a87ffc-81ae-4b61-8044-6d12255887f7"
   },
   "outputs": [
    {
     "data": {
      "text/latex": [
       "$\\displaystyle 5$"
      ],
      "text/plain": [
       "5"
      ]
     },
     "execution_count": 131,
     "metadata": {},
     "output_type": "execute_result"
    }
   ],
   "source": [
    "import sympy as sp\n",
    "\n",
    "sp.var(\"r\")\n",
    "sp.var(\"p\")\n",
    "sp.var(\"Ca\")\n",
    "sp.var(\"n\")\n",
    "sp.var(\"Cn\")\n",
    "\n",
    "\n",
    "f_costo = 60*r + 58*p + 72*n + 156*Ca + 112*Cn - 6450\n",
    "\n",
    "combos = Cn + Ca -38\n",
    "refrescos  = r + Cn + 2*Ca - 70 \n",
    "palomitas = p + Ca - 33\n",
    "nachos = n + Cn - 16\n",
    "\n",
    "Cn_Ca = sp.solve(combos,Cn)[0] # Despejo Cn en terminos de Ca\n",
    "\n",
    "# Se sustituye Ca en la ecuacion de los refrescos\n",
    "sus_Ca_r = refrescos.subs(Cn, Cn_Ca) \n",
    "# Se sustituye Ca en la ecuacion de los nachos\n",
    "sus_Ca_n = nachos.subs(Cn, Cn_Ca) \n",
    "\n",
    "# Despejamos r de la nueva ecuacion de refrescos\n",
    "r_desp = sp.solve(sus_Ca_r, r)[0] #r en términos de Ca\n",
    "# Despejamos n de la nueva ecuacion de nachos\n",
    "n_desp = sp.solve(sus_Ca_n, n)[0] # n en términos de Ca\n",
    "\n",
    "p_desp = sp.solve(palomitas, p)[0] # Despejamos p de la  ecuacion de palomitas\n",
    "\n",
    "total_Ca = f_costo.subs(r, r_desp).subs(n, n_desp).subs(p, p_desp).subs(Cn, Cn_Ca) # Sustituyo r, n, p y Cn en f_costo para tener Ca\n",
    "Ca_def = sp.solve(total_Ca, Ca)[0] # Obtengo Ca\n",
    "\n",
    "p_def = p_desp.subs(Ca, Ca_def) # Sustituir Ca para tener las palomitas sueltas\n",
    "p_def"
   ]
  },
  {
   "cell_type": "markdown",
   "id": "e69d60d4-4e28-41ef-91ff-ded54789b5d1",
   "metadata": {
    "id": "52dce079-007e-40e2-bb15-af08a51dec11"
   },
   "source": [
    "Palomitas sueltas: 5"
   ]
  },
  {
   "cell_type": "markdown",
   "id": "ab5836e7-1035-42cc-9c90-6f7178d2b733",
   "metadata": {
    "id": "ab5836e7-1035-42cc-9c90-6f7178d2b733"
   },
   "source": [
    "## 2. Programación lineal"
   ]
  },
  {
   "cell_type": "markdown",
   "id": "86788769-18d8-49e5-9ec2-4ba4d8c0c1ce",
   "metadata": {
    "id": "86788769-18d8-49e5-9ec2-4ba4d8c0c1ce"
   },
   "source": [
    "Una empresa produce costales de 3 tipos de fertilizantes para diferentes aplicaciones utilizando cuantro componentes químicos: azufre, potasio, fósforo y nitrógeno. La información de cada tonelada de fertilizante es:\n"
   ]
  },
  {
   "cell_type": "markdown",
   "id": "2de8d90d-84ea-4537-887a-15127e2aaca7",
   "metadata": {
    "id": "2de8d90d-84ea-4537-887a-15127e2aaca7"
   },
   "source": [
    "<table>\n",
    "  <tr>\n",
    "      <th>Fertilizante</th>\n",
    "      <th>Fósforo</th>\n",
    "      <th>Azufre</th>\n",
    "      <th>Potasio</th>\n",
    "      <th>Nitrógeno</th>\n",
    "      <th>Precio de venta </th>\n",
    "  </tr>\n",
    "  <tr>\n",
    "      <td>A</td>\n",
    "      <td>3 kg</td>\n",
    "      <td>5 kg</td>\n",
    "      <td>4 kg</td>\n",
    "      <td>2 kg </td>\n",
    "      <td>\\$40000</td>\n",
    "  </tr>\n",
    "  <tr>\n",
    "      <td>B</td>\n",
    "      <td>4 kg</td>\n",
    "      <td>3 kg</td>\n",
    "      <td>2 kg</td>\n",
    "      <td>1 kg</td>\n",
    "      <td>\\$50000</td>\n",
    "  </tr>\n",
    "  <tr>\n",
    "      <td>C</td>\n",
    "      <td>5 kg</td>\n",
    "      <td>2 kg</td>\n",
    "      <td>3 kg</td>\n",
    "      <td>4 kg</td>\n",
    "      <td>\\$60000</td>\n",
    "  </tr>\n",
    "\n",
    "</table>"
   ]
  },
  {
   "cell_type": "markdown",
   "id": "c712fdf8-3adf-4294-aafc-50be5eb7743d",
   "metadata": {
    "id": "c712fdf8-3adf-4294-aafc-50be5eb7743d"
   },
   "source": [
    "La máquina que se usa para mezclar el fertilizante C necesita mantenimiento y por lo tanto sólo puede mezclar 10 toneladas. Además, hay un pedido de 8 toneladas del fertilizante A."
   ]
  },
  {
   "cell_type": "markdown",
   "id": "52edf909-5367-4cd1-ba12-8a1341254de4",
   "metadata": {
    "id": "52edf909-5367-4cd1-ba12-8a1341254de4"
   },
   "source": [
    "Dado que en almacén se tienen 90 kg de fósforo, 120 kg de nitrógeno, 80 kg de azufre y 95 kg de potasio, ¿cuánto recomiendas que se mezcle de cada fertilizante? (Nota: No se permiten fracciones de toneladas)"
   ]
  },
  {
   "cell_type": "markdown",
   "id": "2RpZYSB8RrHM",
   "metadata": {
    "id": "2RpZYSB8RrHM"
   },
   "source": [
    "* maximizar ganancia\n",
    "* Xa, Xb, Xc\n",
    "* f(Xa, Xb, Xc)=40000Xa+50000Xb+60000Xc\n",
    "* $$ P \\leq90\\  $$\n",
    "* $$ N \\leq120\\  $$\n",
    "* $$ S \\leq80\\  $$\n",
    "* $$ K \\geq95\\  $$\n",
    " $$ $$\n",
    "*  $$ 3Xa+ 4Xb + 5Xc \\leq90\\ $$\n",
    "*  $$ 2Xa+ 1Xb + 4Xc \\leq120\\ $$\n",
    "*  $$ 5Xa+ 3Xb + 2Xc \\leq80\\ $$\n",
    "*  $$ 4Xa+ 2Xb + 3Xc \\leq95\\ $$\n",
    "*  $$ A  \\geq8\\ $$\n",
    "*  $$ C  \\leq10\\ $$"
   ]
  },
  {
   "cell_type": "code",
   "execution_count": 140,
   "id": "4f0ce73a-ba09-4091-998d-3986610fe369",
   "metadata": {
    "colab": {
     "base_uri": "https://localhost:8080/",
     "height": 564
    },
    "id": "4f0ce73a-ba09-4091-998d-3986610fe369",
    "outputId": "b49f14db-ec28-4922-b401-900d22f0b252"
   },
   "outputs": [
    {
     "data": {
      "text/plain": [
       "        message: Optimization terminated successfully. (HiGHS Status 7: Optimal)\n",
       "        success: True\n",
       "         status: 0\n",
       "            fun: -1120000.0\n",
       "              x: [ 8.000e+00  4.000e+00  1.000e+01]\n",
       "            nit: -1\n",
       "          lower:  residual: [ 8.000e+00  4.000e+00  1.000e+01]\n",
       "                 marginals: [ 0.000e+00  0.000e+00  0.000e+00]\n",
       "          upper:  residual: [       inf        inf        inf]\n",
       "                 marginals: [ 0.000e+00  0.000e+00  0.000e+00]\n",
       "          eqlin:  residual: []\n",
       "                 marginals: []\n",
       "        ineqlin:  residual: [ 0.000e+00  6.000e+01  8.000e+00  2.500e+01\n",
       "                              0.000e+00  0.000e+00]\n",
       "                 marginals: [ 0.000e+00  0.000e+00  0.000e+00  0.000e+00\n",
       "                              0.000e+00  0.000e+00]\n",
       " mip_node_count: 1\n",
       " mip_dual_bound: -1120000.0\n",
       "        mip_gap: 0.0"
      ]
     },
     "execution_count": 140,
     "metadata": {},
     "output_type": "execute_result"
    }
   ],
   "source": [
    "import numpy as np\n",
    "import matplotlib.pyplot as plt\n",
    "import pandas as pd\n",
    "import scipy.optimize as opt\n",
    "import sympy as sp\n",
    "\n",
    "c = np.array([-40000, -50000, -60000])\n",
    "\n",
    "Aub = np.array([\n",
    "               [3, 4, 5],\n",
    "               [2, 1, 4],\n",
    "               [5, 3, 2],\n",
    "               [4, 2, 3],\n",
    "               [ -1,  0,  0,],\n",
    "               [ 0,  0,  -1]\n",
    "])\n",
    "\n",
    "bub = np.array([90, 120, 80, 95, -8, -10])\n",
    "\n",
    "opt.linprog(c, Aub, bub, integrality=1)"
   ]
  },
  {
   "cell_type": "code",
   "execution_count": 142,
   "id": "7feea821-031b-4550-afb6-9676735443c9",
   "metadata": {
    "id": "7feea821-031b-4550-afb6-9676735443c9"
   },
   "outputs": [
    {
     "data": {
      "text/plain": [
       "array([ 8.,  4., 10.])"
      ]
     },
     "execution_count": 142,
     "metadata": {},
     "output_type": "execute_result"
    }
   ],
   "source": [
    "sol = opt.linprog(c, Aub, bub, integrality=1)\n",
    "sol.x"
   ]
  },
  {
   "cell_type": "markdown",
   "id": "85efefc3-f312-4f81-9c16-18852f6d686f",
   "metadata": {},
   "source": [
    "Lo recomendado a mezclar sería:\n",
    "\n",
    "+ 8 toneladas del fertilizante A\n",
    "+ 4 toneladas del fetilizante B\n",
    "+ 10 toneladas del fertilizante C"
   ]
  },
  {
   "cell_type": "markdown",
   "id": "37122386-1fe4-4c31-bd70-9da91932311c",
   "metadata": {
    "id": "37122386-1fe4-4c31-bd70-9da91932311c"
   },
   "source": [
    "¿Cuál es el ingreso total?"
   ]
  },
  {
   "cell_type": "markdown",
   "id": "1a9a9039-e30a-46a3-9316-00eeb7236251",
   "metadata": {
    "id": "ceba489f-2bf7-4989-a51b-f57efae1b51b"
   },
   "source": [
    "El ingresos total es: $ 1120000  #sol.fun*-1 (para quitarle el -1)"
   ]
  },
  {
   "cell_type": "code",
   "execution_count": null,
   "id": "af18e068-430a-4d13-872f-6e6e68fdc4b7",
   "metadata": {
    "id": "af18e068-430a-4d13-872f-6e6e68fdc4b7"
   },
   "outputs": [],
   "source": []
  },
  {
   "cell_type": "code",
   "execution_count": null,
   "id": "ee389e86-3b90-4d77-a520-51641e623b5f",
   "metadata": {
    "id": "ee389e86-3b90-4d77-a520-51641e623b5f"
   },
   "outputs": [],
   "source": []
  },
  {
   "cell_type": "markdown",
   "id": "5944d4b6-a651-47ec-91d8-f6e3666d62a3",
   "metadata": {
    "id": "5944d4b6-a651-47ec-91d8-f6e3666d62a3"
   },
   "source": [
    "¿Cuánto fósforo quedó en almacén?"
   ]
  },
  {
   "cell_type": "markdown",
   "id": "9484c9b2-2b20-4977-9d03-5e53009d342e",
   "metadata": {
    "id": "a5297246-a6ab-4adb-88b7-5002723775be"
   },
   "source": [
    "0 # Asi lo indican los residuos de la restriccion"
   ]
  },
  {
   "cell_type": "code",
   "execution_count": null,
   "id": "0f1201b7-55a2-4b79-95f1-7ff83c60dd35",
   "metadata": {
    "id": "0f1201b7-55a2-4b79-95f1-7ff83c60dd35"
   },
   "outputs": [],
   "source": []
  },
  {
   "cell_type": "code",
   "execution_count": null,
   "id": "fc81e50f-0924-4684-9414-05f0a29e2379",
   "metadata": {
    "id": "fc81e50f-0924-4684-9414-05f0a29e2379"
   },
   "outputs": [],
   "source": []
  },
  {
   "cell_type": "markdown",
   "id": "5837735d-4552-4fd3-919c-8c2250de718e",
   "metadata": {
    "id": "5837735d-4552-4fd3-919c-8c2250de718e"
   },
   "source": [
    "## 3. Regresión lineal"
   ]
  },
  {
   "cell_type": "markdown",
   "id": "4a308da2-7cba-4f2b-85f9-9b3655206ff2",
   "metadata": {
    "id": "4a308da2-7cba-4f2b-85f9-9b3655206ff2"
   },
   "source": [
    "Se quiere predecir la resistencia a la compresión de concreto en función de las proporciones de los componentes en la mezcla (cemento, arena, agua, agregado). La constructora que está realizando el análisis tiene datos históricos donde se registraron cantidades de materia y la resistencia medida:"
   ]
  },
  {
   "cell_type": "code",
   "execution_count": 155,
   "id": "7fd530bd-4cc0-4594-9fa4-e48a8d9eda0b",
   "metadata": {
    "id": "7fd530bd-4cc0-4594-9fa4-e48a8d9eda0b",
    "outputId": "3b5f7132-f44f-4e89-a865-b70613b2c3eb"
   },
   "outputs": [
    {
     "data": {
      "text/html": [
       "<div>\n",
       "<style scoped>\n",
       "    .dataframe tbody tr th:only-of-type {\n",
       "        vertical-align: middle;\n",
       "    }\n",
       "\n",
       "    .dataframe tbody tr th {\n",
       "        vertical-align: top;\n",
       "    }\n",
       "\n",
       "    .dataframe thead th {\n",
       "        text-align: right;\n",
       "    }\n",
       "</style>\n",
       "<table border=\"1\" class=\"dataframe\">\n",
       "  <thead>\n",
       "    <tr style=\"text-align: right;\">\n",
       "      <th></th>\n",
       "      <th>Cemento (kg)</th>\n",
       "      <th>Arena (kg)</th>\n",
       "      <th>Agua (kg)</th>\n",
       "      <th>Agregado (kg)</th>\n",
       "      <th>Resistencia a la compresión (MPa)</th>\n",
       "    </tr>\n",
       "  </thead>\n",
       "  <tbody>\n",
       "    <tr>\n",
       "      <th>0</th>\n",
       "      <td>350</td>\n",
       "      <td>600</td>\n",
       "      <td>180</td>\n",
       "      <td>1000</td>\n",
       "      <td>35</td>\n",
       "    </tr>\n",
       "    <tr>\n",
       "      <th>1</th>\n",
       "      <td>400</td>\n",
       "      <td>550</td>\n",
       "      <td>160</td>\n",
       "      <td>1100</td>\n",
       "      <td>42</td>\n",
       "    </tr>\n",
       "    <tr>\n",
       "      <th>2</th>\n",
       "      <td>300</td>\n",
       "      <td>700</td>\n",
       "      <td>200</td>\n",
       "      <td>950</td>\n",
       "      <td>30</td>\n",
       "    </tr>\n",
       "    <tr>\n",
       "      <th>3</th>\n",
       "      <td>450</td>\n",
       "      <td>500</td>\n",
       "      <td>170</td>\n",
       "      <td>1200</td>\n",
       "      <td>50</td>\n",
       "    </tr>\n",
       "    <tr>\n",
       "      <th>4</th>\n",
       "      <td>380</td>\n",
       "      <td>580</td>\n",
       "      <td>175</td>\n",
       "      <td>1050</td>\n",
       "      <td>38</td>\n",
       "    </tr>\n",
       "    <tr>\n",
       "      <th>5</th>\n",
       "      <td>410</td>\n",
       "      <td>540</td>\n",
       "      <td>165</td>\n",
       "      <td>1150</td>\n",
       "      <td>44</td>\n",
       "    </tr>\n",
       "    <tr>\n",
       "      <th>6</th>\n",
       "      <td>320</td>\n",
       "      <td>650</td>\n",
       "      <td>185</td>\n",
       "      <td>980</td>\n",
       "      <td>32</td>\n",
       "    </tr>\n",
       "    <tr>\n",
       "      <th>7</th>\n",
       "      <td>370</td>\n",
       "      <td>590</td>\n",
       "      <td>172</td>\n",
       "      <td>1020</td>\n",
       "      <td>36</td>\n",
       "    </tr>\n",
       "    <tr>\n",
       "      <th>8</th>\n",
       "      <td>390</td>\n",
       "      <td>570</td>\n",
       "      <td>170</td>\n",
       "      <td>1080</td>\n",
       "      <td>40</td>\n",
       "    </tr>\n",
       "    <tr>\n",
       "      <th>9</th>\n",
       "      <td>360</td>\n",
       "      <td>610</td>\n",
       "      <td>190</td>\n",
       "      <td>970</td>\n",
       "      <td>34</td>\n",
       "    </tr>\n",
       "    <tr>\n",
       "      <th>10</th>\n",
       "      <td>340</td>\n",
       "      <td>630</td>\n",
       "      <td>182</td>\n",
       "      <td>990</td>\n",
       "      <td>33</td>\n",
       "    </tr>\n",
       "    <tr>\n",
       "      <th>11</th>\n",
       "      <td>430</td>\n",
       "      <td>520</td>\n",
       "      <td>165</td>\n",
       "      <td>1120</td>\n",
       "      <td>48</td>\n",
       "    </tr>\n",
       "    <tr>\n",
       "      <th>12</th>\n",
       "      <td>315</td>\n",
       "      <td>660</td>\n",
       "      <td>195</td>\n",
       "      <td>950</td>\n",
       "      <td>31</td>\n",
       "    </tr>\n",
       "    <tr>\n",
       "      <th>13</th>\n",
       "      <td>405</td>\n",
       "      <td>545</td>\n",
       "      <td>175</td>\n",
       "      <td>1060</td>\n",
       "      <td>43</td>\n",
       "    </tr>\n",
       "    <tr>\n",
       "      <th>14</th>\n",
       "      <td>425</td>\n",
       "      <td>530</td>\n",
       "      <td>168</td>\n",
       "      <td>1140</td>\n",
       "      <td>47</td>\n",
       "    </tr>\n",
       "    <tr>\n",
       "      <th>15</th>\n",
       "      <td>345</td>\n",
       "      <td>620</td>\n",
       "      <td>180</td>\n",
       "      <td>990</td>\n",
       "      <td>37</td>\n",
       "    </tr>\n",
       "    <tr>\n",
       "      <th>16</th>\n",
       "      <td>395</td>\n",
       "      <td>560</td>\n",
       "      <td>175</td>\n",
       "      <td>1040</td>\n",
       "      <td>41</td>\n",
       "    </tr>\n",
       "    <tr>\n",
       "      <th>17</th>\n",
       "      <td>355</td>\n",
       "      <td>605</td>\n",
       "      <td>185</td>\n",
       "      <td>1010</td>\n",
       "      <td>35</td>\n",
       "    </tr>\n",
       "    <tr>\n",
       "      <th>18</th>\n",
       "      <td>440</td>\n",
       "      <td>515</td>\n",
       "      <td>162</td>\n",
       "      <td>1160</td>\n",
       "      <td>49</td>\n",
       "    </tr>\n",
       "    <tr>\n",
       "      <th>19</th>\n",
       "      <td>310</td>\n",
       "      <td>670</td>\n",
       "      <td>198</td>\n",
       "      <td>940</td>\n",
       "      <td>29</td>\n",
       "    </tr>\n",
       "    <tr>\n",
       "      <th>20</th>\n",
       "      <td>385</td>\n",
       "      <td>575</td>\n",
       "      <td>178</td>\n",
       "      <td>1070</td>\n",
       "      <td>39</td>\n",
       "    </tr>\n",
       "    <tr>\n",
       "      <th>21</th>\n",
       "      <td>370</td>\n",
       "      <td>590</td>\n",
       "      <td>172</td>\n",
       "      <td>1030</td>\n",
       "      <td>36</td>\n",
       "    </tr>\n",
       "    <tr>\n",
       "      <th>22</th>\n",
       "      <td>425</td>\n",
       "      <td>535</td>\n",
       "      <td>170</td>\n",
       "      <td>1110</td>\n",
       "      <td>45</td>\n",
       "    </tr>\n",
       "    <tr>\n",
       "      <th>23</th>\n",
       "      <td>335</td>\n",
       "      <td>625</td>\n",
       "      <td>180</td>\n",
       "      <td>1025</td>\n",
       "      <td>33</td>\n",
       "    </tr>\n",
       "  </tbody>\n",
       "</table>\n",
       "</div>"
      ],
      "text/plain": [
       "    Cemento (kg)  Arena (kg)  Agua (kg)  Agregado (kg)  \\\n",
       "0            350         600        180           1000   \n",
       "1            400         550        160           1100   \n",
       "2            300         700        200            950   \n",
       "3            450         500        170           1200   \n",
       "4            380         580        175           1050   \n",
       "5            410         540        165           1150   \n",
       "6            320         650        185            980   \n",
       "7            370         590        172           1020   \n",
       "8            390         570        170           1080   \n",
       "9            360         610        190            970   \n",
       "10           340         630        182            990   \n",
       "11           430         520        165           1120   \n",
       "12           315         660        195            950   \n",
       "13           405         545        175           1060   \n",
       "14           425         530        168           1140   \n",
       "15           345         620        180            990   \n",
       "16           395         560        175           1040   \n",
       "17           355         605        185           1010   \n",
       "18           440         515        162           1160   \n",
       "19           310         670        198            940   \n",
       "20           385         575        178           1070   \n",
       "21           370         590        172           1030   \n",
       "22           425         535        170           1110   \n",
       "23           335         625        180           1025   \n",
       "\n",
       "    Resistencia a la compresión (MPa)  \n",
       "0                                  35  \n",
       "1                                  42  \n",
       "2                                  30  \n",
       "3                                  50  \n",
       "4                                  38  \n",
       "5                                  44  \n",
       "6                                  32  \n",
       "7                                  36  \n",
       "8                                  40  \n",
       "9                                  34  \n",
       "10                                 33  \n",
       "11                                 48  \n",
       "12                                 31  \n",
       "13                                 43  \n",
       "14                                 47  \n",
       "15                                 37  \n",
       "16                                 41  \n",
       "17                                 35  \n",
       "18                                 49  \n",
       "19                                 29  \n",
       "20                                 39  \n",
       "21                                 36  \n",
       "22                                 45  \n",
       "23                                 33  "
      ]
     },
     "execution_count": 155,
     "metadata": {},
     "output_type": "execute_result"
    }
   ],
   "source": [
    "import pandas as pd\n",
    "data = {\n",
    "    'Cemento (kg)': [350, 400, 300, 450, 380, 410, 320, 370, 390, 360,\n",
    "                     340, 430, 315, 405, 425, 345, 395, 355, 440, 310,\n",
    "                     385, 370, 425, 335],\n",
    "    'Arena (kg)': [600, 550, 700, 500, 580, 540, 650, 590, 570, 610,\n",
    "                   630, 520, 660, 545, 530, 620, 560, 605, 515, 670,\n",
    "                   575, 590, 535, 625],\n",
    "    'Agua (kg)': [180, 160, 200, 170, 175, 165, 185, 172, 170, 190,\n",
    "                  182, 165, 195, 175, 168, 180, 175, 185, 162, 198,\n",
    "                  178, 172, 170, 180],\n",
    "    'Agregado (kg)': [1000, 1100, 950, 1200, 1050, 1150, 980, 1020, 1080, 970,\n",
    "                      990, 1120, 950, 1060, 1140, 990, 1040, 1010, 1160, 940,\n",
    "                      1070, 1030, 1110, 1025],\n",
    "    'Resistencia a la compresión (MPa)': [35, 42, 30, 50, 38, 44, 32, 36, 40, 34,\n",
    "                                          33, 48, 31, 43, 47, 37, 41, 35, 49, 29,\n",
    "                                          39, 36, 45, 33]\n",
    "}\n",
    "data = pd.DataFrame(data)\n",
    "data"
   ]
  },
  {
   "cell_type": "markdown",
   "id": "f1cc1217-2c41-4082-961b-8369dd6f628a",
   "metadata": {
    "id": "f1cc1217-2c41-4082-961b-8369dd6f628a"
   },
   "source": [
    "Ajusta un modelo utilizando mínimos cuadrados para encontrar una función que pueda predecir la resistencia del concreto."
   ]
  },
  {
   "cell_type": "code",
   "execution_count": 158,
   "id": "ad291701-9ab6-494e-ab9f-0bbd017ced75",
   "metadata": {
    "id": "ad291701-9ab6-494e-ab9f-0bbd017ced75"
   },
   "outputs": [
    {
     "data": {
      "text/plain": [
       "  message: Optimization terminated successfully.\n",
       "  success: True\n",
       "   status: 0\n",
       "      fun: 29.849891689352127\n",
       "        x: [-5.576e+01  1.374e-01  2.436e-02  1.949e-02  2.397e-02]\n",
       "      nit: 12\n",
       "      jac: [ 0.000e+00  1.669e-06  1.907e-06  7.153e-07  4.053e-06]\n",
       " hess_inv: [[ 4.531e+02 -5.308e-01 ...  1.438e-01 -5.089e-03]\n",
       "            [-5.308e-01  8.546e-04 ... -4.346e-04 -9.193e-05]\n",
       "            ...\n",
       "            [ 1.438e-01 -4.346e-04 ...  1.182e-03  8.012e-05]\n",
       "            [-5.089e-03 -9.193e-05 ...  8.012e-05  4.315e-05]]\n",
       "     nfev: 144\n",
       "     njev: 24"
      ]
     },
     "execution_count": 158,
     "metadata": {},
     "output_type": "execute_result"
    }
   ],
   "source": [
    "import numpy as np\n",
    "import scipy.optimize as opt\n",
    "\n",
    "y=data['Resistencia a la compresión (MPa)']\n",
    "x_1=data['Cemento (kg)']\n",
    "x_2=data['Arena (kg)']\n",
    "x_3=data['Agua (kg)']\n",
    "x_4=data['Agregado (kg)']\n",
    "\n",
    "n=len(y)\n",
    "ones=np.ones([n,1])\n",
    "xf1=np.reshape(x_1,(n,1))\n",
    "xf2=np.reshape(x_2,(n,1))\n",
    "xf3=np.reshape(x_3,(n,1))\n",
    "xf4=np.reshape(x_4,(n,1))\n",
    "X=np.hstack((ones, xf1, xf2, xf3, xf4))\n",
    "\n",
    "\n",
    "y_v=np.reshape(y,(n,1))\n",
    "\n",
    "\n",
    "n,p=X.shape\n",
    "b=np.random.random(p)\n",
    "\n",
    "def f(b,X, y):\n",
    "  b=np.reshape(b, [p, 1])\n",
    "  y_pr=X@b\n",
    "  error=y_pr-y\n",
    "  rss=error.T@error\n",
    "  return rss\n",
    "rss=opt.minimize(f, b, args=(X, y_v))\n",
    "rss"
   ]
  },
  {
   "cell_type": "code",
   "execution_count": null,
   "id": "dc43a29f-8c10-4daf-bf78-772807c42946",
   "metadata": {
    "id": "dc43a29f-8c10-4daf-bf78-772807c42946"
   },
   "outputs": [],
   "source": []
  },
  {
   "cell_type": "code",
   "execution_count": null,
   "id": "e0d9fb4e-2d6b-4477-933d-105ec1f43edd",
   "metadata": {
    "id": "e0d9fb4e-2d6b-4477-933d-105ec1f43edd"
   },
   "outputs": [],
   "source": []
  },
  {
   "cell_type": "markdown",
   "id": "1415a350-3a0f-4697-b1d3-130b7e5950e8",
   "metadata": {
    "id": "1415a350-3a0f-4697-b1d3-130b7e5950e8"
   },
   "source": [
    "¿Qué efecto tiene cada factor en la resistencia de la mezcla?"
   ]
  },
  {
   "cell_type": "markdown",
   "id": "57dad69a-edd4-4dac-9e4b-4b9d742d9bc6",
   "metadata": {
    "id": "b32d1b87-e9e4-40b6-9cfb-ad50dca0ba51"
   },
   "source": [
    "Cada elemento aporta sus propiedades para que juntos, se alcance la resistencia deseada"
   ]
  },
  {
   "cell_type": "code",
   "execution_count": null,
   "id": "6a8652a2-20e0-49c5-bc66-1472333ab728",
   "metadata": {
    "id": "6a8652a2-20e0-49c5-bc66-1472333ab728"
   },
   "outputs": [],
   "source": []
  },
  {
   "cell_type": "code",
   "execution_count": null,
   "id": "f404a6bf-816e-439f-9e8a-f9bb588af731",
   "metadata": {
    "id": "f404a6bf-816e-439f-9e8a-f9bb588af731"
   },
   "outputs": [],
   "source": []
  },
  {
   "cell_type": "markdown",
   "id": "89a911f1-641a-45c4-b4b8-b2f86ce5b5e6",
   "metadata": {
    "id": "89a911f1-641a-45c4-b4b8-b2f86ce5b5e6"
   },
   "source": [
    "¿Cuál será la resistencia si mezclo 390 kg de cemento, 570 kg de arena, 170 kg de agua y 1080 kg de agregado?"
   ]
  },
  {
   "cell_type": "code",
   "execution_count": 167,
   "id": "3e57568b-fc14-4798-a2cd-7c8d64e9b0da",
   "metadata": {
    "id": "3e57568b-fc14-4798-a2cd-7c8d64e9b0da"
   },
   "outputs": [
    {
     "data": {
      "text/plain": [
       "40.90572531015449"
      ]
     },
     "execution_count": 167,
     "metadata": {},
     "output_type": "execute_result"
    }
   ],
   "source": [
    "Cemento = (rss.x[1]*390)\n",
    "Arena= (rss.x[2]*570)\n",
    "Agua = (rss.x[3]*170)\n",
    "Agregado = (rss.x[4]*1080)\n",
    "Resistencia = Cemento + Arena + Agua + Agregado + rss.x[0]\n",
    "Resistencia "
   ]
  },
  {
   "cell_type": "markdown",
   "id": "4764dd67-72ba-4fae-955d-6eab87eb4bff",
   "metadata": {
    "id": "5df90f5c-8da7-421d-8996-b36ecdbefa69"
   },
   "source": [
    "La resistencia será de 40.905724812374956"
   ]
  },
  {
   "cell_type": "code",
   "execution_count": null,
   "id": "b8566955-e2d1-4673-90b3-83c7e5b4ec79",
   "metadata": {
    "id": "b8566955-e2d1-4673-90b3-83c7e5b4ec79"
   },
   "outputs": [],
   "source": []
  },
  {
   "cell_type": "markdown",
   "id": "077149c9-ed47-438a-bf64-f715a817727d",
   "metadata": {
    "id": "077149c9-ed47-438a-bf64-f715a817727d"
   },
   "source": [
    "## 4. Regresión logística"
   ]
  },
  {
   "cell_type": "markdown",
   "id": "0e9a4289-4c6e-4851-a1f4-3cc8cc3ab833",
   "metadata": {
    "id": "0e9a4289-4c6e-4851-a1f4-3cc8cc3ab833"
   },
   "source": [
    "Un equipo de ingenieros quiere saber si una muestra de concreto hidráulico fallará o no bajo determinadas condiciones, basándose en experiencias pasadas.\n",
    "\n",
    "<table>\n",
    "  <thead>\n",
    "    <tr>\n",
    "      <th>Resistencia a la compresión (MPa)</th>\n",
    "      <th>Edad del concreto (días)</th>\n",
    "      <th>Relación agua-cemento</th>\n",
    "      <th>Falla (Sí/No)</th>\n",
    "    </tr>\n",
    "  </thead>\n",
    "  <tbody>\n",
    "    <tr>\n",
    "      <td>25</td>\n",
    "      <td>28</td>\n",
    "      <td>0.45</td>\n",
    "      <td>Sí</td>\n",
    "    </tr>\n",
    "    <tr>\n",
    "      <td>40</td>\n",
    "      <td>56</td>\n",
    "      <td>0.35</td>\n",
    "      <td>No</td>\n",
    "    </tr>\n",
    "    <tr>\n",
    "      <td>30</td>\n",
    "      <td>28</td>\n",
    "      <td>0.50</td>\n",
    "      <td>Sí</td>\n",
    "    </tr>\n",
    "    <tr>\n",
    "      <td>50</td>\n",
    "      <td>90</td>\n",
    "      <td>0.30</td>\n",
    "      <td>No</td>\n",
    "    </tr>\n",
    "    <tr>\n",
    "      <td>35</td>\n",
    "      <td>28</td>\n",
    "      <td>0.40</td>\n",
    "      <td>Sí</td>\n",
    "    </tr>\n",
    "    <tr>\n",
    "      <td>55</td>\n",
    "      <td>120</td>\n",
    "      <td>0.32</td>\n",
    "      <td>No</td>\n",
    "    </tr>\n",
    "    <tr>\n",
    "      <td>45</td>\n",
    "      <td>60</td>\n",
    "      <td>0.36</td>\n",
    "      <td>No</td>\n",
    "    </tr>\n",
    "    <tr>\n",
    "      <td>20</td>\n",
    "      <td>7</td>\n",
    "      <td>0.55</td>\n",
    "      <td>Sí</td>\n",
    "    </tr>\n",
    "  </tbody>\n",
    "</table>\n"
   ]
  },
  {
   "cell_type": "markdown",
   "id": "5911243f-05cf-4009-896d-1ff1354fc1bf",
   "metadata": {
    "id": "5911243f-05cf-4009-896d-1ff1354fc1bf"
   },
   "source": [
    "1. ¿Qué factor afecta más? (Utiliza un vector de ceros como tu beta inicial)"
   ]
  },
  {
   "cell_type": "code",
   "execution_count": 174,
   "id": "fdbfa562-bad0-4897-b432-b51e954d2350",
   "metadata": {
    "id": "fdbfa562-bad0-4897-b432-b51e954d2350"
   },
   "outputs": [
    {
     "data": {
      "text/plain": [
       "  message: Optimization terminated successfully.\n",
       "  success: True\n",
       "   status: 0\n",
       "      fun: 2.1236079788292108e-07\n",
       "        x: [ 2.223e+01  2.043e+00 -2.254e+00  1.432e+01]\n",
       "      nit: 28\n",
       "      jac: [ 9.686e-08  5.215e-06  7.354e-06  4.470e-08]\n",
       " hess_inv: [[ 3.268e+06  2.756e+05 -3.119e+05  2.104e+06]\n",
       "            [ 2.756e+05  2.324e+04 -2.630e+04  1.775e+05]\n",
       "            [-3.119e+05 -2.630e+04  2.977e+04 -2.009e+05]\n",
       "            [ 2.104e+06  1.775e+05 -2.009e+05  1.355e+06]]\n",
       "     nfev: 155\n",
       "     njev: 31"
      ]
     },
     "execution_count": 174,
     "metadata": {},
     "output_type": "execute_result"
    }
   ],
   "source": [
    "Resistencia =[25, 40, 30, 50, 35, 55, 45, 20]\n",
    "Edad =[28, 56, 28, 90, 28, 120, 60, 7]\n",
    "Relacion =[0.45, 0.35, 0.50, 0.30, 0.40, 0.32, 0.36, 0.55]\n",
    "Falla =[1, 0, 1, 0, 1, 0, 0, 1] # 1 = Si 0 = No\n",
    "\n",
    "n=len(Falla)\n",
    "ones=np.ones([n, 1])\n",
    "B_Resistencia=np.reshape(Resistencia, (n, 1))\n",
    "B_Edad=np.reshape(Edad, (n, 1))\n",
    "B_Relacion=np.reshape(Relacion, (n, 1))\n",
    "\n",
    "X=np.hstack((ones, B_Resistencia, B_Edad, B_Relacion))\n",
    "\n",
    "y_v=np.reshape(Falla,(n, 1))\n",
    "\n",
    "def prediccion(b, X):\n",
    "  return 1/(1+np.exp(-X@b))\n",
    "\n",
    "def J(b, X, y):\n",
    "  epsilon=1e-100\n",
    "  n, p=X.shape\n",
    "  b=np.reshape(b, [p, 1])\n",
    "  y_prediccion=prediccion(b, X)\n",
    "  e=y*np.log(y_prediccion+epsilon)+(1-y)*np.log(1-y_prediccion+epsilon)\n",
    "  return-np.sum(e)\n",
    "\n",
    "b=[0, 0, 0, 0]\n",
    "\n",
    "rrs=opt.minimize(J, b, args=(X, y_v))\n",
    "rrs"
   ]
  },
  {
   "cell_type": "markdown",
   "id": "67a18b85-9965-4354-af1c-290d9505a03b",
   "metadata": {
    "id": "49eba297-c977-4ee2-97e3-e609328653cb"
   },
   "source": [
    "El factor que más afecta es la relación agua-cemento"
   ]
  },
  {
   "cell_type": "code",
   "execution_count": null,
   "id": "07ff36bc-6c1b-4950-b3c7-7f2884216e28",
   "metadata": {
    "id": "07ff36bc-6c1b-4950-b3c7-7f2884216e28"
   },
   "outputs": [],
   "source": []
  },
  {
   "cell_type": "markdown",
   "id": "507337c2-1ef4-4abf-99d4-319dadfaf2d3",
   "metadata": {
    "id": "507337c2-1ef4-4abf-99d4-319dadfaf2d3"
   },
   "source": [
    "2. Calcula la probabilidad de falla para una muestra con las siguientes características:\n",
    "- Resistencia a la compresión: 38 MPa\n",
    "- Edad del concreto: 30 días\n",
    "- Relación agua-cemento: 0.40"
   ]
  },
  {
   "cell_type": "code",
   "execution_count": 179,
   "id": "e4b6b71a-0e68-40d6-ba60-6c91407ebbbe",
   "metadata": {
    "id": "e4b6b71a-0e68-40d6-ba60-6c91407ebbbe"
   },
   "outputs": [
    {
     "data": {
      "text/plain": [
       "49.799640840346676"
      ]
     },
     "execution_count": 179,
     "metadata": {},
     "output_type": "execute_result"
    }
   ],
   "source": [
    "Resistencia_a_la_compresión = (rss.x[1]*38)\n",
    "Edad_del_concreto = (rss.x[2]*30)\n",
    "Relación_agua_cemento = (rss.x[3]*.4)\n",
    "(Resistencia_a_la_compresión + Edad_del_concreto + Relación_agua_cemento +rss.x[0])*-1"
   ]
  },
  {
   "cell_type": "markdown",
   "id": "687a5e1b-3721-4deb-8bc6-9df7cc328cc1",
   "metadata": {
    "id": "f1b5c4da-35ca-49b4-98f8-f58201d4cfb7"
   },
   "source": [
    "La probabilidad de falla es de 49.79971185789123. 49% o bien 49.8%"
   ]
  },
  {
   "cell_type": "code",
   "execution_count": null,
   "id": "29f1a4cb-1e34-41b6-8d02-6058a6a59fe0",
   "metadata": {},
   "outputs": [],
   "source": []
  },
  {
   "cell_type": "code",
   "execution_count": null,
   "id": "a0fa885b-4572-4b7d-b231-61e100edf01a",
   "metadata": {},
   "outputs": [],
   "source": []
  }
 ],
 "metadata": {
  "colab": {
   "provenance": []
  },
  "kernelspec": {
   "display_name": "Python 3 (ipykernel)",
   "language": "python",
   "name": "python3"
  },
  "language_info": {
   "codemirror_mode": {
    "name": "ipython",
    "version": 3
   },
   "file_extension": ".py",
   "mimetype": "text/x-python",
   "name": "python",
   "nbconvert_exporter": "python",
   "pygments_lexer": "ipython3",
   "version": "3.12.4"
  }
 },
 "nbformat": 4,
 "nbformat_minor": 5
}
