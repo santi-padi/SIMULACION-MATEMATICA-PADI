{
 "cells": [
  {
   "cell_type": "markdown",
   "id": "c191c972-2c85-4284-a555-7db618ba5b26",
   "metadata": {},
   "source": [
    "# Laboratorio de regresión logística"
   ]
  },
  {
   "cell_type": "markdown",
   "id": "e11c177c-1848-44b0-8c6b-b35537b5ae2f",
   "metadata": {},
   "source": [
    "|                |   |\n",
    ":----------------|---|\n",
    "| **Nombre**     |  Santiago Padilla Arias |\n",
    "| **Fecha**      |   01/10/2024 |\n",
    "| **Expediente** |   750985 | "
   ]
  },
  {
   "cell_type": "markdown",
   "id": "c4f75ddf-058d-4e10-8a53-bf1b4874e1fa",
   "metadata": {},
   "source": [
    "La regresión logística es una herramienta utilizada para predecir respuestas cualitativas. Al igual que la regresión lineal, es un método sencillo que sirve como un punto de partida para técnicas más avanzadas. Por ejemplo, lo que se conoce como *redes neuronales* o *red de perceptrones multicapa* no es más que una estructura de regresiones logísticas que se alimentan entre sí."
   ]
  },
  {
   "cell_type": "markdown",
   "id": "7aca8491-9d65-4f36-86c5-60b58282c56b",
   "metadata": {},
   "source": [
    "1. Descarga el archivo de créditos y carga los datos (Default.csv). Utiliza `pandas`."
   ]
  },
  {
   "cell_type": "code",
   "execution_count": null,
   "id": "cf337cda-782d-41e3-9a27-15abe95121ad",
   "metadata": {},
   "outputs": [],
   "source": []
  },
  {
   "cell_type": "code",
   "execution_count": 48,
   "id": "f9771c6b-1fcc-4413-9c75-f41fdd2cf892",
   "metadata": {},
   "outputs": [
    {
     "data": {
      "text/html": [
       "<div>\n",
       "<style scoped>\n",
       "    .dataframe tbody tr th:only-of-type {\n",
       "        vertical-align: middle;\n",
       "    }\n",
       "\n",
       "    .dataframe tbody tr th {\n",
       "        vertical-align: top;\n",
       "    }\n",
       "\n",
       "    .dataframe thead th {\n",
       "        text-align: right;\n",
       "    }\n",
       "</style>\n",
       "<table border=\"1\" class=\"dataframe\">\n",
       "  <thead>\n",
       "    <tr style=\"text-align: right;\">\n",
       "      <th></th>\n",
       "      <th>default</th>\n",
       "      <th>student</th>\n",
       "      <th>balance</th>\n",
       "      <th>income</th>\n",
       "    </tr>\n",
       "  </thead>\n",
       "  <tbody>\n",
       "    <tr>\n",
       "      <th>0</th>\n",
       "      <td>No</td>\n",
       "      <td>No</td>\n",
       "      <td>729.526495</td>\n",
       "      <td>44361.625074</td>\n",
       "    </tr>\n",
       "    <tr>\n",
       "      <th>1</th>\n",
       "      <td>No</td>\n",
       "      <td>Yes</td>\n",
       "      <td>817.180407</td>\n",
       "      <td>12106.134700</td>\n",
       "    </tr>\n",
       "    <tr>\n",
       "      <th>2</th>\n",
       "      <td>No</td>\n",
       "      <td>No</td>\n",
       "      <td>1073.549164</td>\n",
       "      <td>31767.138950</td>\n",
       "    </tr>\n",
       "    <tr>\n",
       "      <th>3</th>\n",
       "      <td>No</td>\n",
       "      <td>No</td>\n",
       "      <td>529.250605</td>\n",
       "      <td>35704.493940</td>\n",
       "    </tr>\n",
       "    <tr>\n",
       "      <th>4</th>\n",
       "      <td>No</td>\n",
       "      <td>No</td>\n",
       "      <td>785.655883</td>\n",
       "      <td>38463.495880</td>\n",
       "    </tr>\n",
       "    <tr>\n",
       "      <th>...</th>\n",
       "      <td>...</td>\n",
       "      <td>...</td>\n",
       "      <td>...</td>\n",
       "      <td>...</td>\n",
       "    </tr>\n",
       "    <tr>\n",
       "      <th>9995</th>\n",
       "      <td>No</td>\n",
       "      <td>No</td>\n",
       "      <td>711.555020</td>\n",
       "      <td>52992.378910</td>\n",
       "    </tr>\n",
       "    <tr>\n",
       "      <th>9996</th>\n",
       "      <td>No</td>\n",
       "      <td>No</td>\n",
       "      <td>757.962918</td>\n",
       "      <td>19660.721770</td>\n",
       "    </tr>\n",
       "    <tr>\n",
       "      <th>9997</th>\n",
       "      <td>No</td>\n",
       "      <td>No</td>\n",
       "      <td>845.411989</td>\n",
       "      <td>58636.156980</td>\n",
       "    </tr>\n",
       "    <tr>\n",
       "      <th>9998</th>\n",
       "      <td>No</td>\n",
       "      <td>No</td>\n",
       "      <td>1569.009053</td>\n",
       "      <td>36669.112360</td>\n",
       "    </tr>\n",
       "    <tr>\n",
       "      <th>9999</th>\n",
       "      <td>No</td>\n",
       "      <td>Yes</td>\n",
       "      <td>200.922183</td>\n",
       "      <td>16862.952320</td>\n",
       "    </tr>\n",
       "  </tbody>\n",
       "</table>\n",
       "<p>10000 rows × 4 columns</p>\n",
       "</div>"
      ],
      "text/plain": [
       "     default student      balance        income\n",
       "0         No      No   729.526495  44361.625074\n",
       "1         No     Yes   817.180407  12106.134700\n",
       "2         No      No  1073.549164  31767.138950\n",
       "3         No      No   529.250605  35704.493940\n",
       "4         No      No   785.655883  38463.495880\n",
       "...      ...     ...          ...           ...\n",
       "9995      No      No   711.555020  52992.378910\n",
       "9996      No      No   757.962918  19660.721770\n",
       "9997      No      No   845.411989  58636.156980\n",
       "9998      No      No  1569.009053  36669.112360\n",
       "9999      No     Yes   200.922183  16862.952320\n",
       "\n",
       "[10000 rows x 4 columns]"
      ]
     },
     "execution_count": 48,
     "metadata": {},
     "output_type": "execute_result"
    }
   ],
   "source": [
    "import pandas as pd\n",
    "datos=pd.read_csv(\"Default.csv\")\n",
    "datos"
   ]
  },
  {
   "cell_type": "code",
   "execution_count": null,
   "id": "582dd548-3fd2-4421-b147-3c251dd5a201",
   "metadata": {},
   "outputs": [],
   "source": []
  },
  {
   "cell_type": "markdown",
   "id": "65b9bbd4-2e26-44b3-8842-a992c7da7374",
   "metadata": {},
   "source": [
    "2. Utiliza el comando `obj.head()`, donde `obj` es el nombre que le diste a los datos del archivo."
   ]
  },
  {
   "cell_type": "code",
   "execution_count": null,
   "id": "523807f3-b35f-45f8-bf81-a1dd5f63e7a6",
   "metadata": {},
   "outputs": [],
   "source": []
  },
  {
   "cell_type": "code",
   "execution_count": 53,
   "id": "b09c3f99-5e86-422a-a363-64d334cf94c2",
   "metadata": {},
   "outputs": [
    {
     "data": {
      "text/html": [
       "<div>\n",
       "<style scoped>\n",
       "    .dataframe tbody tr th:only-of-type {\n",
       "        vertical-align: middle;\n",
       "    }\n",
       "\n",
       "    .dataframe tbody tr th {\n",
       "        vertical-align: top;\n",
       "    }\n",
       "\n",
       "    .dataframe thead th {\n",
       "        text-align: right;\n",
       "    }\n",
       "</style>\n",
       "<table border=\"1\" class=\"dataframe\">\n",
       "  <thead>\n",
       "    <tr style=\"text-align: right;\">\n",
       "      <th></th>\n",
       "      <th>default</th>\n",
       "      <th>student</th>\n",
       "      <th>balance</th>\n",
       "      <th>income</th>\n",
       "    </tr>\n",
       "  </thead>\n",
       "  <tbody>\n",
       "    <tr>\n",
       "      <th>0</th>\n",
       "      <td>No</td>\n",
       "      <td>No</td>\n",
       "      <td>729.526495</td>\n",
       "      <td>44361.625074</td>\n",
       "    </tr>\n",
       "    <tr>\n",
       "      <th>1</th>\n",
       "      <td>No</td>\n",
       "      <td>Yes</td>\n",
       "      <td>817.180407</td>\n",
       "      <td>12106.134700</td>\n",
       "    </tr>\n",
       "    <tr>\n",
       "      <th>2</th>\n",
       "      <td>No</td>\n",
       "      <td>No</td>\n",
       "      <td>1073.549164</td>\n",
       "      <td>31767.138950</td>\n",
       "    </tr>\n",
       "    <tr>\n",
       "      <th>3</th>\n",
       "      <td>No</td>\n",
       "      <td>No</td>\n",
       "      <td>529.250605</td>\n",
       "      <td>35704.493940</td>\n",
       "    </tr>\n",
       "    <tr>\n",
       "      <th>4</th>\n",
       "      <td>No</td>\n",
       "      <td>No</td>\n",
       "      <td>785.655883</td>\n",
       "      <td>38463.495880</td>\n",
       "    </tr>\n",
       "  </tbody>\n",
       "</table>\n",
       "</div>"
      ],
      "text/plain": [
       "  default student      balance        income\n",
       "0      No      No   729.526495  44361.625074\n",
       "1      No     Yes   817.180407  12106.134700\n",
       "2      No      No  1073.549164  31767.138950\n",
       "3      No      No   529.250605  35704.493940\n",
       "4      No      No   785.655883  38463.495880"
      ]
     },
     "execution_count": 53,
     "metadata": {},
     "output_type": "execute_result"
    }
   ],
   "source": [
    "datos.head()"
   ]
  },
  {
   "cell_type": "code",
   "execution_count": null,
   "id": "b9bf0fce-f20b-438c-aecd-6ce10bdbdf07",
   "metadata": {},
   "outputs": [],
   "source": []
  },
  {
   "cell_type": "markdown",
   "id": "15c04d29-f53e-4abc-be36-84fcd4ec5f0d",
   "metadata": {},
   "source": [
    "El comando head arroja los primeras *n* líneas (por defecto 5) de los datos que están en el DataFrame.\n",
    "\n",
    "3. Utiliza el comando `obj.describe()`."
   ]
  },
  {
   "cell_type": "code",
   "execution_count": null,
   "id": "d9500b33-6d04-4322-bebe-08fa02305429",
   "metadata": {},
   "outputs": [],
   "source": []
  },
  {
   "cell_type": "code",
   "execution_count": 58,
   "id": "643e5d7b-4a56-442b-9706-1732bf3e99a0",
   "metadata": {},
   "outputs": [
    {
     "data": {
      "text/html": [
       "<div>\n",
       "<style scoped>\n",
       "    .dataframe tbody tr th:only-of-type {\n",
       "        vertical-align: middle;\n",
       "    }\n",
       "\n",
       "    .dataframe tbody tr th {\n",
       "        vertical-align: top;\n",
       "    }\n",
       "\n",
       "    .dataframe thead th {\n",
       "        text-align: right;\n",
       "    }\n",
       "</style>\n",
       "<table border=\"1\" class=\"dataframe\">\n",
       "  <thead>\n",
       "    <tr style=\"text-align: right;\">\n",
       "      <th></th>\n",
       "      <th>balance</th>\n",
       "      <th>income</th>\n",
       "    </tr>\n",
       "  </thead>\n",
       "  <tbody>\n",
       "    <tr>\n",
       "      <th>count</th>\n",
       "      <td>10000.000000</td>\n",
       "      <td>10000.000000</td>\n",
       "    </tr>\n",
       "    <tr>\n",
       "      <th>mean</th>\n",
       "      <td>835.374886</td>\n",
       "      <td>33516.981876</td>\n",
       "    </tr>\n",
       "    <tr>\n",
       "      <th>std</th>\n",
       "      <td>483.714985</td>\n",
       "      <td>13336.639563</td>\n",
       "    </tr>\n",
       "    <tr>\n",
       "      <th>min</th>\n",
       "      <td>0.000000</td>\n",
       "      <td>771.967729</td>\n",
       "    </tr>\n",
       "    <tr>\n",
       "      <th>25%</th>\n",
       "      <td>481.731105</td>\n",
       "      <td>21340.462903</td>\n",
       "    </tr>\n",
       "    <tr>\n",
       "      <th>50%</th>\n",
       "      <td>823.636973</td>\n",
       "      <td>34552.644802</td>\n",
       "    </tr>\n",
       "    <tr>\n",
       "      <th>75%</th>\n",
       "      <td>1166.308386</td>\n",
       "      <td>43807.729275</td>\n",
       "    </tr>\n",
       "    <tr>\n",
       "      <th>max</th>\n",
       "      <td>2654.322576</td>\n",
       "      <td>73554.233500</td>\n",
       "    </tr>\n",
       "  </tbody>\n",
       "</table>\n",
       "</div>"
      ],
      "text/plain": [
       "            balance        income\n",
       "count  10000.000000  10000.000000\n",
       "mean     835.374886  33516.981876\n",
       "std      483.714985  13336.639563\n",
       "min        0.000000    771.967729\n",
       "25%      481.731105  21340.462903\n",
       "50%      823.636973  34552.644802\n",
       "75%     1166.308386  43807.729275\n",
       "max     2654.322576  73554.233500"
      ]
     },
     "execution_count": 58,
     "metadata": {},
     "output_type": "execute_result"
    }
   ],
   "source": [
    "datos.describe()"
   ]
  },
  {
   "cell_type": "code",
   "execution_count": null,
   "id": "060c28af-fec5-4cff-929a-8a9586aabf0d",
   "metadata": {},
   "outputs": [],
   "source": []
  },
  {
   "cell_type": "markdown",
   "id": "d0bddd85-1291-4b86-ac54-08579009eaad",
   "metadata": {},
   "source": [
    "El comando describe toma las columnas que tienen datos numéricos y saca datos estadísticos comunes:\n",
    "- *n*\n",
    "- media\n",
    "- desviación estándar\n",
    "- valor mínimo\n",
    "- primer cuartil\n",
    "- mediana\n",
    "- tercer cuartil\n",
    "- valor máximo\n",
    "\n",
    "3. Vistos estos datos, ¿qué columnas existen en el DataFrame? ¿Qué tipo de datos contienen?"
   ]
  },
  {
   "cell_type": "markdown",
   "id": "be36451d-c633-4ff5-8973-5aabb455e467",
   "metadata": {},
   "source": [
    "Son datos del tipo numerico en este caso son las columnas income y balance "
   ]
  },
  {
   "cell_type": "markdown",
   "id": "815fb698-119d-4d30-b1a7-83a6f9a5c00a",
   "metadata": {},
   "source": []
  },
  {
   "cell_type": "markdown",
   "id": "250e1819-a2b8-4ae9-86c6-533ae4c2aa36",
   "metadata": {},
   "source": []
  },
  {
   "cell_type": "markdown",
   "id": "d647ca4b-012f-4b9e-a062-6484f2fdb2c8",
   "metadata": {},
   "source": [
    "4. Configura el tipo de dato de las columnas `default` y `student` para cambiarlos a variables categóricas.\n",
    "\n",
    "`data[columna] = data[columna].astype(\"category\")`"
   ]
  },
  {
   "cell_type": "code",
   "execution_count": 66,
   "id": "1ca68e38-8821-4a7b-96de-20f4209a2c84",
   "metadata": {},
   "outputs": [
    {
     "data": {
      "text/plain": [
       "0       No\n",
       "1       No\n",
       "2       No\n",
       "3       No\n",
       "4       No\n",
       "        ..\n",
       "9995    No\n",
       "9996    No\n",
       "9997    No\n",
       "9998    No\n",
       "9999    No\n",
       "Name: default, Length: 10000, dtype: category\n",
       "Categories (2, object): ['No', 'Yes']"
      ]
     },
     "execution_count": 66,
     "metadata": {},
     "output_type": "execute_result"
    }
   ],
   "source": [
    "datos[\"default\"] = datos[\"default\"].astype(\"category\")\n",
    "datos[\"default\"]"
   ]
  },
  {
   "cell_type": "code",
   "execution_count": 68,
   "id": "079e5d10-4a2a-470d-97b1-5b06f6b060ad",
   "metadata": {},
   "outputs": [
    {
     "data": {
      "text/plain": [
       "0        No\n",
       "1       Yes\n",
       "2        No\n",
       "3        No\n",
       "4        No\n",
       "       ... \n",
       "9995     No\n",
       "9996     No\n",
       "9997     No\n",
       "9998     No\n",
       "9999    Yes\n",
       "Name: student, Length: 10000, dtype: category\n",
       "Categories (2, object): ['No', 'Yes']"
      ]
     },
     "execution_count": 68,
     "metadata": {},
     "output_type": "execute_result"
    }
   ],
   "source": [
    "datos[\"student\"] = datos[\"student\"].astype(\"category\")\n",
    "datos[\"student\"]"
   ]
  },
  {
   "cell_type": "code",
   "execution_count": null,
   "id": "3f5c9895-5023-4379-9999-d2218a64ff56",
   "metadata": {},
   "outputs": [],
   "source": []
  },
  {
   "cell_type": "code",
   "execution_count": null,
   "id": "1b0e4417-8d10-4378-9761-70050f9c832f",
   "metadata": {},
   "outputs": [],
   "source": []
  },
  {
   "cell_type": "markdown",
   "id": "1c2d630c-bca1-4aa8-b5ab-2eda979b7695",
   "metadata": {},
   "source": [
    "Imagina que trabajas en un banco y que se te entregan estos datos. Tu objetivo es crear un modelo que ayude a predecir si una persona que solicita un crédito lo va a pagar. Exploremos los datos un poco más antes de crear un modelo.\n",
    "\n",
    "Veamos primero cómo es la distribución de los valores cuando una persona dejó de pagar y cuando siguió pagando. `Default` es el término utilizado para cuando una persona dejó de pagar.\n",
    "\n",
    "5. Crea una gráfica de caja para las columnas `income` y `balance`, con los datos agrupados con la columna `default`. Utiliza el comando `obj.boxplot(column=____, by=_____)`"
   ]
  },
  {
   "cell_type": "code",
   "execution_count": 73,
   "id": "546de528-d1b8-442b-9aec-e6be74bdbfbf",
   "metadata": {},
   "outputs": [
    {
     "data": {
      "text/plain": [
       "Text(0, 0.5, 'Income')"
      ]
     },
     "execution_count": 73,
     "metadata": {},
     "output_type": "execute_result"
    },
    {
     "data": {
      "image/png": "[encoded data removed]",
      "text/plain": [
       "<Figure size 640x480 with 1 Axes>"
      ]
     },
     "metadata": {},
     "output_type": "display_data"
    }
   ],
   "source": [
    "import matplotlib.pyplot as plt\n",
    "datos.boxplot(column=\"income\", by=\"default\")\n",
    "plt.title(\"Caja income\")\n",
    "plt.xlabel(\"Default\")\n",
    "plt.ylabel(\"Income\")"
   ]
  },
  {
   "cell_type": "code",
   "execution_count": 75,
   "id": "4388e93e-be93-4db7-b0ce-1cd946432a07",
   "metadata": {},
   "outputs": [
    {
     "data": {
      "text/plain": [
       "Text(0, 0.5, 'Income')"
      ]
     },
     "execution_count": 75,
     "metadata": {},
     "output_type": "execute_result"
    },
    {
     "data": {
      "image/png": "[encoded data removed]",
      "text/plain": [
       "<Figure size 640x480 with 1 Axes>"
      ]
     },
     "metadata": {},
     "output_type": "display_data"
    }
   ],
   "source": [
    "import matplotlib.pyplot as plt\n",
    "datos.boxplot(column=\"balance\", by=\"default\")\n",
    "plt.title(\"Caja balance\")\n",
    "plt.xlabel(\"Balance\")\n",
    "plt.ylabel(\"Income\")"
   ]
  },
  {
   "cell_type": "code",
   "execution_count": null,
   "id": "3149fb97-f0db-44c5-9927-971161dd3751",
   "metadata": {},
   "outputs": [],
   "source": []
  },
  {
   "cell_type": "markdown",
   "id": "ebb61978-5302-4b07-b20a-603b429f874b",
   "metadata": {},
   "source": [
    "6. Crea una gráfica de dispersión donde el eje *x* sea la columna `balance` y el eje *y* la columna `income`. Utiliza el comando `obj.plot.scatter(x, y, c=\"default\", colormap=\"PiYG_r\", alpha=0.5)`."
   ]
  },
  {
   "cell_type": "code",
   "execution_count": 79,
   "id": "1008ae54-6a73-442d-9598-2a2dfdb807a5",
   "metadata": {},
   "outputs": [
    {
     "data": {
      "text/plain": [
       "Text(0, 0.5, 'Income')"
      ]
     },
     "execution_count": 79,
     "metadata": {},
     "output_type": "execute_result"
    },
    {
     "data": {
      "image/png": "[encoded data removed]",
      "text/plain": [
       "<Figure size 640x480 with 2 Axes>"
      ]
     },
     "metadata": {},
     "output_type": "display_data"
    }
   ],
   "source": [
    "datos.plot.scatter(x=\"balance\", y=\"income\", c=\"default\", colormap=\"PiYG_r\", alpha=0.5)\n",
    "plt.title(\"Gráfica de dispersión\")\n",
    "plt.xlabel(\"Balance\")\n",
    "plt.ylabel(\"Income\")"
   ]
  },
  {
   "cell_type": "code",
   "execution_count": null,
   "id": "ea5d596a-5dea-46d3-aa10-fb3e47a34a28",
   "metadata": {},
   "outputs": [],
   "source": []
  },
  {
   "cell_type": "code",
   "execution_count": null,
   "id": "ca72041b-1f94-46e0-bea9-c6b3a571728b",
   "metadata": {},
   "outputs": [],
   "source": []
  },
  {
   "cell_type": "markdown",
   "id": "49f3bb3e-5ba5-405f-9cfd-08a944f3a142",
   "metadata": {},
   "source": [
    "La regresión (lineal o logística) se usa para encontrar una línea que ajuste los datos para tomar una decisión. La línea que buscamos en regresión logística es aquella que nos ayude a separar las diferentes categorías. \n",
    "\n",
    "<img style=\"float: left; \" src=\"https://www.baeldung.com/wp-content/uploads/sites/4/2023/10/decision_boundary_curve.jpg\" width=\"400px\" />\n"
   ]
  },
  {
   "cell_type": "markdown",
   "id": "d04c4af0-ccb8-4174-b388-6260f4f206ed",
   "metadata": {},
   "source": [
    "## Regresión logística simple"
   ]
  },
  {
   "cell_type": "markdown",
   "id": "8479721f-877b-4c4f-abc1-1da69b8520eb",
   "metadata": {},
   "source": [
    "Creemos un modelo simple donde sólo utilizamos una de los factores para predecir una respuesta. Quiero conocer la probabilidad de que una persona deje de pagar su crédito dado el balance que tiene en su cuenta.\n",
    "\n",
    "$$ P(\\text{default}=\\text{Yes}|\\text{balance}) $$"
   ]
  },
  {
   "cell_type": "markdown",
   "id": "3cb24746-3fc3-444b-b7f4-0427a79eafc4",
   "metadata": {},
   "source": [
    "Por el momento la columna default no contiene valores numéricos, por lo que hay que transformar los datos. Como default es nuestra variable de respuesta (lo que queremos predecir) podemos nombrarla *y*.\n",
    "\n",
    "Ejecuta el código `y = obj[\"default\"] == \"Yes\"`. Extrae el factor `balance` en una variable *x*."
   ]
  },
  {
   "cell_type": "code",
   "execution_count": 87,
   "id": "c5f7d3df-a374-433a-bcf7-4c2e59cf2491",
   "metadata": {},
   "outputs": [
    {
     "data": {
      "text/plain": [
       "0        729.526495\n",
       "1        817.180407\n",
       "2       1073.549164\n",
       "3        529.250605\n",
       "4        785.655883\n",
       "           ...     \n",
       "9995     711.555020\n",
       "9996     757.962918\n",
       "9997     845.411989\n",
       "9998    1569.009053\n",
       "9999     200.922183\n",
       "Name: balance, Length: 10000, dtype: float64"
      ]
     },
     "execution_count": 87,
     "metadata": {},
     "output_type": "execute_result"
    }
   ],
   "source": [
    "y=datos[\"default\"]==\"Yes\"\n",
    "x=datos[\"balance\"]\n",
    "x"
   ]
  },
  {
   "cell_type": "code",
   "execution_count": null,
   "id": "65959f38-4f3c-462a-a5c3-211306b3a035",
   "metadata": {},
   "outputs": [],
   "source": []
  },
  {
   "cell_type": "code",
   "execution_count": null,
   "id": "0e99db8a-e858-4a03-b806-f411473209a4",
   "metadata": {},
   "outputs": [],
   "source": []
  },
  {
   "cell_type": "markdown",
   "id": "979a233e-fb64-4051-8a1f-aa9143c2ad1e",
   "metadata": {},
   "source": [
    "Crea un gráfico de dispersión donde el eje *x* sea `balance` y el eje *y* sea `default` transformado."
   ]
  },
  {
   "cell_type": "code",
   "execution_count": 285,
   "id": "38601930-985f-41b8-95c0-64e269fdd4fd",
   "metadata": {},
   "outputs": [
    {
     "data": {
      "text/plain": [
       "Text(0, 0.5, 'Default')"
      ]
     },
     "execution_count": 285,
     "metadata": {},
     "output_type": "execute_result"
    },
    {
     "data": {
      "image/png": "[encoded data removed]",
      "text/plain": [
       "<Figure size 640x480 with 1 Axes>"
      ]
     },
     "metadata": {},
     "output_type": "display_data"
    }
   ],
   "source": [
    "import matplotlib.pyplot as plt\n",
    "plt.figure()\n",
    "plt.scatter(x,y,c=\"r\")\n",
    "plt.title(\"Gráfica de dispersión\")\n",
    "plt.xlabel(\"Balance\")\n",
    "plt.ylabel(\"Default\")"
   ]
  },
  {
   "cell_type": "code",
   "execution_count": null,
   "id": "2ce5350c-96c8-499c-9d4e-0e48f34b3198",
   "metadata": {},
   "outputs": [],
   "source": []
  },
  {
   "cell_type": "code",
   "execution_count": null,
   "id": "45d807f5-d835-4b87-a95d-0fe236df5116",
   "metadata": {},
   "outputs": [],
   "source": []
  },
  {
   "cell_type": "markdown",
   "id": "4d2f52fe-f647-420a-bc8d-98854ce647eb",
   "metadata": {},
   "source": [
    "La línea que utilizaremos para predecir la probabilidad es:\n",
    "\n",
    "$$ p(x) = \\frac{1}{1 + e^{-(\\beta_0 + \\beta_1 x)}} $$\n",
    "\n",
    "Para nuestro ejemplo de pagos y balance:\n",
    "\n",
    "$$ P(\\text{default}=1|\\text{balance}) = \\frac{1}{1 + e^{-(\\beta_0 + \\beta_1  \\text{balance})}} $$"
   ]
  },
  {
   "cell_type": "markdown",
   "id": "867bbcf8-3287-4f69-b396-1bc891e3d4b4",
   "metadata": {},
   "source": [
    "Buscamos maximizar la probabilidad de que el modelo tome decisiones correctas. Es decir, que cuando `default` fue verdadero, que la predicción sea 100%, y que cuando `default` fue falso que la predicción sea 0%.\n",
    "\n",
    "$$ \\Pi_{i:y_i=1} p(x_i) \\Pi_{i':y_{i'}} (1-p(x_{i'})) $$"
   ]
  },
  {
   "cell_type": "markdown",
   "id": "2548f26c-4608-45f6-974c-76dd9ff9ce10",
   "metadata": {},
   "source": [
    "La función de costo ya simplificada es la siguiente:\n",
    "\n",
    "$$ J(\\vec{\\beta}) = -  \\sum_{i=1}^n{[y_i \\ln{(\\hat{p}(x_i))} + (1-y_i)\\ln{(1 - \\hat{p}(x_i))}]}$$"
   ]
  },
  {
   "cell_type": "markdown",
   "id": "cd13da5a-745c-42c9-b54d-eb0201038089",
   "metadata": {},
   "source": [
    "Utiliza la función `minimize` del módulo `optimize` la librería `scipy` para estimar los parámetros del modelo. Utiliza $\\beta_0=-10$ y $\\beta_1=0.005$ como valores iniciales."
   ]
  },
  {
   "cell_type": "code",
   "execution_count": 311,
   "id": "1e27ce77-d143-40a8-8a85-7596ceb7ec07",
   "metadata": {},
   "outputs": [],
   "source": [
    "import scipy.optimize as opt\n",
    "import numpy as np\n",
    "\n",
    "n=len(y)\n",
    "ones=np.ones([n, 1])\n",
    "balance=np.reshape(datos[\"balance\"], [n, 1])\n",
    "X=np.hstack((ones, balance))\n",
    "y_v=np.reshape(y, [n, 1])"
   ]
  },
  {
   "cell_type": "code",
   "execution_count": 313,
   "id": "21c9b941-2563-474e-8944-0847ce7278fb",
   "metadata": {},
   "outputs": [],
   "source": [
    "def predi(b,X):\n",
    "    return 1/(1+np.exp(-X@b))"
   ]
  },
  {
   "cell_type": "code",
   "execution_count": 315,
   "id": "981dc02b-0c44-4981-b24d-82d9083e09d4",
   "metadata": {},
   "outputs": [],
   "source": [
    "def J(b, X, y):\n",
    "    epsilon=1e-45\n",
    "    n, p=X.shape\n",
    "    b=np.reshape(b,[p, 1])\n",
    "    y_pred=predi(b, X)\n",
    "    e=y*np.log(y_pred+epsilon)+(1-y)*np.log(1-y_pred+epsilon)\n",
    "    return -np.sum(e)"
   ]
  },
  {
   "cell_type": "code",
   "execution_count": 317,
   "id": "d2959347-de60-4eab-b217-8e5caf93db3e",
   "metadata": {},
   "outputs": [
    {
     "data": {
      "text/plain": [
       "  message: Optimization terminated successfully.\n",
       "  success: True\n",
       "   status: 0\n",
       "      fun: 798.2258422360521\n",
       "        x: [-1.065e+01  5.499e-03]\n",
       "      nit: 13\n",
       "      jac: [ 0.000e+00  7.629e-06]\n",
       " hess_inv: [[ 2.280e-06 -1.312e-09]\n",
       "            [-1.312e-09  1.715e-09]]\n",
       "     nfev: 102\n",
       "     njev: 34"
      ]
     },
     "execution_count": 317,
     "metadata": {},
     "output_type": "execute_result"
    }
   ],
   "source": [
    "b1=-10\n",
    "b2=-0.0005\n",
    "b=[b1,b2]\n",
    "rrs=opt.minimize(J, b, args=(X, y_v))\n",
    "rrs"
   ]
  },
  {
   "cell_type": "markdown",
   "id": "1df9414b-2a8e-42bd-a84b-633ba221dc12",
   "metadata": {},
   "source": [
    "Muchos aspectos de la regresión logística son similares a la regresión lineal. Podemos medir la precisión de nuestros estimados calculando sus errores estándar. El objetivo de calcular estos errores es asegurar que hay una relación estadísticamente significativa entre el factor y la variable de respuesta.\n",
    "\n",
    "Los errores estándar se obtienen con el siguiente procedimiento:\n",
    "\n",
    "1. Calcula las predicciones utilizando los $\\beta_0$ y $\\beta_1$ encontrados."
   ]
  },
  {
   "cell_type": "code",
   "execution_count": 238,
   "id": "3a41f402-bf4f-4dd9-9f41-b47aaa2ff7f7",
   "metadata": {},
   "outputs": [
    {
     "data": {
      "text/plain": [
       "array([1.30592143e-03, 2.11294683e-03, 8.59570272e-03, ...,\n",
       "       2.46690908e-03, 1.16760495e-01, 7.14687008e-05])"
      ]
     },
     "execution_count": 238,
     "metadata": {},
     "output_type": "execute_result"
    }
   ],
   "source": [
    "p = predi(rrs.x,X)\n",
    "p"
   ]
  },
  {
   "cell_type": "code",
   "execution_count": null,
   "id": "566c9c2e-4476-4ab7-a5c1-a72a27d46a6e",
   "metadata": {},
   "outputs": [],
   "source": []
  },
  {
   "cell_type": "code",
   "execution_count": null,
   "id": "83ec9306-da93-4a39-aa54-da07f1a71db0",
   "metadata": {},
   "outputs": [],
   "source": []
  },
  {
   "cell_type": "markdown",
   "id": "7c9fd491-1e87-4b54-ad24-ae972ff499cb",
   "metadata": {},
   "source": [
    "2. Idealmente la probabilidad debería ser 100% o 0%. Si alguna predicción no fue absoluta significa que hay incertidumbre. Calcula $p(1-p)$ para todas tus predicciones."
   ]
  },
  {
   "cell_type": "code",
   "execution_count": 155,
   "id": "2ec63991-e6cd-48b9-afe1-0e6f2c25578b",
   "metadata": {},
   "outputs": [
    {
     "data": {
      "text/plain": [
       "array([1.30421600e-03, 2.10848229e-03, 8.52181662e-03, ...,\n",
       "       2.46082344e-03, 1.03127481e-01, 7.14635930e-05])"
      ]
     },
     "execution_count": 155,
     "metadata": {},
     "output_type": "execute_result"
    }
   ],
   "source": [
    "p_p2=p*(1-p)\n",
    "p_p2"
   ]
  },
  {
   "cell_type": "code",
   "execution_count": null,
   "id": "e897d7b6-97d2-4536-a46d-12e19d083b4f",
   "metadata": {},
   "outputs": [],
   "source": []
  },
  {
   "cell_type": "code",
   "execution_count": null,
   "id": "ee34beed-72ae-440b-859e-bb376fda4b81",
   "metadata": {},
   "outputs": [],
   "source": []
  },
  {
   "cell_type": "markdown",
   "id": "f3897eae-d856-4cc9-9224-4988784a2531",
   "metadata": {},
   "source": [
    "3. Crea una matriz vacía y llena la diagonal con las probabilidades encontradas.\n",
    "\n",
    "`V = np.diagflat(*p(1-p)*)`"
   ]
  },
  {
   "cell_type": "code",
   "execution_count": 410,
   "id": "b0414d6b-f881-4ee7-b406-9be9972aa4d5",
   "metadata": {},
   "outputs": [
    {
     "data": {
      "text/plain": [
       "array([[1.30421600e-03, 0.00000000e+00, 0.00000000e+00, ...,\n",
       "        0.00000000e+00, 0.00000000e+00, 0.00000000e+00],\n",
       "       [0.00000000e+00, 2.10848229e-03, 0.00000000e+00, ...,\n",
       "        0.00000000e+00, 0.00000000e+00, 0.00000000e+00],\n",
       "       [0.00000000e+00, 0.00000000e+00, 8.52181662e-03, ...,\n",
       "        0.00000000e+00, 0.00000000e+00, 0.00000000e+00],\n",
       "       ...,\n",
       "       [0.00000000e+00, 0.00000000e+00, 0.00000000e+00, ...,\n",
       "        2.46082344e-03, 0.00000000e+00, 0.00000000e+00],\n",
       "       [0.00000000e+00, 0.00000000e+00, 0.00000000e+00, ...,\n",
       "        0.00000000e+00, 1.03127481e-01, 0.00000000e+00],\n",
       "       [0.00000000e+00, 0.00000000e+00, 0.00000000e+00, ...,\n",
       "        0.00000000e+00, 0.00000000e+00, 7.14635930e-05]])"
      ]
     },
     "execution_count": 410,
     "metadata": {},
     "output_type": "execute_result"
    }
   ],
   "source": [
    "V = np.diagflat(p*(1-p))\n",
    "V"
   ]
  },
  {
   "cell_type": "code",
   "execution_count": 408,
   "id": "e0ce76fe-4da1-49e0-83f3-aafadc4c9a66",
   "metadata": {},
   "outputs": [
    {
     "data": {
      "text/plain": [
       "array([[1.30421600e-03, 0.00000000e+00, 0.00000000e+00, ...,\n",
       "        0.00000000e+00, 0.00000000e+00, 0.00000000e+00],\n",
       "       [0.00000000e+00, 2.10848229e-03, 0.00000000e+00, ...,\n",
       "        0.00000000e+00, 0.00000000e+00, 0.00000000e+00],\n",
       "       [0.00000000e+00, 0.00000000e+00, 8.52181662e-03, ...,\n",
       "        0.00000000e+00, 0.00000000e+00, 0.00000000e+00],\n",
       "       ...,\n",
       "       [0.00000000e+00, 0.00000000e+00, 0.00000000e+00, ...,\n",
       "        2.46082344e-03, 0.00000000e+00, 0.00000000e+00],\n",
       "       [0.00000000e+00, 0.00000000e+00, 0.00000000e+00, ...,\n",
       "        0.00000000e+00, 1.03127481e-01, 0.00000000e+00],\n",
       "       [0.00000000e+00, 0.00000000e+00, 0.00000000e+00, ...,\n",
       "        0.00000000e+00, 0.00000000e+00, 7.14635930e-05]])"
      ]
     },
     "execution_count": 408,
     "metadata": {},
     "output_type": "execute_result"
    }
   ],
   "source": [
    "V = np.diagflat(p_p2)\n",
    "V"
   ]
  },
  {
   "cell_type": "code",
   "execution_count": null,
   "id": "2154bbbf-3f09-4143-b854-9bac0c3009ca",
   "metadata": {},
   "outputs": [],
   "source": []
  },
  {
   "cell_type": "markdown",
   "id": "f8e905e4-9d02-4077-aa3e-e8f2da17491c",
   "metadata": {},
   "source": [
    "4. Calcula la matriz de covarianza. (Dado que X es la matriz que contiene todos los factores)\n",
    "\n",
    "`cov = np.linalg.inv(X.T @ V @ X)`"
   ]
  },
  {
   "cell_type": "code",
   "execution_count": 164,
   "id": "6eb4d973-362b-470c-8f50-6ea4a5fb2c71",
   "metadata": {},
   "outputs": [
    {
     "data": {
      "text/plain": [
       "array([[ 1.30430885e-01, -7.81688634e-05],\n",
       "       [-7.81688634e-05,  4.85616677e-08]])"
      ]
     },
     "execution_count": 164,
     "metadata": {},
     "output_type": "execute_result"
    }
   ],
   "source": [
    "cov = np.linalg.inv(X.T @ V @ X)\n",
    "cov"
   ]
  },
  {
   "cell_type": "code",
   "execution_count": null,
   "id": "0779af66-573e-4340-88e7-521b8e15f765",
   "metadata": {},
   "outputs": [],
   "source": []
  },
  {
   "cell_type": "code",
   "execution_count": null,
   "id": "f58130d4-d334-4034-81bc-2734910a658c",
   "metadata": {},
   "outputs": [],
   "source": []
  },
  {
   "cell_type": "markdown",
   "id": "8a0ebe10-5f57-4f33-98d0-cc62259273ac",
   "metadata": {},
   "source": [
    "5. Los valores en la diagonal de la matriz de covarianza corresponden a la varianza de los factores. Utiliza los valores de la diagonal para calcular el error estándar.\n",
    "\n",
    "`se = np.sqrt(np.diag(cov))`"
   ]
  },
  {
   "cell_type": "code",
   "execution_count": 168,
   "id": "99119840-b3b2-4d99-8250-ff777b67cf19",
   "metadata": {},
   "outputs": [
    {
     "data": {
      "text/plain": [
       "array([3.61152163e-01, 2.20367120e-04])"
      ]
     },
     "execution_count": 168,
     "metadata": {},
     "output_type": "execute_result"
    }
   ],
   "source": [
    "se = np.sqrt(np.diag(cov))\n",
    "se"
   ]
  },
  {
   "cell_type": "code",
   "execution_count": null,
   "id": "160ee260-2e7d-4f47-a9d6-b37c285e39d8",
   "metadata": {},
   "outputs": [],
   "source": []
  },
  {
   "cell_type": "code",
   "execution_count": null,
   "id": "84d52f3d-dba8-4e77-8cbd-3b7dd7c4d920",
   "metadata": {},
   "outputs": [],
   "source": []
  },
  {
   "cell_type": "markdown",
   "id": "850e3bf5-a888-4985-936c-6655f0109b02",
   "metadata": {},
   "source": [
    "Ahora, revisemos si los estimados de nuestros coeficientes demuestran que hay una relación significativa entre los factores y la respuesta.\n",
    "\n",
    "Calculamos el estadístico *z*\n",
    "\n",
    "$$ z_j = \\frac{\\hat{\\beta_j}}{\\text{SE}(\\hat{\\beta_j})} $$"
   ]
  },
  {
   "cell_type": "code",
   "execution_count": 172,
   "id": "a49cdb9a-6ad8-4ccf-a408-c13c024d4096",
   "metadata": {},
   "outputs": [
    {
     "data": {
      "text/plain": [
       "array([-29.49170083,  24.95248051])"
      ]
     },
     "execution_count": 172,
     "metadata": {},
     "output_type": "execute_result"
    }
   ],
   "source": [
    "z_statistic=rrs.x/se\n",
    "z_statistic"
   ]
  },
  {
   "cell_type": "code",
   "execution_count": null,
   "id": "1779d07a-583b-4124-b920-7d5b2c0dc089",
   "metadata": {},
   "outputs": [],
   "source": []
  },
  {
   "cell_type": "code",
   "execution_count": null,
   "id": "1b545b22-e264-47ba-8846-107983ff7f23",
   "metadata": {},
   "outputs": [],
   "source": []
  },
  {
   "cell_type": "markdown",
   "id": "d4b57cc6-6a33-4554-ba5f-1d1570986f00",
   "metadata": {},
   "source": [
    "Utilizamos el estadístico *z* para encontrar el *p-value*.\n",
    "\n",
    "`from scipy.stats import norm`\n",
    "\n",
    "`p_value = 2 * (1 - norm.cdf(abs(z_statistic)))`"
   ]
  },
  {
   "cell_type": "code",
   "execution_count": 177,
   "id": "b95028ec-9c4b-48d3-95bb-7210202d9902",
   "metadata": {},
   "outputs": [
    {
     "data": {
      "text/plain": [
       "array([0., 0.])"
      ]
     },
     "execution_count": 177,
     "metadata": {},
     "output_type": "execute_result"
    }
   ],
   "source": [
    "from scipy.stats import norm\n",
    "\n",
    "p_value = 2 * (1 - norm.cdf(abs(z_statistic)))\n",
    "p_value"
   ]
  },
  {
   "cell_type": "code",
   "execution_count": null,
   "id": "7a38b128-87a1-4ffd-b9f1-d35f72743cb2",
   "metadata": {},
   "outputs": [],
   "source": []
  },
  {
   "cell_type": "code",
   "execution_count": null,
   "id": "660692fa-a954-4b49-8962-aaccc04b7d0d",
   "metadata": {},
   "outputs": [],
   "source": []
  },
  {
   "cell_type": "markdown",
   "id": "a465d7b1-1f78-4ae9-84a6-2b766c737e86",
   "metadata": {},
   "source": [
    "¿Es significativa la relación de los factores con la variable de respuesta?"
   ]
  },
  {
   "cell_type": "markdown",
   "id": "24252820-f896-4cda-9ff9-14b1c4e73cc1",
   "metadata": {
    "jp-MarkdownHeadingCollapsed": true
   },
   "source": [
    "Los valores tienden o se acercan mucho a cero. Esto nos indica que los factores si tienen relación con la respuesta."
   ]
  },
  {
   "cell_type": "markdown",
   "id": "a35fcf79-f150-4d91-a3ba-dd0c0005b379",
   "metadata": {},
   "source": []
  },
  {
   "cell_type": "markdown",
   "id": "255eee0a-7073-4595-ac4b-5e8275448eec",
   "metadata": {},
   "source": []
  },
  {
   "cell_type": "markdown",
   "id": "d436f218-93ab-4319-98b7-f9b2ea222efd",
   "metadata": {},
   "source": [
    "Repite el procedimiento con el factor `student`. \n",
    "1. Transforma el factor de {\"Yes\", \"No\"} a {1, 0}.\n",
    "2. Utiliza `minimize` para estimar los coeficientes. Utiliza $\\beta_0 = -3.5$ y $\\beta_1 = 0.4$ como punto de partida.\n",
    "3. Calcula el error estándar de tus estimaciones.\n",
    "   1. Usa tu modelo para encontrar $\\hat{p}(X)$\n",
    "   2. Calcula el error $p(1-p)$\n",
    "   3. Calcula la matriz de covarianza\n",
    "   4. Extrae el error estándar\n",
    "5. Argumenta si los factores son significativos utilizando el *p-value*.\n",
    "   1. Utiliza el error estándar para calcular el estadístico *z*\n",
    "   2. Calcula el *p-value*\n",
    "   3. ¿Son significativos?\n"
   ]
  },
  {
   "cell_type": "code",
   "execution_count": 366,
   "id": "73a2c768-6032-4c63-8d41-611c11e1fed5",
   "metadata": {},
   "outputs": [],
   "source": [
    "# 1. Transforma el factor de {\"Yes\", \"No\"} a {1, 0}.\n",
    "y2=datos[\"default\"]==\"Yes\"\n",
    "X2=datos[\"balance\"]\n",
    "datos['default2'] = datos['default'].map({'Yes': 1, 'No': 0})\n",
    "datos['student2'] = datos['student'].map({'Yes': 1, 'No': 0})"
   ]
  },
  {
   "cell_type": "code",
   "execution_count": 400,
   "id": "ef7cd598-ac3f-464b-91e3-f43d54040933",
   "metadata": {},
   "outputs": [
    {
     "data": {
      "text/plain": [
       "  message: Desired error not necessarily achieved due to precision loss.\n",
       "  success: False\n",
       "   status: 2\n",
       "      fun: 1454.341529987519\n",
       "        x: [-3.504e+00  4.049e-01]\n",
       "      nit: 6\n",
       "      jac: [ 7.629e-05 -1.526e-05]\n",
       " hess_inv: [[ 7.010e-12  9.628e-11]\n",
       "            [ 9.628e-11  3.792e-01]]\n",
       "     nfev: 48\n",
       "     njev: 16"
      ]
     },
     "execution_count": 400,
     "metadata": {},
     "output_type": "execute_result"
    }
   ],
   "source": [
    "# 2. Utiliza `minimize` para estimar los coeficientes. Utiliza $\\beta_0 = -3.5$ y $\\beta_1 = 0.4$ como punto de partida.\n",
    "import scipy.optimize as opt\n",
    "import numpy as np\n",
    "\n",
    "n2=len(y2)\n",
    "ones2=np.ones([n2, 1])\n",
    "student=np.reshape(datos[\"student2\"], [n2, 1])\n",
    "X2=np.hstack((ones2, student))\n",
    "y_v2=np.reshape(y2, [n2, 1])\n",
    "def predi2(b2,X2):\n",
    "    return 1/(1+np.exp(-X2@b2))\n",
    "def J2(b2, X2, y2):\n",
    "    epsilon2=1e-10\n",
    "    n2, p2=X2.shape\n",
    "    b2=np.reshape(b2,[p2, 1])\n",
    "    y_pred2=predi2(b2, X2)\n",
    "    e2=y2*np.log(y_pred2+epsilon2)+(1-y2)*np.log(1-y_pred2+epsilon2)\n",
    "    return -np.sum(e2)\n",
    "b0=-3.5\n",
    "b1=0.4\n",
    "b2=[b0,b1]\n",
    "rrs2=opt.minimize(J2, b2, args=(X2, y_v2))\n",
    "rrs2"
   ]
  },
  {
   "cell_type": "code",
   "execution_count": 402,
   "id": "641fc79c-3564-4080-b2a4-ef07988b1c65",
   "metadata": {},
   "outputs": [
    {
     "data": {
      "text/plain": [
       "array([0.02919501, 0.04313859, 0.02919501, ..., 0.02919501, 0.02919501,\n",
       "       0.04313859])"
      ]
     },
     "execution_count": 402,
     "metadata": {},
     "output_type": "execute_result"
    }
   ],
   "source": [
    "# 3. Calcula el error estándar de tus estimaciones.\n",
    "\n",
    "#   1. Usa tu modelo para encontrar $\\hat{p}(X)$\n",
    "p2= predi2(rrs2.x,X2)\n",
    "p2"
   ]
  },
  {
   "cell_type": "code",
   "execution_count": 404,
   "id": "22862547-7f77-4aaa-82a8-e2474f22461b",
   "metadata": {},
   "outputs": [
    {
     "data": {
      "text/plain": [
       "array([0.02834266, 0.04127765, 0.02834266, ..., 0.02834266, 0.02834266,\n",
       "       0.04127765])"
      ]
     },
     "execution_count": 404,
     "metadata": {},
     "output_type": "execute_result"
    }
   ],
   "source": [
    "#   2. Calcula el error $p(1-p)$\n",
    "p_p2_2=p2*(1-p2)\n",
    "p_p2_2"
   ]
  },
  {
   "cell_type": "code",
   "execution_count": 424,
   "id": "9a64c059-f2bb-4fac-b34c-8c1970dd497f",
   "metadata": {},
   "outputs": [
    {
     "data": {
      "text/plain": [
       "array([[0.02834266, 0.        , 0.        , ..., 0.        , 0.        ,\n",
       "        0.        ],\n",
       "       [0.        , 0.04127765, 0.        , ..., 0.        , 0.        ,\n",
       "        0.        ],\n",
       "       [0.        , 0.        , 0.02834266, ..., 0.        , 0.        ,\n",
       "        0.        ],\n",
       "       ...,\n",
       "       [0.        , 0.        , 0.        , ..., 0.02834266, 0.        ,\n",
       "        0.        ],\n",
       "       [0.        , 0.        , 0.        , ..., 0.        , 0.02834266,\n",
       "        0.        ],\n",
       "       [0.        , 0.        , 0.        , ..., 0.        , 0.        ,\n",
       "        0.04127765]])"
      ]
     },
     "execution_count": 424,
     "metadata": {},
     "output_type": "execute_result"
    }
   ],
   "source": [
    "#   3. Calcula la matriz de covarianza\n",
    "V2 = np.diagflat(p2*(1-p2))\n",
    "V2"
   ]
  },
  {
   "cell_type": "code",
   "execution_count": 420,
   "id": "2d4c3306-d47c-4633-b374-efc87860a75b",
   "metadata": {},
   "outputs": [
    {
     "data": {
      "text/plain": [
       "array([[ 0.00500035, -0.00500035],\n",
       "       [-0.00500035,  0.01322936]])"
      ]
     },
     "execution_count": 420,
     "metadata": {},
     "output_type": "execute_result"
    }
   ],
   "source": [
    "cov2 = np.linalg.inv(X2.T @ V2 @ X2)\n",
    "cov2"
   ]
  },
  {
   "cell_type": "code",
   "execution_count": 342,
   "id": "5e8f3b2e-f357-4265-b041-2d364f91b4d7",
   "metadata": {},
   "outputs": [],
   "source": [
    "#   4. Extrae el error estándar"
   ]
  },
  {
   "cell_type": "code",
   "execution_count": 426,
   "id": "8e72496d-44c6-4c6b-85fc-162a403b4075",
   "metadata": {},
   "outputs": [
    {
     "data": {
      "text/plain": [
       "array([0.07071318, 0.11501894])"
      ]
     },
     "execution_count": 426,
     "metadata": {},
     "output_type": "execute_result"
    }
   ],
   "source": [
    "se2 = np.sqrt(np.diag(cov2))\n",
    "se2"
   ]
  },
  {
   "cell_type": "code",
   "execution_count": 435,
   "id": "5a7d6862-940c-4447-b80d-04416ab3188a",
   "metadata": {},
   "outputs": [
    {
     "data": {
      "text/plain": [
       "array([-49.55409497,   3.52017669])"
      ]
     },
     "execution_count": 435,
     "metadata": {},
     "output_type": "execute_result"
    }
   ],
   "source": [
    "# 5. Argumenta si los factores son significativos utilizando el *p-value*.\n",
    "#   1. Utiliza el error estándar para calcular el estadístico *z*\n",
    "z_statistic2=rrs2.x/se2\n",
    "z_statistic2"
   ]
  },
  {
   "cell_type": "code",
   "execution_count": 437,
   "id": "3a8980c2-d54c-4173-adf0-cd3c433a0daa",
   "metadata": {},
   "outputs": [
    {
     "data": {
      "text/plain": [
       "array([0.        , 0.00043126])"
      ]
     },
     "execution_count": 437,
     "metadata": {},
     "output_type": "execute_result"
    }
   ],
   "source": [
    "#   2. Calcula el *p-value*\n",
    "#   3. ¿Son significativos?\n",
    "from scipy.stats import norm\n",
    "\n",
    "p_value2 = 2 * (1 - norm.cdf(abs(z_statistic2)))\n",
    "p_value2"
   ]
  },
  {
   "cell_type": "markdown",
   "id": "78e212e9-c505-4db4-8e7a-e533f11d1286",
   "metadata": {},
   "source": [
    "## Regresión logística múltiple"
   ]
  },
  {
   "cell_type": "markdown",
   "id": "9ac8c6c2-5e15-4684-9bd9-c31854d75fe1",
   "metadata": {},
   "source": [
    "Considera ahora el caso de múltiples factores. Intentemos predecir si la persona dejará de pagar su crédito utilizando toda la información que tenemos disponible. I.e.\n",
    "\n",
    "$$ P(\\text{default}=1|\\text{balance}, \\text{income}, \\text{student}) = \\frac{1}{1 + e^{-(\\beta_0 + \\beta_1  \\text{balance} + \\beta_2 \\text{income} + \\beta_3 \\text{student})}} $$"
   ]
  },
  {
   "cell_type": "markdown",
   "id": "9ae17c0f-e754-4287-bc34-f04396100460",
   "metadata": {},
   "source": [
    "1. Utiliza `minimize` para estimar los coeficientes. Utiliza los siguientes valores como punto de partida:\n",
    "   - $\\beta_0 = -10$\n",
    "   - $\\beta_1 = 0.005$\n",
    "   - $\\beta_2 = 0.003$\n",
    "   - $\\beta_3 = -0.65$\n",
    "2. Calcula el error estándar de tus estimaciones.\n",
    "3. Argumenta si los factores son significativos utilizando el *p-value*. "
   ]
  },
  {
   "cell_type": "code",
   "execution_count": 484,
   "id": "e7e36334-79c4-43c8-9006-da1ddf534dd6",
   "metadata": {},
   "outputs": [
    {
     "data": {
      "text/plain": [
       "  message: Desired error not necessarily achieved due to precision loss.\n",
       "  success: False\n",
       "   status: 2\n",
       "      fun: 785.7724143209932\n",
       "        x: [-1.087e+01  5.736e-03  3.033e-03 -6.467e-01]\n",
       "      nit: 10\n",
       "      jac: [ 7.629e-06  7.324e-04  7.629e-05  1.526e-05]\n",
       " hess_inv: [[ 6.284e+00 -5.840e-04 -1.330e-01 -3.076e+00]\n",
       "            [-5.840e-04  6.326e-08  1.197e-05  2.861e-04]\n",
       "            [-1.330e-01  1.197e-05  2.836e-03  6.509e-02]\n",
       "            [-3.076e+00  2.861e-04  6.509e-02  1.506e+00]]\n",
       "     nfev: 140\n",
       "     njev: 28"
      ]
     },
     "execution_count": 484,
     "metadata": {},
     "output_type": "execute_result"
    }
   ],
   "source": [
    "# Definir variables\n",
    "y_vec = datos[\"default\"] == \"Yes\"\n",
    "bal = np.reshape(datos[\"balance\"], [n, 1])\n",
    "inc = np.reshape(datos[\"income\"] / 1000, [n, 1])  # Normalizando el ingreso\n",
    "stu = np.reshape((datos[\"student\"] == \"Yes\"), [n, 1])\n",
    "ones = np.ones((n, 1))  # Crear una columna de unos\n",
    "\n",
    "# Crear matriz X_T\n",
    "X_T = np.hstack((ones, bal, inc, stu))\n",
    "\n",
    "# Definir función de predicción\n",
    "def pred_3(b_3, X_T): \n",
    "    return 1 / (1 + np.exp(-X_T @ b_3))\n",
    "\n",
    "# Definir función de costo\n",
    "def J_3(b_3, X_T, y): \n",
    "    epsilon = 1e-45\n",
    "    n, p3 = X_T.shape\n",
    "    b = np.reshape(b_3, [p3, 1])\n",
    "    y_pred3 = pred_3(b_3, X_T)\n",
    "    e = y * np.log(y_pred3 + epsilon) + (1 - y) * np.log(1 - y_pred3 + epsilon)\n",
    "    return -np.sum(e)\n",
    "\n",
    "# Coeficientes iniciales\n",
    "b3 = [-10, 0.005, 0.003, -0.65]\n",
    "\n",
    "# Minimizar la función de costo\n",
    "rr3 = opt.minimize(J_3, b3, args=(X_T, y_vec))\n",
    "rr3"
   ]
  },
  {
   "cell_type": "code",
   "execution_count": 506,
   "id": "f6a299ea-0986-4c6a-8522-86247552b77f",
   "metadata": {},
   "outputs": [
    {
     "data": {
      "text/plain": [
       "array([1.42899426e-03, 1.12243776e-03, 9.81334028e-03, ...,\n",
       "       2.89664162e-03, 1.47142974e-01, 3.32399175e-05])"
      ]
     },
     "execution_count": 506,
     "metadata": {},
     "output_type": "execute_result"
    }
   ],
   "source": [
    "# Predicciones\n",
    "pre_3 = pred_3(rr3.x, X_T)\n",
    "pre_3"
   ]
  },
  {
   "cell_type": "code",
   "execution_count": 508,
   "id": "a9f0ac82-d650-45e0-ac84-5c39b50b16cf",
   "metadata": {},
   "outputs": [
    {
     "data": {
      "text/plain": [
       "array([1.42695223e-03, 1.12117789e-03, 9.71703863e-03, ...,\n",
       "       2.88825109e-03, 1.25491919e-01, 3.32388126e-05])"
      ]
     },
     "execution_count": 508,
     "metadata": {},
     "output_type": "execute_result"
    }
   ],
   "source": [
    "# Probabilidad ajustada\n",
    "p_3 = pre_3 * (1 - pre_3)   \n",
    "p_3"
   ]
  },
  {
   "cell_type": "code",
   "execution_count": 510,
   "id": "7e5ab755-1061-475c-b2fd-d1eeb899dab9",
   "metadata": {},
   "outputs": [
    {
     "data": {
      "text/plain": [
       "array([[1.42695223e-03, 0.00000000e+00, 0.00000000e+00, ...,\n",
       "        0.00000000e+00, 0.00000000e+00, 0.00000000e+00],\n",
       "       [0.00000000e+00, 1.12117789e-03, 0.00000000e+00, ...,\n",
       "        0.00000000e+00, 0.00000000e+00, 0.00000000e+00],\n",
       "       [0.00000000e+00, 0.00000000e+00, 9.71703863e-03, ...,\n",
       "        0.00000000e+00, 0.00000000e+00, 0.00000000e+00],\n",
       "       ...,\n",
       "       [0.00000000e+00, 0.00000000e+00, 0.00000000e+00, ...,\n",
       "        2.88825109e-03, 0.00000000e+00, 0.00000000e+00],\n",
       "       [0.00000000e+00, 0.00000000e+00, 0.00000000e+00, ...,\n",
       "        0.00000000e+00, 1.25491919e-01, 0.00000000e+00],\n",
       "       [0.00000000e+00, 0.00000000e+00, 0.00000000e+00, ...,\n",
       "        0.00000000e+00, 0.00000000e+00, 3.32388126e-05]])"
      ]
     },
     "execution_count": 510,
     "metadata": {},
     "output_type": "execute_result"
    }
   ],
   "source": [
    "# Matriz diagonal de varianza\n",
    "V3 = np.diagflat(p_3)\n",
    "V3"
   ]
  },
  {
   "cell_type": "code",
   "execution_count": 512,
   "id": "133d4621-18ae-435e-a21f-19d4b6c7379b",
   "metadata": {},
   "outputs": [
    {
     "data": {
      "text/plain": [
       "array([[ 2.42316385e-01, -8.22305118e-05, -2.67077987e-03,\n",
       "        -5.32026004e-02],\n",
       "       [-8.22305118e-05,  5.37748865e-08, -2.67178205e-08,\n",
       "        -9.73310247e-06],\n",
       "       [-2.67077987e-03, -2.67178205e-08,  6.72836960e-05,\n",
       "         1.51361505e-03],\n",
       "       [-5.32026004e-02, -9.73310247e-06,  1.51361505e-03,\n",
       "         5.58158606e-02]])"
      ]
     },
     "execution_count": 512,
     "metadata": {},
     "output_type": "execute_result"
    }
   ],
   "source": [
    "# Calcular la matriz de covarianza\n",
    "cov_3 = np.linalg.inv(X_T.T @ V3 @ X_T)\n",
    "cov_3"
   ]
  },
  {
   "cell_type": "code",
   "execution_count": 514,
   "id": "109e8b4a-78e2-4c71-82cf-0f6a8c1502a3",
   "metadata": {},
   "outputs": [
    {
     "data": {
      "text/plain": [
       "array([4.92256422e-01, 2.31894128e-04, 8.20266396e-03, 2.36253805e-01])"
      ]
     },
     "execution_count": 514,
     "metadata": {},
     "output_type": "execute_result"
    }
   ],
   "source": [
    "# Errores estándar\n",
    "se_3 = np.sqrt(np.diag(cov_3))\n",
    "se_3"
   ]
  },
  {
   "cell_type": "code",
   "execution_count": 516,
   "id": "5d8316be-d766-4042-91f3-e689087b60dc",
   "metadata": {},
   "outputs": [
    {
     "data": {
      "text/plain": [
       "array([-22.07931951,  24.73660758,   0.36981214,  -2.7374651 ])"
      ]
     },
     "execution_count": 516,
     "metadata": {},
     "output_type": "execute_result"
    }
   ],
   "source": [
    "# Estadísticos t\n",
    "z_statistic3 = rr3.x / se_3\n",
    "z_statistic3"
   ]
  },
  {
   "cell_type": "code",
   "execution_count": 518,
   "id": "96ac5662-9019-4b26-96bd-2e5279c88e77",
   "metadata": {},
   "outputs": [
    {
     "data": {
      "text/plain": [
       "array([0.        , 0.        , 0.71152247, 0.00619147])"
      ]
     },
     "execution_count": 518,
     "metadata": {},
     "output_type": "execute_result"
    }
   ],
   "source": [
    "# Valores p\n",
    "p_value3 = 2 * (1 - norm.cdf(abs(z_statistic3)))\n",
    "p_value3"
   ]
  },
  {
   "cell_type": "code",
   "execution_count": null,
   "id": "d49d4ed6-3732-4630-8445-8ae48f4135e1",
   "metadata": {},
   "outputs": [],
   "source": []
  },
  {
   "cell_type": "markdown",
   "id": "c251eb97-5c7e-470b-b95b-c04a6f8831ff",
   "metadata": {},
   "source": [
    "¿Cómo sabemos qué tan bueno es el modelo? Hay cuatro posibles casos para un problema de clasificación simple:\n",
    "- Era sí y se predijo sí. (Verdadero positivo **TP**)\n",
    "- Era sí y se predijo no. (Falso negativo **FN**)\n",
    "- Era no y se predijo sí. (Falso positivo **FP**)\n",
    "- Era no y se predijo no. (Verdadero negativo **TN**)\n",
    "\n",
    "De esos cuatro casos hay dos donde el modelo es correcto y dos donde el modelo no es correcto."
   ]
  },
  {
   "cell_type": "markdown",
   "id": "c30ff1dd-5ed3-4ec2-8f21-1b11b34db645",
   "metadata": {},
   "source": [
    "![](https://miro.medium.com/v2/resize:fit:720/format:webp/1*IuymDnZpRlkat0qejE26Nw.png)"
   ]
  },
  {
   "cell_type": "markdown",
   "id": "6510780d-6b24-41dc-a755-41daf62396ac",
   "metadata": {},
   "source": [
    "1. Menciona dos ejemplos donde consideres que un falso positivo sea un peor resultado que un falso negativo."
   ]
  },
  {
   "cell_type": "markdown",
   "id": "db97be2c-cd7d-4c44-9459-28286d261904",
   "metadata": {},
   "source": [
    "En la detección de alguna enfermedad, por ejemplo en tiempos recientes el COVID-19 porque te obligaba a aislarte por completo durante 15 días por lo que estabas completamente encerrado por dos semanas."
   ]
  },
  {
   "cell_type": "markdown",
   "id": "9f870dc7-ae32-464f-a22d-d3b073c894ec",
   "metadata": {},
   "source": [
    "En pruebas de ADN, por ejemplo a mi que me gustan las series de criminalistica, se me ocurre que alguien de falso positivo para un crimen que no cometió y por ende termine pagando consecuencias de algo que no hizo."
   ]
  },
  {
   "cell_type": "markdown",
   "id": "a709cdbb-6de3-4117-ba06-59feaab58865",
   "metadata": {},
   "source": []
  },
  {
   "cell_type": "markdown",
   "id": "994601c2-a7ff-4406-9235-d9b6bb5054bd",
   "metadata": {},
   "source": [
    "2. Menciona dos ejemplos donde consideres que un falso negativo sea un peor resultado que un falso positivo."
   ]
  },
  {
   "cell_type": "markdown",
   "id": "91e4ec0d-9d8e-4aba-a590-14f02cf68a47",
   "metadata": {},
   "source": [
    "De forma opuesta en una enfermedad especificamente una infecciosa, retomando el ejemplo anterior del COVID-19, si creías que no tenías la enfermedad pese a tener los sintomas no te cuidabas como deberías e incluso podías llegar a contagiar a personas cercanas."
   ]
  },
  {
   "cell_type": "markdown",
   "id": "15db3797-05d5-4cce-87d9-42c5ecbd3c3e",
   "metadata": {},
   "source": [
    "Otro ejemplo podría ser en eventos deportivos, si marca un falso negativo por ejemplo un detector de metales podría hacer que una persona ingresara al recinto deportivo en cuestión con algún arma que podría poner en peligro a los demás individuos que se encuentran en el lugar."
   ]
  },
  {
   "cell_type": "markdown",
   "id": "3202b95e-cb0d-4891-b07e-5981e67eab3f",
   "metadata": {},
   "source": []
  },
  {
   "cell_type": "markdown",
   "id": "ea6276ff-dad9-4caf-a6ed-a23a60ac7ada",
   "metadata": {},
   "source": [
    "## Referencia\n",
    "\n",
    "James, G., Witten, D., Hastie, T., Tibshirani, R.,, Taylor, J. (2023). An Introduction to Statistical Learning with Applications in Python. Cham: Springer. ISBN: 978-3-031-38746-3"
   ]
  },
  {
   "cell_type": "code",
   "execution_count": null,
   "id": "0dcac216-d8cd-43d8-a9d1-20babb683c9d",
   "metadata": {},
   "outputs": [],
   "source": []
  }
 ],
 "metadata": {
  "kernelspec": {
   "display_name": "Python 3 (ipykernel)",
   "language": "python",
   "name": "python3"
  },
  "language_info": {
   "codemirror_mode": {
    "name": "ipython",
    "version": 3
   },
   "file_extension": ".py",
   "mimetype": "text/x-python",
   "name": "python",
   "nbconvert_exporter": "python",
   "pygments_lexer": "ipython3",
   "version": "3.12.4"
  }
 },
 "nbformat": 4,
 "nbformat_minor": 5
}
