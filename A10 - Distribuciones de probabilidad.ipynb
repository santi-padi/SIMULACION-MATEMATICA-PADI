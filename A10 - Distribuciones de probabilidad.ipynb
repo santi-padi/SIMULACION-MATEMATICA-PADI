{
 "cells": [
  {
   "cell_type": "markdown",
   "id": "e7ee9b27-e90e-49ae-b41d-b5a86f15e4a2",
   "metadata": {},
   "source": [
    "# Actividad en clase 06"
   ]
  },
  {
   "cell_type": "markdown",
   "id": "c5da1803-712f-4169-b0b4-a477a270f858",
   "metadata": {},
   "source": [
    "## Santiago Padillla Arias EXP:750985 Fecha: 17/10/2024"
   ]
  },
  {
   "cell_type": "markdown",
   "id": "c11be30f-4ff9-4f01-acae-400c5e295bfa",
   "metadata": {},
   "source": [
    "### A10 - Distribuciones de probabilidad\n"
   ]
  },
  {
   "cell_type": "markdown",
   "id": "4b907525-6065-4fc1-b4f5-65310e6f168e",
   "metadata": {},
   "source": [
    "1.- Menciona tres ejemplos de variables aleatorias discretas:"
   ]
  },
  {
   "cell_type": "markdown",
   "id": "a764f657-c4d6-4b53-8b2f-ea74c045efc0",
   "metadata": {},
   "source": [
    "Aleatorias discretas (valores completos)\n",
    "- Cantidad de alumnos que asistieron a la clase\n",
    "- Cantidad de celulares vendidos en un dia\n",
    "- Cantidad de arboles que hay en el ITESO"
   ]
  },
  {
   "cell_type": "markdown",
   "id": "d4590a36-c33a-4481-a873-2789ef682f27",
   "metadata": {},
   "source": [
    "2.- Menciona tres ejemplos de variables aleatorias continuas:"
   ]
  },
  {
   "cell_type": "markdown",
   "id": "cd273071-b2bf-4b65-925e-16e78f3e1630",
   "metadata": {},
   "source": [
    "Aleatorias continuas (valores incontables)\n",
    "- Peso de alumnos que asistieron a ITESO hoy\n",
    "- Cantidad de temperatura del dia\n",
    "- Cantidad de tiempo que tarda la gente en llegar al ITESO"
   ]
  },
  {
   "cell_type": "markdown",
   "id": "76fa7cdb-8733-4638-9f07-83b2e5d05b24",
   "metadata": {},
   "source": [
    "3.- Dos equipos juegan una serie de juegos (4 de 7, el que gane 4 juegos gana). Cada equipo tiene un 50% de probabilidad de ganar cada juego (no empates). ¿Cuál es la probabilidad de que la serie se vaya a 7 juegos? (5/16)"
   ]
  },
  {
   "cell_type": "code",
   "execution_count": 52,
   "id": "a56c8520-47ac-4809-9216-073e27ccf043",
   "metadata": {},
   "outputs": [
    {
     "ename": "ValueError",
     "evalue": "high <= 0",
     "output_type": "error",
     "traceback": [
      "\u001b[1;31m---------------------------------------------------------------------------\u001b[0m",
      "\u001b[1;31mValueError\u001b[0m                                Traceback (most recent call last)",
      "Cell \u001b[1;32mIn[52], line 13\u001b[0m\n\u001b[0;32m      9\u001b[0m simulaciones \u001b[38;5;241m=\u001b[39m \u001b[38;5;241m10000\u001b[39m \u001b[38;5;66;03m# Cantidad de simulaciones\u001b[39;00m\n\u001b[0;32m     12\u001b[0m \u001b[38;5;28;01mwhile\u001b[39;00m vic_tot\u001b[38;5;241m!=\u001b[39m\u001b[38;5;241m4\u001b[39m \u001b[38;5;129;01mor\u001b[39;00m vic_tot\u001b[38;5;241m!=\u001b[39m\u001b[38;5;241m-\u001b[39m\u001b[38;5;241m4\u001b[39m: \u001b[38;5;66;03m#Se sigue jugando hasta que no tengas lleguen a 4\u001b[39;00m\n\u001b[1;32m---> 13\u001b[0m     gano \u001b[38;5;241m=\u001b[39m  np\u001b[38;5;241m.\u001b[39mrandom\u001b[38;5;241m.\u001b[39mrandint(vic)\n\u001b[0;32m     14\u001b[0m     \u001b[38;5;28;01mif\u001b[39;00m C0\u001b[38;5;241m>\u001b[39m\u001b[38;5;241m=\u001b[39m\u001b[38;5;241m6\u001b[39m: \u001b[38;5;66;03m# Decidir cuanto apostar dependiendo del dinero\u001b[39;00m\n\u001b[0;32m     15\u001b[0m         a \u001b[38;5;241m=\u001b[39m C0\u001b[38;5;241m/\u001b[39m\u001b[38;5;241m2\u001b[39m \u001b[38;5;66;03m#Si es mas de 6 se apuesta la mitad\u001b[39;00m\n",
      "File \u001b[1;32mnumpy\\\\random\\\\mtrand.pyx:780\u001b[0m, in \u001b[0;36mnumpy.random.mtrand.RandomState.randint\u001b[1;34m()\u001b[0m\n",
      "File \u001b[1;32mnumpy\\\\random\\\\_bounded_integers.pyx:1440\u001b[0m, in \u001b[0;36mnumpy.random._bounded_integers._rand_int32\u001b[1;34m()\u001b[0m\n",
      "File \u001b[1;32mnumpy\\\\random\\\\_bounded_integers.pyx:411\u001b[0m, in \u001b[0;36mnumpy.random._bounded_integers._rand_int32_broadcast\u001b[1;34m()\u001b[0m\n",
      "\u001b[1;31mValueError\u001b[0m: high <= 0"
     ]
    }
   ],
   "source": [
    "equipo1 = 1\n",
    "equipo2 = -1\n",
    "import numpy as np\n",
    "import matplotlib.pyplot as plt\n",
    "\n",
    "lista = [] # lista para guardar las listas\n",
    "vic = [-1, 1] # Valores de la victoria de cada equipo en lugar de -1 seria equipo 1 y en lugar de 1 seria equipo 2\n",
    "simulaciones = 10000 # Cantidad de simulaciones\n",
    "equipo1=0\n",
    "equipo2=0\n",
    "\n",
    "while equipo1!=4 or equipo2!=-4: #Se sigue jugando hasta que no tengas lleguen a 4\n",
    "    gano =  np.random.randint(vic)\n",
    "    if vic=-1: # Decidir cuanto apostar dependiendo del dinero\n",
    "        equipo1 = C0/2 #Si es mas de 6 se apuesta la mitad\n",
    "    else:\n",
    "        a = 2 #Si es menos de 6 se apuesta dos pesos\n",
    "                \n",
    "    apuesta = np.random.choice(moneda) # Se pone el resultado del volado, -1 pierdes, mas 1 ganas\n",
    "    C0+= apuesta * a #Actualiza el capital que se tiene\n",
    "    historial.append(C0) #Va guardando el historial luego de cada apuesta\n",
    "lista.append(historial)\n",
    "    \n",
    "v1 = np.random.randint(1,7,n)\n",
    "v2 = np.random.randint(1,7,n)\n",
    "\n",
    "exito = (d3 > d2) & (d2 > d1)\n",
    "exito.sum() / n"
   ]
  },
  {
   "cell_type": "markdown",
   "id": "428d37a5-0a42-4679-aae8-8a45f2d9ab91",
   "metadata": {},
   "source": [
    "4.- Una en mil personas tienen una enfermedad H, y la prueba de la enfermedad sale correcta 98% de las veces cuando la persona está enferma. Por otro lado, si la persona está enferma la prueba tiene un error del 1%. Si alguien se hace una prueba y sale positiva, ¿cuál es la probabilidad de que tengan la enfermedad? (98/1097)"
   ]
  },
  {
   "cell_type": "markdown",
   "id": "2384f922-fb48-498f-91a6-9454f7a5ce16",
   "metadata": {},
   "source": [
    "- P(D=1) = 0.1%\n",
    "- P(T=1|D=1) = 98%\n",
    "- P(T=1|D=0) = 1%"
   ]
  },
  {
   "cell_type": "code",
   "execution_count": 63,
   "id": "c2a07a1d-97af-4883-b84a-b8a1ce946f5f",
   "metadata": {},
   "outputs": [
    {
     "data": {
      "text/plain": [
       "0.08933454876937101"
      ]
     },
     "execution_count": 63,
     "metadata": {},
     "output_type": "execute_result"
    }
   ],
   "source": [
    "import numpy as np\n",
    "n = 10000\n",
    "personas = np.random.choice([0,1], n, p=[0.999, 0.001])\n",
    "t1_d1 = np.random.choice([0,1], personas.sum(), p=[0.02, 0.98])\n",
    "t1_d0 = np.random.choice([0,1], n - personas.sum(), p=[0.99, 0.01])\n",
    "t1_d1.sum()/(t1_d1.sum() + t1_d0.sum())\n",
    "0.104\n",
    "# 1000000 1000 se enferman 980 salen positivas 20 salen negativas 999000 sanas 9990 salen positivas 989010 salen negativas\n",
    "\n",
    "980/(980+9990)"
   ]
  },
  {
   "cell_type": "markdown",
   "id": "43cf398f-d6e0-4670-901a-bc9194b78382",
   "metadata": {},
   "source": [
    "5.- Tres amigos diferentes te dijeron que está lloviendo, y cada persona tiene 1/3 de probabilidad de mentir. Si el pronóstico del clima dijo que la probabilidad de lluvia era 25%, ¿cuál es la probabilidad de que sí esté lloviendo? (8/11)"
   ]
  },
  {
   "cell_type": "code",
   "execution_count": null,
   "id": "016a2028-8768-450e-91d6-d1471f8b17e4",
   "metadata": {},
   "outputs": [],
   "source": []
  },
  {
   "cell_type": "markdown",
   "id": "52933898-3cee-4950-a55d-46b73ac8f850",
   "metadata": {},
   "source": [
    "6.- Resuelve y añade a esta actividad los ejercicios que están en el notebook \"Distribuciones de probabilidad.ipynb\""
   ]
  },
  {
   "cell_type": "code",
   "execution_count": null,
   "id": "a40d53ee-bbe8-4c11-910c-4570f531a50b",
   "metadata": {},
   "outputs": [],
   "source": []
  },
  {
   "cell_type": "markdown",
   "id": "edea0d15-3397-4520-953f-915ccbc9c9de",
   "metadata": {},
   "source": [
    "### Distribuciones de probabilidad"
   ]
  },
  {
   "cell_type": "markdown",
   "id": "4a42cf93-1cdb-4110-b46f-e39c4a4f9c26",
   "metadata": {},
   "source": [
    "3.- Tienes una baraja con 100 cartas, con valores del 1 al 100. Tomas dos cartas aleatoriamente sin reemplazo. ¿Cuál es la probabilidad de que una carta valga el doble que la otra?"
   ]
  },
  {
   "cell_type": "markdown",
   "id": "aa889c23-051b-4082-ae0c-3141a167ed35",
   "metadata": {},
   "source": [
    "4.- Tienes dos monedas: una con águila y sello, y la otra con doble sello. Escoges una al azar y la tiras 5 veces; cae sello 5 veces. ¿Cuál es la probabilidad de que tomaste la moneda con doble sello?"
   ]
  },
  {
   "cell_type": "markdown",
   "id": "5b6b37ba-0a7e-4a39-9775-9692384b2d99",
   "metadata": {},
   "source": [
    "5.- Dos personas juegan tenis y están empatadas en 40-40. Esto significa que el set continúa hasta que alguien haya anotado 2 puntos sobre el otro:\n",
    "- Si un jugador anota la puntuación es A-40\n",
    "- Si el segundo jugador anota la puntuación regresa a 40-40\n",
    "\n",
    "El jugador 1 tiene una probabilidad de 60\\% de ganar cada punto, mientras que la probabilidad del segundo jugador es de 40\\%. ¿Cuál es la probabilidad de que el primer jugador gane el set?"
   ]
  },
  {
   "cell_type": "code",
   "execution_count": null,
   "id": "81607bae-3b3a-46eb-b84a-acfd8acab8c1",
   "metadata": {},
   "outputs": [],
   "source": []
  }
 ],
 "metadata": {
  "kernelspec": {
   "display_name": "Python 3 (ipykernel)",
   "language": "python",
   "name": "python3"
  },
  "language_info": {
   "codemirror_mode": {
    "name": "ipython",
    "version": 3
   },
   "file_extension": ".py",
   "mimetype": "text/x-python",
   "name": "python",
   "nbconvert_exporter": "python",
   "pygments_lexer": "ipython3",
   "version": "3.12.4"
  }
 },
 "nbformat": 4,
 "nbformat_minor": 5
}
