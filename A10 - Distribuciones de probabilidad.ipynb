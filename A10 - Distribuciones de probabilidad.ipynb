{
 "cells": [
  {
   "cell_type": "markdown",
   "id": "e7ee9b27-e90e-49ae-b41d-b5a86f15e4a2",
   "metadata": {},
   "source": [
    "# Actividad en clase 10"
   ]
  },
  {
   "cell_type": "markdown",
   "id": "c5da1803-712f-4169-b0b4-a477a270f858",
   "metadata": {},
   "source": [
    "## Santiago Padillla Arias EXP:750985 Fecha: 17/10/2024"
   ]
  },
  {
   "cell_type": "markdown",
   "id": "c11be30f-4ff9-4f01-acae-400c5e295bfa",
   "metadata": {},
   "source": [
    "### A10 - Distribuciones de probabilidad\n"
   ]
  },
  {
   "cell_type": "markdown",
   "id": "4b907525-6065-4fc1-b4f5-65310e6f168e",
   "metadata": {},
   "source": [
    "1.- Menciona tres ejemplos de variables aleatorias discretas:"
   ]
  },
  {
   "cell_type": "markdown",
   "id": "a764f657-c4d6-4b53-8b2f-ea74c045efc0",
   "metadata": {},
   "source": [
    "Aleatorias discretas (valores completos)\n",
    "- Cantidad de alumnos que asistieron a la clase\n",
    "- Cantidad de celulares vendidos en un dia\n",
    "- Cantidad de arboles que hay en el ITESO"
   ]
  },
  {
   "cell_type": "markdown",
   "id": "d4590a36-c33a-4481-a873-2789ef682f27",
   "metadata": {},
   "source": [
    "2.- Menciona tres ejemplos de variables aleatorias continuas:"
   ]
  },
  {
   "cell_type": "markdown",
   "id": "cd273071-b2bf-4b65-925e-16e78f3e1630",
   "metadata": {},
   "source": [
    "Aleatorias continuas (valores incontables)\n",
    "- Peso de alumnos que asistieron a ITESO hoy\n",
    "- Cantidad de temperatura del dia\n",
    "- Cantidad de tiempo que tarda la gente en llegar al ITESO"
   ]
  },
  {
   "cell_type": "markdown",
   "id": "76fa7cdb-8733-4638-9f07-83b2e5d05b24",
   "metadata": {},
   "source": [
    "3.- Dos equipos juegan una serie de juegos (4 de 7, el que gane 4 juegos gana). Cada equipo tiene un 50% de probabilidad de ganar cada juego (no empates). ¿Cuál es la probabilidad de que la serie se vaya a 7 juegos? (5/16)"
   ]
  },
  {
   "cell_type": "code",
   "execution_count": 9,
   "id": "a56c8520-47ac-4809-9216-073e27ccf043",
   "metadata": {},
   "outputs": [
    {
     "data": {
      "text/plain": [
       "0.317"
      ]
     },
     "execution_count": 9,
     "metadata": {},
     "output_type": "execute_result"
    }
   ],
   "source": [
    "import numpy as np\n",
    "import matplotlib.pyplot as plt\n",
    "Lista = []\n",
    "simulaciones = 1000 # Cantidad de simulaciones\n",
    "# def ejercicio3():\n",
    "vic = [-1, 1] # Valores de la victoria de cada equipo en lugar de -1 seria equipo 1 y en lugar de 1 seria equipo 2\n",
    "for i in range(simulaciones) :\n",
    "    equipo1=0\n",
    "    equipo2=0\n",
    "    partidos = 0\n",
    "    while equipo1!=4 and equipo2!=4: #Se sigue jugando hasta que lleguen a 4\n",
    "        gano =  np.random.choice(vic)\n",
    "        if gano==-1: # Cuando se sabe quien gano se le suma uno a su \"record\"\n",
    "            equipo1 = equipo1 + 1\n",
    "            partidos = partidos + 1\n",
    "        else: # Cuando se sabe quien gano se le suma uno a su \"record\"\n",
    "            equipo2 = equipo2 + 1\n",
    "            partidos = partidos + 1\n",
    "            \n",
    "    if partidos == 7:\n",
    "        Lista.append(1)\n",
    "    else :\n",
    "        Lista.append(0)\n",
    "    \n",
    "np.mean(Lista)"
   ]
  },
  {
   "cell_type": "code",
   "execution_count": 10,
   "id": "6ada73df-447c-4778-9d61-0a315e9dc800",
   "metadata": {},
   "outputs": [
    {
     "data": {
      "text/plain": [
       "0.3125"
      ]
     },
     "execution_count": 10,
     "metadata": {},
     "output_type": "execute_result"
    }
   ],
   "source": [
    "5/16"
   ]
  },
  {
   "cell_type": "markdown",
   "id": "428d37a5-0a42-4679-aae8-8a45f2d9ab91",
   "metadata": {},
   "source": [
    "4.- Una en mil personas tienen una enfermedad H, y la prueba de la enfermedad sale correcta 98% de las veces cuando la persona está enferma. Por otro lado, si la persona está enferma la prueba tiene un error del 1%. Si alguien se hace una prueba y sale positiva, ¿cuál es la probabilidad de que tengan la enfermedad? (98/1097)"
   ]
  },
  {
   "cell_type": "markdown",
   "id": "2384f922-fb48-498f-91a6-9454f7a5ce16",
   "metadata": {},
   "source": [
    "- P(D=1) = 0.1%\n",
    "- P(T=1|D=1) = 98%\n",
    "- P(T=1|D=0) = 1%"
   ]
  },
  {
   "cell_type": "code",
   "execution_count": 13,
   "id": "c2a07a1d-97af-4883-b84a-b8a1ce946f5f",
   "metadata": {},
   "outputs": [
    {
     "data": {
      "text/plain": [
       "0.08933454876937101"
      ]
     },
     "execution_count": 13,
     "metadata": {},
     "output_type": "execute_result"
    }
   ],
   "source": [
    "import numpy as np\n",
    "n = 10000\n",
    "personas = np.random.choice([0,1], n, p=[0.999, 0.001])\n",
    "t1_d1 = np.random.choice([0,1], personas.sum(), p=[0.02, 0.98])\n",
    "t1_d0 = np.random.choice([0,1], n - personas.sum(), p=[0.99, 0.01])\n",
    "t1_d1.sum()/(t1_d1.sum() + t1_d0.sum())\n",
    "0.104\n",
    "# 1000000 1000 se enferman 980 salen positivas 20 salen negativas 999000 sanas 9990 salen positivas 989010 salen negativas\n",
    "\n",
    "980/(980+9990)"
   ]
  },
  {
   "cell_type": "markdown",
   "id": "43cf398f-d6e0-4670-901a-bc9194b78382",
   "metadata": {},
   "source": [
    "5.- Tres amigos diferentes te dijeron que está lloviendo, y cada persona tiene 1/3 de probabilidad de mentir. Si el pronóstico del clima dijo que la probabilidad de lluvia era 25%, ¿cuál es la probabilidad de que sí esté lloviendo? (8/11)"
   ]
  },
  {
   "cell_type": "code",
   "execution_count": 5,
   "id": "016a2028-8768-450e-91d6-d1471f8b17e4",
   "metadata": {},
   "outputs": [
    {
     "data": {
      "text/plain": [
       "0.7211155378486056"
      ]
     },
     "execution_count": 5,
     "metadata": {},
     "output_type": "execute_result"
    }
   ],
   "source": [
    "# VISTO EN ASESORIA \n",
    "import numpy as np\n",
    "\n",
    "\n",
    "p_lluvia = 0.25  # Probabilidad de que llueva\n",
    "simulaciones = 10000  # Número de simulaciones\n",
    "\n",
    "# Simulación de la lluvia: 0 = no llueve, 1 = llueve\n",
    "# Se generan n simulaciones basadas en la probabilidad de lluvia\n",
    "lluvia = np.random.choice([0, 1], simulaciones, p=[1 - p_lluvia, p_lluvia])\n",
    "\n",
    "\n",
    "p_verdad_llueve = 2/3  # Probabilidad de que un amigo diga que sí llueve si realmente está lloviendo\n",
    "p_mentira_no_llueve = 1/3  # Probabilidad de que un amigo diga que no llueve si realmente no está lloviendo\n",
    "\n",
    "\n",
    "# Simulación de las respuestas de 3 amigos cuando sí llueve\n",
    "amigos_llueve = np.random.choice([0, 1], (simulaciones, 3), p=[1 - p_verdad_llueve, p_verdad_llueve])\n",
    "# La matriz amigos_llueve tiene n filas (simulaciones) y 3 columnas (respuestas de los amigos)\n",
    "\n",
    "\n",
    "caso1 = ((amigos_llueve.sum(axis=1) == 3) & (lluvia == 1)).sum() # Contar casos donde los 3 amigos dijeron que sí llueve y efectivamente llovió\n",
    "\n",
    "\n",
    "# Simulación de las respuestas de 3 amigos cuando no llueve\n",
    "amigos_no_llueve = np.random.choice([0, 1], (simulaciones, 3), p=[1 - p_mentira_no_llueve, p_mentira_no_llueve])\n",
    "\n",
    "caso2 = ((amigos_no_llueve.sum(axis=1) == 3) & (lluvia == 0)).sum() # Contar casos donde los 3 amigos dijeron que sí llueve y efectivamente no llovió\n",
    "\n",
    "\n",
    "# Calcular la probabilidad de que, cuando los amigos dicen que sí llueve, realmente esté lloviendo\n",
    "probabilidad = caso1 / (caso1 + caso2)\n",
    "probabilidad"
   ]
  },
  {
   "cell_type": "markdown",
   "id": "52933898-3cee-4950-a55d-46b73ac8f850",
   "metadata": {},
   "source": [
    "6.- Resuelve y añade a esta actividad los ejercicios que están en el notebook \"Distribuciones de probabilidad.ipynb\""
   ]
  },
  {
   "cell_type": "markdown",
   "id": "edea0d15-3397-4520-953f-915ccbc9c9de",
   "metadata": {},
   "source": [
    "### Distribuciones de probabilidad"
   ]
  },
  {
   "cell_type": "markdown",
   "id": "4d5acad6-4979-4e60-b754-45ccecac5705",
   "metadata": {},
   "source": [
    "1.- Avientas un dado tres veces. ¿Cuál es la probabilidad de tirar dos 6 seguidos?"
   ]
  },
  {
   "cell_type": "code",
   "execution_count": 78,
   "id": "3e5c0fcb-8e0f-47fa-b53e-4c05acc974f7",
   "metadata": {},
   "outputs": [
    {
     "data": {
      "text/plain": [
       "0.0510668"
      ]
     },
     "execution_count": 78,
     "metadata": {},
     "output_type": "execute_result"
    }
   ],
   "source": [
    "import numpy as np\n",
    "\n",
    "n = 10000000\n",
    "\n",
    "np.random.seed(10)\n",
    "\n",
    "d1 = np.random.randint(1,7,n)\n",
    "d2 = np.random.randint(1,7,n)\n",
    "d3 = np.random.randint(1,7,n)\n",
    "\n",
    "caso1 = ((d1 == 6) & (d2 == 6) & (d3 != 6))\n",
    "caso2 = ((d2 == 6) & (d3 == 6) & (d1 != 6))\n",
    "caso3  = ((d1 == 6) & (d2 == 6) & (d3 == 6))\n",
    "(caso1.sum() + caso2.sum() + caso3.sum()) / n"
   ]
  },
  {
   "cell_type": "code",
   "execution_count": 80,
   "id": "053f590a-a838-4ae7-887b-e49ab26d6fa6",
   "metadata": {},
   "outputs": [
    {
     "data": {
      "text/plain": [
       "0.05092592592592592"
      ]
     },
     "execution_count": 80,
     "metadata": {},
     "output_type": "execute_result"
    }
   ],
   "source": [
    "11/216 "
   ]
  },
  {
   "cell_type": "markdown",
   "id": "6e3312ca-c1e6-4fb4-ba47-30a0c19b044d",
   "metadata": {},
   "source": [
    "2.- Avientas tres dados, uno tras otro. ¿Cuál es la probabilidad de obtener número sólo en orden ascendente?"
   ]
  },
  {
   "cell_type": "code",
   "execution_count": 74,
   "id": "a48c271a-aedb-493a-87cb-c9ed92602f76",
   "metadata": {},
   "outputs": [
    {
     "data": {
      "text/plain": [
       "0.093112"
      ]
     },
     "execution_count": 74,
     "metadata": {},
     "output_type": "execute_result"
    }
   ],
   "source": [
    "import numpy as np\n",
    "\n",
    "n = 1000000\n",
    "np.random.seed(10)\n",
    "\n",
    "d1 = np.random.randint(1,7,n)\n",
    "d2 = np.random.randint(1,7,n)\n",
    "d3 = np.random.randint(1,7,n)\n",
    "\n",
    "exito = (d3 > d2) & (d2 > d1)\n",
    "exito.sum() / n"
   ]
  },
  {
   "cell_type": "code",
   "execution_count": 76,
   "id": "68a4d656-ddb9-4f16-8155-2fe167aee8ea",
   "metadata": {},
   "outputs": [
    {
     "data": {
      "text/plain": [
       "0.09259259259259259"
      ]
     },
     "execution_count": 76,
     "metadata": {},
     "output_type": "execute_result"
    }
   ],
   "source": [
    "5/54"
   ]
  },
  {
   "cell_type": "markdown",
   "id": "4a42cf93-1cdb-4110-b46f-e39c4a4f9c26",
   "metadata": {},
   "source": [
    "3.- Tienes una baraja con 100 cartas, con valores del 1 al 100. Tomas dos cartas aleatoriamente sin reemplazo. ¿Cuál es la probabilidad de que una carta valga el doble que la otra?"
   ]
  },
  {
   "cell_type": "code",
   "execution_count": 21,
   "id": "936f4fe5-65ef-4e3b-a52a-87975153ef58",
   "metadata": {},
   "outputs": [
    {
     "data": {
      "text/plain": [
       "0.011"
      ]
     },
     "execution_count": 21,
     "metadata": {},
     "output_type": "execute_result"
    }
   ],
   "source": [
    "import numpy as np\n",
    "import matplotlib.pyplot as plt\n",
    "\n",
    "# Inicialización de contadores\n",
    "carta1 = 0\n",
    "carta2 = 0\n",
    "num_sim = 10000\n",
    "\n",
    "# Bucle para ejecutar la simulación varias veces\n",
    "for i in range(num_sim):\n",
    "    # Selección aleatoria de dos cartas entre 1 y 100 sin reemplazo\n",
    "    seleccion = np.random.choice(range(1, 101), size=2, replace=False)\n",
    "\n",
    "    # Comprobación de condiciones de multiplicación entre cartas\n",
    "    if seleccion[0] == seleccion[1] * 2 :\n",
    "        carta1 = carta1 + 1\n",
    "    elif 2 * seleccion[0] == seleccion[1]:\n",
    "        carta2 = carta2 + 1\n",
    "\n",
    "# Cálculo de la probabilidad basada en las simulaciones\n",
    "probabilidad = (carta1 + carta2) / num_sim\n",
    "probabilidad"
   ]
  },
  {
   "cell_type": "markdown",
   "id": "aa889c23-051b-4082-ae0c-3141a167ed35",
   "metadata": {},
   "source": [
    "4.- Tienes dos monedas: una con águila y sello, y la otra con doble sello. Escoges una al azar y la tiras 5 veces; cae sello 5 veces. ¿Cuál es la probabilidad de que tomaste la moneda con doble sello?"
   ]
  },
  {
   "cell_type": "code",
   "execution_count": 64,
   "id": "b8b2fca5-9ecf-4c9b-aee8-822a1ec99e40",
   "metadata": {},
   "outputs": [
    {
     "data": {
      "text/plain": [
       "0.9714673913043478"
      ]
     },
     "execution_count": 64,
     "metadata": {},
     "output_type": "execute_result"
    }
   ],
   "source": [
    "import numpy as np\n",
    "\n",
    "# Definimos el número de simulaciones\n",
    "simulaciones = 10000\n",
    "\n",
    "# Contadores para registrar las veces que tenemos 5 sellos\n",
    "cinco_sellos_M2 = 0  # Casos en que elegimos M2 y obtenemos 5 sellos\n",
    "cinco_sellos = 0  # Casos en los que obtenemos 5 sellos\n",
    "\n",
    "for i in range(simulaciones):\n",
    "    moneda = np.random.choice([0, 1])  # 0 representa Águila-Sello, 1 representa Sello-Sello (M2)\n",
    "\n",
    "    # Se lanza 5 veces la moneda escogida\n",
    "    if moneda == 0:  # Moneda1=Águila-Sello=0-1\n",
    "        resultados = np.random.choice([0, 1], size=5, p=[0.5, 0.5])\n",
    "    else:  # Moneda2=Sello-Sello\n",
    "        resultados = [1] * 5  # Moneda con ambos lados siendo 'Sello'\n",
    "\n",
    "    # Comprobamos si todos los lanzamientos son sello\n",
    "    if np.sum(resultados) == 5:\n",
    "        cinco_sellos += 1\n",
    "        if moneda == 1:\n",
    "            cinco_sellos_M2 += 1\n",
    "\n",
    "# Calculamos la probabilidad de haber elegido la moneda M2, dado que se obtuvieron 5 sellos\n",
    "probabilidad = cinco_sellos_M2 / cinco_sellos\n",
    "probabilidad"
   ]
  },
  {
   "cell_type": "markdown",
   "id": "5b6b37ba-0a7e-4a39-9775-9692384b2d99",
   "metadata": {},
   "source": [
    "5.- Dos personas juegan tenis y están empatadas en 40-40. Esto significa que el set continúa hasta que alguien haya anotado 2 puntos sobre el otro:\n",
    "- Si un jugador anota la puntuación es A-40\n",
    "- Si el segundo jugador anota la puntuación regresa a 40-40\n",
    "\n",
    "El jugador 1 tiene una probabilidad de 60\\% de ganar cada punto, mientras que la probabilidad del segundo jugador es de 40\\%. ¿Cuál es la probabilidad de que el primer jugador gane el set?"
   ]
  },
  {
   "cell_type": "code",
   "execution_count": 56,
   "id": "81607bae-3b3a-46eb-b84a-acfd8acab8c1",
   "metadata": {},
   "outputs": [
    {
     "data": {
      "text/plain": [
       "0.6868"
      ]
     },
     "execution_count": 56,
     "metadata": {},
     "output_type": "execute_result"
    }
   ],
   "source": [
    "import numpy as np\n",
    "\n",
    "simulaciones = 10000\n",
    "matchpoint = 41\n",
    "# Probabilidades de ganar el punto\n",
    "p_jug1 = 0.6  \n",
    "p_jug2 = 0.4  \n",
    "\n",
    "# Victorias de set\n",
    "v_j1 = 0\n",
    "v_j2 = 0\n",
    "\n",
    "for i in range(simulaciones):\n",
    "    puntos_j1 = 40\n",
    "    puntos_j2 = 40\n",
    "    \n",
    "    while puntos_j1 < 42 and puntos_j2 < 42: # Debe haber diferencia de dos\n",
    "        ganador = np.random.choice([1, 2], p=[p_jug1, p_jug2])\n",
    "        \n",
    "        if ganador == 1:  # Jugador 1 gana\n",
    "            puntos_j1 = puntos_j1 + 1\n",
    "        else:  # Jugador 2 gana \n",
    "            puntos_j2 = puntos_j2 + 1\n",
    "\n",
    "        # Volvemos a empate si cada uno gana, es decir 41-41  \n",
    "        if puntos_j1 == matchpoint and puntos_j2 == matchpoint: \n",
    "            puntos_j1 = puntos_j1 - 1 # pasa a ser 40-40\n",
    "            puntos_j2 = puntos_j2 - 1 # pasa a ser 40-40\n",
    "        # Ver si alguien gano el set\n",
    "        elif puntos_j1 == 42:\n",
    "            v_j1 = v_j1 + 1\n",
    "            break\n",
    "        elif puntos_j2 == 42:\n",
    "            v_j2 = v_j1 + 1\n",
    "            break\n",
    "\n",
    "# Probabilidad del jugador 1 de ganar el set\n",
    "probabilidad = v_j1 / simulaciones\n",
    "probabilidad"
   ]
  }
 ],
 "metadata": {
  "kernelspec": {
   "display_name": "Python 3 (ipykernel)",
   "language": "python",
   "name": "python3"
  },
  "language_info": {
   "codemirror_mode": {
    "name": "ipython",
    "version": 3
   },
   "file_extension": ".py",
   "mimetype": "text/x-python",
   "name": "python",
   "nbconvert_exporter": "python",
   "pygments_lexer": "ipython3",
   "version": "3.12.4"
  }
 },
 "nbformat": 4,
 "nbformat_minor": 5
}
