{
 "cells": [
  {
   "cell_type": "markdown",
   "id": "3ec68c05-38af-4959-8d97-8f62e7ccf3fb",
   "metadata": {},
   "source": [
    "# T01 - Markdown"
   ]
  },
  {
   "cell_type": "markdown",
   "id": "2ff81b60-8eac-439f-9d49-f1c583fd3506",
   "metadata": {},
   "source": [
    "## Santiago Padillla Arias EXP:750985 Fecha: 12/08/2024"
   ]
  },
  {
   "cell_type": "markdown",
   "id": "9a6444ab-a21c-46d0-9607-899a40a237b3",
   "metadata": {},
   "source": [
    "## Fecha: 12/08/2024"
   ]
  },
  {
   "cell_type": "markdown",
   "id": "70386fb2-0338-49b1-a8db-9a908df8891b",
   "metadata": {},
   "source": [
    "\n"
   ]
  },
  {
   "cell_type": "markdown",
   "id": "b3ca35f8-ba1d-4d33-b315-58b61e2b2988",
   "metadata": {},
   "source": [
    "\n"
   ]
  },
  {
   "cell_type": "markdown",
   "id": "809afbc2-a2f5-4646-8480-75e71081941d",
   "metadata": {},
   "source": [
    "### <span style=\"color:red\"> GEOMÁTICA</span>"
   ]
  },
  {
   "cell_type": "markdown",
   "id": "8ebf3c2a-0470-48c2-87c1-5ffb8833dd17",
   "metadata": {},
   "source": [
    "\n"
   ]
  },
  {
   "cell_type": "markdown",
   "id": "fafec2c2-1699-41cc-b751-3c209ec3b581",
   "metadata": {},
   "source": [
    "**INTRODUCCIÓN**"
   ]
  },
  {
   "cell_type": "markdown",
   "id": "c3846cf1-7e0b-4060-b26a-64fb3ba6639b",
   "metadata": {},
   "source": [
    "Para comenzar a hablar de cualquier tema es indispensable saber con claridad que es. En este caso la *Geomática* se refiere al estudio del territorio a través de la informática; \"geo\" significa Tierra, mientras que \"mática\" hace referencia a la informática.\n"
   ]
  },
  {
   "cell_type": "markdown",
   "id": "e42fcf41-d849-49c5-8ecb-6d945137b98c",
   "metadata": {},
   "source": [
    "Para poder llevar a cabo los estudios con relación a la Tierra se emplean un conjunto de herramientas que integran y permiten organizar, manipular, analizar y organizar información del territorio, así como aspectos sociales, económicos y ambientales de forma eficaz, estos sistemas son llamados sistemas de información geográfica o bien sus siglas SIG ~~(también llamados GIS en inglés)~~.\n"
   ]
  },
  {
   "cell_type": "markdown",
   "id": "67ed3801-151d-4178-a445-668bebf8355a",
   "metadata": {},
   "source": [
    "\n",
    "\n"
   ]
  },
  {
   "cell_type": "markdown",
   "id": "10ee21be-882a-4bd4-b1b8-0e41fd3c7867",
   "metadata": {},
   "source": [
    "Dentro de las problemáticas a las que ayudan a dar respuesta los SIG están:elos\r\n"
   ]
  },
  {
   "cell_type": "markdown",
   "id": "7ae59b89-72bd-4f70-85c5-11511f8cabdf",
   "metadata": {},
   "source": [
    "1. Localización\n",
    "2. Condición\n",
    "3. Tendencia\n",
    "4. Rutas\n",
    "5. Pautas\n",
    "6. Modelos"
   ]
  },
  {
   "cell_type": "markdown",
   "id": "5afdb7ec-523d-4e74-b68d-44db57880626",
   "metadata": {},
   "source": [
    "En cuanto a la representación de datos de los SIG se pueden almacenar en:\n",
    "- <u>Raster: </u>\n",
    "  - Se trata de cualquier imagen digital representada por mallas.\n",
    "- <u>Vectorial: </u>\n",
    "  - Destaca la precisión de la localización de los elementos y los fenomenos a representar tienen límites definidos."
   ]
  },
  {
   "cell_type": "markdown",
   "id": "72e51d55-d78b-405f-95cd-4322bf07284b",
   "metadata": {},
   "source": [
    "\n",
    "\n",
    "\n"
   ]
  },
  {
   "cell_type": "markdown",
   "id": "17d3a6c7-749e-4634-8924-bda3e45e3d25",
   "metadata": {},
   "source": [
    "![](https://geomaticaupv.webs.upv.es/web/wp-content/uploads/2013/04/collage-1024x709.png )"
   ]
  },
  {
   "cell_type": "markdown",
   "id": "e556084c-e3dc-4e2b-8158-c7791012bbd4",
   "metadata": {},
   "source": [
    "Para finalizar con esta tarea añadire ecuaciones aunque no tengan que ver con el tema previo:\n",
    "\n",
    "\n",
    "$$ E=mc^{2}$$"
   ]
  },
  {
   "cell_type": "markdown",
   "id": "abbb2610-44f9-4a4f-85e3-038ffb7a5f2d",
   "metadata": {},
   "source": [
    "$$\\frac {35x^{2}–46x+\\sqrt {100}3}{2x^{2}–3x}=20$$"
   ]
  }
 ],
 "metadata": {
  "kernelspec": {
   "display_name": "Python 3 (ipykernel)",
   "language": "python",
   "name": "python3"
  },
  "language_info": {
   "codemirror_mode": {
    "name": "ipython",
    "version": 3
   },
   "file_extension": ".py",
   "mimetype": "text/x-python",
   "name": "python",
   "nbconvert_exporter": "python",
   "pygments_lexer": "ipython3",
   "version": "3.12.4"
  }
 },
 "nbformat": 4,
 "nbformat_minor": 5
}
