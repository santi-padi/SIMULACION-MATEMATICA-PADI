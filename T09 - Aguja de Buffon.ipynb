{
 "cells": [
  {
   "cell_type": "markdown",
   "id": "457a5e3c-5512-497c-a3e6-082a4468fb2e",
   "metadata": {},
   "source": [
    "# T09 - Aguja de Buffon\n"
   ]
  },
  {
   "cell_type": "markdown",
   "id": "ba13c736-1e1b-4c73-a339-08605c4feeb8",
   "metadata": {},
   "source": [
    "## Santiago Padillla Arias EXP:750985 Fecha: 02/11/2024"
   ]
  },
  {
   "cell_type": "markdown",
   "id": "c39a5610-b9b3-4a33-86a2-a16a019805ba",
   "metadata": {},
   "source": [
    "Investiga el problema de la aguja de Buffon.\n",
    "\n",
    "## ¿De qué trata?\n",
    "  - El problema de la aguja de Buffon, se trata de un problema planteado por el naturalista francés Georges-Louis Leclerc, Conde de Buffon en el siglo XVIII. Es un clásico del área de la probabilidad y de igual manera en el sector de la geometría.\n",
    "  - A manera sencilla: Se trata de un suelo compuesto por tablas de igual ancho, que están separadas por ranuras paralelas. Si se lanzará una aguja al azar sobre el suelo antes mencionado, ir viendo cuál es la probabilidad de que la aguja cruce alguna de las ranuras.\n",
    "  -  Buffon demostró que la probabilidad de que este suceso pase (la aguja cruce las ranuras) está directamente relacionada con el valor de  $\\pi $.     "
   ]
  },
  {
   "cell_type": "markdown",
   "id": "cb5b6ec0-c03c-4e78-98bc-e1f750abf5b0",
   "metadata": {},
   "source": [
    "-  Así que a manera resumida La Aguja de Buffon es un problema que requiere de realización práctica y es un método fácil para ir aproximando el valor del número $\\pi $ luego de varios intentos.   "
   ]
  },
  {
   "cell_type": "markdown",
   "id": "88d65d23-1c7e-4643-9fd6-980873c94d4b",
   "metadata": {},
   "source": [
    "## Explica la solución con cálculo integral usando tus palabras\n",
    "\n",
    "- Hay que tener presentes varios factores:\n",
    "  - Longitud de la aguja (se toma como 1)\n",
    "  - Ancho de las tablas (se toma como 1)\n",
    "  - Posición de la aguja: Esta puede ser a su vez subdividida en dos: la primera es la distancia desde el centro de la aguja a la ranura más cercana y el ángulo θ que forma la aguja con las ranuras.\n",
    "  - El espacio muestral: Todos los posibles valores de la posicion de la aguja o dicho de otra manera de las dos subdivisiones de la ya mencionada posición.     "
   ]
  },
  {
   "cell_type": "markdown",
   "id": "e70ea26a-41b0-4f58-ae6a-3dea8f2643ad",
   "metadata": {},
   "source": [
    "- La aguja solo cruza si $X \\sim U(0, t/2)$, tomando esto en cuenta la aguja solo cruza si $ x \\leq (l/2)sin(θ) $\n",
    "-  La probabilidad de que la aguja cruce una ranura es la razón entre el área donde se cumple la condición anterior y el área total del espacio muestral.\n",
    "- La función de probabilidadd para el problema quedaría entonces de la siguiente manera:$$\\int_0^{\\frac{\\pi}{2}} \\int_0^{f(t/2)} \\frac{4}{t\\pi} \\sin(\\theta) \\, dx \\, d\\theta = \\frac{2f(t/2)}{t\\pi}$$"
   ]
  },
  {
   "cell_type": "markdown",
   "id": "2b5ef878-ef45-49e2-ae7d-4e7668047008",
   "metadata": {},
   "source": [
    "Investiga el problema de la aguja de Buffon.\n",
    "\n",
    "\n",
    "- ## Explica la solución sin cálculo integral usando tus palabras"
   ]
  },
  {
   "cell_type": "markdown",
   "id": "3c6ded74-73c3-43bc-8203-5c3e0307365c",
   "metadata": {},
   "source": [
    "Se tendrían que realizar un muchos lanzamientos de la aguja (n). Si contamos los n lanzamientos y el número de veces que la aguja cruza una ranura, se puede tener una probabilidadaproximada, la cual debe estar cerca al valor que nos da si usamos el calculo.\n",
    "\n",
    "Entre mmás grande sea la n, más cerca estará la probabilidad aproximada a la probabilidad \"real\".\n"
   ]
  },
  {
   "cell_type": "markdown",
   "id": "e4466ca7-e996-4f07-b3cd-a0b237f344f2",
   "metadata": {},
   "source": [
    "## Crea una simulación con numpy donde se arrojen n agujas de longitud l dado que se tiene una distancia d entre cada línea paralela."
   ]
  },
  {
   "cell_type": "code",
   "execution_count": null,
   "id": "4cc382f9-68e0-4021-8589-cb572d1eadd9",
   "metadata": {},
   "outputs": [],
   "source": [
    "import random\n",
    "import numpy as np\n",
    "\n",
    "longitud_aguja = 4  # longitud de la aguja en cm\n",
    "distancia_lineas = 5  # distancia entre las líneas paralelas en cm\n",
    "n = 100000  # Número de agujas lanzadas en esta simulación\n",
    "\n",
    "mitad_distancia = distancia_lineas / 2 # Calcular la mitad de la distancia entre líneas, para limitar el rango de posiciones de los centros de las agujas\n",
    "\n",
    "posiciones_centros = np.random.uniform(0, mitad_distancia, n) # Generar posiciones aleatorias de los centros de las agujas\n",
    "\n",
    "mitad_angulo_recto = np.pi / 2 # Para establecer el rango de los ángulos\n",
    "\n",
    "\n",
    "angulos_aleatorios = np.random.uniform(0, mitad_angulo_recto, n) # Generar ángulos aleatorios para cada aguja en el rango de 0 a π/2\n",
    "\n",
    "proyeccion_horizontal = (longitud_aguja / 2) * np.sin(angulos_aleatorios) # Calcular la proyección horizontal de cada aguja\n",
    "\n",
    "cruzan_linea = proyeccion_horizontal >= posiciones_centros # Verificar si la proyección es suficiente para cruzar la línea\n",
    "\n",
    "\n",
    "cantidad_cruzan = np.sum(cruzan_linea) # Agujas cruzan la línea\n",
    "\n",
    "probabilidad_cruce = cantidad_cruzan / n # Estimar la probabilidad\n",
    "\n",
    "\n",
    "cantidad_cruzan, probabilidad_cruce\n"
   ]
  },
  {
   "cell_type": "markdown",
   "id": "36d23142-c77a-4249-a7b0-2d4a119630bc",
   "metadata": {},
   "source": [
    "¿Qué variables aleatorias hay en este caso?\n",
    "- posiciones_centros: Se trata de la posición del centro de cada aguja, esta limitada al rango entre 0 y la mitad de la distancia entre líneas.\n",
    "  \n",
    "- angulos_aleatorios: Se refire al ángulo de cada aguja respecto a las líneas paralelas y está en el rango de 0 a π/2."
   ]
  },
  {
   "cell_type": "markdown",
   "id": "ecfb605d-f4d1-4be6-a520-2e1bd815b1d5",
   "metadata": {},
   "source": [
    "¿Qué distribución siguen?\n",
    "- Distribución uniforme"
   ]
  },
  {
   "cell_type": "markdown",
   "id": "b41eee44-713f-4911-9d89-2592131278be",
   "metadata": {},
   "source": [
    "¿Cómo evoluciona el resultado contra la cantidad de agujas que se usa?\n",
    "- La estimación tiende a ser un valor más cercano al \"real\" como había dicho antes. Pues con pocas agujas cómo existen valores aleatorios involucrados, hay gran probabilidad de que el margen de error sea más grande, mismo margen que se reduce con una mayor cantidad de agujas. "
   ]
  },
  {
   "cell_type": "markdown",
   "id": "69b8a1cc-b0a0-4aa7-939c-b9e0f1f02564",
   "metadata": {},
   "source": [
    "Referencias:\n",
    "- https://es.wikipedia.org/wiki/Aguja_de_Buffon\n",
    "- https://institucional.us.es/blogimus/2019/09/lazzarini-y-la-aguja-de-buffon-el-arte-de-hacer-trampas-elegantes-con-la-probabilidad/\n",
    "- https://www.estadisticaparatodos.es/taller/buffon/buffon.html\n",
    "- https://sistemas.fciencias.unam.mx/~erhc/Apunte_21_de_septiembre.pdf\n",
    "- http://verso.mat.uam.es/~eugenio.hernandez/17-18-MasterFPS/Probabilidad-6-2.pdf"
   ]
  },
  {
   "cell_type": "code",
   "execution_count": null,
   "id": "f202625c-322a-4ed5-b56c-a87d116328c7",
   "metadata": {},
   "outputs": [],
   "source": []
  },
  {
   "cell_type": "code",
   "execution_count": null,
   "id": "8077dea2-e7ac-434d-bd03-23db5c1f36fe",
   "metadata": {},
   "outputs": [],
   "source": []
  }
 ],
 "metadata": {
  "kernelspec": {
   "display_name": "Python 3 (ipykernel)",
   "language": "python",
   "name": "python3"
  },
  "language_info": {
   "codemirror_mode": {
    "name": "ipython",
    "version": 3
   },
   "file_extension": ".py",
   "mimetype": "text/x-python",
   "name": "python",
   "nbconvert_exporter": "python",
   "pygments_lexer": "ipython3",
   "version": "3.12.4"
  }
 },
 "nbformat": 4,
 "nbformat_minor": 5
}
