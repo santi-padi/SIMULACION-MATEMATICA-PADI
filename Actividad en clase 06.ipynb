{
 "cells": [
  {
   "cell_type": "markdown",
   "id": "b2dafbb7-7223-4f64-93fd-7221cad20d2b",
   "metadata": {},
   "source": [
    "# Actividad en clase 06"
   ]
  },
  {
   "cell_type": "markdown",
   "id": "5c41b71a-a6ea-4e35-954f-e1d4430f1f52",
   "metadata": {},
   "source": [
    "## Santiago Padillla Arias EXP:750985 Fecha: 09/09/2024"
   ]
  },
  {
   "cell_type": "markdown",
   "id": "520b0bb5-a218-407a-b904-53f66cf407c9",
   "metadata": {},
   "source": [
    "## Ejercicio 1\n",
    "\n",
    "Una carpintería local fabrica sillas, mesas, libreros y bases de cama. Hay dos empleados en esta carpintería: un empleado experimentado y un aprendiz. El aprendiz tarda aproximadamente 50% más tiempo que el carpintero experimentado en construir cualquier cosa, además de que tiene un desperdicio de alrededor de 20% de material. Los materiales y tiempos necesarios para construir algo se desglozan en la siguiente tabla:\n",
    "\n",
    "![](Ejercicio1_A06.png)"
   ]
  },
  {
   "cell_type": "markdown",
   "id": "6f32a314-eee1-4810-9583-553036463462",
   "metadata": {},
   "source": [
    "Las mesas se venden en $9000$, las sillas en $3000$, los libreros en $10000$, y las bases de cama en $9000$. Suponiendo una jornada de 40 horas a la semana y que tienen 100 unidades de madera, ¿qué les conviene construir durante una semana para maximizar su ganancia?\n",
    "\n",
    "¿Cuántas horas trabaja cada quién?\n",
    "¿Cuánto material se usa?\n",
    "¿Cuál se el ingreso total si se vende todo lo fabricado?"
   ]
  },
  {
   "cell_type": "markdown",
   "id": "8a0ff6a5-7dc2-4b96-aa31-28414398d193",
   "metadata": {},
   "source": [
    "1. Identificar criterio de optimizacion\n",
    "   Maximizar: $\\$$ costo de producto como nuevo\n",
    "   \n",
    "2. Variables de control:\n",
    "  - M_e --> Mesas experto\n",
    "  - M_e --> Mesas aprendiz\n",
    "  - S_e --> Sillas experto\n",
    "  - S_a --> Sillas aprendiz\n",
    "  - L_e --> Libreros experto\n",
    "  - L_a --> Libreros aprendiz\n",
    "  - B_e --> Bases experto\n",
    "  - B_a --> Bases aprendiz\n",
    "\n",
    "  - Mp --> 9000\n",
    "  - Sp --> 3000\n",
    "  - Lp --> 10000\n",
    "  - Bp --> 9000\n",
    "\n",
    "\n",
    "3. Funcion de costo\n",
    "   - $ 9000M_e + 9000M_a + 3000M_e + 3000M_a + 10000L_e + 10000L_a + 9000B_e + 9000B_a = Costo$\n",
    "\n",
    "4. Informacion adicional\n",
    "    - $\\text{Experimentado}:$\n",
    "        - $ 3M_e + 1S_e + 4L_e + 3B_e \\leq 40\\ $\n",
    "     \n",
    "   - $\\text{Aprendiz}:$\n",
    "        - $ 4.5M_a + 1.5S_a + 6L_a + 4.5B_a \\leq 40\\ $\n",
    "          \n",
    "   - $\\text{Material}:$\n",
    "        - $ 6M_e + 7.2M_a + 2S_e + 2.4S_a + 5L_e + 6L_a + 5B_e + 6B_a \\leq 100\\ $"
   ]
  },
  {
   "cell_type": "code",
   "execution_count": 4,
   "id": "6e1085be-2a87-4f30-99e8-6a6057387b0e",
   "metadata": {},
   "outputs": [
    {
     "ename": "TypeError",
     "evalue": "linprog() got an unexpected keyword argument 'integrity'",
     "output_type": "error",
     "traceback": [
      "\u001b[1;31m---------------------------------------------------------------------------\u001b[0m",
      "\u001b[1;31mTypeError\u001b[0m                                 Traceback (most recent call last)",
      "Cell \u001b[1;32mIn[4], line 17\u001b[0m\n\u001b[0;32m      5\u001b[0m Aub \u001b[38;5;241m=\u001b[39m np\u001b[38;5;241m.\u001b[39marray ([\n\u001b[0;32m      6\u001b[0m     [ \u001b[38;5;241m3\u001b[39m,   \u001b[38;5;241m0\u001b[39m,   \u001b[38;5;241m1\u001b[39m,   \u001b[38;5;241m0\u001b[39m,    \u001b[38;5;241m4\u001b[39m,  \u001b[38;5;241m0\u001b[39m,  \u001b[38;5;241m3\u001b[39m,  \u001b[38;5;241m0\u001b[39m],\n\u001b[0;32m      7\u001b[0m     [ \u001b[38;5;241m0\u001b[39m,  \u001b[38;5;241m4.5\u001b[39m,  \u001b[38;5;241m0\u001b[39m,  \u001b[38;5;241m1.5\u001b[39m,   \u001b[38;5;241m0\u001b[39m,  \u001b[38;5;241m6\u001b[39m,  \u001b[38;5;241m0\u001b[39m,  \u001b[38;5;241m4.5\u001b[39m],\n\u001b[0;32m      8\u001b[0m     [ \u001b[38;5;241m6\u001b[39m,  \u001b[38;5;241m7.2\u001b[39m,  \u001b[38;5;241m2\u001b[39m,   \u001b[38;5;241m2.4\u001b[39m,    \u001b[38;5;241m5\u001b[39m,  \u001b[38;5;241m6\u001b[39m,  \u001b[38;5;241m5\u001b[39m,  \u001b[38;5;241m6\u001b[39m],\n\u001b[0;32m      9\u001b[0m ])\n\u001b[0;32m     11\u001b[0m bub \u001b[38;5;241m=\u001b[39m np\u001b[38;5;241m.\u001b[39marray([\n\u001b[0;32m     12\u001b[0m              \u001b[38;5;241m40\u001b[39m,\n\u001b[0;32m     13\u001b[0m              \u001b[38;5;241m40\u001b[39m,\n\u001b[0;32m     14\u001b[0m              \u001b[38;5;241m100\u001b[39m\n\u001b[0;32m     15\u001b[0m ])\n\u001b[1;32m---> 17\u001b[0m opt\u001b[38;5;241m.\u001b[39mlinprog(c, Aub, bub, integrity\u001b[38;5;241m=\u001b[39m\u001b[38;5;241m1\u001b[39m)\n",
      "\u001b[1;31mTypeError\u001b[0m: linprog() got an unexpected keyword argument 'integrity'"
     ]
    }
   ],
   "source": [
    "import numpy as np\n",
    "import scipy.optimize as opt\n",
    "c = np.array([-9000, -9000, -3000, -3000, -10000, -10000, -9000, -9000]) # Se pone negativa porque la función orginal es para maximizar\n",
    "\n",
    "Aub = np.array ([\n",
    "    [ 3,   0,   1,   0,    4,  0,  3,  0],\n",
    "    [ 0,  4.5,  0,  1.5,   0,  6,  0,  4.5],\n",
    "    [ 6,  7.2,  2,   2.4,    5,  6,  5,  6],\n",
    "])\n",
    "\n",
    "bub = np.array([\n",
    "             40,\n",
    "             40,\n",
    "             100\n",
    "])\n",
    "\n",
    "opt.linprog(c, Aub, bub, integrity=1) \n",
    "\n",
    "# opt.linprog(c, Aub, bub, Acq, Bcg, integrity=1) hecho por el profe"
   ]
  },
  {
   "cell_type": "markdown",
   "id": "ec2d7a39-0939-4394-9ee3-262028696603",
   "metadata": {},
   "source": [
    "2. La carpintería recibió una orden por 3 combos de mesa + 6 sillas:\n",
    "  - ¿Se puede cumplir la orden?\r",
    "  - \n",
    "Si sí, ¿qué es lo que tienen que fabricar en el resto del tiempo y con el resto del material para maximizar su ganancia\n",
    "  -  ¿Cuántas horas trabaja cada quién?\n",
    "  - ¿Cuánto material se usa?\n",
    "  - ¿Cuál es el nuevo ingreso total?tal?reso total?"
   ]
  },
  {
   "cell_type": "code",
   "execution_count": null,
   "id": "8c5d5d72-f602-4af3-a2b3-a31f52dc1feb",
   "metadata": {},
   "outputs": [],
   "source": []
  },
  {
   "cell_type": "code",
   "execution_count": null,
   "id": "e4714c98-bf67-44ee-9fa0-4e108da70216",
   "metadata": {},
   "outputs": [],
   "source": [
    "import numpy as np\n",
    "import scipy.optimize as opt\n",
    "c = np.array([5,\n",
    "             2,\n",
    "             7,\n",
    "             3,\n",
    "             4,\n",
    "             5,\n",
    "             5,\n",
    "             2,\n",
    "             3,\n",
    "             ])\n",
    "\n",
    "Aub = np.array ([\n",
    "    [ 1,  1,  1,  0,   0,  0,  0,  0,  0],\n",
    "    [ 0,  0,  0,  1,   1,  1,  0,  0,  0],\n",
    "    [ 0,  0,  0,  0,   0,  0,  1,  1,  1],\n",
    "    [-1,  0,  0,  -1,  0,  0, -1,  0,  0],\n",
    "    [ 0, -1,  0,  0,  -1,  0,  0, -1,  0],\n",
    "    [ 0,  0, -1,  0,  0,  -1,  0,  0,  -1]\n",
    "])\n",
    "\n",
    "bub = np.array([\n",
    "             75,\n",
    "             50,\n",
    "             60,\n",
    "             -60,\n",
    "             -45,\n",
    "             -60\n",
    "])\n",
    "\n",
    "opt.linprog(c, Aub, bub, Acq, Bcg, integrity=1)"
   ]
  }
 ],
 "metadata": {
  "kernelspec": {
   "display_name": "Python 3 (ipykernel)",
   "language": "python",
   "name": "python3"
  },
  "language_info": {
   "codemirror_mode": {
    "name": "ipython",
    "version": 3
   },
   "file_extension": ".py",
   "mimetype": "text/x-python",
   "name": "python",
   "nbconvert_exporter": "python",
   "pygments_lexer": "ipython3",
   "version": "3.12.4"
  }
 },
 "nbformat": 4,
 "nbformat_minor": 5
}
