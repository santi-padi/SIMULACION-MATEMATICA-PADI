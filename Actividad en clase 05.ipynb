{
 "cells": [
  {
   "cell_type": "markdown",
   "id": "b2dafbb7-7223-4f64-93fd-7221cad20d2b",
   "metadata": {},
   "source": [
    "# Actividad en clase 05"
   ]
  },
  {
   "cell_type": "markdown",
   "id": "5c41b71a-a6ea-4e35-954f-e1d4430f1f52",
   "metadata": {},
   "source": [
    "## Santiago Padillla Arias EXP:750985 Fecha: 05/09/2024"
   ]
  },
  {
   "cell_type": "markdown",
   "id": "925a9d33-989c-4215-a595-ad36c6ababe6",
   "metadata": {},
   "source": [
    "## Ejercicio 1\n",
    "\n",
    "Se quiere producir comida para gatos de la manera más barata, no obstante se debe también asegurar que se cumplan los datos requeridos de analisis nutricional. Por lo que se quiere variar la cantidad de cada ingrediente para cumplir con los estandares nutricionales. Los requisitos que se tienen es que en 100 gramos, se deben tener por lo menos 9 gramos de proteína y  7 gramos de grasa. Así mismo, no se debe tener más de 2.5 gramos de fibra y 0.5 gramos de sal.\n",
    "\n",
    "\n",
    "![](Ejercicio1_A05.png)"
   ]
  },
  {
   "cell_type": "markdown",
   "id": "df7659d3-69d9-40a7-b08e-7a127b880d87",
   "metadata": {},
   "source": [
    "1. Identificar criterio de optimizacion minimizar $\\$$ costo de producto como nuevo\n",
    "2. Variables de control:\n",
    "  - Pollo --> P\n",
    "  - Carne --> C\n",
    "  - Cordero --> Cor\n",
    "  - Arroz --> A\n",
    "  - Trigo --> T\n",
    "  - Gel --> G\n",
    "  - Proteina --> Pro\n",
    "  - Grasa --> Gra\n",
    "  - Fibra --> F\n",
    "  - Sal --> S\n",
    "    \n",
    "3. Funcion de costo\n",
    " - $ P0.012 + 0.009 C + 0.010 Cor + 0.003 A +  0.005 T + 0.002 G = Costo$\n",
    "\n",
    "4. Informacion adicional\n",
    "   - $\\text{En 100 gramos}:$\n",
    "        - $\\text{Proteina}: 0.01P + 0.2C + 0.15Cor + 0.04T \\geq 9\\ $\n",
    "        - $\\text{Grasa}: 0.08P + 0.1C + 0.11Cor + 0.01A + 0.01T \\geq 7\\ $\n",
    "        - $\\text{Fibra}: 0.001P + 0.005C + 0.005Cor + 0.1A + 0.15T \\leq 2.5\\ $\n",
    "        - $\\text{Sal}: 0.002P + 0.005C + 0.007Cor + 0.002A + 0.008T \\geq 0.5\\ $ \n"
   ]
  },
  {
   "cell_type": "markdown",
   "id": "ec2d7a39-0939-4394-9ee3-262028696603",
   "metadata": {},
   "source": [
    "## Ejercicio 2\n",
    "\n",
    "La Comisión Federal de Electricidad (CFE) dispone de cuatro plantas de generación para satisfacer la demanda diaria eléctrica en cuatro ciudades, Guadalajara, León y Morelia. Las plantas 1, 2 y 3 pueden satisfacer 75, 50 y 60 millones de kW al día respectivamente. Las necesidades de las ciudades de Guadalajara, León y Morelia son de 60, 45 y 60 millones de Kw al día respectivamente.\n",
    "Los costos asociados al envío de suministro energético por cada millón de kW entre cada planta y cada ciudad son los registrados en la siguiente tabla:"
   ]
  },
  {
   "cell_type": "markdown",
   "id": "6e2303da-49ba-4fd9-84e6-d6b33b9a959b",
   "metadata": {},
   "source": [
    "![](Ejercicio2_A05.png)"
   ]
  },
  {
   "cell_type": "markdown",
   "id": "3fe9a030-6277-48ae-a9a6-1e2b91ec9c86",
   "metadata": {},
   "source": [
    "NO ESTOY SEGURO DE SI ESTA BIEN LA PRIMERA OPCION Y POR ESO HICE 2"
   ]
  },
  {
   "cell_type": "markdown",
   "id": "7da1a72f-9ca0-4aea-a104-7ddf2ad52f3e",
   "metadata": {},
   "source": [
    "Propuesta 2:\n",
    "1. Identificar criterio de optimizacion\n",
    "   minimizar: $\\$$ costo de producto como nuevo\n",
    "   \n",
    "2. Variables de control:\n",
    "  - Planta 1 --> P1\n",
    "  - Planta 2 --> P2\n",
    "  - Planta 3 --> P3\n",
    "\n",
    "    \n",
    "  - Guadalajara --> G\n",
    "      - GP1\n",
    "      - GP2\n",
    "      - GP3 \n",
    "  - Leon --> L\n",
    "      - LP1\n",
    "      - LP2\n",
    "      - LP3 \n",
    "  - Morelia --> M\n",
    "      - MP1\n",
    "      - MP2\n",
    "      - MP3 \n",
    "    \n",
    "3. Funcion de costo\n",
    "   - $ GP1 (5) + GP2 (3) + GP3 (5) + LP1 (2) + LP2 (4) + LP3 (2) + MP1 (7) + MP2 (5) + MP3 (3) = Costo$\n",
    "\n",
    "4. Informacion adicional\n",
    "    - $\\text{Capacidad}:$\n",
    "        - $ GP1 + LP1 + MP1 \\leq 75\\ kw$\n",
    "        - $ GP2 + LP2 + MP2 \\leq 50\\ kw$\n",
    "        - $ GP3 + LP3 + MP3 \\leq 60\\ kw$\n",
    "\n",
    "\n",
    "\n",
    "      \n",
    "   - $\\text{Necesidad}:$\n",
    "        -  $ 60 = 5 GP1 + 3 GP2 + 5 GP3$\n",
    "        - $ 45 = 2 LP1 + 4 LP2 + 2 LP3$\n",
    "        - $ 60 = 7 MP1 + 5 MP2 + 3 MP3$"
   ]
  },
  {
   "cell_type": "markdown",
   "id": "cf1064b0-089e-4c72-91b3-414d57e3a390",
   "metadata": {},
   "source": [
    "![](Ejercicio2_A05.png)"
   ]
  },
  {
   "cell_type": "markdown",
   "id": "358f9aed-a0e9-42a0-9f0f-2031e82665f2",
   "metadata": {},
   "source": [
    "1. Identificar criterio de optimizacion\n",
    "   minimizar: $\\$$ costo de producto como nuevo\n",
    "   \n",
    "2. Variables de control:\n",
    "  - Guadalajara --> G\n",
    "  - Leon --> L\n",
    "  - Morelia --> M\n",
    "  - Planta 1 --> P1\n",
    "  - Planta 2 --> P2\n",
    "  - Planta 3 --> P3\n",
    "    \n",
    "3. Funcion de costo\n",
    "   - $ P1(14) + P2(12) + P3(11) = Costo$\n",
    "\n",
    "4. Informacion adicional\n",
    "    - $ P1 \\leq 75\\ kw$\n",
    "    - $ P2 \\leq 50\\ kw$\n",
    "    - $ P3 \\leq 60\\ kw$\n",
    "      \n",
    "      \n",
    "   - $\\text{Necesidades}:$\n",
    "        - $\\text{Guadalajara}$\n",
    "            -  $ 60 = 5 P1 + 3 P2 + 5 P3$\n",
    "        - $\\text{Leon}$\n",
    "          - $ 45 = 2 P1 + 4 P2 + 2 P3$\n",
    "        - $\\text{Morelia}$\n",
    "          - $ 60 = 7 P1 + 5 P2 + 3 P3$"
   ]
  }
 ],
 "metadata": {
  "kernelspec": {
   "display_name": "Python 3 (ipykernel)",
   "language": "python",
   "name": "python3"
  },
  "language_info": {
   "codemirror_mode": {
    "name": "ipython",
    "version": 3
   },
   "file_extension": ".py",
   "mimetype": "text/x-python",
   "name": "python",
   "nbconvert_exporter": "python",
   "pygments_lexer": "ipython3",
   "version": "3.12.4"
  }
 },
 "nbformat": 4,
 "nbformat_minor": 5
}
