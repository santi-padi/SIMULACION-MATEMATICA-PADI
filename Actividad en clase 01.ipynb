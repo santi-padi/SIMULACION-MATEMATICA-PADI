{
 "cells": [
  {
   "cell_type": "code",
   "execution_count": 14,
   "id": "3fc9524e-2e10-4117-bb18-d8b66ac76767",
   "metadata": {},
   "outputs": [
    {
     "name": "stdout",
     "output_type": "stream",
     "text": [
      "120\n"
     ]
    }
   ],
   "source": [
    "# Ejercicio de clase factorial\n",
    "# 1. Factorial: Dada una entrada ‘a’, imprimir el factorial de ‘a’.\n",
    "\n",
    "a = 5\n",
    "z = 1\n",
    "factorial = 1\n",
    "while z <= a:\n",
    "    factorial = factorial * z\n",
    "    z = z + 1\n",
    "print(factorial)"
   ]
  },
  {
   "cell_type": "markdown",
   "id": "57e6680e-31c3-4f7f-be1f-d051a7fb6af1",
   "metadata": {},
   "source": [
    "![](Diagrama1_actclase1.jpg)"
   ]
  },
  {
   "cell_type": "code",
   "execution_count": 74,
   "id": "97eeecd2-4f43-4c65-912b-ebe04844e555",
   "metadata": {},
   "outputs": [
    {
     "name": "stdout",
     "output_type": "stream",
     "text": [
      "Este número no es primo\n"
     ]
    }
   ],
   "source": [
    "# Ejercicio de clase factorial\n",
    "# Números primos: Dada una entrada ‘a’, imprimir si ‘a’ es un número primo.\n",
    "N = 55 # N numero a revisar\n",
    "z = 2 # z numero para dividir, parte del 2 porque es el 1er primo\n",
    "Num_Primo = True # Condición de verdadero dando por hecho que el número será primo\n",
    "\n",
    "while z < N:\n",
    "    if N % z == 0: # Si el residuo de N entre z da 0 el número no será primo\n",
    "        Num_Primo = False # Se cambia esta variable de True a False porque no es primo\n",
    "        break # Se rompe el ciclo\n",
    "    z += 1\n",
    "if Num_Primo == True : # Este if decide que se imprimirá dependiendo si Num_Primo es True o False    \n",
    "    print (\"Este número si es primo\")\n",
    "else :\n",
    "    print(\"Este número no es primo\")"
   ]
  },
  {
   "cell_type": "markdown",
   "id": "7fc88887-dbf9-4e73-b896-3eb8bbe01dd9",
   "metadata": {},
   "source": [
    "![](Diagrama2_actclase1.jpg)"
   ]
  },
  {
   "cell_type": "code",
   "execution_count": null,
   "id": "1f646523-0323-4be4-96a5-622edbb1eda7",
   "metadata": {},
   "outputs": [],
   "source": []
  }
 ],
 "metadata": {
  "kernelspec": {
   "display_name": "Python 3 (ipykernel)",
   "language": "python",
   "name": "python3"
  },
  "language_info": {
   "codemirror_mode": {
    "name": "ipython",
    "version": 3
   },
   "file_extension": ".py",
   "mimetype": "text/x-python",
   "name": "python",
   "nbconvert_exporter": "python",
   "pygments_lexer": "ipython3",
   "version": "3.12.4"
  }
 },
 "nbformat": 4,
 "nbformat_minor": 5
}
