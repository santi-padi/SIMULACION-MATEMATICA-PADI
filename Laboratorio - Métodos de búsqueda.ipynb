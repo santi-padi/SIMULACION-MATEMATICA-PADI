{
 "cells": [
  {
   "cell_type": "markdown",
   "id": "28086fca-2cdd-41ac-b7bf-bc1af9f759a2",
   "metadata": {},
   "source": [
    "# Laboratorio: Métodos de búsqueda"
   ]
  },
  {
   "cell_type": "markdown",
   "id": "9e19abc1-82f0-4f28-9493-468e4227c14f",
   "metadata": {},
   "source": [
    "En las clases anteriores creaste códigos para realizar búsquedas aleatorias (Simulated Annealing) y búsquedas dirigidas (Optimización Bayesiana). Estos métodos de búsqueda se utilizan para facilitar el proceso de optimización de funciones objetivos compleja y costosas de computar."
   ]
  },
  {
   "cell_type": "markdown",
   "id": "038474ce-6e2f-4d45-895a-bb17f7c8871d",
   "metadata": {},
   "source": [
    "En este laboratorio usaremos el dataset de los diferentes tipos de iris, y sus longitudes y anchos de pétalos y sépalos. Utilizaremos un RandomForest para crear un modelo de clasificación y el métrico F1 para decidir cuál es el mejor modelo de acuerdo a lo que tenemos disponible."
   ]
  },
  {
   "cell_type": "markdown",
   "id": "c04956ea-14f4-419e-adf8-add3b81da443",
   "metadata": {},
   "source": [
    "1. Carga el dataset de Iris"
   ]
  },
  {
   "cell_type": "code",
   "execution_count": 3,
   "id": "aad912f2-1359-437e-af68-3c8cca8d1b03",
   "metadata": {},
   "outputs": [],
   "source": [
    "from sklearn import datasets\n",
    "X, y = datasets.load_iris(return_X_y=True)"
   ]
  },
  {
   "cell_type": "markdown",
   "id": "9b97ad91-d82b-491c-ac5d-be6f872c5334",
   "metadata": {},
   "source": [
    "2. Importa el archivo `Bosque.py`.\n",
    "\n",
    "Este archivo contiene la función `RegresionBosque`, que recibe:\n",
    "- X: las características independientes\n",
    "- y: la variable de respuesta\n",
    "- árboles: cantidad total de árboles\n",
    "- profundidad de bosque: niveles de profundidad del bosque\n",
    "\n",
    "Su salida es:\n",
    "- modelo: El objeto con el modelo ajustado\n",
    "- f1: El métrico que califica qué tan bueno es el modelo que se ajustó.\n"
   ]
  },
  {
   "cell_type": "code",
   "execution_count": 5,
   "id": "23f875f1-a72a-4a57-8355-16d6bb9fb33a",
   "metadata": {},
   "outputs": [
    {
     "data": {
      "text/plain": [
       "0.9444444444444444"
      ]
     },
     "execution_count": 5,
     "metadata": {},
     "output_type": "execute_result"
    }
   ],
   "source": [
    "import Bosque\n",
    "modelo, f1 = Bosque.RegresionBosque(X, y, 10, 3)\n",
    "f1"
   ]
  },
  {
   "cell_type": "markdown",
   "id": "15ac2825-33ac-4919-9ccb-8324701ce99f",
   "metadata": {},
   "source": [
    "### Actividad 1:"
   ]
  },
  {
   "cell_type": "markdown",
   "id": "a8eb265f-9ccf-4fb4-b8c0-8fe221ea534c",
   "metadata": {},
   "source": [
    "Inicializa un espacio con 5 muestras en nuestro dominio de variables independientes:\n",
    "- árboles: números enteros entre 5 y 50.\n",
    "- profundidad: números enteros entre 2 y 10"
   ]
  },
  {
   "cell_type": "markdown",
   "id": "1ed7c396-af97-49a6-828e-c5d63c1b6999",
   "metadata": {},
   "source": [
    "Utiliza optimización Bayesiana para encontrar la combinación de árboles y profundidad que **maximice** el métrico F1."
   ]
  },
  {
   "cell_type": "code",
   "execution_count": 97,
   "id": "1e563392-4509-4d70-9cb6-adca944d2406",
   "metadata": {},
   "outputs": [
    {
     "data": {
      "text/plain": [
       "0.9555555555555556"
      ]
     },
     "execution_count": 97,
     "metadata": {},
     "output_type": "execute_result"
    }
   ],
   "source": [
    "import matplotlib.pyplot as plt\n",
    "import numpy as np\n",
    "modelo, f1 = Bosque.RegresionBosque(X, y, 10, 3)\n",
    "f1"
   ]
  },
  {
   "cell_type": "code",
   "execution_count": 99,
   "id": "6b41410b-3f37-46b7-bef3-9361a04b3c28",
   "metadata": {},
   "outputs": [],
   "source": [
    "# x = np.linspace(0, 2*np.pi, 1000); plt.figure(); y = np.sin(9*x); plt.plot(x, y)\n",
    "# plt.scatter([0, np.pi, 2*np.pi, np.pi/2, 19*np.pi/18], [0, 0, 0, 1, -1], s=50, c=\"r\", zorder=3)"
   ]
  },
  {
   "cell_type": "code",
   "execution_count": 101,
   "id": "4af49c74-62b7-45ba-9653-a7e2cd290463",
   "metadata": {},
   "outputs": [
    {
     "data": {
      "text/plain": [
       "(array([26, 13, 13, 28,  6]), array([2, 2, 2, 3, 6]))"
      ]
     },
     "execution_count": 101,
     "metadata": {},
     "output_type": "execute_result"
    }
   ],
   "source": [
    "import numpy as np\n",
    "from sklearn.gaussian_process import GaussianProcessRegressor\n",
    "from sklearn.gaussian_process.kernels import RBF\n",
    "\n",
    "num_arboles = np.random.randint(5, 50, 5)\n",
    "nivel_profundidad = np.random.randint(2, 10, 5)\n",
    "\n",
    "num_arboles, nivel_profundidad"
   ]
  },
  {
   "cell_type": "code",
   "execution_count": 103,
   "id": "c7daec29-1479-416f-a003-6b1273d3dafc",
   "metadata": {},
   "outputs": [
    {
     "data": {
      "text/plain": [
       "[0.9333333333333333,\n",
       " 0.9444444444444444,\n",
       " 0.9333333333333333,\n",
       " 0.9555555555555556,\n",
       " 0.9555555555555556]"
      ]
     },
     "execution_count": 103,
     "metadata": {},
     "output_type": "execute_result"
    }
   ],
   "source": [
    "resultados_f1 = []\n",
    "\n",
    "for i in range(len(nivel_profundidad)):\n",
    "    modelo, f1 = Bosque.RegresionBosque(X, y, num_arboles[i], nivel_profundidad[i])\n",
    "    resultados_f1.append(f1)\n",
    "\n",
    "resultados_f1"
   ]
  },
  {
   "cell_type": "code",
   "execution_count": 104,
   "id": "45af10ca-3386-49a1-918e-2488d911ffbc",
   "metadata": {},
   "outputs": [
    {
     "data": {
      "text/plain": [
       "array([[26,  2],\n",
       "       [13,  2],\n",
       "       [13,  2],\n",
       "       [28,  3],\n",
       "       [ 6,  6]])"
      ]
     },
     "execution_count": 104,
     "metadata": {},
     "output_type": "execute_result"
    }
   ],
   "source": [
    "arboles_v = num_arboles.reshape([-1, 1])\n",
    "profundidad_v = nivel_profundidad.reshape([-1, 1])\n",
    "\n",
    "X_hiperparametros = np.hstack((arboles_v, profundidad_v))\n",
    "X_hiperparametros"
   ]
  },
  {
   "cell_type": "code",
   "execution_count": 105,
   "id": "de00bcfe-9350-4954-80f6-1ea060276da1",
   "metadata": {},
   "outputs": [
    {
     "name": "stderr",
     "output_type": "stream",
     "text": [
      "C:\\Users\\santi\\anaconda3\\Lib\\site-packages\\sklearn\\gaussian_process\\_gpr.py:663: ConvergenceWarning: lbfgs failed to converge (status=2):\n",
      "ABNORMAL_TERMINATION_IN_LNSRCH.\n",
      "\n",
      "Increase the number of iterations (max_iter) or scale the data as shown in:\n",
      "    https://scikit-learn.org/stable/modules/preprocessing.html\n",
      "  _check_optimize_result(\"lbfgs\", opt_res)\n",
      "C:\\Users\\santi\\anaconda3\\Lib\\site-packages\\sklearn\\gaussian_process\\kernels.py:445: ConvergenceWarning: The optimal value found for dimension 0 of parameter k2__length_scale is close to the specified lower bound 1e-05. Decreasing the bound and calling fit again may find a better value.\n",
      "  warnings.warn(\n"
     ]
    }
   ],
   "source": [
    "kernel = 1.0 * RBF(length_scale=1)\n",
    "modelo_gp = GaussianProcessRegressor(kernel=kernel, n_restarts_optimizer=10).fit(X_hiperparametros, resultados_f1)"
   ]
  },
  {
   "cell_type": "code",
   "execution_count": 106,
   "id": "c149ac99-6f0b-4e44-923f-f7ce9ce3747b",
   "metadata": {},
   "outputs": [],
   "source": [
    "x_1 = np.linspace(5, 50, 100).reshape([-1, 1])\n",
    "x_2 = np.linspace(2, 10, 100).reshape([-1, 1])\n",
    "m_matricial = np.hstack((x_1, x_2))"
   ]
  },
  {
   "cell_type": "code",
   "execution_count": 107,
   "id": "766ed3ee-b306-4cb3-884f-640deaf22bb7",
   "metadata": {},
   "outputs": [],
   "source": [
    "prediccion_y, desviacionstd_y = modelo_gp.predict(m_matricial, return_std=True)\n",
    "prediccion_y_alto = prediccion_y + 1.96 * desviacionstd_y\n",
    "i_prox = np.argmax(prediccion_y_alto)"
   ]
  },
  {
   "cell_type": "code",
   "execution_count": 108,
   "id": "3f374a44-8c8f-4f7b-8b21-006f8f0e13e6",
   "metadata": {},
   "outputs": [
    {
     "data": {
      "text/plain": [
       "0"
      ]
     },
     "execution_count": 108,
     "metadata": {},
     "output_type": "execute_result"
    }
   ],
   "source": [
    "i_prox"
   ]
  },
  {
   "cell_type": "code",
   "execution_count": 109,
   "id": "ba4f4f8e-340b-4f51-a340-919bde7a3a9b",
   "metadata": {},
   "outputs": [
    {
     "data": {
      "text/plain": [
       "array([[26.,  2.],\n",
       "       [13.,  2.],\n",
       "       [13.,  2.],\n",
       "       [28.,  3.],\n",
       "       [ 6.,  6.],\n",
       "       [ 5.,  2.]])"
      ]
     },
     "execution_count": 109,
     "metadata": {},
     "output_type": "execute_result"
    }
   ],
   "source": [
    "nueva_X = np.vstack((X_hiperparametros, m_matricial[i_prox]))\n",
    "nueva_X"
   ]
  },
  {
   "cell_type": "code",
   "execution_count": 110,
   "id": "0b1bb799-08ed-4161-83d3-819d6189f84c",
   "metadata": {},
   "outputs": [],
   "source": [
    "padi = m_matricial[i_prox]\n",
    "padi\n",
    "#Si estos dos no se ponen como enteros me marca un error no árboles mochos\n",
    "padi_0 = int(padi[0])\n",
    "padi_1 = int(padi[1])"
   ]
  },
  {
   "cell_type": "code",
   "execution_count": 111,
   "id": "523028cf-90ca-42cd-94ae-2d425b7d0bfe",
   "metadata": {},
   "outputs": [
    {
     "data": {
      "text/plain": [
       "[0.9333333333333333,\n",
       " 0.9444444444444444,\n",
       " 0.9333333333333333,\n",
       " 0.9555555555555556,\n",
       " 0.9555555555555556,\n",
       " 0.9333333333333333]"
      ]
     },
     "execution_count": 111,
     "metadata": {},
     "output_type": "execute_result"
    }
   ],
   "source": [
    "modelo, f1 = Bosque.RegresionBosque(X, y, (padi_0), (padi_1))\n",
    "resultados_f1.append(f1)\n",
    "resultados_f1"
   ]
  },
  {
   "cell_type": "code",
   "execution_count": 115,
   "id": "05334398-3e2e-4286-a2d2-ab0633a6c2c0",
   "metadata": {},
   "outputs": [
    {
     "name": "stderr",
     "output_type": "stream",
     "text": [
      "C:\\Users\\santi\\anaconda3\\Lib\\site-packages\\sklearn\\gaussian_process\\_gpr.py:663: ConvergenceWarning: lbfgs failed to converge (status=2):\n",
      "ABNORMAL_TERMINATION_IN_LNSRCH.\n",
      "\n",
      "Increase the number of iterations (max_iter) or scale the data as shown in:\n",
      "    https://scikit-learn.org/stable/modules/preprocessing.html\n",
      "  _check_optimize_result(\"lbfgs\", opt_res)\n",
      "C:\\Users\\santi\\anaconda3\\Lib\\site-packages\\sklearn\\gaussian_process\\kernels.py:445: ConvergenceWarning: The optimal value found for dimension 0 of parameter k2__length_scale is close to the specified lower bound 1e-05. Decreasing the bound and calling fit again may find a better value.\n",
      "  warnings.warn(\n"
     ]
    }
   ],
   "source": [
    "# Segunda iteración \n",
    "kernel = 1.0 * RBF(length_scale=1)\n",
    "modelo_gp = GaussianProcessRegressor(kernel=kernel, n_restarts_optimizer=10).fit(nueva_X, resultados_f1)\n",
    "\n",
    "\n",
    "x_1 = np.linspace(5, 50, 100).reshape([-1, 1])\n",
    "x_2 = np.linspace(2, 10, 100).reshape([-1, 1])\n",
    "m_matricial = np.hstack((x_1, x_2))"
   ]
  },
  {
   "cell_type": "code",
   "execution_count": 117,
   "id": "dabe32c5-3c41-49bd-95e9-7aebf1ba85c1",
   "metadata": {},
   "outputs": [],
   "source": [
    "prediccion_y, desviacionstd_y = modelo_gp.predict(m_matricial, return_std=True)\n",
    "prediccion_y_alto = prediccion_y + 1.96 * desviacionstd_y\n",
    "i_prox = np.argmax(prediccion_y_alto)"
   ]
  },
  {
   "cell_type": "code",
   "execution_count": 119,
   "id": "ea18548f-c9b3-4e16-abbf-82b7ef76997b",
   "metadata": {},
   "outputs": [
    {
     "data": {
      "text/plain": [
       "(5, 2, 0.9555555555555556)"
      ]
     },
     "execution_count": 119,
     "metadata": {},
     "output_type": "execute_result"
    }
   ],
   "source": [
    "padi = m_matricial[i_prox]\n",
    "#Si estos dos no se ponen como enteros me marca un error no árboles mochos\n",
    "padi_0 = int(padi[0])\n",
    "padi_1 = int(padi[1])\n",
    "modelo, f1 = Bosque.RegresionBosque(X, y, padi_0, padi_1) \n",
    "\n",
    "padi_0, padi_1, f1"
   ]
  },
  {
   "cell_type": "code",
   "execution_count": 121,
   "id": "eeb3e506-9853-4a79-becf-993b7892e9da",
   "metadata": {},
   "outputs": [
    {
     "data": {
      "text/plain": [
       "array([[26.,  2.],\n",
       "       [13.,  2.],\n",
       "       [13.,  2.],\n",
       "       [28.,  3.],\n",
       "       [ 6.,  6.],\n",
       "       [ 5.,  2.]])"
      ]
     },
     "execution_count": 121,
     "metadata": {},
     "output_type": "execute_result"
    }
   ],
   "source": [
    "nueva_X"
   ]
  },
  {
   "cell_type": "code",
   "execution_count": 123,
   "id": "abd5417c-e11a-400d-bc87-fd40342cd533",
   "metadata": {},
   "outputs": [
    {
     "name": "stdout",
     "output_type": "stream",
     "text": [
      "Iteración 2:\n",
      "[0.9333333333333333, 0.9444444444444444, 0.9333333333333333, 0.9555555555555556, 0.9555555555555556, 0.9333333333333333, 0.9555555555555556]\n"
     ]
    }
   ],
   "source": [
    "nueva_X = np.vstack((nueva_X, padi))\n",
    "resultados_f1.append(f1)\n",
    "\n",
    "\n",
    "print(\"Iteración 2:\")\n",
    "print(resultados_f1)"
   ]
  },
  {
   "cell_type": "code",
   "execution_count": 125,
   "id": "a6e7506e-43d0-4fe1-9078-69dab02fb548",
   "metadata": {},
   "outputs": [
    {
     "name": "stderr",
     "output_type": "stream",
     "text": [
      "C:\\Users\\santi\\anaconda3\\Lib\\site-packages\\sklearn\\gaussian_process\\_gpr.py:663: ConvergenceWarning: lbfgs failed to converge (status=2):\n",
      "ABNORMAL_TERMINATION_IN_LNSRCH.\n",
      "\n",
      "Increase the number of iterations (max_iter) or scale the data as shown in:\n",
      "    https://scikit-learn.org/stable/modules/preprocessing.html\n",
      "  _check_optimize_result(\"lbfgs\", opt_res)\n",
      "C:\\Users\\santi\\anaconda3\\Lib\\site-packages\\sklearn\\gaussian_process\\kernels.py:445: ConvergenceWarning: The optimal value found for dimension 0 of parameter k2__length_scale is close to the specified lower bound 1e-05. Decreasing the bound and calling fit again may find a better value.\n",
      "  warnings.warn(\n"
     ]
    },
    {
     "name": "stdout",
     "output_type": "stream",
     "text": [
      "Iteración 3:\n",
      "[0.9333333333333333, 0.9444444444444444, 0.9333333333333333, 0.9555555555555556, 0.9555555555555556, 0.9333333333333333, 0.9555555555555556, 0.9555555555555556]\n"
     ]
    }
   ],
   "source": [
    "# Tercera iteración \n",
    "kernel = 1.0 * RBF(length_scale=1)\n",
    "modelo_gp = GaussianProcessRegressor(kernel=kernel, n_restarts_optimizer=10).fit(nueva_X, resultados_f1)\n",
    "\n",
    "\n",
    "x_1 = np.linspace(5, 50, 100).reshape([-1, 1])\n",
    "x_2 = np.linspace(2, 10, 100).reshape([-1, 1])\n",
    "m_matricial = np.hstack((x_1, x_2))\n",
    "\n",
    "prediccion_y, desviacionstd_y = modelo_gp.predict(m_matricial, return_std=True)\n",
    "prediccion_y_alto = prediccion_y + 1.96 * desviacionstd_y\n",
    "i_prox = np.argmax(prediccion_y_alto)\n",
    "\n",
    "padi = m_matricial[i_prox]\n",
    "#Si estos dos no se ponen como enteros me marca un error no árboles mochos\n",
    "padi_0 = int(padi[0])\n",
    "padi_1 = int(padi[1])\n",
    "modelo, f1 = Bosque.RegresionBosque(X, y, padi_0, padi_1) \n",
    "\n",
    "nueva_X = np.vstack((nueva_X, padi))\n",
    "resultados_f1.append(f1)\n",
    "\n",
    "\n",
    "print(\"Iteración 3:\")\n",
    "print(resultados_f1)"
   ]
  },
  {
   "cell_type": "code",
   "execution_count": 130,
   "id": "00dc61db-f530-4d57-9f02-2889b941d5c3",
   "metadata": {},
   "outputs": [
    {
     "name": "stderr",
     "output_type": "stream",
     "text": [
      "C:\\Users\\santi\\anaconda3\\Lib\\site-packages\\sklearn\\gaussian_process\\_gpr.py:663: ConvergenceWarning: lbfgs failed to converge (status=2):\n",
      "ABNORMAL_TERMINATION_IN_LNSRCH.\n",
      "\n",
      "Increase the number of iterations (max_iter) or scale the data as shown in:\n",
      "    https://scikit-learn.org/stable/modules/preprocessing.html\n",
      "  _check_optimize_result(\"lbfgs\", opt_res)\n",
      "C:\\Users\\santi\\anaconda3\\Lib\\site-packages\\sklearn\\gaussian_process\\kernels.py:445: ConvergenceWarning: The optimal value found for dimension 0 of parameter k2__length_scale is close to the specified lower bound 1e-05. Decreasing the bound and calling fit again may find a better value.\n",
      "  warnings.warn(\n"
     ]
    },
    {
     "name": "stdout",
     "output_type": "stream",
     "text": [
      "Iteración 4:\n",
      "[0.9333333333333333, 0.9444444444444444, 0.9333333333333333, 0.9555555555555556, 0.9555555555555556, 0.9333333333333333, 0.9555555555555556, 0.9555555555555556, 0.9333333333333333, 0.9333333333333333]\n"
     ]
    }
   ],
   "source": [
    "# Cuarta iteración \n",
    "kernel = 1.0 * RBF(length_scale=1)\n",
    "modelo_gp = GaussianProcessRegressor(kernel=kernel, n_restarts_optimizer=10).fit(nueva_X, resultados_f1)\n",
    "\n",
    "\n",
    "x_1 = np.linspace(5, 50, 100).reshape([-1, 1])\n",
    "x_2 = np.linspace(2, 10, 100).reshape([-1, 1])\n",
    "m_matricial = np.hstack((x_1, x_2))\n",
    "\n",
    "prediccion_y, desviacionstd_y = modelo_gp.predict(m_matricial, return_std=True)\n",
    "prediccion_y_alto = prediccion_y + 1.96 * desviacionstd_y\n",
    "i_prox = np.argmax(prediccion_y_alto)\n",
    "\n",
    "padi = m_matricial[i_prox]\n",
    "#Si estos dos no se ponen como enteros me marca un error no árboles mochos\n",
    "padi_0 = int(padi[0])\n",
    "padi_1 = int(padi[1])\n",
    "modelo, f1 = Bosque.RegresionBosque(X, y, padi_0, padi_1) \n",
    "\n",
    "nueva_X = np.vstack((nueva_X, padi))\n",
    "resultados_f1.append(f1)\n",
    "\n",
    "\n",
    "print(\"Iteración 4:\")\n",
    "print(resultados_f1)"
   ]
  },
  {
   "cell_type": "code",
   "execution_count": 132,
   "id": "4448a5ad-c97f-4961-a320-46fcdfcde660",
   "metadata": {},
   "outputs": [
    {
     "name": "stderr",
     "output_type": "stream",
     "text": [
      "C:\\Users\\santi\\anaconda3\\Lib\\site-packages\\sklearn\\gaussian_process\\_gpr.py:663: ConvergenceWarning: lbfgs failed to converge (status=2):\n",
      "ABNORMAL_TERMINATION_IN_LNSRCH.\n",
      "\n",
      "Increase the number of iterations (max_iter) or scale the data as shown in:\n",
      "    https://scikit-learn.org/stable/modules/preprocessing.html\n",
      "  _check_optimize_result(\"lbfgs\", opt_res)\n"
     ]
    },
    {
     "name": "stdout",
     "output_type": "stream",
     "text": [
      "Iteración 5:\n",
      "[0.9333333333333333, 0.9444444444444444, 0.9333333333333333, 0.9555555555555556, 0.9555555555555556, 0.9333333333333333, 0.9555555555555556, 0.9555555555555556, 0.9333333333333333, 0.9333333333333333, 0.9555555555555556]\n"
     ]
    }
   ],
   "source": [
    "# Quinta iteración \n",
    "kernel = 1.0 * RBF(length_scale=1)\n",
    "modelo_gp = GaussianProcessRegressor(kernel=kernel, n_restarts_optimizer=10).fit(nueva_X, resultados_f1)\n",
    "\n",
    "\n",
    "x_1 = np.linspace(5, 50, 100).reshape([-1, 1])\n",
    "x_2 = np.linspace(2, 10, 100).reshape([-1, 1])\n",
    "m_matricial = np.hstack((x_1, x_2))\n",
    "\n",
    "prediccion_y, desviacionstd_y = modelo_gp.predict(m_matricial, return_std=True)\n",
    "prediccion_y_alto = prediccion_y + 1.96 * desviacionstd_y\n",
    "i_prox = np.argmax(prediccion_y_alto)\n",
    "\n",
    "padi = m_matricial[i_prox]\n",
    "#Si estos dos no se ponen como enteros me marca un error no árboles mochos\n",
    "padi_0 = int(padi[0])\n",
    "padi_1 = int(padi[1])\n",
    "modelo, f1 = Bosque.RegresionBosque(X, y, padi_0, padi_1) \n",
    "\n",
    "nueva_X = np.vstack((nueva_X, padi))\n",
    "resultados_f1.append(f1)\n",
    "\n",
    "\n",
    "print(\"Iteración 5:\")\n",
    "print(resultados_f1)"
   ]
  },
  {
   "cell_type": "code",
   "execution_count": 134,
   "id": "899aceaf-3bf5-495e-bc1e-c4a3bbd532b9",
   "metadata": {},
   "outputs": [
    {
     "name": "stderr",
     "output_type": "stream",
     "text": [
      "C:\\Users\\santi\\anaconda3\\Lib\\site-packages\\sklearn\\gaussian_process\\_gpr.py:663: ConvergenceWarning: lbfgs failed to converge (status=2):\n",
      "ABNORMAL_TERMINATION_IN_LNSRCH.\n",
      "\n",
      "Increase the number of iterations (max_iter) or scale the data as shown in:\n",
      "    https://scikit-learn.org/stable/modules/preprocessing.html\n",
      "  _check_optimize_result(\"lbfgs\", opt_res)\n"
     ]
    },
    {
     "name": "stdout",
     "output_type": "stream",
     "text": [
      "Iteración 6:\n",
      "[0.9333333333333333, 0.9444444444444444, 0.9333333333333333, 0.9555555555555556, 0.9555555555555556, 0.9333333333333333, 0.9555555555555556, 0.9555555555555556, 0.9333333333333333, 0.9333333333333333, 0.9555555555555556, 0.9333333333333333]\n"
     ]
    }
   ],
   "source": [
    "# Sexta iteración \n",
    "kernel = 1.0 * RBF(length_scale=1)\n",
    "modelo_gp = GaussianProcessRegressor(kernel=kernel, n_restarts_optimizer=10).fit(nueva_X, resultados_f1)\n",
    "\n",
    "\n",
    "x_1 = np.linspace(5, 50, 100).reshape([-1, 1])\n",
    "x_2 = np.linspace(2, 10, 100).reshape([-1, 1])\n",
    "m_matricial = np.hstack((x_1, x_2))\n",
    "\n",
    "prediccion_y, desviacionstd_y = modelo_gp.predict(m_matricial, return_std=True)\n",
    "prediccion_y_alto = prediccion_y + 1.96 * desviacionstd_y\n",
    "i_prox = np.argmax(prediccion_y_alto)\n",
    "\n",
    "padi = m_matricial[i_prox]\n",
    "#Si estos dos no se ponen como enteros me marca un error no árboles mochos\n",
    "padi_0 = int(padi[0])\n",
    "padi_1 = int(padi[1])\n",
    "modelo, f1 = Bosque.RegresionBosque(X, y, padi_0, padi_1) \n",
    "\n",
    "nueva_X = np.vstack((nueva_X, padi))\n",
    "resultados_f1.append(f1)\n",
    "\n",
    "\n",
    "print(\"Iteración 6:\")\n",
    "print(resultados_f1)"
   ]
  },
  {
   "cell_type": "markdown",
   "id": "5e083a3c-fa68-4942-b5d3-f1f7130b4fbb",
   "metadata": {},
   "source": [
    "### Actividad 2:"
   ]
  },
  {
   "cell_type": "markdown",
   "id": "2817a47c-0081-4376-b222-c65735f4ab9d",
   "metadata": {},
   "source": [
    "Inicializa 2 vectores con posibles valores para las variables independientes:\n",
    "- árboles: números enteros entre 5 y 50\n",
    "- profundidad: números enteros entre 2 y 10\n",
    "\n",
    "Utiliza el algoritmo de Simulated Annealing que siga el siguiente orden:\n",
    "- Elige un punto de partida para las variables.\n",
    "- Selecciona al azar una de las dos para modificarlas.\n",
    "- Selecciona un elemento al azar de la lista que contiene los posibles valores de esa variable.\n",
    "- Sigue el algoritmo ($p$ y $q$) para decidir si usas esa combinación nueva o si mantienes la anterior."
   ]
  },
  {
   "cell_type": "code",
   "execution_count": 26,
   "id": "239fa243-bd6d-4ec4-860a-2eae65cea710",
   "metadata": {},
   "outputs": [],
   "source": [
    "import numpy as np\n",
    "import random\n",
    "\n",
    "# datos\n",
    "X, y = datasets.load_iris(return_X_y=True)\n",
    "\n",
    "# rangos de hiperparámetros\n",
    "v_arboles = np.arange(5, 51)  # árboles\n",
    "v_profundidad = np.arange(2, 11)  # profundidad \n",
    "\n",
    "T = 20  # Temperatura inicial\n",
    "T_min = 0.5  # Temperatura mínima\n",
    "alpha = 0.7  # Tasa de enfriamiento\n",
    "\n",
    "# escoge de manera aleatoria los hiperparámetros\n",
    "arbol_actual = random.choice(v_arboles)\n",
    "profundidad_actual = random.choice(v_profundidad)\n",
    "\n",
    "# modelo con los primeros hiperparámetros \n",
    "modelo, f1_actual = Bosque.RegresionBosque(X, y, arbol_actual, profundidad_actual)\n",
    "\n",
    "# mejor resultado\n",
    "mejor_f1 = f1_actual\n",
    "mejores_hiperparametros = (arbol_actual, profundidad_actual)"
   ]
  },
  {
   "cell_type": "code",
   "execution_count": 27,
   "id": "a710f7e3-7b5d-4951-8a3f-26ad75b8dbef",
   "metadata": {},
   "outputs": [],
   "source": [
    "#  optimización\n",
    "while T > T_min:\n",
    "    # cambia uno de los hiperparámetros \n",
    "    if random.choice([True, False]):\n",
    "        nuevo_arbol = random.choice(v_arboles)\n",
    "        nueva_profundidad = profundidad_actual\n",
    "    else:\n",
    "        nuevo_arbol = arbol_actual\n",
    "        nueva_profundidad = random.choice(v_profundidad)\n",
    "\n",
    "    # Evaluar nuevos hiperparámetros\n",
    "    modelo, nuevo_f1 = Bosque.RegresionBosque(X, y, nuevo_arbol, nueva_profundidad)\n",
    "\n",
    "    # Probabilidad de aceptar el nuevo modelo\n",
    "    p = np.exp((nuevo_f1 - f1_actual) / T)\n",
    "    if nuevo_f1 > f1_actual or random.random() < p:\n",
    "        # Aceptar el nuevo modelo\n",
    "        arbol_actual = nuevo_arbol\n",
    "        profundidad_actual = nueva_profundidad\n",
    "        f1_actual = nuevo_f1\n",
    "\n",
    "    # nuevo mejor resultado\n",
    "    if f1_actual > mejor_f1:\n",
    "        mejor_f1 = f1_actual\n",
    "        mejores_hiperparametros = (arbol_actual, profundidad_actual)\n",
    "\n",
    "    # Reducir la temperatura\n",
    "    T = T * alpha\n"
   ]
  },
  {
   "cell_type": "code",
   "execution_count": 28,
   "id": "00442559-60d2-440a-9ba0-5217ea775ac7",
   "metadata": {},
   "outputs": [
    {
     "data": {
      "text/plain": [
       "0.9555555555555556"
      ]
     },
     "execution_count": 28,
     "metadata": {},
     "output_type": "execute_result"
    }
   ],
   "source": [
    "mejor_f1"
   ]
  },
  {
   "cell_type": "code",
   "execution_count": null,
   "id": "f95d2f73-eb11-4b7d-83c1-4df61dce39f3",
   "metadata": {},
   "outputs": [],
   "source": []
  }
 ],
 "metadata": {
  "kernelspec": {
   "display_name": "Python 3 (ipykernel)",
   "language": "python",
   "name": "python3"
  },
  "language_info": {
   "codemirror_mode": {
    "name": "ipython",
    "version": 3
   },
   "file_extension": ".py",
   "mimetype": "text/x-python",
   "name": "python",
   "nbconvert_exporter": "python",
   "pygments_lexer": "ipython3",
   "version": "3.12.4"
  }
 },
 "nbformat": 4,
 "nbformat_minor": 5
}
