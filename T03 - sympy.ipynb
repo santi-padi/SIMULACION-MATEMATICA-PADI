{
 "cells": [
  {
   "cell_type": "markdown",
   "id": "5cafaee2-3ed6-4642-a7bc-c2e0d1c60239",
   "metadata": {},
   "source": [
    "# T03 - sympy\n"
   ]
  },
  {
   "cell_type": "markdown",
   "id": "f26ecc51-bb49-4549-9153-8c3a67e4a469",
   "metadata": {},
   "source": [
    "## Santiago Padillla Arias EXP:750985 Fecha: 01/09/2024\n"
   ]
  },
  {
   "cell_type": "markdown",
   "id": "ae407249-4027-4c44-9850-ccbf918ca990",
   "metadata": {},
   "source": [
    "1. El perímetro de un triángulo isósceles es de 20 cm. Imagina que este triángulo rota centrado en su eje de simetría para formar la ilusión de un cono.\n",
    "   ¿Cuánto deben medir sus lados para que el volumen generado por la rotación sea el mayor posible?"
   ]
  },
  {
   "cell_type": "code",
   "execution_count": 77,
   "id": "e39c020a-43af-45bf-8464-6203a7090185",
   "metadata": {},
   "outputs": [
    {
     "data": {
      "text/latex": [
       "$\\displaystyle 6.0$"
      ],
      "text/plain": [
       "6.00000000000000"
      ]
     },
     "execution_count": 77,
     "metadata": {},
     "output_type": "execute_result"
    }
   ],
   "source": [
    "import sympy as sp\n",
    "# Defino variables\n",
    "sp.var(\"x\")\n",
    "sp.var(\"y\")\n",
    "sp.var(\"h\")\n",
    "# Defino ecuaciones\n",
    "perimetro = 2*y + x -20\n",
    "pitagoras = y**2 - (x/2)**2 - h**2\n",
    "\n",
    "volumen_xh = (1/3)*sp.pi*(x/2)**2*h\n",
    "\n",
    "# Decido cuál ecuación optimizar. Área es lo que tengo que optimizar, entonces debo sustituir las otras ecuaciones en pitagoras y volumen.\n",
    "# Resuelvo ecuación para despejar una variable\n",
    "x_y = sp.solve(perimetro, x) [0]\n",
    "h_y = sp.solve(pitagoras.subs(x, x_y), h)[1]\n",
    "\n",
    "# Sustituyo en ecuación a optimizar para reducir variables\n",
    "vol_y = volumen_xh.subs(x, x_y)\n",
    "vol_y_2 = vol_y.subs(h, h_y)\n",
    "\n",
    "# Derivo para encontrar punto critico\n",
    "dvol_y = sp.diff(vol_y_2, y)\n",
    "pc = sp.solve(dvol_y, y) [0] \n",
    "pc"
   ]
  },
  {
   "cell_type": "markdown",
   "id": "e0c03b72-77cf-4872-a35a-60d202fde36c",
   "metadata": {},
   "source": [
    "Una de las medidas de los lados debe ser de:  **6**"
   ]
  },
  {
   "cell_type": "code",
   "execution_count": 79,
   "id": "393112f3-fee5-47db-9079-4bca4dbfed83",
   "metadata": {},
   "outputs": [
    {
     "data": {
      "text/latex": [
       "$\\displaystyle 8.0$"
      ],
      "text/plain": [
       "8.00000000000000"
      ]
     },
     "execution_count": 79,
     "metadata": {},
     "output_type": "execute_result"
    }
   ],
   "source": [
    "x_y.subs (y, pc)"
   ]
  },
  {
   "cell_type": "markdown",
   "id": "0969ddf8-3be0-4522-a0aa-29f1d2c7b95c",
   "metadata": {},
   "source": [
    "La otra de las medidas de los lados debe ser de:  **8**"
   ]
  },
  {
   "cell_type": "markdown",
   "id": "805ee061-c7cd-4dc4-b725-da610cdf7f76",
   "metadata": {},
   "source": [
    "2. Disponemos de una barra de aluminio de 6 metros para construir una portería de fútbol en un parque. Es una portería simple que tendrá sólo dos postes y el travesaño:\n",
    "   Si queremos que el área de la portería sea máxima, ¿cuánto deben medir los postes y el travesaño?"
   ]
  },
  {
   "cell_type": "code",
   "execution_count": 116,
   "id": "2b4b50a1-d4a3-4b19-94ff-0c53e5a33d75",
   "metadata": {},
   "outputs": [
    {
     "data": {
      "text/latex": [
       "$\\displaystyle \\frac{3}{2}$"
      ],
      "text/plain": [
       "3/2"
      ]
     },
     "execution_count": 116,
     "metadata": {},
     "output_type": "execute_result"
    }
   ],
   "source": [
    "# Defino variables\n",
    "sp.var (\"x\")\n",
    "sp.var(\"h\")\n",
    "# Defino ecuaciones\n",
    "perimetro = x + 2*h -6\n",
    "area = x*h\n",
    "# Decido cuál ecuación optimizar. Área es lo que tengo que optimizar, entonces debo sustituir las otras ecuaciones en area.\n",
    "# Resuelvo ecuación para despejar una variable\n",
    "x_h = sp.solve(perimetro, x) [0]\n",
    "# Sustituyo en ecuación a optimizar para reducir variables\n",
    "A = area.subs(x, x_h)\n",
    "# Derivo para encontrar punto critico\n",
    "dA = sp.diff(A, h)\n",
    "pc = sp.solve(dA, h) [0]\n",
    "pc"
   ]
  },
  {
   "cell_type": "markdown",
   "id": "8ee28389-b306-4531-bf40-6ee01b49c575",
   "metadata": {},
   "source": [
    "La altura de los postes debe ser de:  **1.5**"
   ]
  },
  {
   "cell_type": "code",
   "execution_count": 119,
   "id": "43c94bbb-09a5-46a8-86b0-af2cbc61456d",
   "metadata": {},
   "outputs": [
    {
     "data": {
      "text/latex": [
       "$\\displaystyle 3$"
      ],
      "text/plain": [
       "3"
      ]
     },
     "execution_count": 119,
     "metadata": {},
     "output_type": "execute_result"
    }
   ],
   "source": [
    "x_h.subs(h, pc)"
   ]
  },
  {
   "cell_type": "markdown",
   "id": "8a4f71e8-71d7-4a2f-9b84-d6520d66d63e",
   "metadata": {},
   "source": [
    "El travesaño debe medir:  **3**"
   ]
  },
  {
   "cell_type": "markdown",
   "id": "9117b7e0-a35f-4e1b-b7f7-c238ab1f928b",
   "metadata": {},
   "source": [
    "3. **Resistencia de una viga** Una viga de madera tiene una sección transversal rectangular de altura $h$ y ancho $w$. La resistencia $S$ de la viga es directamente proporcional al ancho y al\n",
    "cuadrado de su altura ($S = kwh$, donde $k$ es una constante de proporcionalidad). ¿Cuáles son las dimensiones de la viga más fuerte que puede cortarse a partir de un leño redondo de 24 pulgadas de diámetro?"
   ]
  },
  {
   "cell_type": "code",
   "execution_count": 105,
   "id": "faf6d075-df53-448e-a071-5065450dcd82",
   "metadata": {},
   "outputs": [
    {
     "data": {
      "text/plain": [
       "[0]"
      ]
     },
     "execution_count": 105,
     "metadata": {},
     "output_type": "execute_result"
    }
   ],
   "source": [
    "import sympy as sp\n",
    "# Defino variables\n",
    "sp.var(\"h\") # altura\n",
    "sp.var(\"w\") # ancho\n",
    "sp.var(\"S\") # resistencia\n",
    "sp.var(\"k\") # constante de proporcionalidad\n",
    "\n",
    "# Defino ecuaciones\n",
    "S = k*w*h**2\n",
    "Cuadrado = h*w\n",
    "#Pitagoras  24**2= h**2 + w**2\n",
    "triangulo = h**2 + w**2 - 24**2\n",
    "\n",
    "# Decido cuál ecuación optimizar. Triangulo es lo que tengo que optimizar, entonces debo sustituir las otras ecuacion en cuadrado.\n",
    "# Resuelvo ecuación para despejar una variable\n",
    "triangulo_h = sp.solve(triangulo, h)[1] # Este corchete es porque hay dos posibles respuestas pero por lógica la respuesta negativa no nos sirve\n",
    "#triangulo_h\n",
    "\n",
    "# Sustituyo en ecuación a optimizar para reducir variables\n",
    "Cuadrado2 = triangulo_h.subs(h, triangulo_h)\n",
    "\n",
    "# Derivo para encontrar punto critico\n",
    "d_cuad = sp.diff(Cuadrado2, w)\n",
    "pc = sp.solve(d_cuad, w)\n",
    "pc"
   ]
  },
  {
   "cell_type": "markdown",
   "id": "f9bcfbd6-d91b-4e59-ac58-aab39296d6c3",
   "metadata": {},
   "source": [
    "4. **Iluminación** Una fuente luminosa se localiza sobre el centro de una mesa circular de 4 pies de diámetro. Encontrar la altura $h$ de la fuente luminosa de modo tal que la iluminación $I$ en el perímetro de la mesa sea máxima si $I =\\frac {k(sin \\alpha)}{ s2}$, donde $s$ es la altura oblicua, $\\alpha$ es el ángulo al cual la luz incide sobre la mesa y $k$ es una constante (El valor de esta última constante es irrelevante para el problema, ya que no se pide el valor de la iluminación)."
   ]
  },
  {
   "cell_type": "code",
   "execution_count": 132,
   "id": "e125adfe-b624-4ce1-93f4-ec93485f9290",
   "metadata": {},
   "outputs": [
    {
     "data": {
      "text/latex": [
       "$\\displaystyle \\sqrt{s^{2} - 4}$"
      ],
      "text/plain": [
       "sqrt(s**2 - 4)"
      ]
     },
     "execution_count": 132,
     "metadata": {},
     "output_type": "execute_result"
    }
   ],
   "source": [
    "import sympy as sp\n",
    "# Defino variables\n",
    "sp.var(\"h\") # altura\n",
    "sp.var(\"I\") # Iluminacion\n",
    "sp.var(\"a\") # angulo de luz\n",
    "sp.var(\"s\") # altura oblicua\n",
    "\n",
    "# Defino ecuaciones\n",
    "# I = (k*(np.sin(alpha)))/s2\n",
    "# s**2= h**2 + 2**2   2**2=4\n",
    "triangulo = h**2 + 4 - s**2\n",
    "\n",
    "# Decido cuál ecuación optimizar. Triangulo es lo que tengo que optimizar, entonces debo sustituir las otras ecuacion en cuadrado.\n",
    "# Resuelvo ecuación para despejar una variable\n",
    "triangulo_h = sp.solve(triangulo, h)[1] # Este corchete es porque hay dos posibles respuestas pero por lógica la respuesta negativa no nos sirve\n",
    "triangulo_h\n",
    "\n",
    "# Sustituyo en ecuación a optimizar para reducir variables\n",
    "\n",
    "# Derivo para encontrar punto critico\n",
    "\n",
    "# alpha = angulo\n"
   ]
  },
  {
   "cell_type": "markdown",
   "id": "a00c5ee7-b3cd-4709-8122-1964ff2113ce",
   "metadata": {},
   "source": [
    "5. **Fuerza mínima** Se diseña un componente para deslizar un bloque de acero con peso $W = 10N$ a través de una mesa y sobre una canaleta. Se opone al movimiento del bloque una fuerza de fricción proporcional a su peso aparente (sea $k = 0.1$ la constante de proporcionalidad). Determinar la fuerza mínima $f$ necesaria para deslizar el bloque y encontrar el valor correspondiente de 0 (ángulo)."
   ]
  },
  {
   "cell_type": "code",
   "execution_count": 34,
   "id": "d3e22c9d-3467-4e1f-874f-23c5d939d215",
   "metadata": {},
   "outputs": [],
   "source": [
    "import matplotlib.pyplot as plt\n",
    "import numpy as np\n",
    "# Defino variables\n",
    "sp.var(\"f\")\n",
    "W = 10\n",
    "k = 0.1\n",
    "\n",
    "# Defino ecuaciones\n",
    "f = W - k"
   ]
  },
  {
   "cell_type": "code",
   "execution_count": null,
   "id": "720841ea-f506-4e8b-8949-a09ebbf63bbe",
   "metadata": {},
   "outputs": [],
   "source": []
  }
 ],
 "metadata": {
  "kernelspec": {
   "display_name": "Python 3 (ipykernel)",
   "language": "python",
   "name": "python3"
  },
  "language_info": {
   "codemirror_mode": {
    "name": "ipython",
    "version": 3
   },
   "file_extension": ".py",
   "mimetype": "text/x-python",
   "name": "python",
   "nbconvert_exporter": "python",
   "pygments_lexer": "ipython3",
   "version": "3.12.4"
  }
 },
 "nbformat": 4,
 "nbformat_minor": 5
}
