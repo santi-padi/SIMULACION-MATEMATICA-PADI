{
 "cells": [
  {
   "cell_type": "markdown",
   "id": "5cafaee2-3ed6-4642-a7bc-c2e0d1c60239",
   "metadata": {},
   "source": [
    "# T03 - sympy\n"
   ]
  },
  {
   "cell_type": "markdown",
   "id": "f26ecc51-bb49-4549-9153-8c3a67e4a469",
   "metadata": {},
   "source": [
    "## Santiago Padillla Arias EXP:750985 Fecha: 01/09/2024\n"
   ]
  },
  {
   "cell_type": "markdown",
   "id": "ae407249-4027-4c44-9850-ccbf918ca990",
   "metadata": {},
   "source": [
    "1. El perímetro de un triángulo isósceles es de 20 cm. Imagina que este triángulo rota centrado en su eje de simetría para formar la ilusión de un cono.\n",
    "   ¿Cuánto deben medir sus lados para que el volumen generado por la rotación sea el mayor posible?"
   ]
  },
  {
   "cell_type": "code",
   "execution_count": 8,
   "id": "e39c020a-43af-45bf-8464-6203a7090185",
   "metadata": {},
   "outputs": [
    {
     "ename": "NameError",
     "evalue": "name 'a' is not defined",
     "output_type": "error",
     "traceback": [
      "\u001b[1;31m---------------------------------------------------------------------------\u001b[0m",
      "\u001b[1;31mNameError\u001b[0m                                 Traceback (most recent call last)",
      "Cell \u001b[1;32mIn[8], line 5\u001b[0m\n\u001b[0;32m      2\u001b[0m \u001b[38;5;28;01mimport\u001b[39;00m \u001b[38;5;21;01mnumpy\u001b[39;00m \u001b[38;5;28;01mas\u001b[39;00m \u001b[38;5;21;01mnp\u001b[39;00m\n\u001b[0;32m      4\u001b[0m P \u001b[38;5;241m=\u001b[39m \u001b[38;5;241m20\u001b[39m\n\u001b[1;32m----> 5\u001b[0m P \u001b[38;5;241m=\u001b[39m \u001b[38;5;241m2\u001b[39m\u001b[38;5;241m*\u001b[39ma \u001b[38;5;241m+\u001b[39m b\n",
      "\u001b[1;31mNameError\u001b[0m: name 'a' is not defined"
     ]
    }
   ],
   "source": [
    "import matplotlib.pyplot as plt\n",
    "import numpy as np\n",
    "\n",
    "P = 20\n",
    "P = 2*a + b"
   ]
  },
  {
   "cell_type": "markdown",
   "id": "805ee061-c7cd-4dc4-b725-da610cdf7f76",
   "metadata": {},
   "source": [
    "2. Disponemos de una barra de aluminio de 6 metros para construir una portería de fútbol en un parque. Es una portería simple que tendrá sólo dos postes y el travesaño:\n",
    "   Si queremos que el área de la portería sea máxima, ¿cuánto deben medir los postes y el travesaño?"
   ]
  },
  {
   "cell_type": "code",
   "execution_count": 22,
   "id": "2b4b50a1-d4a3-4b19-94ff-0c53e5a33d75",
   "metadata": {},
   "outputs": [
    {
     "ename": "NameError",
     "evalue": "name 'pos' is not defined",
     "output_type": "error",
     "traceback": [
      "\u001b[1;31m---------------------------------------------------------------------------\u001b[0m",
      "\u001b[1;31mNameError\u001b[0m                                 Traceback (most recent call last)",
      "Cell \u001b[1;32mIn[22], line 5\u001b[0m\n\u001b[0;32m      2\u001b[0m \u001b[38;5;28;01mimport\u001b[39;00m \u001b[38;5;21;01mnumpy\u001b[39;00m \u001b[38;5;28;01mas\u001b[39;00m \u001b[38;5;21;01mnp\u001b[39;00m\n\u001b[0;32m      4\u001b[0m Por \u001b[38;5;241m=\u001b[39m \u001b[38;5;241m6\u001b[39m\n\u001b[1;32m----> 5\u001b[0m Por \u001b[38;5;241m=\u001b[39m \u001b[38;5;241m2\u001b[39m\u001b[38;5;241m*\u001b[39mpos \u001b[38;5;241m+\u001b[39m tra\n\u001b[0;32m      6\u001b[0m Area \u001b[38;5;241m=\u001b[39m pos \u001b[38;5;241m*\u001b[39m tra\n",
      "\u001b[1;31mNameError\u001b[0m: name 'pos' is not defined"
     ]
    }
   ],
   "source": [
    "import matplotlib.pyplot as plt\n",
    "import numpy as np\n",
    "\n",
    "Por = 6\n",
    "Por = 2*pos + tra\n",
    "Area = pos * tra\n",
    "\n",
    "\n",
    "def f(x) :\n",
    "    return 1235+113*x-6*x**2\n",
    "sp.var(\"x\") # defino variable \n",
    "df= sp.diff(f(x),x) # encuentro derivada 1\n",
    "pc = sp.solve(df,x) # encuentro punto critico \n",
    "print(pc)\n",
    "d2f = sp.diff(df,x) # Encuentra la derivada 2\n",
    "d2f # para saber si es un minimo o un maximo "
   ]
  },
  {
   "cell_type": "markdown",
   "id": "9117b7e0-a35f-4e1b-b7f7-c238ab1f928b",
   "metadata": {},
   "source": [
    "3. **Resistencia de una viga** Una viga de madera tiene una sección transversal rectangular de altura $h$ y ancho $w$. La resistencia $S$ de la viga es directamente proporcional al ancho y al\n",
    "cuadrado de su altura ($S = kwh$, donde $k$ es una constante de proporcionalidad). ¿Cuálesson las dimensiones de la viga más fuerte que puede cortarse a partir de un leño redondo de 24 pulgadas de diámetro?"
   ]
  },
  {
   "cell_type": "code",
   "execution_count": 25,
   "id": "faf6d075-df53-448e-a071-5065450dcd82",
   "metadata": {},
   "outputs": [
    {
     "ename": "NameError",
     "evalue": "name 'k' is not defined",
     "output_type": "error",
     "traceback": [
      "\u001b[1;31m---------------------------------------------------------------------------\u001b[0m",
      "\u001b[1;31mNameError\u001b[0m                                 Traceback (most recent call last)",
      "Cell \u001b[1;32mIn[25], line 4\u001b[0m\n\u001b[0;32m      1\u001b[0m \u001b[38;5;28;01mimport\u001b[39;00m \u001b[38;5;21;01mmatplotlib\u001b[39;00m\u001b[38;5;21;01m.\u001b[39;00m\u001b[38;5;21;01mpyplot\u001b[39;00m \u001b[38;5;28;01mas\u001b[39;00m \u001b[38;5;21;01mplt\u001b[39;00m\n\u001b[0;32m      2\u001b[0m \u001b[38;5;28;01mimport\u001b[39;00m \u001b[38;5;21;01mnumpy\u001b[39;00m \u001b[38;5;28;01mas\u001b[39;00m \u001b[38;5;21;01mnp\u001b[39;00m\n\u001b[1;32m----> 4\u001b[0m S \u001b[38;5;241m=\u001b[39m k\u001b[38;5;241m*\u001b[39mw\u001b[38;5;241m*\u001b[39mh\u001b[38;5;241m*\u001b[39m\u001b[38;5;241m*\u001b[39m\u001b[38;5;241m2\u001b[39m\n",
      "\u001b[1;31mNameError\u001b[0m: name 'k' is not defined"
     ]
    }
   ],
   "source": [
    "import matplotlib.pyplot as plt\n",
    "import numpy as np\n",
    "\n",
    "S = k*w*h**2"
   ]
  },
  {
   "cell_type": "markdown",
   "id": "f9bcfbd6-d91b-4e59-ac58-aab39296d6c3",
   "metadata": {},
   "source": [
    "4. **Iluminación** Una fuente luminosa se localiza sobre el centro de una mesa circular de 4 pies de diámetro. Encontrar la altura $h$ de la fuente luminosa de modo tal que la iluminación $I$ en el perímetro de la mesa sea máxima si $I =\\frac {k(sin \\alpha)}{ s2}$, donde $s$ es la altura oblicua, $\\alpha$ es el ángulo al cual la luz incide sobre la mesa y $k$ es una constante (El valor de esta última constante es irrelevante para el problema, ya que no se pide el valor de la iluminación)."
   ]
  },
  {
   "cell_type": "code",
   "execution_count": 31,
   "id": "e125adfe-b624-4ce1-93f4-ec93485f9290",
   "metadata": {},
   "outputs": [
    {
     "ename": "NameError",
     "evalue": "name 'angulo' is not defined",
     "output_type": "error",
     "traceback": [
      "\u001b[1;31m---------------------------------------------------------------------------\u001b[0m",
      "\u001b[1;31mNameError\u001b[0m                                 Traceback (most recent call last)",
      "Cell \u001b[1;32mIn[31], line 3\u001b[0m\n\u001b[0;32m      1\u001b[0m \u001b[38;5;28;01mimport\u001b[39;00m \u001b[38;5;21;01mmatplotlib\u001b[39;00m\u001b[38;5;21;01m.\u001b[39;00m\u001b[38;5;21;01mpyplot\u001b[39;00m \u001b[38;5;28;01mas\u001b[39;00m \u001b[38;5;21;01mplt\u001b[39;00m\n\u001b[0;32m      2\u001b[0m \u001b[38;5;28;01mimport\u001b[39;00m \u001b[38;5;21;01mnumpy\u001b[39;00m \u001b[38;5;28;01mas\u001b[39;00m \u001b[38;5;21;01mnp\u001b[39;00m\n\u001b[1;32m----> 3\u001b[0m alpha \u001b[38;5;241m=\u001b[39m angulo\n\u001b[0;32m      4\u001b[0m I \u001b[38;5;241m=\u001b[39m (k\u001b[38;5;241m*\u001b[39m(np\u001b[38;5;241m.\u001b[39msin(alpha)))\u001b[38;5;241m/\u001b[39ms2\n",
      "\u001b[1;31mNameError\u001b[0m: name 'angulo' is not defined"
     ]
    }
   ],
   "source": [
    "import matplotlib.pyplot as plt\n",
    "import numpy as np\n",
    "alpha = angulo\n",
    "I = (k*(np.sin(alpha)))/s2"
   ]
  },
  {
   "cell_type": "markdown",
   "id": "a00c5ee7-b3cd-4709-8122-1964ff2113ce",
   "metadata": {},
   "source": [
    "5. **Fuerza mínima** Se diseña un componente para deslizar un bloque de acero con peso $W = 10N$ a través de una mesa y sobre una canaleta. Se opone al movimiento del bloque una fuerza de fricción proporcional a su peso aparente (sea $k = 0.1$ la constante de proporcionalidad). Determinar la fuerza mínima $f$ necesaria para deslizar el bloque y encontrar el valor correspondiente de 0 (ángulo)."
   ]
  },
  {
   "cell_type": "code",
   "execution_count": 34,
   "id": "d3e22c9d-3467-4e1f-874f-23c5d939d215",
   "metadata": {},
   "outputs": [],
   "source": [
    "import matplotlib.pyplot as plt\n",
    "import numpy as np\n",
    "\n",
    "W = 10\n",
    "k = 0.1"
   ]
  },
  {
   "cell_type": "code",
   "execution_count": null,
   "id": "720841ea-f506-4e8b-8949-a09ebbf63bbe",
   "metadata": {},
   "outputs": [],
   "source": []
  }
 ],
 "metadata": {
  "kernelspec": {
   "display_name": "Python 3 (ipykernel)",
   "language": "python",
   "name": "python3"
  },
  "language_info": {
   "codemirror_mode": {
    "name": "ipython",
    "version": 3
   },
   "file_extension": ".py",
   "mimetype": "text/x-python",
   "name": "python",
   "nbconvert_exporter": "python",
   "pygments_lexer": "ipython3",
   "version": "3.12.4"
  }
 },
 "nbformat": 4,
 "nbformat_minor": 5
}
