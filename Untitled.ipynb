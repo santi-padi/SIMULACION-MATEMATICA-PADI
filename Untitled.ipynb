{
 "cells": [
  {
   "cell_type": "markdown",
   "id": "ef943fe9-2554-4587-ab2a-b01969b5f08c",
   "metadata": {},
   "source": [
    "# Simulacion Matematica\n",
    "\n",
    "texto\n",
    "\n",
    "# Otro titutlo\n",
    "\n",
    "Texto"
   ]
  },
  {
   "cell_type": "code",
   "execution_count": 1,
   "id": "ae9600cb-cd2c-442a-8584-b1ec56c99eef",
   "metadata": {},
   "outputs": [
    {
     "data": {
      "text/plain": [
       "2"
      ]
     },
     "execution_count": 1,
     "metadata": {},
     "output_type": "execute_result"
    }
   ],
   "source": [
    "1 + 1"
   ]
  },
  {
   "cell_type": "markdown",
   "id": "bb500de4-5fc5-44b5-8643-e121d2de3fcf",
   "metadata": {},
   "source": [
    "# Calificacion del chocolate"
   ]
  },
  {
   "cell_type": "markdown",
   "id": "d0b3ffc7-0d14-4d53-86cf-9037443fd3da",
   "metadata": {},
   "source": [
    "* Chocolate blanco\n",
    "  * Sublista1\n",
    "  * Sublista2\n",
    "  * Sublista3\n",
    "* Chocolate negro"
   ]
  },
  {
   "cell_type": "markdown",
   "id": "30a1916e-3fae-4dd7-a58b-4c23df56e01b",
   "metadata": {},
   "source": [
    "$ \\frac {7}{8} $"
   ]
  },
  {
   "cell_type": "markdown",
   "id": "8359c6e0-b0dd-4e39-b1d0-ff53d6b31409",
   "metadata": {},
   "source": [
    "$$ \\frac {numerador}{denominador} $$\n",
    "$$ \\sqrt {adentro}fuera $$\n",
    "$$ e^{expresion}$$\n",
    "$$ e^{expresion^2}$$"
   ]
  },
  {
   "cell_type": "markdown",
   "id": "d11c2863-484e-4f1f-9839-0c7fcb404aa6",
   "metadata": {},
   "source": [
    "$$ /Alpha $$"
   ]
  },
  {
   "cell_type": "code",
   "execution_count": null,
   "id": "81b446e4-d3ed-4eeb-9414-f74ca522d981",
   "metadata": {},
   "outputs": [],
   "source": []
  }
 ],
 "metadata": {
  "kernelspec": {
   "display_name": "Python 3 (ipykernel)",
   "language": "python",
   "name": "python3"
  },
  "language_info": {
   "codemirror_mode": {
    "name": "ipython",
    "version": 3
   },
   "file_extension": ".py",
   "mimetype": "text/x-python",
   "name": "python",
   "nbconvert_exporter": "python",
   "pygments_lexer": "ipython3",
   "version": "3.12.4"
  }
 },
 "nbformat": 4,
 "nbformat_minor": 5
}
