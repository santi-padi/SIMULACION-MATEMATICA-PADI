{
 "cells": [
  {
   "cell_type": "markdown",
   "id": "b2dafbb7-7223-4f64-93fd-7221cad20d2b",
   "metadata": {},
   "source": [
    "# Actividad en clase 04"
   ]
  },
  {
   "cell_type": "markdown",
   "id": "5c41b71a-a6ea-4e35-954f-e1d4430f1f52",
   "metadata": {},
   "source": [
    "## Santiago Padillla Arias EXP:750985 Fecha: 29/08/2024"
   ]
  },
  {
   "cell_type": "markdown",
   "id": "925a9d33-989c-4215-a595-ad36c6ababe6",
   "metadata": {},
   "source": [
    "1. Utiliza sympy y encuentra los valores de las incógnitas que hagan que los siguientes sistemas de ecuaciones sean verdaderos:"
   ]
  },
  {
   "cell_type": "markdown",
   "id": "5600809d-41a5-4a65-8998-e690a36d8b15",
   "metadata": {},
   "source": [
    "- $$ x + y = 10 $$\n",
    "- $$ x - y = 2 $$"
   ]
  },
  {
   "cell_type": "code",
   "execution_count": 26,
   "id": "84a5c7d2-613d-4599-9db8-00edb9e37889",
   "metadata": {},
   "outputs": [
    {
     "data": {
      "text/plain": [
       "(6, 4)"
      ]
     },
     "execution_count": 26,
     "metadata": {},
     "output_type": "execute_result"
    }
   ],
   "source": [
    "import sympy as sp\n",
    "\n",
    "sp.var(\"x\")\n",
    "sp.var(\"y\")\n",
    "\n",
    "# Define ecuaciones\n",
    "eq1 = x + y -10\n",
    "eq2 = x - y -2\n",
    "\n",
    "# Resuelvo una variable en una ecuación\n",
    "x_eq1 = sp.solve(eq1,x)[0]\n",
    "x_eq1\n",
    "\n",
    "# Sustituyo en la segunda ecuación\n",
    "y_eq2 = eq2.subs(x, x_eq1)\n",
    "\n",
    "# Resuelvo en la segunda ecuación\n",
    "y_sol = sp.solve(y_eq2, y)[0]\n",
    "\n",
    "# Sustituyo en la segunda ecuación\n",
    "x_sol = x_eq1.subs(y, y_sol)\n",
    "\n",
    "x_sol, y_sol"
   ]
  },
  {
   "cell_type": "markdown",
   "id": "5dc416c6-4dd8-4132-b2a6-1104b1e63607",
   "metadata": {},
   "source": [
    "- $$ \\frac {3x - 2y}{3} + 4y = \\frac {13}{3} $$\n",
    "- $$ \\frac {2(-2y + x)}{3} - \\frac {3x}{2} = - \\frac {13}{6} $$"
   ]
  },
  {
   "cell_type": "code",
   "execution_count": 47,
   "id": "1deb0554-39fd-4761-86b5-453ad5c8aba7",
   "metadata": {},
   "outputs": [
    {
     "data": {
      "text/plain": [
       "(1.00000000000000, 1.00000000000000)"
      ]
     },
     "execution_count": 47,
     "metadata": {},
     "output_type": "execute_result"
    }
   ],
   "source": [
    "import sympy as sp\n",
    "\n",
    "sp.var(\"x\")\n",
    "sp.var(\"y\")\n",
    "\n",
    "# Define ecuaciones\n",
    "eq1 = ((3*x - 2*y)/3)+4*y-13/3\n",
    "eq2 = ((2*(-2*y + x))/3)-(3*x/2)+13/6\n",
    "\n",
    "# Resuelvo una variable en una ecuación\n",
    "x_eq1 = sp.solve(eq1,x)[0]\n",
    "x_eq1\n",
    "\n",
    "# Sustituyo en la segunda ecuación\n",
    "y_eq2 = eq2.subs(x, x_eq1)\n",
    "\n",
    "# Resuelvo en la segunda ecuación\n",
    "y_sol = sp.solve(y_eq2, y)[0]\n",
    "\n",
    "# Sustituyo en la segunda ecuación\n",
    "x_sol = x_eq1.subs(y, y_sol)\n",
    "\n",
    "x_sol, y_sol"
   ]
  },
  {
   "cell_type": "markdown",
   "id": "21ccb908-00c4-4004-9d54-a3f4d5573846",
   "metadata": {},
   "source": [
    "- $$ x^2 - 2y = 16 $$\n",
    "- $$ x - y = 3 $$"
   ]
  },
  {
   "cell_type": "code",
   "execution_count": 68,
   "id": "f95e2412-b06d-4cca-8ebf-d0be209c4664",
   "metadata": {},
   "outputs": [
    {
     "data": {
      "text/plain": [
       "[-sqrt(2*y + 16), sqrt(2*y + 16)]"
      ]
     },
     "execution_count": 68,
     "metadata": {},
     "output_type": "execute_result"
    }
   ],
   "source": [
    "import sympy as sp\n",
    "\n",
    "sp.var(\"x\")\n",
    "sp.var(\"y\")\n",
    "\n",
    "# Define ecuaciones\n",
    "eq1 = x**2 - 2*y -16\n",
    "eq2 = x - y -3\n",
    "\n",
    "# Resuelvo una variable en una ecuación\n",
    "x_eq1 = sp.solve(eq1,x)\n",
    "x_eq1"
   ]
  },
  {
   "cell_type": "code",
   "execution_count": 70,
   "id": "2b115fcd-707e-44d4-81b3-5705c5ed0502",
   "metadata": {},
   "outputs": [
    {
     "data": {
      "text/plain": [
       "[x**2/2 - 8]"
      ]
     },
     "execution_count": 70,
     "metadata": {},
     "output_type": "execute_result"
    }
   ],
   "source": [
    "import sympy as sp\n",
    "\n",
    "sp.var(\"x\")\n",
    "sp.var(\"y\")\n",
    "\n",
    "# Define ecuaciones\n",
    "eq1 = x**2 - 2*y -16\n",
    "eq2 = x - y -3\n",
    "\n",
    "# Resuelvo una variable en una ecuación\n",
    "y_eq1 = sp.solve(eq1,y)\n",
    "y_eq1"
   ]
  },
  {
   "cell_type": "code",
   "execution_count": null,
   "id": "290dff2f-68dc-411d-9990-fd3261736f6d",
   "metadata": {},
   "outputs": [],
   "source": [
    "# Sustituyo en la segunda ecuación\n",
    "y_eq2 = eq2.subs(x, x_eq1)\n",
    "\n",
    "# Resuelvo en la segunda ecuación\n",
    "y_sol = sp.solve(y_eq2, y)[0]\n",
    "\n",
    "# Sustituyo en la segunda ecuación\n",
    "x_sol = x_eq1.subs(y, y_sol)\n",
    "\n",
    "x_sol, y_sol"
   ]
  },
  {
   "cell_type": "code",
   "execution_count": 80,
   "id": "364e2036-897a-4134-ae8c-1499d28a476c",
   "metadata": {},
   "outputs": [
    {
     "data": {
      "text/plain": [
       "[(1 - sqrt(11), -sqrt(11) - 2), (1 + sqrt(11), -2 + sqrt(11))]"
      ]
     },
     "execution_count": 80,
     "metadata": {},
     "output_type": "execute_result"
    }
   ],
   "source": [
    "eq1 = x**2 - 2*y -16\n",
    "eq2 = x - y -3\n",
    "sol = sp.solve((eq1,eq2),(x,y))\n",
    "sol"
   ]
  },
  {
   "cell_type": "markdown",
   "id": "17ca9c9e-a66d-4ea9-95e6-d6d613c794c5",
   "metadata": {},
   "source": [
    "- $$ x + y -z = 10 $$\n",
    "- $$ x- y = 2 $$\n",
    "- $$ y + z= -2 $$"
   ]
  },
  {
   "cell_type": "code",
   "execution_count": 84,
   "id": "1fd29a4e-b3ac-41c7-9e57-be6cd0d8713e",
   "metadata": {},
   "outputs": [
    {
     "data": {
      "text/plain": [
       "{x: 4, y: 2, z: -4}"
      ]
     },
     "execution_count": 84,
     "metadata": {},
     "output_type": "execute_result"
    }
   ],
   "source": [
    "import sympy as sp\n",
    "\n",
    "sp.var(\"z\")\n",
    "\n",
    "eq1 = x + y - z - 10\n",
    "eq2 = x - y -2\n",
    "eq3 = y + z +2\n",
    "sol = sp.solve((eq1,eq2,eq3),(x,y,z))\n",
    "sol"
   ]
  },
  {
   "cell_type": "markdown",
   "id": "e956835c-dece-45b5-a649-843e379d860c",
   "metadata": {},
   "source": [
    "2. Encuentra los puntos críticos usando cálculo diferencial, decide si son máximos o mínimos usando el criterio de la segunda derivada, y grafica para decidir se son óptimos locales o globales:"
   ]
  },
  {
   "cell_type": "markdown",
   "id": "5a865ae0-0dc4-43bd-8013-d00aa547626c",
   "metadata": {},
   "source": [
    "   - $$ f(x) = 1235 + 113x - 6x^2 $$"
   ]
  },
  {
   "cell_type": "code",
   "execution_count": 123,
   "id": "b00af61e-ad1d-40cd-952e-21fd267b0398",
   "metadata": {},
   "outputs": [
    {
     "ename": "SyntaxError",
     "evalue": "invalid syntax (4270233908.py, line 11)",
     "output_type": "error",
     "traceback": [
      "\u001b[1;36m  Cell \u001b[1;32mIn[123], line 11\u001b[1;36m\u001b[0m\n\u001b[1;33m    if: d2f == 0:\u001b[0m\n\u001b[1;37m      ^\u001b[0m\n\u001b[1;31mSyntaxError\u001b[0m\u001b[1;31m:\u001b[0m invalid syntax\n"
     ]
    }
   ],
   "source": [
    "def f(x) :\n",
    "    return 1235 + 113*x -(6*x)**2\n",
    "sp.var(\"x\")\n",
    "df = sp.diff(f(x),x)\n",
    "pc = sp.solve(df,x)\n",
    "d2f = sp.diff(df,x)\n",
    "\n",
    "if d2f > 0:\n",
    "    print(\"Mínimo\")\n",
    "else:\n",
    "    if: d2f == 0:\n",
    "        print(\"Ni mínimo ni máximo\")\n",
    "    else: \n",
    "        print(\"Máximo\")\n",
    "\n",
    "x = np.linspace(-100, 100, 10)\n",
    "\n",
    "\n",
    "plt.figure(figsize=(5,5))\n",
    "plt.plot(x, f(x), label= \"$1235 + 113x -6x^2$\")\n",
    "plt.xlabel(\"Eje x\")\n",
    "plt.ylabel(\"Eje y\")\n",
    "plt.title(\"f(x) = x**2 - 4*x + 2 \")"
   ]
  },
  {
   "cell_type": "markdown",
   "id": "60813f2b-fad0-4d0a-bddc-940d9a5f9d6f",
   "metadata": {},
   "source": [
    "   - $ f(x) = -3 + x + \\frac {\\pi}{x}$, para $ x>0 $"
   ]
  },
  {
   "cell_type": "code",
   "execution_count": null,
   "id": "be53ade5-5183-48de-a948-a96b690939b9",
   "metadata": {},
   "outputs": [],
   "source": []
  },
  {
   "cell_type": "markdown",
   "id": "d6d719be-651d-46cf-bacf-d53b974b138e",
   "metadata": {},
   "source": [
    "   - $$ f(x) = 2 - 3x +  \\sqrt {8-2x^2} \\text{ para -2<x<2}$$"
   ]
  },
  {
   "cell_type": "code",
   "execution_count": null,
   "id": "5c6848d3-f529-4378-bbca-8f09c48ff88b",
   "metadata": {},
   "outputs": [],
   "source": []
  },
  {
   "cell_type": "markdown",
   "id": "a1c4d962-2117-40f1-9fbf-75db46a13bb7",
   "metadata": {},
   "source": [
    "   - $$ f(x) = \\frac {1}{4}x^4 + \\frac {1}{3}x^3 -x^2$$, $$\\text{en el intervalo [-3, 1.7 ]}$$"
   ]
  },
  {
   "cell_type": "code",
   "execution_count": null,
   "id": "bb7fa53f-b449-40dd-800e-dcc88dab45a9",
   "metadata": {},
   "outputs": [],
   "source": []
  }
 ],
 "metadata": {
  "kernelspec": {
   "display_name": "Python 3 (ipykernel)",
   "language": "python",
   "name": "python3"
  },
  "language_info": {
   "codemirror_mode": {
    "name": "ipython",
    "version": 3
   },
   "file_extension": ".py",
   "mimetype": "text/x-python",
   "name": "python",
   "nbconvert_exporter": "python",
   "pygments_lexer": "ipython3",
   "version": "3.12.4"
  }
 },
 "nbformat": 4,
 "nbformat_minor": 5
}
