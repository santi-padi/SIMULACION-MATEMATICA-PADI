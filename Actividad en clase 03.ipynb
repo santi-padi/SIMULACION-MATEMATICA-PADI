{
 "cells": [
  {
   "cell_type": "markdown",
   "id": "b2dafbb7-7223-4f64-93fd-7221cad20d2b",
   "metadata": {},
   "source": [
    "# Actividad en clase 03"
   ]
  },
  {
   "cell_type": "markdown",
   "id": "5c41b71a-a6ea-4e35-954f-e1d4430f1f52",
   "metadata": {},
   "source": [
    "## Santiago Padillla Arias EXP:750985 Fecha: 22/08/2024"
   ]
  },
  {
   "cell_type": "markdown",
   "id": "925a9d33-989c-4215-a595-ad36c6ababe6",
   "metadata": {},
   "source": [
    "1. Toma el archivo datosCT.xlsx y"
   ]
  },
  {
   "cell_type": "markdown",
   "id": "5600809d-41a5-4a65-8998-e690a36d8b15",
   "metadata": {},
   "source": [
    "- Calcula la Utilidad (Ingreso - Gasto)"
   ]
  },
  {
   "cell_type": "code",
   "execution_count": 53,
   "id": "00fae434-24b3-43bb-b05c-4d023a82eb16",
   "metadata": {},
   "outputs": [
    {
     "data": {
      "text/html": [
       "<div>\n",
       "<style scoped>\n",
       "    .dataframe tbody tr th:only-of-type {\n",
       "        vertical-align: middle;\n",
       "    }\n",
       "\n",
       "    .dataframe tbody tr th {\n",
       "        vertical-align: top;\n",
       "    }\n",
       "\n",
       "    .dataframe thead th {\n",
       "        text-align: right;\n",
       "    }\n",
       "</style>\n",
       "<table border=\"1\" class=\"dataframe\">\n",
       "  <thead>\n",
       "    <tr style=\"text-align: right;\">\n",
       "      <th></th>\n",
       "      <th>Unnamed: 0</th>\n",
       "      <th>Ingreso</th>\n",
       "      <th>Gasto</th>\n",
       "      <th>Utilidad</th>\n",
       "    </tr>\n",
       "  </thead>\n",
       "  <tbody>\n",
       "    <tr>\n",
       "      <th>0</th>\n",
       "      <td>Enero</td>\n",
       "      <td>1340</td>\n",
       "      <td>1880</td>\n",
       "      <td>-540</td>\n",
       "    </tr>\n",
       "    <tr>\n",
       "      <th>1</th>\n",
       "      <td>Febrero</td>\n",
       "      <td>2590</td>\n",
       "      <td>3130</td>\n",
       "      <td>-540</td>\n",
       "    </tr>\n",
       "    <tr>\n",
       "      <th>2</th>\n",
       "      <td>Marzo</td>\n",
       "      <td>3570</td>\n",
       "      <td>2140</td>\n",
       "      <td>1430</td>\n",
       "    </tr>\n",
       "    <tr>\n",
       "      <th>3</th>\n",
       "      <td>Abril</td>\n",
       "      <td>4450</td>\n",
       "      <td>3370</td>\n",
       "      <td>1080</td>\n",
       "    </tr>\n",
       "    <tr>\n",
       "      <th>4</th>\n",
       "      <td>Mayo</td>\n",
       "      <td>1330</td>\n",
       "      <td>2990</td>\n",
       "      <td>-1660</td>\n",
       "    </tr>\n",
       "    <tr>\n",
       "      <th>5</th>\n",
       "      <td>Junio</td>\n",
       "      <td>1610</td>\n",
       "      <td>1970</td>\n",
       "      <td>-360</td>\n",
       "    </tr>\n",
       "    <tr>\n",
       "      <th>6</th>\n",
       "      <td>Julio</td>\n",
       "      <td>1500</td>\n",
       "      <td>2230</td>\n",
       "      <td>-730</td>\n",
       "    </tr>\n",
       "    <tr>\n",
       "      <th>7</th>\n",
       "      <td>Agosto</td>\n",
       "      <td>2270</td>\n",
       "      <td>1240</td>\n",
       "      <td>1030</td>\n",
       "    </tr>\n",
       "    <tr>\n",
       "      <th>8</th>\n",
       "      <td>Septiembre</td>\n",
       "      <td>1910</td>\n",
       "      <td>1470</td>\n",
       "      <td>440</td>\n",
       "    </tr>\n",
       "    <tr>\n",
       "      <th>9</th>\n",
       "      <td>Octubre</td>\n",
       "      <td>2120</td>\n",
       "      <td>2280</td>\n",
       "      <td>-160</td>\n",
       "    </tr>\n",
       "    <tr>\n",
       "      <th>10</th>\n",
       "      <td>Noviembre</td>\n",
       "      <td>3950</td>\n",
       "      <td>1870</td>\n",
       "      <td>2080</td>\n",
       "    </tr>\n",
       "    <tr>\n",
       "      <th>11</th>\n",
       "      <td>Diciembre</td>\n",
       "      <td>1380</td>\n",
       "      <td>3140</td>\n",
       "      <td>-1760</td>\n",
       "    </tr>\n",
       "  </tbody>\n",
       "</table>\n",
       "</div>"
      ],
      "text/plain": [
       "    Unnamed: 0  Ingreso  Gasto  Utilidad\n",
       "0        Enero     1340   1880      -540\n",
       "1      Febrero     2590   3130      -540\n",
       "2        Marzo     3570   2140      1430\n",
       "3        Abril     4450   3370      1080\n",
       "4         Mayo     1330   2990     -1660\n",
       "5        Junio     1610   1970      -360\n",
       "6        Julio     1500   2230      -730\n",
       "7       Agosto     2270   1240      1030\n",
       "8   Septiembre     1910   1470       440\n",
       "9      Octubre     2120   2280      -160\n",
       "10   Noviembre     3950   1870      2080\n",
       "11   Diciembre     1380   3140     -1760"
      ]
     },
     "execution_count": 53,
     "metadata": {},
     "output_type": "execute_result"
    }
   ],
   "source": [
    "import pandas as pd\n",
    "\n",
    "datos = pd.read_excel(\"datosCT.xlsx\")\n",
    "datos[\"Utilidad\"] = datos[\"Ingreso\"] - (datos[\"Gasto\"])\n",
    "datos"
   ]
  },
  {
   "cell_type": "markdown",
   "id": "5a865ae0-0dc4-43bd-8013-d00aa547626c",
   "metadata": {},
   "source": [
    "   - Encuentra el promedio de Gastos en los meses que la Utilidad fue negativa"
   ]
  },
  {
   "cell_type": "code",
   "execution_count": 70,
   "id": "a9afb9d3-b241-480b-ab58-35cca30d7fe8",
   "metadata": {
    "scrolled": true
   },
   "outputs": [
    {
     "data": {
      "text/plain": [
       "2517.1428571428573"
      ]
     },
     "execution_count": 70,
     "metadata": {},
     "output_type": "execute_result"
    }
   ],
   "source": [
    "import pandas as pd\n",
    "\n",
    "datos = pd.read_excel(\"datosCT.xlsx\")\n",
    "datos[\"Utilidad\"] = datos[\"Ingreso\"] - (datos[\"Gasto\"])\n",
    "UtilidadNegativa = datos[datos[\"Utilidad\"]<0]\n",
    "import numpy as np\n",
    "promedio = np.average(UtilidadNegativa[\"Gasto\"])\n",
    "promedio"
   ]
  },
  {
   "cell_type": "markdown",
   "id": "b202d155-5071-42d7-8c3e-153fd1e348f2",
   "metadata": {},
   "source": [
    "   - Encuentra los ingresos totales del año"
   ]
  },
  {
   "cell_type": "code",
   "execution_count": 59,
   "id": "20b29b93-ceba-4a94-b2cf-33c86d8f3a95",
   "metadata": {},
   "outputs": [
    {
     "data": {
      "text/plain": [
       "28020"
      ]
     },
     "execution_count": 59,
     "metadata": {},
     "output_type": "execute_result"
    }
   ],
   "source": [
    "import numpy as np\n",
    "np.sum(datos[\"Ingreso\"])"
   ]
  },
  {
   "cell_type": "code",
   "execution_count": null,
   "id": "de78c71a-a9d2-4e5d-84df-f14dd25be017",
   "metadata": {},
   "outputs": [],
   "source": []
  },
  {
   "cell_type": "code",
   "execution_count": null,
   "id": "3a718970-1d85-4fe9-92c7-efcbe6536b6e",
   "metadata": {},
   "outputs": [],
   "source": []
  },
  {
   "cell_type": "markdown",
   "id": "4c63e272-1d0e-4749-8f44-a3fe6e41e9c9",
   "metadata": {},
   "source": [
    "2. Crea las siguientes estructuras usando numpy:\n",
    "\n",
    "A= 1 2\n",
    "   3 4\n",
    "    \n",
    "b=  2\n",
    "    4"
   ]
  },
  {
   "cell_type": "code",
   "execution_count": 1,
   "id": "770d6b0d-aae4-4b64-b629-a24e43cbdee5",
   "metadata": {},
   "outputs": [
    {
     "data": {
      "text/plain": [
       "array([[10],\n",
       "       [22]])"
      ]
     },
     "execution_count": 1,
     "metadata": {},
     "output_type": "execute_result"
    }
   ],
   "source": [
    "import numpy as np   # Libreria para usar matematicas en python\n",
    "\n",
    "a = np.array([\n",
    "    [1,2],\n",
    "    [3,4]\n",
    "])\n",
    "b = np.array([\n",
    "    [2],\n",
    "    [4]\n",
    "])\n",
    "\n",
    "a @ b"
   ]
  },
  {
   "cell_type": "code",
   "execution_count": null,
   "id": "be53ade5-5183-48de-a948-a96b690939b9",
   "metadata": {},
   "outputs": [],
   "source": []
  },
  {
   "cell_type": "code",
   "execution_count": null,
   "id": "ef39319a-b00f-4e75-b621-21ef3f2d08a2",
   "metadata": {},
   "outputs": [],
   "source": []
  }
 ],
 "metadata": {
  "kernelspec": {
   "display_name": "Python 3 (ipykernel)",
   "language": "python",
   "name": "python3"
  },
  "language_info": {
   "codemirror_mode": {
    "name": "ipython",
    "version": 3
   },
   "file_extension": ".py",
   "mimetype": "text/x-python",
   "name": "python",
   "nbconvert_exporter": "python",
   "pygments_lexer": "ipython3",
   "version": "3.12.4"
  }
 },
 "nbformat": 4,
 "nbformat_minor": 5
}
