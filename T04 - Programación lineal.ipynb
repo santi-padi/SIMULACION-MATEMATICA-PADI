{
 "cells": [
  {
   "cell_type": "markdown",
   "id": "5cafaee2-3ed6-4642-a7bc-c2e0d1c60239",
   "metadata": {},
   "source": [
    "# T04 - Programación lineal\r\n"
   ]
  },
  {
   "cell_type": "markdown",
   "id": "f26ecc51-bb49-4549-9153-8c3a67e4a469",
   "metadata": {},
   "source": [
    "## Santiago Padillla Arias EXP:750985 Fecha: 11/09/2024\n"
   ]
  },
  {
   "cell_type": "markdown",
   "id": "272849ef-efa9-4220-a327-036f607894b5",
   "metadata": {},
   "source": [
    "### 02 Programación lineal.ipynb"
   ]
  },
  {
   "cell_type": "code",
   "execution_count": 42,
   "id": "2943aaeb-35d6-4ba7-a0da-7c7342bbab83",
   "metadata": {},
   "outputs": [],
   "source": [
    "# PROFE PERDONE MIS FALTAS DE ORTOGRAFIA ESTOY CON EL TECLADO EN INGLES Y NO ME DEJA PONER ACENTOS"
   ]
  },
  {
   "cell_type": "markdown",
   "id": "ae407249-4027-4c44-9850-ccbf918ca990",
   "metadata": {},
   "source": [
    "#### Ejercicio 1\n",
    "1. Una multinacional farmacéutica desea fabricar un compuesto nutritivo a base de dos productos A y B.  El producto A contiene  $30\\%$ de proteínas,  un $1\\%$ de grasas y un  $10\\%$ de azúcares.  El producto B  contiene  un  $5\\%$  de proteínas,  un  $7\\%$ de grasas  y un  $10\\%$  de  azúcares.\n",
    "El compuesto debe de tener,  al menos, $25g$ de proteínas,  $6g$ de grasas y $30g$ de azúcares.  El coste del producto A es de $0.6$ u.m./g  y el de B es de $0.2$  u.m./g\n",
    "\n",
    "Se desea encontrar la cantidad en gramos de cada producto para que el coste total sea mínimo.\n",
    "\n",
    "Formular el problema de decidir cuánto hacer de cada producto como un problema de programación lineal."
   ]
  },
  {
   "cell_type": "markdown",
   "id": "a0f8aefa-2883-444f-a1de-826e72ded784",
   "metadata": {},
   "source": [
    "1. Identificar criterio de optimizacion minimizar $\\$$ costo de producto como nuevo\n",
    "2. Variables de control:\n",
    "  - gramos de A --> $x_A$\n",
    "  - gramos de B --> $x_B$\n",
    "3. FUncion de costo\n",
    " - $ f(x_A, x_B) = 0.6 \\frac{\\$}{g}x_A + 0.2 \\frac{$}{g}x_B $\n",
    "4. Informacion adicional\n",
    "- Producto A contiene\n",
    "    - 30 % de proteina\n",
    "    - 1 % de grasas\n",
    "    - 10 % de azucares\n",
    "\n",
    "\n",
    "- Producto B contiene\n",
    "    - 5 % de proteina\n",
    "    - 7 % de grasas\n",
    "    - 10 % de azucares\n",
    "\n",
    "Producto final debe contener\n",
    "    - Al menos 25 g de proteina\n",
    "    - Al menos 6 g de grasas\n",
    "    - Al menos 30 g de azucares"
   ]
  },
  {
   "cell_type": "markdown",
   "id": "e0c03b72-77cf-4872-a35a-60d202fde36c",
   "metadata": {},
   "source": [
    "$$ \\min{x_A, x_B} 0.6 x_A + 0.2 x_B$$\n",
    "$$ \\text{s.t.}$$\n",
    "\n",
    "$$ 0.30 x_A + 0.05  x_B \\geq 25\\  $$ \n",
    "\n",
    "$$ 0.01 x_A + 0.07  x_B \\geq 6\\  $$ \n",
    "\n",
    "$$ 0.10 x_A + 0.10  x_B \\geq 30\\  $$ "
   ]
  },
  {
   "cell_type": "code",
   "execution_count": 34,
   "id": "393112f3-fee5-47db-9079-4bca4dbfed83",
   "metadata": {},
   "outputs": [
    {
     "data": {
      "text/plain": [
       "        message: Optimization terminated successfully. (HiGHS Status 7: Optimal)\n",
       "        success: True\n",
       "         status: 0\n",
       "            fun: 76.0\n",
       "              x: [ 4.000e+01  2.600e+02]\n",
       "            nit: 2\n",
       "          lower:  residual: [ 4.000e+01  2.600e+02]\n",
       "                 marginals: [ 0.000e+00  0.000e+00]\n",
       "          upper:  residual: [       inf        inf]\n",
       "                 marginals: [ 0.000e+00  0.000e+00]\n",
       "          eqlin:  residual: []\n",
       "                 marginals: []\n",
       "        ineqlin:  residual: [ 0.000e+00  1.260e+01  0.000e+00]\n",
       "                 marginals: [-1.600e+00 -0.000e+00 -1.200e+00]\n",
       " mip_node_count: 0\n",
       " mip_dual_bound: 0.0\n",
       "        mip_gap: 0.0"
      ]
     },
     "execution_count": 34,
     "metadata": {},
     "output_type": "execute_result"
    }
   ],
   "source": [
    "import numpy as np\n",
    "\n",
    "c = np.array([0.6,0.2])\n",
    "\n",
    "Aub = np.array ([\n",
    "    [-0.30, -0.05],\n",
    "    [-0.01, -0.07],\n",
    "    [-0.10, -0.10]\n",
    "])\n",
    "\n",
    "bub = np.array([-25, -6, -30])\n",
    "\n",
    "import scipy.optimize as opt\n",
    "\n",
    "sol = opt.linprog(c, Aub, bub)\n",
    "sol\n",
    "\n",
    "# Aub @ sol.x  # Arroba multiplica vectores y matrices, el punto x, de la solucion encontrada solo usa la parte de x"
   ]
  },
  {
   "cell_type": "markdown",
   "id": "0969ddf8-3be0-4522-a0aa-29f1d2c7b95c",
   "metadata": {},
   "source": [
    "Las medidas de los productos debe ser de:  \n",
    " - **40** para el producto A.\n",
    " - **260** para el producto B.\n",
    "\n",
    "Nota: Resultados se obtienen a partir de las posiciones de las matrices, se deben interpretar resultados."
   ]
  },
  {
   "cell_type": "code",
   "execution_count": null,
   "id": "9dfdf572-be06-4920-9b69-31c59cfce112",
   "metadata": {},
   "outputs": [],
   "source": []
  },
  {
   "cell_type": "code",
   "execution_count": null,
   "id": "0a322c42-7257-4044-a8ae-12ac5e2dbd31",
   "metadata": {},
   "outputs": [],
   "source": []
  },
  {
   "cell_type": "code",
   "execution_count": null,
   "id": "f818e630-2250-46bb-b66a-1d31bf4ca315",
   "metadata": {},
   "outputs": [],
   "source": []
  },
  {
   "cell_type": "markdown",
   "id": "805ee061-c7cd-4dc4-b725-da610cdf7f76",
   "metadata": {},
   "source": [
    "#### Ejercicio 2\n",
    "Una  fábrica  de  carrocerías  de  automóviles  y camiones  tiene  dos naves. \n",
    "\n",
    "+ En  la nave A,  para  hacer  la  carrocería  de  un  camión,  se  invierten  siete  días-operario,  para  fabricar  la  de  un  coche  se  precisan dos días-operario.\n",
    "\n",
    "+ En la nave B se invierten tres días operario tanto en carrocerías de camión como de coche. \n",
    "\n",
    "Por limitaciones de mano de obra y maquinaria, la nave A dispone de $300$ días operario, y la nave B de $270$ días-operario.\n",
    "\n",
    "Si los beneficios que se obtienen por cada camión son de $600$ u.m y por  cada  automóvil  $200$ u.m,  ¿cuántas  unidades  de  cada  uno  se deben  producir  para maximizar las  ganancias? \n",
    "\n",
    "**Nota:** el problema $\\max_{\\boldsymbol{x}}\\boldsymbol{g}(\\boldsymbol{x})$ es equivalente a $\\min_{\\boldsymbol{x}}-\\boldsymbol{g}(\\boldsymbol{x})$."
   ]
  },
  {
   "cell_type": "markdown",
   "id": "f3040b4a-617c-4940-8ca5-7f1ca5c95b43",
   "metadata": {},
   "source": [
    "1. Identificar criterio de optimizacion maximizar $\\$$ beneficios\n",
    "   \n",
    "2. Variables de control:\n",
    "  - Automoviles --> $A$\n",
    "  - Camiones --> $C$\n",
    "\n",
    "3. FUncion de costo\n",
    " - $ 200 A + 600 B = Costo $\n",
    "\n",
    "4. Informacion adicional:\n",
    "\n",
    "Operarios\n",
    "    - Nave A: 300\n",
    "    - Nave B: 270\n",
    "    \n",
    "- Tardanza en nave A:\n",
    "    - 2 dias para automovil\n",
    "    - 7 dias para camion\n",
    "\n",
    "- Tardanza nave B:\n",
    "    - 3 dias para automovil y 3 para camion\n",
    "\n"
   ]
  },
  {
   "cell_type": "code",
   "execution_count": 68,
   "id": "2b4b50a1-d4a3-4b19-94ff-0c53e5a33d75",
   "metadata": {},
   "outputs": [
    {
     "data": {
      "text/plain": [
       "        message: Optimization terminated successfully. (HiGHS Status 7: Optimal)\n",
       "        success: True\n",
       "         status: 0\n",
       "            fun: -27600.0\n",
       "              x: [ 6.600e+01  2.400e+01]\n",
       "            nit: -1\n",
       "          lower:  residual: [ 6.600e+01  2.400e+01]\n",
       "                 marginals: [ 0.000e+00  0.000e+00]\n",
       "          upper:  residual: [       inf        inf]\n",
       "                 marginals: [ 0.000e+00  0.000e+00]\n",
       "          eqlin:  residual: []\n",
       "                 marginals: []\n",
       "        ineqlin:  residual: [ 0.000e+00  0.000e+00]\n",
       "                 marginals: [ 0.000e+00  0.000e+00]\n",
       " mip_node_count: 1\n",
       " mip_dual_bound: -27600.0\n",
       "        mip_gap: 0.0"
      ]
     },
     "execution_count": 68,
     "metadata": {},
     "output_type": "execute_result"
    }
   ],
   "source": [
    "import numpy as np\n",
    "\n",
    "c = np.array([-200, -600])\n",
    "\n",
    "Aub = np.array ([\n",
    "    [2, 7],\n",
    "    [3, 3]\n",
    "])\n",
    "\n",
    "bub = np.array([300, 270])\n",
    "\n",
    "import scipy.optimize as opt\n",
    "\n",
    "sol = opt.linprog(c, Aub, bub, integrality=1)\n",
    "sol\n",
    "\n",
    "# Aub @ sol.x  # Arroba multiplica vectores y matrices, el punto x, de la solucion encontrada solo usa la parte de x"
   ]
  },
  {
   "cell_type": "markdown",
   "id": "8ee28389-b306-4531-bf40-6ee01b49c575",
   "metadata": {},
   "source": [
    "- El beneficio debe ser de:  **27600.0**\n",
    "- Con la produccion de:\n",
    "    - 66 automoviles\n",
    "    - 24 camion\n",
    " \n",
    "Nota: Resultados se obtienen a partir de las posiciones de las matrices, se deben interpretar resultados."
   ]
  },
  {
   "cell_type": "code",
   "execution_count": null,
   "id": "592ee6dd-d487-4f39-836e-a0696265580a",
   "metadata": {},
   "outputs": [],
   "source": []
  },
  {
   "cell_type": "code",
   "execution_count": null,
   "id": "a476711a-8575-424b-a94f-1a97ba2c0c1d",
   "metadata": {},
   "outputs": [],
   "source": []
  },
  {
   "cell_type": "code",
   "execution_count": null,
   "id": "faa29c8d-484e-4ecc-99d7-8be44cd8ad08",
   "metadata": {},
   "outputs": [],
   "source": []
  },
  {
   "cell_type": "markdown",
   "id": "9117b7e0-a35f-4e1b-b7f7-c238ab1f928b",
   "metadata": {},
   "source": [
    "#### Ejercicio 3\n",
    "Mónica hace aretes y cadenitas de joyería. Es tan buena, que todo lo que hace lo vende.\n",
    "\n",
    "Le toma 30 minutos hacer un par de aretes y una hora hacer una cadenita, y como Mónica también es estudihambre, solo dispone de 10 horas a la semana para hacer las joyas. Por otra parte, el material que compra solo le alcanza para hacer 15 unidades (el par de aretes cuenta como unidad) de joyas por semana.\n",
    "\n",
    "La utilidad que le deja la venta de las joyas es $\\$15$ en cada par de aretes y $\\$20$ en cada cadenita.\n",
    "\n",
    "¿Cuántos pares de aretes y cuántas cadenitas debería hacer Mónica para maximizar su utilidad?\n"
   ]
  },
  {
   "cell_type": "markdown",
   "id": "f9d567d0-6283-4bc2-8ef5-387f6c401f09",
   "metadata": {},
   "source": [
    "1. Identificar criterio de optimizacion maximizar $\\$$ beneficios\n",
    "   \n",
    "2. Variables de control:\n",
    "  - Aretes --> $A$\n",
    "  - Cadenas --> $C$\n",
    "\n",
    "3. FUncion de costo\n",
    " - $ 15 A + 20 C = Costo $\n",
    "\n",
    "4. Informacion adicional:\n",
    "\n",
    "Tiempo: $ .50 A +  1 C \\leq 10\\  $\n",
    "\n",
    "Material usado: $ A + C \\leq 15\\  $ \n"
   ]
  },
  {
   "cell_type": "code",
   "execution_count": 6,
   "id": "757daad0-203c-49d0-8f4a-bfe9a8539d58",
   "metadata": {},
   "outputs": [
    {
     "data": {
      "text/plain": [
       "        message: Optimization terminated successfully. (HiGHS Status 7: Optimal)\n",
       "        success: True\n",
       "         status: 0\n",
       "            fun: -250.0\n",
       "              x: [ 1.000e+01  5.000e+00]\n",
       "            nit: -1\n",
       "          lower:  residual: [ 1.000e+01  5.000e+00]\n",
       "                 marginals: [ 0.000e+00  0.000e+00]\n",
       "          upper:  residual: [       inf        inf]\n",
       "                 marginals: [ 0.000e+00  0.000e+00]\n",
       "          eqlin:  residual: []\n",
       "                 marginals: []\n",
       "        ineqlin:  residual: [ 0.000e+00  0.000e+00]\n",
       "                 marginals: [ 0.000e+00  0.000e+00]\n",
       " mip_node_count: 1\n",
       " mip_dual_bound: -250.0\n",
       "        mip_gap: 0.0"
      ]
     },
     "execution_count": 6,
     "metadata": {},
     "output_type": "execute_result"
    }
   ],
   "source": [
    "import numpy as np\n",
    "\n",
    "c = np.array([-15, -20])\n",
    "\n",
    "Aub = np.array ([\n",
    "    [.5, 1],\n",
    "    [1, 1]\n",
    "])\n",
    "\n",
    "bub = np.array([10, 15])\n",
    "\n",
    "import scipy.optimize as opt\n",
    "\n",
    "sol = opt.linprog(c, Aub, bub, integrality=1)\n",
    "sol\n",
    "\n",
    "# Aub @ sol.x  # Arroba multiplica vectores y matrices, el punto x, de la solucion encontrada solo usa la parte de x"
   ]
  },
  {
   "cell_type": "markdown",
   "id": "0f6fab9b-2fe7-430f-bac8-2586ebfd42ee",
   "metadata": {},
   "source": [
    "- La ganancia (beneficio) debe ser de:  **250.0**\n",
    "- Con la produccion de:\n",
    "    - 10 pares de aretes\n",
    "    - 5 collares\n",
    " \n",
    "     \n",
    "Nota: Resultados se obtienen a partir de las posiciones de las matrices, se deben interpretar resultados."
   ]
  },
  {
   "cell_type": "code",
   "execution_count": null,
   "id": "8e61f0d5-cd6d-4f06-9779-c422bfbdf7ad",
   "metadata": {},
   "outputs": [],
   "source": []
  },
  {
   "cell_type": "code",
   "execution_count": null,
   "id": "75e95fb7-0108-4d12-9146-89263cb1edf8",
   "metadata": {},
   "outputs": [],
   "source": []
  },
  {
   "cell_type": "code",
   "execution_count": null,
   "id": "dceb8561-66a6-47d4-9ef0-e91b0fe02be6",
   "metadata": {},
   "outputs": [],
   "source": []
  },
  {
   "cell_type": "markdown",
   "id": "f9bcfbd6-d91b-4e59-ac58-aab39296d6c3",
   "metadata": {},
   "source": [
    "#### Ejercicio 4\n",
    "Problema de transporte 1\n",
    "- **Referencia**: http://bdigital.unal.edu.co/5037/4/guillermojimenezlozano.2006_Parte1.pdf\n",
    "\n",
    "Una  empresa tiene dos fábricas A y B.  En ellas  se fabrica un determinado  producto, a razón de 500  y 400 unidades por día respectivamente.  El producto  ha  de  ser distribuido posteriormente  a  tres  centros  C,  D  y  E,  que  requieren,  respectivamente,  200,  300  y  400  unidades.  Los  costos  de  transportar cada unidad del producto desde cada fábrica a cada centro distribuidor son los  indicados  en la tabla  siguiente: \n",
    "\n",
    "Factoría|C|D|E|Fabricación (Unidades)\n",
    ":----|----|----|----|----\n",
    "A|  50 u.m|60 u.m|10 u.m|500 u\n",
    "B|  25 u.m|40 u.m|20 u.m|400 u\n",
    "Demanda|200|300|400|\n",
    "\n",
    "**¿De qué manera  deben  organizar  el transporte a fin de que los gastos sean mínimos?**\n",
    "\n",
    "\n",
    "Resolver con `linprog`"
   ]
  },
  {
   "cell_type": "markdown",
   "id": "7737ba2f-30b4-4d3e-a54f-10a79a36f7a7",
   "metadata": {},
   "source": [
    "1. Identificar criterio de optimizacion minimizar $\\$$ beneficios\n",
    "   \n",
    "2. Variables de control:\n",
    "  - Factoria A centro C--> $AC$\n",
    "  - Factoria B centro C--> $BC$\n",
    "  - Factoria A centro D--> $AD$\n",
    "  - Factoria B centro D--> $BD$\n",
    "  - Factoria A centro E--> $AE$\n",
    "  - Factoria B centro E--> $BE$\n",
    "\n",
    "3. FUncion de costo\n",
    " - $ 50AC + 25BC + 60AD +40BD + 10AE + 20BE = Costo $\n",
    "\n",
    "4. Informacion adicional:\n",
    "\n",
    "Centro C: $ 50AC + 25BC \\geq 200\\  $\n",
    "\n",
    "Centro D: $ 60AD +40BD \\geq 300\\  $\n",
    "\n",
    "Centro E: $ 10AE + 20BE \\geq 400\\  $\n"
   ]
  },
  {
   "cell_type": "code",
   "execution_count": 20,
   "id": "e125adfe-b624-4ce1-93f4-ec93485f9290",
   "metadata": {},
   "outputs": [
    {
     "data": {
      "text/plain": [
       "        message: Optimization terminated successfully. (HiGHS Status 7: Optimal)\n",
       "        success: True\n",
       "         status: 0\n",
       "            fun: 900.0\n",
       "              x: [ 0.000e+00  8.000e+00  5.000e+00  0.000e+00  4.000e+01\n",
       "                   0.000e+00]\n",
       "            nit: -1\n",
       "          lower:  residual: [ 0.000e+00  8.000e+00  5.000e+00  0.000e+00\n",
       "                              4.000e+01  0.000e+00]\n",
       "                 marginals: [ 0.000e+00  0.000e+00  0.000e+00  0.000e+00\n",
       "                              0.000e+00  0.000e+00]\n",
       "          upper:  residual: [       inf        inf        inf        inf\n",
       "                                    inf        inf]\n",
       "                 marginals: [ 0.000e+00  0.000e+00  0.000e+00  0.000e+00\n",
       "                              0.000e+00  0.000e+00]\n",
       "          eqlin:  residual: []\n",
       "                 marginals: []\n",
       "        ineqlin:  residual: [ 0.000e+00  0.000e+00  0.000e+00]\n",
       "                 marginals: [ 0.000e+00  0.000e+00  0.000e+00]\n",
       " mip_node_count: 1\n",
       " mip_dual_bound: 900.0\n",
       "        mip_gap: 0.0"
      ]
     },
     "execution_count": 20,
     "metadata": {},
     "output_type": "execute_result"
    }
   ],
   "source": [
    "# esta no se si estaba bien\n",
    "\n",
    "import numpy as np\n",
    "\n",
    "c = np.array([50, 25, 60, 40, 10, 20])\n",
    "\n",
    "Aub = np.array ([\n",
    "     [-50, -25,  0,  0,  0,  0], \n",
    "     [0,    0, -60, -40, 0, 0], \n",
    "     [0,    0,   0,  0, -10, -20]\n",
    "])\n",
    "\n",
    "bub = np.array([-200, -300, -400])\n",
    "\n",
    "import scipy.optimize as opt\n",
    "\n",
    "sol = opt.linprog(c, Aub, bub, integrality=1)\n",
    "sol\n",
    "\n",
    "# Aub @ sol.x  # Arroba multiplica vectores y matrices, el punto x, de la solucion encontrada solo usa la parte de x"
   ]
  },
  {
   "cell_type": "code",
   "execution_count": null,
   "id": "fd6052b7-d6a7-457f-9d52-76eb9b93762b",
   "metadata": {},
   "outputs": [],
   "source": []
  },
  {
   "cell_type": "code",
   "execution_count": 28,
   "id": "2b7df677-8c68-4641-afb0-0768fe68aeb3",
   "metadata": {},
   "outputs": [
    {
     "data": {
      "text/plain": [
       "        message: Optimization terminated successfully. (HiGHS Status 7: Optimal)\n",
       "        success: True\n",
       "         status: 0\n",
       "            fun: 900.0\n",
       "              x: [ 0.000e+00  5.000e+00  4.000e+01  8.000e+00  0.000e+00\n",
       "                   0.000e+00]\n",
       "            nit: -1\n",
       "          lower:  residual: [ 0.000e+00  5.000e+00  4.000e+01  8.000e+00\n",
       "                              0.000e+00  0.000e+00]\n",
       "                 marginals: [ 0.000e+00  0.000e+00  0.000e+00  0.000e+00\n",
       "                              0.000e+00  0.000e+00]\n",
       "          upper:  residual: [       inf        inf        inf        inf\n",
       "                                    inf        inf]\n",
       "                 marginals: [ 0.000e+00  0.000e+00  0.000e+00  0.000e+00\n",
       "                              0.000e+00  0.000e+00]\n",
       "          eqlin:  residual: []\n",
       "                 marginals: []\n",
       "        ineqlin:  residual: [ 0.000e+00  0.000e+00  0.000e+00]\n",
       "                 marginals: [ 0.000e+00  0.000e+00  0.000e+00]\n",
       " mip_node_count: 1\n",
       " mip_dual_bound: 900.0\n",
       "        mip_gap: 0.0"
      ]
     },
     "execution_count": 28,
     "metadata": {},
     "output_type": "execute_result"
    }
   ],
   "source": [
    "# esta segun yo si estaba bien\n",
    "\n",
    "import numpy as np\n",
    "\n",
    "c = np.array([50, 60, 10, 25, 40, 20])\n",
    "\n",
    "Aub=np.array([\n",
    "    [-50,0, 0, -25, 0, 0], \n",
    "    [0, -60, 0, 0, -40, 0], \n",
    "    [0, 0, -10, 0, 0, -20]\n",
    "])\n",
    "\n",
    "bub = np.array([-200, -300, -400])\n",
    "\n",
    "import scipy.optimize as opt\n",
    "\n",
    "sol = opt.linprog(c, Aub, bub, integrality=1)\n",
    "sol\n"
   ]
  },
  {
   "cell_type": "markdown",
   "id": "85f0f875-5f62-43d3-ad4c-3014528f0163",
   "metadata": {},
   "source": [
    "- La ganancia (beneficio) debe ser de:  **900.0**\n",
    "- Con la produccion de:\n",
    "    - 4AC\n",
    "    - 5AD\n",
    "    - 8AE\n",
    " \n",
    "     \n",
    "Nota: Resultados se obtienen a partir de las posiciones de las matrices, se deben interpretar resultados."
   ]
  },
  {
   "cell_type": "code",
   "execution_count": null,
   "id": "df70380e-dc18-476b-9b02-2a947f184335",
   "metadata": {},
   "outputs": [],
   "source": []
  },
  {
   "cell_type": "code",
   "execution_count": null,
   "id": "c989e428-008e-4eb6-96a6-31965ddffbd1",
   "metadata": {},
   "outputs": [],
   "source": []
  },
  {
   "cell_type": "code",
   "execution_count": null,
   "id": "5662a91e-0e8d-494d-9a8b-dd25bfb99665",
   "metadata": {},
   "outputs": [],
   "source": []
  },
  {
   "cell_type": "markdown",
   "id": "a00c5ee7-b3cd-4709-8122-1964ff2113ce",
   "metadata": {},
   "source": [
    "#### Ejercicio 5\n",
    "El objetivo de este problema es determinar la mejor estrategia de inversión, dados diferentes tipos de bono, la máxima cantidad que puede ser invertida en cada bono, el porcentaje de retorno y los años de madurez. También hay una cantidad fija de dinero disponible ($\\$750,000$). Por lo menos la mitad de este dinero debe ser invertido en bonos con 10 años o más para la madurez. Se puede invertir un máximo del $25\\%$ de esta cantidad en cada bono. Finalmente, hay otra restricción que no permite usar más de $35\\%$ en bonos de alto riesgo.\n",
    "\n",
    "Existen seis (6) opciones de inversión con las letras correspondientes $A_i$\n",
    "\n",
    "1. $A_1$:(Tasa de retorno=$8.65\\%$; Años para la madurez=11, Riesgo=Bajo)\n",
    "1. $A_2$:(Tasa de retorno=$9.50\\%$; Años para la madurez=10, Riesgo=Alto)\n",
    "1. $A_3$:(Tasa de retorno=$10.00\\%$; Años para la madurez=6, Riesgo=Alto)\n",
    "1. $A_4$:(Tasa de retorno=$8.75\\%$; Años para la madurez=10, Riesgo=Bajo)\n",
    "1. $A_5$:(Tasa de retorno=$9.25\\%$; Años para la madurez=7, Riesgo=Alto)\n",
    "1. $A_6$:(Tasa de retorno=$9.00\\%$; Años para la madurez=13, Riesgo=Bajo)\n",
    "\n",
    "Lo que se quiere entonces es maximizar el retorno que deja la inversión.\n",
    "\n",
    "Este problema puede ser resuelto con programación lineal. Formalmente, puede ser descrito como:\n",
    "\n",
    "$$\\max_{A_1,A_2,...,A_6}\\sum^{6}_{i=1} A_iR_i,$$\n",
    "\n",
    "donde $A_i$ representa la cantidad invertida en la opción, y $R_i$ representa la tasa de retorno respectiva."
   ]
  },
  {
   "cell_type": "markdown",
   "id": "2ed9c5c6-60a9-423a-bf48-b34329e9ded4",
   "metadata": {},
   "source": [
    "1. Identificar criterio de optimizacion maximizar $\\$$ beneficios\n",
    "   \n",
    "2. Variables de control:\n",
    "  - Opcion de inversion 1--> $A_1$\n",
    "  - Opcion de inversion 2--> $A_2$\n",
    "  - Opcion de inversion 3--> $A_3$\n",
    "  - Opcion de inversion 4--> $A_4$\n",
    "  - Opcion de inversion 5--> $A_5$\n",
    "  - Opcion de inversion 6--> $A_6$\n",
    "\n",
    "3. FUncion de costo\n",
    " - $  0.0865A_1 + 0.95A_2 +0.1A_3 +0.0875A_4 +0.0925A_5 +.09 A_6 = Costo $\n",
    "\n",
    "4. Informacion adicional:\n",
    "\n",
    "Presupuesto total: $ A_1 + A_2 +A_3 + A_4 + A_5 + A_6 \\geq 75000\\  $\n",
    "\n",
    "Presupuesto a 10 años: $ 60AD +40BD \\geq 300\\  $\n",
    "\n",
    "Bono: $ A_1 = A_2 = A_3 = A_4 = A_5 = A_6 \\leq 187500\\  $\n",
    "\n",
    "Bono Riesgo Alto: $  A_2 + A_3 + A_5 \\geq 262500\\  $"
   ]
  },
  {
   "cell_type": "code",
   "execution_count": 49,
   "id": "7089f545-a027-452c-b37b-14c9cee585a9",
   "metadata": {},
   "outputs": [
    {
     "data": {
      "text/plain": [
       "        message: Optimization terminated successfully. (HiGHS Status 7: Optimal)\n",
       "        success: True\n",
       "         status: 0\n",
       "            fun: -58500.0\n",
       "              x: [ 1.875e+05  7.500e+04  1.875e+05  1.875e+05  0.000e+00\n",
       "                   0.000e+00]\n",
       "            nit: 1\n",
       "          lower:  residual: [ 1.875e+05  7.500e+04  1.875e+05  1.875e+05\n",
       "                              0.000e+00  0.000e+00]\n",
       "                 marginals: [ 0.000e+00  0.000e+00  0.000e+00  0.000e+00\n",
       "                              2.500e-03  5.000e-03]\n",
       "          upper:  residual: [       inf        inf        inf        inf\n",
       "                                    inf        inf]\n",
       "                 marginals: [ 0.000e+00  0.000e+00  0.000e+00  0.000e+00\n",
       "                              0.000e+00  0.000e+00]\n",
       "          eqlin:  residual: []\n",
       "                 marginals: []\n",
       "        ineqlin:  residual: [ 1.125e+05  7.500e+04  0.000e+00  1.125e+05\n",
       "                              0.000e+00  0.000e+00  1.875e+05  1.875e+05\n",
       "                              0.000e+00]\n",
       "                 marginals: [-0.000e+00 -0.000e+00 -8.650e-02 -0.000e+00\n",
       "                             -5.000e-03 -8.750e-02 -0.000e+00 -0.000e+00\n",
       "                             -9.500e-02]\n",
       " mip_node_count: 0\n",
       " mip_dual_bound: 0.0\n",
       "        mip_gap: 0.0"
      ]
     },
     "execution_count": 49,
     "metadata": {},
     "output_type": "execute_result"
    }
   ],
   "source": [
    "import numpy as np\n",
    "import scipy.optimize as opt\n",
    "c=np.array ([-.0865,  -.095, -.1, -.0875, -.0925, -.09])\n",
    "Aub=np.array([\n",
    "    [1,  1,  1,  1,  1, 1],\n",
    "    [-1, -1, 0, -1, 0, -1], \n",
    "    [1,  0,  0,  0, 0,  0], \n",
    "    [0,  1,  0,  0, 0,  0], \n",
    "    [0,  0,  1,  0, 0,  0], \n",
    "    [0,  0,  0,  1, 0,  0], \n",
    "    [0,  0,  0,  0, 1,  0], \n",
    "    [0,  0,  0,  0, 0,  1], \n",
    "    [0,  1,  1,  0, 1,  1]\n",
    "])\n",
    "\n",
    "bub=np.array ([750000,   -375000,  187500, 187500, 187500, 187500, 187500, 187500, 262500])\n",
    "\n",
    "sol=opt.linprog(c, Aub, bub)\n",
    "sol"
   ]
  },
  {
   "cell_type": "markdown",
   "id": "8ce88644-a6ac-48d6-99f3-9c79dc5ed636",
   "metadata": {},
   "source": [
    "- Retorno debe ser de:  **58500.0**\n",
    "- Montos:\n",
    "    - A_1 = A_3 = A_4 = 187500\n",
    "    - A_2 = 7500\n",
    "    - A_5 = A_6 = 0\n",
    "     \n",
    "Nota: Resultados se obtienen a partir de las posiciones de las matrices, se deben interpretar resultados."
   ]
  },
  {
   "cell_type": "code",
   "execution_count": null,
   "id": "d8e0c4a9-7c1f-4e30-ba89-3e1093eafb8e",
   "metadata": {},
   "outputs": [],
   "source": []
  },
  {
   "cell_type": "code",
   "execution_count": null,
   "id": "b5324296-0ad3-400b-bc87-844fcad38637",
   "metadata": {},
   "outputs": [],
   "source": []
  },
  {
   "cell_type": "code",
   "execution_count": null,
   "id": "63876c69-c4dd-48f3-916a-08341d9678ae",
   "metadata": {},
   "outputs": [],
   "source": []
  },
  {
   "cell_type": "markdown",
   "id": "b32502d4-5eff-4190-a060-d087c838ddc8",
   "metadata": {},
   "source": [
    "## A05"
   ]
  },
  {
   "cell_type": "markdown",
   "id": "92e0a5dd-894a-4e50-8488-4143b52d4492",
   "metadata": {},
   "source": [
    "## Ejercicio 1\n",
    "\n",
    "Se quiere producir comida para gatos de la manera más barata, no obstante se debe también asegurar que se cumplan los datos requeridos de analisis nutricional. Por lo que se quiere variar la cantidad de cada ingrediente para cumplir con los estandares nutricionales. Los requisitos que se tienen es que en 100 gramos, se deben tener por lo menos 9 gramos de proteína y  7 gramos de grasa. Así mismo, no se debe tener más de 2.5 gramos de fibra y 0.5 gramos de sal.\n",
    "\n",
    "\n",
    "![](Ejercicio1_A05.png)"
   ]
  },
  {
   "cell_type": "markdown",
   "id": "4065cfef-737f-46b2-9efb-18a49461ade4",
   "metadata": {},
   "source": [
    "1. Identificar criterio de optimizacion minimizar $\\$$ costo de producto como nuevo\n",
    "2. Variables de control:\n",
    "  - Pollo --> P\n",
    "  - Carne --> C\n",
    "  - Cordero --> Cor\n",
    "  - Arroz --> A\n",
    "  - Trigo --> T\n",
    "  - Gel --> G\n",
    "  - Proteina --> Pro\n",
    "  - Grasa --> Gra\n",
    "  - Fibra --> F\n",
    "  - Sal --> S\n",
    "    \n",
    "3. Funcion de costo\n",
    " - $ P0.012 + 0.009 C + 0.010 Cor + 0.003 A +  0.005 T + 0.002 G = Costo$\n",
    "\n",
    "4. Informacion adicional\n",
    "   - $\\text{En 100 gramos}:$\n",
    "        - $\\text{Proteina}: 0.01P + 0.2C + 0.15Cor + 0.04T \\geq 9\\ $\n",
    "        - $\\text{Grasa}: 0.08P + 0.1C + 0.11Cor + 0.01A + 0.01T \\geq 7\\ $\n",
    "        - $\\text{Fibra}: 0.001P + 0.005C + 0.005Cor + 0.1A + 0.15T \\leq 2.5\\ $\n",
    "        - $\\text{Sal}: 0.002P + 0.005C + 0.007Cor + 0.002A + 0.008T \\geq 0.5\\ $\n",
    "   - $ \\text{Peso}: P + C + Cor +  A +   T +  G = 100$"
   ]
  },
  {
   "cell_type": "code",
   "execution_count": 52,
   "id": "64ef110c-f5e9-4f40-a844-8b3db01395ef",
   "metadata": {},
   "outputs": [
    {
     "data": {
      "text/plain": [
       "        message: Optimization terminated successfully. (HiGHS Status 7: Optimal)\n",
       "        success: True\n",
       "         status: 0\n",
       "            fun: 0.63\n",
       "              x: [ 0.000e+00  7.000e+01  0.000e+00  0.000e+00  0.000e+00\n",
       "                   0.000e+00]\n",
       "            nit: 1\n",
       "          lower:  residual: [ 0.000e+00  7.000e+01  0.000e+00  0.000e+00\n",
       "                              0.000e+00  0.000e+00]\n",
       "                 marginals: [ 1.128e-01  0.000e+00  9.100e-03  2.100e-03\n",
       "                              4.910e-02  2.000e-03]\n",
       "          upper:  residual: [       inf        inf        inf        inf\n",
       "                                    inf        inf]\n",
       "                 marginals: [ 0.000e+00  0.000e+00  0.000e+00  0.000e+00\n",
       "                              0.000e+00  0.000e+00]\n",
       "          eqlin:  residual: []\n",
       "                 marginals: []\n",
       "        ineqlin:  residual: [ 5.000e+00  0.000e+00  2.150e+00  4.860e+00\n",
       "                              3.000e+01]\n",
       "                 marginals: [-0.000e+00 -9.000e-02 -0.000e+00 -0.000e+00\n",
       "                             -0.000e+00]\n",
       " mip_node_count: 0\n",
       " mip_dual_bound: 0.0\n",
       "        mip_gap: 0.0"
      ]
     },
     "execution_count": 52,
     "metadata": {},
     "output_type": "execute_result"
    }
   ],
   "source": [
    "import numpy as np\n",
    "import scipy.optimize as opt\n",
    "c=np.array ([0.12, 0.009, 0.01, 0.003, 0.05, 0.002])\n",
    "Aub=np.array([\n",
    "    [-0.1,  -0.2,  -0.15,   0,  -0.4,   0],\n",
    "    [-0.08, -0.1, -.01,  -0.01, -0.01,  0], \n",
    "    [0.001, 0.005, 0.005, 0.1,  0.15,   0], \n",
    "    [0.002, 0.002, 0.007, 0.002, 0.008, 0], \n",
    "    [  1,      1,     1,     1,    1,   1], \n",
    "])\n",
    "\n",
    "bub=np.array ([-9, -7, 2.5, 5,100])\n",
    "\n",
    "sol=opt.linprog(c, Aub, bub)\n",
    "sol"
   ]
  },
  {
   "cell_type": "markdown",
   "id": "090aa5ee-e1e0-48a0-a560-bc515e389be0",
   "metadata": {},
   "source": [
    "El costo de producción: $0.63"
   ]
  },
  {
   "cell_type": "code",
   "execution_count": null,
   "id": "27c1cf54-3cd4-458e-8b19-a60dbd5601ec",
   "metadata": {},
   "outputs": [],
   "source": []
  },
  {
   "cell_type": "code",
   "execution_count": null,
   "id": "ddcf6d35-22d9-4db9-8b9b-6f41c401cae2",
   "metadata": {},
   "outputs": [],
   "source": []
  },
  {
   "cell_type": "code",
   "execution_count": null,
   "id": "0a1419e2-1295-4476-833e-4de55f3e5911",
   "metadata": {},
   "outputs": [],
   "source": []
  },
  {
   "cell_type": "markdown",
   "id": "7920dab3-522c-4c16-a3cd-7f5f8bf3d830",
   "metadata": {},
   "source": [
    "## Ejercicio 2\n",
    "\n",
    "La Comisión Federal de Electricidad (CFE) dispone de cuatro plantas de generación para satisfacer la demanda diaria eléctrica en cuatro ciudades, Guadalajara, León y Morelia. Las plantas 1, 2 y 3 pueden satisfacer 75, 50 y 60 millones de kW al día respectivamente. Las necesidades de las ciudades de Guadalajara, León y Morelia son de 60, 45 y 60 millones de Kw al día respectivamente.\n",
    "Los costos asociados al envío de suministro energético por cada millón de kW entre cada planta y cada ciudad son los registrados en la siguiente tabla:"
   ]
  },
  {
   "cell_type": "markdown",
   "id": "1af5b868-20d5-40d5-aea0-774972944c7c",
   "metadata": {},
   "source": [
    "![](Ejercicio2_A05.png)"
   ]
  },
  {
   "cell_type": "markdown",
   "id": "419d6614-ab29-4c14-8233-c049c0a1a2e6",
   "metadata": {},
   "source": [
    "1. Identificar criterio de optimizacion\n",
    "   minimizar: $\\$$ costo de producto como nuevo\n",
    "   \n",
    "2. Variables de control:\n",
    "  - Planta 1 --> P1\n",
    "  - Planta 2 --> P2\n",
    "  - Planta 3 --> P3\n",
    "\n",
    "    \n",
    "  - Guadalajara --> G\n",
    "      - GP1\n",
    "      - GP2\n",
    "      - GP3 \n",
    "  - Leon --> L\n",
    "      - LP1\n",
    "      - LP2\n",
    "      - LP3 \n",
    "  - Morelia --> M\n",
    "      - MP1\n",
    "      - MP2\n",
    "      - MP3 \n",
    "    \n",
    "3. Funcion de costo\n",
    "   - $ GP1 (5) + GP2 (3) + GP3 (5) + LP1 (2) + LP2 (4) + LP3 (2) + MP1 (7) + MP2 (5) + MP3 (3) = Costo$\n",
    "\n",
    "4. Informacion adicional\n",
    "    - $\\text{Capacidad}:$\n",
    "        - $ GP1 + LP1 + MP1 \\leq 75\\ kw$\n",
    "        - $ GP2 + LP2 + MP2 \\leq 50\\ kw$\n",
    "        - $ GP3 + LP3 + MP3 \\leq 60\\ kw$\n",
    "\n",
    "\n",
    "\n",
    "      \n",
    "   - $\\text{Necesidad}:$\n",
    "        -  $ 60 = 5 GP1 + 3 GP2 + 5 GP3$\n",
    "        - $ 45 = 2 LP1 + 4 LP2 + 2 LP3$\n",
    "        - $ 60 = 7 MP1 + 5 MP2 + 3 MP3$"
   ]
  },
  {
   "cell_type": "code",
   "execution_count": null,
   "id": "99d8ed08-1546-4a78-883d-9ab2c0d4b3a7",
   "metadata": {},
   "outputs": [],
   "source": []
  },
  {
   "cell_type": "code",
   "execution_count": null,
   "id": "d1860150-a9d9-4b53-b062-e512b1e186b6",
   "metadata": {},
   "outputs": [],
   "source": []
  },
  {
   "cell_type": "code",
   "execution_count": null,
   "id": "cffcb503-3f14-474a-b4f8-15964c252974",
   "metadata": {},
   "outputs": [],
   "source": []
  },
  {
   "cell_type": "markdown",
   "id": "12efd4e3-0738-43e3-b411-7769f5b87c38",
   "metadata": {},
   "source": [
    "## A06"
   ]
  },
  {
   "cell_type": "markdown",
   "id": "d9e6e73a-2bc1-487b-9814-2e8056c0fd36",
   "metadata": {},
   "source": [
    "## Ejercicio 1\n",
    "\n",
    "Una carpintería local fabrica sillas, mesas, libreros y bases de cama. Hay dos empleados en esta carpintería: un empleado experimentado y un aprendiz. El aprendiz tarda aproximadamente 50% más tiempo que el carpintero experimentado en construir cualquier cosa, además de que tiene un desperdicio de alrededor de 20% de material. Los materiales y tiempos necesarios para construir algo se desglozan en la siguiente tabla:\n",
    "\n",
    "![](Ejercicio1_A06.png)\n",
    "\n",
    "Las mesas se venden en $9000$, las sillas en $3000$, los libreros en $10000$, y las bases de cama en $9000$. Suponiendo una jornada de 40 horas a la semana y que tienen 100 unidades de madera, ¿qué les conviene construir durante una semana para maximizar su ganancia?\n",
    "\n",
    "¿Cuántas horas trabaja cada quién?\n",
    "¿Cuánto material se usa?\n",
    "¿Cuál se el ingreso total si se vende todo lo fabricado?"
   ]
  },
  {
   "cell_type": "markdown",
   "id": "79fe4e52-4d8a-4625-9cb8-7fd780edf6bb",
   "metadata": {},
   "source": [
    "1. Identificar criterio de optimizacion\n",
    "   Maximizar: $\\$$ las ganancias\n",
    "   \n",
    "2. Variables de control:\n",
    "  - M_e --> Mesas experto\n",
    "  - M_e --> Mesas aprendiz\n",
    "  - S_e --> Sillas experto\n",
    "  - S_a --> Sillas aprendiz\n",
    "  - L_e --> Libreros experto\n",
    "  - L_a --> Libreros aprendiz\n",
    "  - B_e --> Bases experto\n",
    "  - B_a --> Bases aprendiz\n",
    "\n",
    "  - Mp --> 9000\n",
    "  - Sp --> 3000\n",
    "  - Lp --> 10000\n",
    "  - Bp --> 9000\n",
    "\n",
    "\n",
    "3. Funcion de costo\n",
    "   - $ 9000M_e + 9000M_a + 3000M_e + 3000M_a + 10000L_e + 10000L_a + 9000B_e + 9000B_a = Costo$\n",
    "\n",
    "4. Informacion adicional\n",
    "    - $\\text{Experimentado}:$ \n",
    "        - $ 3M_e + 1S_e + 4L_e + 3B_e \\leq 40\\ $\n",
    "     \n",
    "   - $\\text{Aprendiz}:$\n",
    "        - $ 4.5M_a + 1.5S_a + 6L_a + 4.5B_a \\leq 40\\ $\n",
    "          \n",
    "   - $\\text{Material}:$\n",
    "        - $ 6M_e + 7.2M_a + 2S_e + 2.4S_a + 5L_e + 6L_a + 5B_e + 6B_a \\leq 100\\ $"
   ]
  },
  {
   "cell_type": "code",
   "execution_count": 69,
   "id": "f5619161-fe13-4810-b52a-91949a0e39e5",
   "metadata": {},
   "outputs": [
    {
     "data": {
      "text/plain": [
       "        message: Optimization terminated successfully. (HiGHS Status 7: Optimal)\n",
       "        success: True\n",
       "         status: 0\n",
       "            fun: -176000.0\n",
       "              x: [ 0.000e+00  0.000e+00  1.000e+00 -9.474e-15  9.000e+00\n",
       "                   2.000e+00  1.000e+00  6.000e+00]\n",
       "            nit: -1\n",
       "          lower:  residual: [ 0.000e+00  0.000e+00  1.000e+00 -9.474e-15\n",
       "                              9.000e+00  2.000e+00  1.000e+00  6.000e+00]\n",
       "                 marginals: [ 0.000e+00  0.000e+00  0.000e+00  0.000e+00\n",
       "                              0.000e+00  0.000e+00  0.000e+00  0.000e+00]\n",
       "          upper:  residual: [       inf        inf        inf        inf\n",
       "                                    inf        inf        inf        inf]\n",
       "                 marginals: [ 0.000e+00  0.000e+00  0.000e+00  0.000e+00\n",
       "                              0.000e+00  0.000e+00  0.000e+00  0.000e+00]\n",
       "          eqlin:  residual: []\n",
       "                 marginals: []\n",
       "        ineqlin:  residual: [ 0.000e+00  1.000e+00  0.000e+00]\n",
       "                 marginals: [ 0.000e+00  0.000e+00  0.000e+00]\n",
       " mip_node_count: 1\n",
       " mip_dual_bound: -176000.0\n",
       "        mip_gap: 0.0"
      ]
     },
     "execution_count": 69,
     "metadata": {},
     "output_type": "execute_result"
    }
   ],
   "source": [
    "import numpy as np\n",
    "import scipy.optimize as opt\n",
    "c = np.array([-9000, -9000, -3000, -3000, -10000, -10000, -9000, -9000]) # Se pone negativa porque la función orginal es para maximizar\n",
    "\n",
    "Aub = np.array ([\n",
    "    [ 3,   0,   1,   0,    4,  0,  3,  0],\n",
    "    [ 0,  4.5,  0,  1.5,   0,  6,  0,  4.5],\n",
    "    [ 6,  7.2,  2,   2.4,    5,  6,  5,  6],\n",
    "])\n",
    "\n",
    "bub = np.array([\n",
    "             40,\n",
    "             40,\n",
    "             100\n",
    "])\n",
    "\n",
    "opt.linprog(c, Aub, bub, integrality=1) \n",
    "\n",
    "# opt.linprog(c, Aub, bub, Acq, Bcg, integrity=1) hecho por el profe"
   ]
  },
  {
   "cell_type": "markdown",
   "id": "6846c673-f016-4407-9535-231d8df004f9",
   "metadata": {},
   "source": [
    "2. La carpintería recibió una orden por 3 combos de mesa + 6 sillas:\n",
    "  - ¿Se puede cumplir la orden?\n",
    "  - \n",
    "Si sí, ¿qué es lo que tienen que fabricar en el resto del tiempo y con el resto del material para maximizar su ganancia\n",
    "  -  ¿Cuántas horas trabaja cada quién?\n",
    "  - ¿Cuánto material se usa?\n",
    "  - ¿Cuál es el nuevo ingreso total?"
   ]
  },
  {
   "cell_type": "code",
   "execution_count": 78,
   "id": "1ee3c29c-043a-420b-ab37-e37b1f731837",
   "metadata": {},
   "outputs": [
    {
     "data": {
      "text/plain": [
       "        message: Optimization terminated successfully. (HiGHS Status 7: Optimal)\n",
       "        success: True\n",
       "         status: 0\n",
       "            fun: -161000.0\n",
       "              x: [ 0.000e+00  3.000e+00  0.000e+00  1.800e+01  5.000e+00\n",
       "                   3.000e+00  0.000e+00  0.000e+00]\n",
       "            nit: -1\n",
       "          lower:  residual: [ 0.000e+00  3.000e+00  0.000e+00  1.800e+01\n",
       "                              5.000e+00  3.000e+00  0.000e+00  0.000e+00]\n",
       "                 marginals: [ 0.000e+00  0.000e+00  0.000e+00  0.000e+00\n",
       "                              0.000e+00  0.000e+00  0.000e+00  0.000e+00]\n",
       "          upper:  residual: [       inf        inf        inf        inf\n",
       "                                    inf        inf        inf        inf]\n",
       "                 marginals: [ 0.000e+00  0.000e+00  0.000e+00  0.000e+00\n",
       "                              0.000e+00  0.000e+00  0.000e+00  0.000e+00]\n",
       "          eqlin:  residual: []\n",
       "                 marginals: []\n",
       "        ineqlin:  residual: [ 1.000e+01  1.000e+00  1.000e+00  0.000e+00\n",
       "                              0.000e+00]\n",
       "                 marginals: [ 0.000e+00  0.000e+00  0.000e+00  0.000e+00\n",
       "                              0.000e+00]\n",
       " mip_node_count: 1\n",
       " mip_dual_bound: -161000.0\n",
       "        mip_gap: 0.0"
      ]
     },
     "execution_count": 78,
     "metadata": {},
     "output_type": "execute_result"
    }
   ],
   "source": [
    "import numpy as np\n",
    "import scipy.optimize as opt\n",
    "c = np.array([-9000, -9000, -3000, -3000, -10000, -10000, -9000, -9000]) # Se pone negativa porque la función orginal es para maximizar\n",
    "\n",
    "Aub=np.array([\n",
    "    [4.5, 0, 1.5, 0, 6, 0, 4.5, 0], \n",
    "    [ 0,  3,  0,  1, 0, 4,  0,  3], \n",
    "    [7.2, 6, 2.4, 2, 6, 5,  6,  5],\n",
    "    [-1, -1,  0,  0, 0, 0,  0,  0],\n",
    "    [ 0,  0, -1, -1, 0, 0,  0,  0]\n",
    "])\n",
    "Bub=np.array([40, 40, 100, -3, -18])\n",
    "\n",
    "opt.linprog(c, Aub, Bub, integrality=1)"
   ]
  },
  {
   "cell_type": "markdown",
   "id": "8b01078c-f6ba-4d57-940e-64f98044deb3",
   "metadata": {},
   "source": [
    "Pregunta 1\n",
    "- Las ganancia total: 176000$ \n",
    "- Horas que trabajara el aprendiz serán 39 y el experto 40 \n",
    "- Se usan las 100 unidades de madera. \n",
    "\n",
    "El novato hará: Sillas y libreros\n",
    "El experto hará: Sillas, libreros y buros.\n",
    "\n",
    "Pregunta 2:\n",
    "- Las ganancia: 161000 \n",
    "- Horas que trabajara el aprendiz serán 39 horas y el experto 30\n",
    "- Se usan 99 unidades de madera."
   ]
  },
  {
   "cell_type": "code",
   "execution_count": null,
   "id": "ebd93f40-0c12-4f3a-a87d-6ef066c21f41",
   "metadata": {},
   "outputs": [],
   "source": []
  }
 ],
 "metadata": {
  "kernelspec": {
   "display_name": "Python 3 (ipykernel)",
   "language": "python",
   "name": "python3"
  },
  "language_info": {
   "codemirror_mode": {
    "name": "ipython",
    "version": 3
   },
   "file_extension": ".py",
   "mimetype": "text/x-python",
   "name": "python",
   "nbconvert_exporter": "python",
   "pygments_lexer": "ipython3",
   "version": "3.12.4"
  }
 },
 "nbformat": 4,
 "nbformat_minor": 5
}
