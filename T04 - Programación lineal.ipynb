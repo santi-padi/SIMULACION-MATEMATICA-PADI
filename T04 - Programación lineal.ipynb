{
 "cells": [
  {
   "cell_type": "markdown",
   "id": "5cafaee2-3ed6-4642-a7bc-c2e0d1c60239",
   "metadata": {},
   "source": [
    "# T04 - Programación lineal\r\n"
   ]
  },
  {
   "cell_type": "markdown",
   "id": "f26ecc51-bb49-4549-9153-8c3a67e4a469",
   "metadata": {},
   "source": [
    "## Santiago Padillla Arias EXP:750985 Fecha: 11/09/2024\n"
   ]
  },
  {
   "cell_type": "markdown",
   "id": "272849ef-efa9-4220-a327-036f607894b5",
   "metadata": {},
   "source": [
    "### 02 Programación lineal.ipynb"
   ]
  },
  {
   "cell_type": "code",
   "execution_count": 42,
   "id": "2943aaeb-35d6-4ba7-a0da-7c7342bbab83",
   "metadata": {},
   "outputs": [],
   "source": [
    "# PROFE PERDONE MIS FALTAS DE ORTOGRAFIA ESTOY CON EL TECLADO EN INGLES Y NO ME DEJA PONER ACENTOS"
   ]
  },
  {
   "cell_type": "markdown",
   "id": "ae407249-4027-4c44-9850-ccbf918ca990",
   "metadata": {},
   "source": [
    "#### Ejercicio 1\n",
    "1. Una multinacional farmacéutica desea fabricar un compuesto nutritivo a base de dos productos A y B.  El producto A contiene  $30\\%$ de proteínas,  un $1\\%$ de grasas y un  $10\\%$ de azúcares.  El producto B  contiene  un  $5\\%$  de proteínas,  un  $7\\%$ de grasas  y un  $10\\%$  de  azúcares.\n",
    "El compuesto debe de tener,  al menos, $25g$ de proteínas,  $6g$ de grasas y $30g$ de azúcares.  El coste del producto A es de $0.6$ u.m./g  y el de B es de $0.2$  u.m./g\n",
    "\n",
    "Se desea encontrar la cantidad en gramos de cada producto para que el coste total sea mínimo.\n",
    "\n",
    "Formular el problema de decidir cuánto hacer de cada producto como un problema de programación lineal."
   ]
  },
  {
   "cell_type": "markdown",
   "id": "a0f8aefa-2883-444f-a1de-826e72ded784",
   "metadata": {},
   "source": [
    "1. Identificar criterio de optimizacion minimizar $\\$$ costo de producto como nuevo\n",
    "2. Variables de control:\n",
    "  - gramos de A --> $x_A$\n",
    "  - gramos de B --> $x_B$\n",
    "3. FUncion de costo\n",
    " - $ f(x_A, x_B) = 0.6 \\frac{\\$}{g}x_A + 0.2 \\frac{$}{g}x_B $\n",
    "4. Informacion adicional\n",
    "- Producto A contiene\n",
    "    - 30 % de proteina\n",
    "    - 1 % de grasas\n",
    "    - 10 % de azucares\n",
    "\n",
    "\n",
    "- Producto B contiene\n",
    "    - 5 % de proteina\n",
    "    - 7 % de grasas\n",
    "    - 10 % de azucares\n",
    "\n",
    "Producto final debe contener\n",
    "    - Al menos 25 g de proteina\n",
    "    - Al menos 6 g de grasas\n",
    "    - Al menos 30 g de azucares"
   ]
  },
  {
   "cell_type": "markdown",
   "id": "e0c03b72-77cf-4872-a35a-60d202fde36c",
   "metadata": {},
   "source": [
    "$$ \\min{x_A, x_B} 0.6 x_A + 0.2 x_B$$\n",
    "$$ \\text{s.t.}$$\n",
    "\n",
    "$$ 0.30 x_A + 0.05  x_B \\geq 25\\  $$ \n",
    "\n",
    "$$ 0.01 x_A + 0.07  x_B \\geq 6\\  $$ \n",
    "\n",
    "$$ 0.10 x_A + 0.10  x_B \\geq 30\\  $$ "
   ]
  },
  {
   "cell_type": "code",
   "execution_count": 34,
   "id": "393112f3-fee5-47db-9079-4bca4dbfed83",
   "metadata": {},
   "outputs": [
    {
     "data": {
      "text/plain": [
       "        message: Optimization terminated successfully. (HiGHS Status 7: Optimal)\n",
       "        success: True\n",
       "         status: 0\n",
       "            fun: 76.0\n",
       "              x: [ 4.000e+01  2.600e+02]\n",
       "            nit: 2\n",
       "          lower:  residual: [ 4.000e+01  2.600e+02]\n",
       "                 marginals: [ 0.000e+00  0.000e+00]\n",
       "          upper:  residual: [       inf        inf]\n",
       "                 marginals: [ 0.000e+00  0.000e+00]\n",
       "          eqlin:  residual: []\n",
       "                 marginals: []\n",
       "        ineqlin:  residual: [ 0.000e+00  1.260e+01  0.000e+00]\n",
       "                 marginals: [-1.600e+00 -0.000e+00 -1.200e+00]\n",
       " mip_node_count: 0\n",
       " mip_dual_bound: 0.0\n",
       "        mip_gap: 0.0"
      ]
     },
     "execution_count": 34,
     "metadata": {},
     "output_type": "execute_result"
    }
   ],
   "source": [
    "import numpy as np\n",
    "\n",
    "c = np.array([0.6,0.2])\n",
    "\n",
    "Aub = np.array ([\n",
    "    [-0.30, -0.05],\n",
    "    [-0.01, -0.07],\n",
    "    [-0.10, -0.10]\n",
    "])\n",
    "\n",
    "bub = np.array([-25, -6, -30])\n",
    "\n",
    "import scipy.optimize as opt\n",
    "\n",
    "sol = opt.linprog(c, Aub, bub)\n",
    "sol\n",
    "\n",
    "# Aub @ sol.x  # Arroba multiplica vectores y matrices, el punto x, de la solucion encontrada solo usa la parte de x"
   ]
  },
  {
   "cell_type": "markdown",
   "id": "0969ddf8-3be0-4522-a0aa-29f1d2c7b95c",
   "metadata": {},
   "source": [
    "Las medidas de los productos debe ser de:  \n",
    " - **40** para el producto A.\n",
    " - **260** para el producto B.\n",
    "\n",
    "Nota: Resultados se obtienen a partir de las posiciones de las matrices, se deben interpretar resultados."
   ]
  },
  {
   "cell_type": "code",
   "execution_count": null,
   "id": "9dfdf572-be06-4920-9b69-31c59cfce112",
   "metadata": {},
   "outputs": [],
   "source": []
  },
  {
   "cell_type": "code",
   "execution_count": null,
   "id": "0a322c42-7257-4044-a8ae-12ac5e2dbd31",
   "metadata": {},
   "outputs": [],
   "source": []
  },
  {
   "cell_type": "code",
   "execution_count": null,
   "id": "f818e630-2250-46bb-b66a-1d31bf4ca315",
   "metadata": {},
   "outputs": [],
   "source": []
  },
  {
   "cell_type": "markdown",
   "id": "805ee061-c7cd-4dc4-b725-da610cdf7f76",
   "metadata": {},
   "source": [
    "#### Ejercicio 2\n",
    "Una  fábrica  de  carrocerías  de  automóviles  y camiones  tiene  dos naves. \n",
    "\n",
    "+ En  la nave A,  para  hacer  la  carrocería  de  un  camión,  se  invierten  siete  días-operario,  para  fabricar  la  de  un  coche  se  precisan dos días-operario.\n",
    "\n",
    "+ En la nave B se invierten tres días operario tanto en carrocerías de camión como de coche. \n",
    "\n",
    "Por limitaciones de mano de obra y maquinaria, la nave A dispone de $300$ días operario, y la nave B de $270$ días-operario.\n",
    "\n",
    "Si los beneficios que se obtienen por cada camión son de $600$ u.m y por  cada  automóvil  $200$ u.m,  ¿cuántas  unidades  de  cada  uno  se deben  producir  para maximizar las  ganancias? \n",
    "\n",
    "**Nota:** el problema $\\max_{\\boldsymbol{x}}\\boldsymbol{g}(\\boldsymbol{x})$ es equivalente a $\\min_{\\boldsymbol{x}}-\\boldsymbol{g}(\\boldsymbol{x})$."
   ]
  },
  {
   "cell_type": "markdown",
   "id": "f3040b4a-617c-4940-8ca5-7f1ca5c95b43",
   "metadata": {},
   "source": [
    "1. Identificar criterio de optimizacion maximizar $\\$$ beneficios\n",
    "   \n",
    "2. Variables de control:\n",
    "  - Automoviles --> $A$\n",
    "  - Camiones --> $C$\n",
    "\n",
    "3. FUncion de costo\n",
    " - $ 200 A + 600 B = Costo $\n",
    "\n",
    "4. Informacion adicional:\n",
    "\n",
    "Operarios\n",
    "    - Nave A: 300\n",
    "    - Nave B: 270\n",
    "    \n",
    "- Tardanza en nave A:\n",
    "    - 2 dias para automovil\n",
    "    - 7 dias para camion\n",
    "\n",
    "- Tardanza nave B:\n",
    "    - 3 dias para automovil y 3 para camion\n",
    "\n"
   ]
  },
  {
   "cell_type": "code",
   "execution_count": 68,
   "id": "2b4b50a1-d4a3-4b19-94ff-0c53e5a33d75",
   "metadata": {},
   "outputs": [
    {
     "data": {
      "text/plain": [
       "        message: Optimization terminated successfully. (HiGHS Status 7: Optimal)\n",
       "        success: True\n",
       "         status: 0\n",
       "            fun: -27600.0\n",
       "              x: [ 6.600e+01  2.400e+01]\n",
       "            nit: -1\n",
       "          lower:  residual: [ 6.600e+01  2.400e+01]\n",
       "                 marginals: [ 0.000e+00  0.000e+00]\n",
       "          upper:  residual: [       inf        inf]\n",
       "                 marginals: [ 0.000e+00  0.000e+00]\n",
       "          eqlin:  residual: []\n",
       "                 marginals: []\n",
       "        ineqlin:  residual: [ 0.000e+00  0.000e+00]\n",
       "                 marginals: [ 0.000e+00  0.000e+00]\n",
       " mip_node_count: 1\n",
       " mip_dual_bound: -27600.0\n",
       "        mip_gap: 0.0"
      ]
     },
     "execution_count": 68,
     "metadata": {},
     "output_type": "execute_result"
    }
   ],
   "source": [
    "import numpy as np\n",
    "\n",
    "c = np.array([-200, -600])\n",
    "\n",
    "Aub = np.array ([\n",
    "    [2, 7],\n",
    "    [3, 3]\n",
    "])\n",
    "\n",
    "bub = np.array([300, 270])\n",
    "\n",
    "import scipy.optimize as opt\n",
    "\n",
    "sol = opt.linprog(c, Aub, bub, integrality=1)\n",
    "sol\n",
    "\n",
    "# Aub @ sol.x  # Arroba multiplica vectores y matrices, el punto x, de la solucion encontrada solo usa la parte de x"
   ]
  },
  {
   "cell_type": "markdown",
   "id": "8ee28389-b306-4531-bf40-6ee01b49c575",
   "metadata": {},
   "source": [
    "- El beneficio debe ser de:  **27600.0**\n",
    "- Con la produccion de:\n",
    "    - 66 automoviles\n",
    "    - 24 camion\n",
    " \n",
    "Nota: Resultados se obtienen a partir de las posiciones de las matrices, se deben interpretar resultados."
   ]
  },
  {
   "cell_type": "code",
   "execution_count": null,
   "id": "592ee6dd-d487-4f39-836e-a0696265580a",
   "metadata": {},
   "outputs": [],
   "source": []
  },
  {
   "cell_type": "code",
   "execution_count": null,
   "id": "a476711a-8575-424b-a94f-1a97ba2c0c1d",
   "metadata": {},
   "outputs": [],
   "source": []
  },
  {
   "cell_type": "code",
   "execution_count": null,
   "id": "faa29c8d-484e-4ecc-99d7-8be44cd8ad08",
   "metadata": {},
   "outputs": [],
   "source": []
  },
  {
   "cell_type": "markdown",
   "id": "9117b7e0-a35f-4e1b-b7f7-c238ab1f928b",
   "metadata": {},
   "source": [
    "#### Ejercicio 3\n",
    "Mónica hace aretes y cadenitas de joyería. Es tan buena, que todo lo que hace lo vende.\n",
    "\n",
    "Le toma 30 minutos hacer un par de aretes y una hora hacer una cadenita, y como Mónica también es estudihambre, solo dispone de 10 horas a la semana para hacer las joyas. Por otra parte, el material que compra solo le alcanza para hacer 15 unidades (el par de aretes cuenta como unidad) de joyas por semana.\n",
    "\n",
    "La utilidad que le deja la venta de las joyas es $\\$15$ en cada par de aretes y $\\$20$ en cada cadenita.\n",
    "\n",
    "¿Cuántos pares de aretes y cuántas cadenitas debería hacer Mónica para maximizar su utilidad?\n"
   ]
  },
  {
   "cell_type": "markdown",
   "id": "f9d567d0-6283-4bc2-8ef5-387f6c401f09",
   "metadata": {},
   "source": [
    "1. Identificar criterio de optimizacion maximizar $\\$$ beneficios\n",
    "   \n",
    "2. Variables de control:\n",
    "  - Aretes --> $A$\n",
    "  - Cadenas --> $C$\n",
    "\n",
    "3. FUncion de costo\n",
    " - $ 15 A + 20 C = Costo $\n",
    "\n",
    "4. Informacion adicional:\n",
    "\n",
    "Tiempo: $ .50 A +  1 C \\leq 10\\  $\n",
    "\n",
    "Material usado: $ A + C \\leq 15\\  $ \n"
   ]
  },
  {
   "cell_type": "code",
   "execution_count": 6,
   "id": "757daad0-203c-49d0-8f4a-bfe9a8539d58",
   "metadata": {},
   "outputs": [
    {
     "data": {
      "text/plain": [
       "        message: Optimization terminated successfully. (HiGHS Status 7: Optimal)\n",
       "        success: True\n",
       "         status: 0\n",
       "            fun: -250.0\n",
       "              x: [ 1.000e+01  5.000e+00]\n",
       "            nit: -1\n",
       "          lower:  residual: [ 1.000e+01  5.000e+00]\n",
       "                 marginals: [ 0.000e+00  0.000e+00]\n",
       "          upper:  residual: [       inf        inf]\n",
       "                 marginals: [ 0.000e+00  0.000e+00]\n",
       "          eqlin:  residual: []\n",
       "                 marginals: []\n",
       "        ineqlin:  residual: [ 0.000e+00  0.000e+00]\n",
       "                 marginals: [ 0.000e+00  0.000e+00]\n",
       " mip_node_count: 1\n",
       " mip_dual_bound: -250.0\n",
       "        mip_gap: 0.0"
      ]
     },
     "execution_count": 6,
     "metadata": {},
     "output_type": "execute_result"
    }
   ],
   "source": [
    "import numpy as np\n",
    "\n",
    "c = np.array([-15, -20])\n",
    "\n",
    "Aub = np.array ([\n",
    "    [.5, 1],\n",
    "    [1, 1]\n",
    "])\n",
    "\n",
    "bub = np.array([10, 15])\n",
    "\n",
    "import scipy.optimize as opt\n",
    "\n",
    "sol = opt.linprog(c, Aub, bub, integrality=1)\n",
    "sol\n",
    "\n",
    "# Aub @ sol.x  # Arroba multiplica vectores y matrices, el punto x, de la solucion encontrada solo usa la parte de x"
   ]
  },
  {
   "cell_type": "markdown",
   "id": "0f6fab9b-2fe7-430f-bac8-2586ebfd42ee",
   "metadata": {},
   "source": [
    "- La ganancia (beneficio) debe ser de:  **250.0**\n",
    "- Con la produccion de:\n",
    "    - 10 pares de aretes\n",
    "    - 5 collares\n",
    " \n",
    "     \n",
    "Nota: Resultados se obtienen a partir de las posiciones de las matrices, se deben interpretar resultados."
   ]
  },
  {
   "cell_type": "code",
   "execution_count": null,
   "id": "8e61f0d5-cd6d-4f06-9779-c422bfbdf7ad",
   "metadata": {},
   "outputs": [],
   "source": []
  },
  {
   "cell_type": "code",
   "execution_count": null,
   "id": "75e95fb7-0108-4d12-9146-89263cb1edf8",
   "metadata": {},
   "outputs": [],
   "source": []
  },
  {
   "cell_type": "code",
   "execution_count": null,
   "id": "dceb8561-66a6-47d4-9ef0-e91b0fe02be6",
   "metadata": {},
   "outputs": [],
   "source": []
  },
  {
   "cell_type": "markdown",
   "id": "f9bcfbd6-d91b-4e59-ac58-aab39296d6c3",
   "metadata": {},
   "source": [
    "#### Ejercicio 4\n",
    "Problema de transporte 1\n",
    "- **Referencia**: http://bdigital.unal.edu.co/5037/4/guillermojimenezlozano.2006_Parte1.pdf\n",
    "\n",
    "Una  empresa tiene dos fábricas A y B.  En ellas  se fabrica un determinado  producto, a razón de 500  y 400 unidades por día respectivamente.  El producto  ha  de  ser distribuido posteriormente  a  tres  centros  C,  D  y  E,  que  requieren,  respectivamente,  200,  300  y  400  unidades.  Los  costos  de  transportar cada unidad del producto desde cada fábrica a cada centro distribuidor son los  indicados  en la tabla  siguiente: \n",
    "\n",
    "Factoría|C|D|E|Fabricación (Unidades)\n",
    ":----|----|----|----|----\n",
    "A|  50 u.m|60 u.m|10 u.m|500 u\n",
    "B|  25 u.m|40 u.m|20 u.m|400 u\n",
    "Demanda|200|300|400|\n",
    "\n",
    "**¿De qué manera  deben  organizar  el transporte a fin de que los gastos sean mínimos?**\n",
    "\n",
    "\n",
    "Resolver con `linprog`"
   ]
  },
  {
   "cell_type": "markdown",
   "id": "7737ba2f-30b4-4d3e-a54f-10a79a36f7a7",
   "metadata": {},
   "source": [
    "1. Identificar criterio de optimizacion minimizar $\\$$ beneficios\n",
    "   \n",
    "2. Variables de control:\n",
    "  - Factoria A centro C--> $AC$\n",
    "  - Factoria B centro C--> $BC$\n",
    "  - Factoria A centro D--> $AD$\n",
    "  - Factoria B centro D--> $BD$\n",
    "  - Factoria A centro E--> $AE$\n",
    "  - Factoria B centro E--> $BE$\n",
    "\n",
    "3. FUncion de costo\n",
    " - $ 50AC + 25BC + 60AD +40BD + 10AE + 20BE = Costo $\n",
    "\n",
    "4. Informacion adicional:\n",
    "\n",
    "Centro C: $ 50AC + 25BC \\geq 200\\  $\n",
    "\n",
    "Centro D: $ 60AD +40BD \\geq 300\\  $\n",
    "\n",
    "Centro E: $ 10AE + 20BE \\geq 400\\  $\n"
   ]
  },
  {
   "cell_type": "code",
   "execution_count": 8,
   "id": "e125adfe-b624-4ce1-93f4-ec93485f9290",
   "metadata": {},
   "outputs": [
    {
     "data": {
      "text/plain": [
       "        message: Optimization terminated successfully. (HiGHS Status 7: Optimal)\n",
       "        success: True\n",
       "         status: 0\n",
       "            fun: 900.0\n",
       "              x: [ 0.000e+00  8.000e+00  5.000e+00  0.000e+00  4.000e+01\n",
       "                   0.000e+00]\n",
       "            nit: -1\n",
       "          lower:  residual: [ 0.000e+00  8.000e+00  5.000e+00  0.000e+00\n",
       "                              4.000e+01  0.000e+00]\n",
       "                 marginals: [ 0.000e+00  0.000e+00  0.000e+00  0.000e+00\n",
       "                              0.000e+00  0.000e+00]\n",
       "          upper:  residual: [       inf        inf        inf        inf\n",
       "                                    inf        inf]\n",
       "                 marginals: [ 0.000e+00  0.000e+00  0.000e+00  0.000e+00\n",
       "                              0.000e+00  0.000e+00]\n",
       "          eqlin:  residual: []\n",
       "                 marginals: []\n",
       "        ineqlin:  residual: [ 0.000e+00  0.000e+00  0.000e+00]\n",
       "                 marginals: [ 0.000e+00  0.000e+00  0.000e+00]\n",
       " mip_node_count: 1\n",
       " mip_dual_bound: 900.0\n",
       "        mip_gap: 0.0"
      ]
     },
     "execution_count": 8,
     "metadata": {},
     "output_type": "execute_result"
    }
   ],
   "source": [
    "import numpy as np\n",
    "\n",
    "c = np.array([50, 25, 60, 40, 10, 20])\n",
    "\n",
    "Aub = np.array ([\n",
    "     [-50, -25,  0,  0,  0,  0], \n",
    "     [0,    0, -60, -40, 0, 0], \n",
    "     [0,    0,   0,  0, -10, -20]\n",
    "])\n",
    "\n",
    "bub = np.array([-200, -300, -400])\n",
    "\n",
    "import scipy.optimize as opt\n",
    "\n",
    "sol = opt.linprog(c, Aub, bub, integrality=1)\n",
    "sol\n",
    "\n",
    "# Aub @ sol.x  # Arroba multiplica vectores y matrices, el punto x, de la solucion encontrada solo usa la parte de x"
   ]
  },
  {
   "cell_type": "code",
   "execution_count": null,
   "id": "fd6052b7-d6a7-457f-9d52-76eb9b93762b",
   "metadata": {},
   "outputs": [],
   "source": []
  },
  {
   "cell_type": "code",
   "execution_count": null,
   "id": "df70380e-dc18-476b-9b02-2a947f184335",
   "metadata": {},
   "outputs": [],
   "source": []
  },
  {
   "cell_type": "code",
   "execution_count": null,
   "id": "5662a91e-0e8d-494d-9a8b-dd25bfb99665",
   "metadata": {},
   "outputs": [],
   "source": []
  },
  {
   "cell_type": "markdown",
   "id": "a00c5ee7-b3cd-4709-8122-1964ff2113ce",
   "metadata": {},
   "source": [
    "#### Ejercicio 5\n",
    "El objetivo de este problema es determinar la mejor estrategia de inversión, dados diferentes tipos de bono, la máxima cantidad que puede ser invertida en cada bono, el porcentaje de retorno y los años de madurez. También hay una cantidad fija de dinero disponible ($\\$750,000$). Por lo menos la mitad de este dinero debe ser invertido en bonos con 10 años o más para la madurez. Se puede invertir un máximo del $25\\%$ de esta cantidad en cada bono. Finalmente, hay otra restricción que no permite usar más de $35\\%$ en bonos de alto riesgo.\n",
    "\n",
    "Existen seis (6) opciones de inversión con las letras correspondientes $A_i$\n",
    "\n",
    "1. $A_1$:(Tasa de retorno=$8.65\\%$; Años para la madurez=11, Riesgo=Bajo)\n",
    "1. $A_2$:(Tasa de retorno=$9.50\\%$; Años para la madurez=10, Riesgo=Alto)\n",
    "1. $A_3$:(Tasa de retorno=$10.00\\%$; Años para la madurez=6, Riesgo=Alto)\n",
    "1. $A_4$:(Tasa de retorno=$8.75\\%$; Años para la madurez=10, Riesgo=Bajo)\n",
    "1. $A_5$:(Tasa de retorno=$9.25\\%$; Años para la madurez=7, Riesgo=Alto)\n",
    "1. $A_6$:(Tasa de retorno=$9.00\\%$; Años para la madurez=13, Riesgo=Bajo)\n",
    "\n",
    "Lo que se quiere entonces es maximizar el retorno que deja la inversión.\n",
    "\n",
    "Este problema puede ser resuelto con programación lineal. Formalmente, puede ser descrito como:\n",
    "\n",
    "$$\\max_{A_1,A_2,...,A_6}\\sum^{6}_{i=1} A_iR_i,$$\n",
    "\n",
    "donde $A_i$ representa la cantidad invertida en la opción, y $R_i$ representa la tasa de retorno respectiva."
   ]
  },
  {
   "cell_type": "markdown",
   "id": "2ed9c5c6-60a9-423a-bf48-b34329e9ded4",
   "metadata": {},
   "source": [
    "1. Identificar criterio de optimizacion minimizar $\\$$ beneficios\n",
    "   \n",
    "2. Variables de control:\n",
    "  - Opcion de inversion 1--> $A_1$\n",
    "  - Opcion de inversion 2--> $A_2$\n",
    "  - Opcion de inversion 3--> $A_3$\n",
    "  - Opcion de inversion 4--> $A_4$\n",
    "  - Opcion de inversion 5--> $A_5$\n",
    "  - Opcion de inversion 6--> $A_6$\n",
    "\n",
    "3. FUncion de costo\n",
    " - $  0.0865A_1 + 0.95A_2 +0.1A_3 +0.875A_4 +0.925A_5 +.09A_6 = Costo $\n",
    "\n",
    "4. Informacion adicional:\n",
    "\n",
    "Centro C: $ 50AC + 25BC \\geq 200\\  $\n",
    "\n",
    "Centro D: $ 60AD +40BD \\geq 300\\  $\n",
    "\n",
    "Centro E: $ 10AE + 20BE \\geq 400\\  $"
   ]
  },
  {
   "cell_type": "code",
   "execution_count": null,
   "id": "7089f545-a027-452c-b37b-14c9cee585a9",
   "metadata": {},
   "outputs": [],
   "source": []
  },
  {
   "cell_type": "code",
   "execution_count": null,
   "id": "d8e0c4a9-7c1f-4e30-ba89-3e1093eafb8e",
   "metadata": {},
   "outputs": [],
   "source": []
  },
  {
   "cell_type": "code",
   "execution_count": null,
   "id": "63876c69-c4dd-48f3-916a-08341d9678ae",
   "metadata": {},
   "outputs": [],
   "source": []
  },
  {
   "cell_type": "markdown",
   "id": "b32502d4-5eff-4190-a060-d087c838ddc8",
   "metadata": {},
   "source": [
    "### A05"
   ]
  },
  {
   "cell_type": "code",
   "execution_count": null,
   "id": "cd4f1d3f-68a8-4248-bba4-ef27632338dc",
   "metadata": {},
   "outputs": [],
   "source": []
  }
 ],
 "metadata": {
  "kernelspec": {
   "display_name": "Python 3 (ipykernel)",
   "language": "python",
   "name": "python3"
  },
  "language_info": {
   "codemirror_mode": {
    "name": "ipython",
    "version": 3
   },
   "file_extension": ".py",
   "mimetype": "text/x-python",
   "name": "python",
   "nbconvert_exporter": "python",
   "pygments_lexer": "ipython3",
   "version": "3.12.4"
  }
 },
 "nbformat": 4,
 "nbformat_minor": 5
}
