{
 "cells": [
  {
   "cell_type": "markdown",
   "id": "0ee8bfb6-0516-482f-a616-9d37890c3824",
   "metadata": {},
   "source": [
    "# Opcional - O01 - Python"
   ]
  },
  {
   "cell_type": "markdown",
   "id": "9971c78d-5e71-4d7f-ad2e-a45f59be8a91",
   "metadata": {},
   "source": [
    "## Santiago Padillla Arias EXP:750985 Fecha: 26/08/2024"
   ]
  },
  {
   "cell_type": "markdown",
   "id": "35ba8be1-f789-4c04-9df9-7b9674010786",
   "metadata": {},
   "source": [
    "En una empresa el salario de un empleado se calcula de la siguiente manera:\n",
    "\n",
    "- 500 USD mensuales.\n",
    "- 20 USD adicionales por cada año de antigüedad.\n",
    "- 15 USD de apoyo gubernamental por cada dependiente.\n",
    "- 100 USD si no hubo ausencias injustificadas.\n",
    "\n",
    "Escribe una función que reciba la antigüedad del empleado y su cantidad de dependientes como número entero, y la confirmación de asistencia como booleano. Si se ingresa un tipo de dato en una variable diferente al esperado la función debe regresar \"Error. Revisar entradas.\"\n",
    "\n",
    "La función, en caso que las variables sean ingresadas de manera correcta, debe regresar:\n",
    "\n",
    "\"El salario total es $xxx: $400 de salario mínimo +  por y años de experiencia +  por z dependientes + $100 por no inasistencias.\""
   ]
  },
  {
   "cell_type": "code",
   "execution_count": 58,
   "id": "4635b6b4-0f6a-4bea-902d-18136c2d4252",
   "metadata": {},
   "outputs": [],
   "source": [
    "def funcion(antig,depend,asist):\n",
    "    if type(antig) != int:\n",
    "        print(\"Error. Revisar entradas\")\n",
    "    else:\n",
    "        if type(depend) != int:\n",
    "            print(\"Error. Revisar entradas\")\n",
    "        else:\n",
    "            if type(asist) != bool:\n",
    "                print(\"Error. Revisar entradas\")\n",
    "            else:\n",
    "                salario = 500\n",
    "                ant = 20 * antig\n",
    "                apoyo = 15 * depend\n",
    "            if asist == True:\n",
    "                no_ausencia = 100\n",
    "                total = salario + ant + apoyo + no_ausencia\n",
    "                print(\"El salario total es $ \", str(total), \": $500 de salario mínimo más $\" + str(ant) + \" por \" + str(antig) + \" años de experiencia, más $\"+ str(apoyo), \"por\", str(depend), \"dependientes y $\" + str(no_ausencia) + \" por no inasistencias.\")\n",
    "            else:\n",
    "                no_ausencia = 0\n",
    "                total = salario + ant + apoyo + no_ausencia\n",
    "                print(\"El salario total es $\", str(total), \": $500 de salario mínimo más $\" + str(ant) + \" por \" + str(antig) + \" años de experiencia, más $\"+ str(apoyo), \"por\", str(depend), \"dependientes y $\" + str(no_ausencia) + \" por no inasistencias.\")\n",
    "\n",
    "                "
   ]
  },
  {
   "cell_type": "code",
   "execution_count": 66,
   "id": "71d8caee-533f-4610-8123-49d0f2b4112a",
   "metadata": {},
   "outputs": [
    {
     "name": "stdout",
     "output_type": "stream",
     "text": [
      "El salario total es $  670 : $500 de salario mínimo más $40 por 2 años de experiencia, más $30 por 2 dependientes y $100 por no inasistencias.\n"
     ]
    }
   ],
   "source": [
    "funcion(2,2,True)"
   ]
  },
  {
   "cell_type": "code",
   "execution_count": null,
   "id": "7c8ba2f7-3aab-40a6-94b5-081bbee645c9",
   "metadata": {},
   "outputs": [],
   "source": []
  },
  {
   "cell_type": "markdown",
   "id": "501bc32c-6745-446e-903d-8354c35eb3d7",
   "metadata": {},
   "source": [
    "Ejercicio 2.\n",
    "\n",
    "Escribe una función que recibe un número entero de 3 cifras y que responda de la siguiente manera:\n",
    "\n",
    "- El número tiene x centenas\n",
    "- El número tiene y decenas\n",
    "- El número tiene z unidades"
   ]
  },
  {
   "cell_type": "code",
   "execution_count": 15,
   "id": "6d78052d-a581-4c07-9642-05cf456ca9be",
   "metadata": {},
   "outputs": [],
   "source": [
    "def entero(N1):\n",
    "    Cen = N1 // 100\n",
    "    Dec = (N1 % 100) // 10\n",
    "    Uni = (N1 % 100) % 10\n",
    "    print(\"Las centenas de tu numero son: \" + str(Cen))\n",
    "    print(\"Las decenas de tu numero son: \" + str(Dec))\n",
    "    print(\"Las unidades de tu numero son: \" + str(Uni))"
   ]
  },
  {
   "cell_type": "code",
   "execution_count": 17,
   "id": "02fc47ee-841c-44a5-815d-29e8a5371e99",
   "metadata": {},
   "outputs": [
    {
     "name": "stdout",
     "output_type": "stream",
     "text": [
      "Las centenas de tu numero son: 1\n",
      "Las decenas de tu numero son: 2\n",
      "Las unidades de tu numero son: 8\n"
     ]
    }
   ],
   "source": [
    "entero(128)"
   ]
  },
  {
   "cell_type": "markdown",
   "id": "83904bef-adec-4966-bea1-6751b89a9ca6",
   "metadata": {},
   "source": [
    "Ejercicio 3.\n",
    "\n",
    "En un cibercafé hay 2 formas de cobrar a un cliente. Se cobra 10 pesos la hora si el cliente está registrado como miembro, y 25 si no. Además, el impuesto cobrado a un miembro es del 10% y a un no miembro de 20%.\n",
    "\n",
    "Los clientes registrados como miembros son:\n",
    "\n",
    "Magnolia\n",
    "Pedro\n",
    "Iván\n",
    "Sabrina\n",
    "Montserrat\n",
    "Miguel\n",
    "\n",
    "Escribe una función que reciba como entrada:\n",
    "\n",
    "Cuántas horas estuvo el cliente usando el equipo.\n",
    "El nombre del cliente\n",
    "La función debe buscar al cliente en la base de datos para saber si es miembro, y debe imprimir:\n",
    "\n",
    "\"El usuario (no) es un miembro y estuvo (x) horas + el impuesto del (y)%. Total: 'zzz'.\""
   ]
  },
  {
   "cell_type": "code",
   "execution_count": 92,
   "id": "001816c8-b179-4c25-a2ee-98a432409ad9",
   "metadata": {},
   "outputs": [],
   "source": [
    "def cafe(horas, cliente):\n",
    "    miembros = [\"Magnolia\", \"Pedro\", \"Iván\", \"Sabrina\", \"Montserrat\", \"Miguel\"]\n",
    "    hora_miem = 10\n",
    "    impuesto_miem = 10\n",
    "    imp_miem = 1.1\n",
    "    hora_no_miem = 25\n",
    "    impuesto_no_miem = 20\n",
    "    imp_no_miem = 1.2\n",
    "    if cliente in miembros:\n",
    "        print(\"El usuario es un miembro y estuvo\", horas ,\"horas y el impuesto es del\", impuesto_miem, \"%. Total:\", str((hora_miem*horas)*imp_miem))\n",
    "    else:\n",
    "        print(\"El usuario no es un miembro y estuvo\", horas ,\"horas y el impuesto es del\", impuesto_no_miem, \"%. Total:\", str((hora_miem*horas)*imp_no_miem))\n",
    "        "
   ]
  },
  {
   "cell_type": "code",
   "execution_count": 98,
   "id": "45da6e35-bcfa-4c33-95dc-5a9421974bc7",
   "metadata": {},
   "outputs": [
    {
     "name": "stdout",
     "output_type": "stream",
     "text": [
      "El usuario es un miembro y estuvo 2 horas y el impuesto es del 10 %. Total: 22.0\n"
     ]
    }
   ],
   "source": [
    "cafe(2,\"Pedro\")"
   ]
  },
  {
   "cell_type": "markdown",
   "id": "d9164869-82d8-4e8c-bffa-ba5f46890253",
   "metadata": {},
   "source": [
    "Ejercicio 5.\n",
    "\n",
    "Crea una función que calcule el promedio de una lista de números. Usar ciclos para iterar sobre la lista e imprimir error si alguno de los objetos en la lista no es un número."
   ]
  },
  {
   "cell_type": "code",
   "execution_count": null,
   "id": "18d286e9-de41-4cb7-8e51-10f5ca68a959",
   "metadata": {},
   "outputs": [],
   "source": [
    "def promedio():\n",
    "    for i "
   ]
  }
 ],
 "metadata": {
  "kernelspec": {
   "display_name": "Python 3 (ipykernel)",
   "language": "python",
   "name": "python3"
  },
  "language_info": {
   "codemirror_mode": {
    "name": "ipython",
    "version": 3
   },
   "file_extension": ".py",
   "mimetype": "text/x-python",
   "name": "python",
   "nbconvert_exporter": "python",
   "pygments_lexer": "ipython3",
   "version": "3.12.4"
  }
 },
 "nbformat": 4,
 "nbformat_minor": 5
}
