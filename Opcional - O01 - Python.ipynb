{
 "cells": [
  {
   "cell_type": "markdown",
   "id": "0ee8bfb6-0516-482f-a616-9d37890c3824",
   "metadata": {},
   "source": [
    "# Opcional - O01 - Python"
   ]
  },
  {
   "cell_type": "markdown",
   "id": "9971c78d-5e71-4d7f-ad2e-a45f59be8a91",
   "metadata": {},
   "source": [
    "## Santiago Padillla Arias EXP:750985 Fecha: 26/08/2024"
   ]
  },
  {
   "cell_type": "markdown",
   "id": "35ba8be1-f789-4c04-9df9-7b9674010786",
   "metadata": {},
   "source": [
    "En una empresa el salario de un empleado se calcula de la siguiente manera:\n",
    "\n",
    "- 500 USD mensuales.\n",
    "- 20 USD adicionales por cada año de antigüedad.\n",
    "- 15 USD de apoyo gubernamental por cada dependiente.\n",
    "- 100 USD si no hubo ausencias injustificadas.\n",
    "\n",
    "Escribe una función que reciba la antigüedad del empleado y su cantidad de dependientes como número entero, y la confirmación de asistencia como booleano. Si se ingresa un tipo de dato en una variable diferente al esperado la función debe regresar \"Error. Revisar entradas.\"\n",
    "\n",
    "La función, en caso que las variables sean ingresadas de manera correcta, debe regresar:\n",
    "\n",
    "\"El salario total es $xxx: $400 de salario mínimo +  por y años de experiencia +  por z dependientes + $100 por no inasistencias.\""
   ]
  },
  {
   "cell_type": "code",
   "execution_count": null,
   "id": "4635b6b4-0f6a-4bea-902d-18136c2d4252",
   "metadata": {},
   "outputs": [],
   "source": []
  },
  {
   "cell_type": "markdown",
   "id": "501bc32c-6745-446e-903d-8354c35eb3d7",
   "metadata": {},
   "source": [
    "Ejercicio 2.\n",
    "\n",
    "Escribe una función que recibe un número entero de 3 cifras y que responda de la siguiente manera:\n",
    "\n",
    "- El número tiene x centenas\n",
    "- El número tiene y decenas\n",
    "- El número tiene z unidades"
   ]
  },
  {
   "cell_type": "code",
   "execution_count": null,
   "id": "6d78052d-a581-4c07-9642-05cf456ca9be",
   "metadata": {},
   "outputs": [],
   "source": [
    "def entero(N1):\n",
    "    Cen = N1 // 100\n",
    "    Dec = (N1 % 100) // 10\n",
    "    Uni = (N1 % 100) % 1"
   ]
  },
  {
   "cell_type": "code",
   "execution_count": 4,
   "id": "02fc47ee-841c-44a5-815d-29e8a5371e99",
   "metadata": {},
   "outputs": [
    {
     "ename": "NameError",
     "evalue": "name 'entero' is not defined",
     "output_type": "error",
     "traceback": [
      "\u001b[1;31m---------------------------------------------------------------------------\u001b[0m",
      "\u001b[1;31mNameError\u001b[0m                                 Traceback (most recent call last)",
      "Cell \u001b[1;32mIn[4], line 1\u001b[0m\n\u001b[1;32m----> 1\u001b[0m entero(\u001b[38;5;241m100\u001b[39m)\n",
      "\u001b[1;31mNameError\u001b[0m: name 'entero' is not defined"
     ]
    }
   ],
   "source": [
    "entero(100)"
   ]
  },
  {
   "cell_type": "code",
   "execution_count": null,
   "id": "62a057e7-9309-460d-9dd0-08164b3fea8f",
   "metadata": {},
   "outputs": [],
   "source": []
  }
 ],
 "metadata": {
  "kernelspec": {
   "display_name": "Python 3 (ipykernel)",
   "language": "python",
   "name": "python3"
  },
  "language_info": {
   "codemirror_mode": {
    "name": "ipython",
    "version": 3
   },
   "file_extension": ".py",
   "mimetype": "text/x-python",
   "name": "python",
   "nbconvert_exporter": "python",
   "pygments_lexer": "ipython3",
   "version": "3.12.4"
  }
 },
 "nbformat": 4,
 "nbformat_minor": 5
}
