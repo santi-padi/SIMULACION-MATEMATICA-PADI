{
 "cells": [
  {
   "cell_type": "markdown",
   "id": "b2dafbb7-7223-4f64-93fd-7221cad20d2b",
   "metadata": {},
   "source": [
    "# Actividad en clase 01"
   ]
  },
  {
   "cell_type": "markdown",
   "id": "5c41b71a-a6ea-4e35-954f-e1d4430f1f52",
   "metadata": {},
   "source": [
    "## Santiago Padillla Arias EXP:750985 Fecha: 22/08/2024"
   ]
  },
  {
   "cell_type": "markdown",
   "id": "925a9d33-989c-4215-a595-ad36c6ababe6",
   "metadata": {},
   "source": [
    "1. Pasar a función el código de encontrar un número primo que retorne True si sí es primo y False si no."
   ]
  },
  {
   "cell_type": "code",
   "execution_count": 7,
   "id": "c3f7c131-f1b6-4db2-97fe-fdee77c47ca3",
   "metadata": {},
   "outputs": [],
   "source": [
    "def esprimo(a):\n",
    "    a =0 # N numero a revisar\n",
    "    z = 2 # z numero para dividir, parte del 2 porque es el 1er primo\n",
    "    Num_Primo = True # Condición de verdadero dando por hecho que el número será primo\n",
    "    \n",
    "    while z < a:\n",
    "        if a % z == 0: # Si el residuo de N entre z da 0 el número no será primo\n",
    "            Num_Primo = False # Se cambia esta variable de True a False porque no es primo\n",
    "            break # Se rompe el ciclo\n",
    "        z += 1\n",
    "    if Num_Primo == True : # Este if decide que se imprimirá dependiendo si Num_Primo es True o False    \n",
    "        return True\n",
    "    else :\n",
    "        return False"
   ]
  },
  {
   "cell_type": "code",
   "execution_count": 9,
   "id": "ac57b05a-c7e5-4905-ab9f-5e5874aab7ab",
   "metadata": {},
   "outputs": [
    {
     "data": {
      "text/plain": [
       "True"
      ]
     },
     "execution_count": 9,
     "metadata": {},
     "output_type": "execute_result"
    }
   ],
   "source": [
    "esprimo(7)"
   ]
  },
  {
   "cell_type": "markdown",
   "id": "c0e4beb1-41a5-4015-a7a4-c378776765ee",
   "metadata": {},
   "source": [
    "2. Crear una función que ingrese un número a y que encuentre el número primo más cercano."
   ]
  },
  {
   "cell_type": "code",
   "execution_count": 12,
   "id": "9b3add2c-d62e-4030-bf47-91654d8daacf",
   "metadata": {},
   "outputs": [],
   "source": [
    "def cerca(a):\n",
    "    if a <= 0:\n",
    "        print(\"El valor de 'a' debe estar por encima del valor que pusiste.\")\n",
    "    elif a >= 100:\n",
    "        print(\"El valor de 'a' debe estar en el rango menor que 100.\")\n",
    "    else:\n",
    "        if esprimo(a):\n",
    "            print(str(a) + \" ese es un número primo.\")\n",
    "        else:\n",
    "            arriba = a + 1\n",
    "            abajo = a - 1\n",
    "            while True:\n",
    "                if abajo > 0 and esprimo(abajo):\n",
    "                    print(\"El número primo más cercano menor a \" + str(a) + \" es \" + str(abajo) + \".\")\n",
    "                    break\n",
    "                if arriba < 100 and esprimo(arriba):\n",
    "                    print(\"El número primo más cercano mayor a \" + str(a) + \" es \" + str(arriba) + \".\")\n",
    "                    break\n",
    "                arriba += 1\n",
    "                abajo -= 1"
   ]
  },
  {
   "cell_type": "code",
   "execution_count": 14,
   "id": "2659b7a1-11db-41a7-bb85-8cb3ae17f4cf",
   "metadata": {},
   "outputs": [
    {
     "name": "stdout",
     "output_type": "stream",
     "text": [
      "El valor de 'a' debe estar por encima del valor que pusiste.\n"
     ]
    }
   ],
   "source": [
    "cerca(0)"
   ]
  },
  {
   "cell_type": "code",
   "execution_count": 16,
   "id": "adf9ae17-0b23-4f79-95a8-33f72f961def",
   "metadata": {},
   "outputs": [
    {
     "name": "stdout",
     "output_type": "stream",
     "text": [
      "11 ese es un número primo.\n"
     ]
    }
   ],
   "source": [
    "cerca(11)"
   ]
  },
  {
   "cell_type": "code",
   "execution_count": 18,
   "id": "fbd4c41e-8baf-4efb-a7fe-8f26ec055b50",
   "metadata": {},
   "outputs": [
    {
     "name": "stdout",
     "output_type": "stream",
     "text": [
      "10 ese es un número primo.\n"
     ]
    }
   ],
   "source": [
    "cerca(10)"
   ]
  },
  {
   "cell_type": "code",
   "execution_count": 20,
   "id": "cfe9f66b-aa30-442a-a8ff-6530f57205f4",
   "metadata": {},
   "outputs": [
    {
     "name": "stdout",
     "output_type": "stream",
     "text": [
      "4 ese es un número primo.\n"
     ]
    }
   ],
   "source": [
    "cerca(4)"
   ]
  },
  {
   "cell_type": "code",
   "execution_count": 22,
   "id": "4e5f4c0b-10a0-4fa6-b1dd-e24827c095ee",
   "metadata": {},
   "outputs": [
    {
     "name": "stderr",
     "output_type": "stream",
     "text": [
      "\"[]\" no se reconoce como un comando interno o externo,\n",
      "programa o archivo por lotes ejecutable.\n"
     ]
    }
   ],
   "source": [
    "![](actclase2_Diagrama2.jpg)"
   ]
  },
  {
   "cell_type": "markdown",
   "id": "666f8c78-6f88-4d39-b5cc-4dd220e5d056",
   "metadata": {},
   "source": [
    "3. Pasar a función el código de encontrar factorial y encontrar factorial de:\n",
    "   - 4\n",
    "   - 7\n",
    "   - 5\n",
    "   - 8\n",
    "   - 9\n",
    "   - 3"
   ]
  },
  {
   "cell_type": "code",
   "execution_count": 25,
   "id": "594aca47-b776-42f0-877a-6ead0d46f1bc",
   "metadata": {},
   "outputs": [
    {
     "name": "stdout",
     "output_type": "stream",
     "text": [
      "24\n",
      "5040\n",
      "120\n",
      "40320\n",
      "362880\n",
      "6\n"
     ]
    }
   ],
   "source": [
    "def fact(a):\n",
    "    z = 1\n",
    "    factorial = 1\n",
    "    while z <= int(a):\n",
    "        factorial = factorial * z\n",
    "        z = z + 1\n",
    "    return(factorial)\n",
    "\n",
    "lista = [4, 7, 5, 8, 9, 3]\n",
    "\n",
    "for elemento in lista:\n",
    "    print(fact(elemento))"
   ]
  },
  {
   "cell_type": "markdown",
   "id": "81f4afbe-ed01-47b9-944d-ba74509e243d",
   "metadata": {},
   "source": [
    "4. Crear una lista con los primeros 100 multiplos de 3."
   ]
  },
  {
   "cell_type": "code",
   "execution_count": 28,
   "id": "9881b459-730b-4f32-96f9-db70acbd22af",
   "metadata": {},
   "outputs": [
    {
     "name": "stdout",
     "output_type": "stream",
     "text": [
      "[3, 6, 9, 12, 15, 18, 21, 24, 27, 30, 33, 36, 39, 42, 45, 48, 51, 54, 57, 60, 63, 66, 69, 72, 75, 78, 81, 84, 87, 90, 93, 96, 99, 102, 105, 108, 111, 114, 117, 120, 123, 126, 129, 132, 135, 138, 141, 144, 147, 150, 153, 156, 159, 162, 165, 168, 171, 174, 177, 180, 183, 186, 189, 192, 195, 198, 201, 204, 207, 210, 213, 216, 219, 222, 225, 228, 231, 234, 237, 240, 243, 246, 249, 252, 255, 258, 261, 264, 267, 270, 273, 276, 279, 282, 285, 288, 291, 294, 297]\n"
     ]
    }
   ],
   "source": [
    "multiplo=3\n",
    "contador=2\n",
    "tres=3\n",
    "lista = []\n",
    "while(contador<101):\n",
    "    lista.append(tres)\n",
    "    tres=multiplo*contador\n",
    "    contador+=1\n",
    "print(lista)"
   ]
  },
  {
   "cell_type": "code",
   "execution_count": null,
   "id": "be53ade5-5183-48de-a948-a96b690939b9",
   "metadata": {},
   "outputs": [],
   "source": []
  }
 ],
 "metadata": {
  "kernelspec": {
   "display_name": "Python 3 (ipykernel)",
   "language": "python",
   "name": "python3"
  },
  "language_info": {
   "codemirror_mode": {
    "name": "ipython",
    "version": 3
   },
   "file_extension": ".py",
   "mimetype": "text/x-python",
   "name": "python",
   "nbconvert_exporter": "python",
   "pygments_lexer": "ipython3",
   "version": "3.12.4"
  }
 },
 "nbformat": 4,
 "nbformat_minor": 5
}
