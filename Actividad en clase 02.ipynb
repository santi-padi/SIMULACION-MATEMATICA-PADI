{
 "cells": [
  {
   "cell_type": "markdown",
   "id": "5c41b71a-a6ea-4e35-954f-e1d4430f1f52",
   "metadata": {},
   "source": [
    "## Santiago Padillla Arias EXP:750985 Fecha: 12/08/2024"
   ]
  },
  {
   "cell_type": "markdown",
   "id": "925a9d33-989c-4215-a595-ad36c6ababe6",
   "metadata": {},
   "source": [
    "1. Pasar a función el código de encontrar un número primo que retorne True si sí es primo y False si no."
   ]
  },
  {
   "cell_type": "code",
   "execution_count": 25,
   "id": "c3f7c131-f1b6-4db2-97fe-fdee77c47ca3",
   "metadata": {},
   "outputs": [],
   "source": [
    "def esprimo(a):\n",
    "    a =0 # N numero a revisar\n",
    "    z = 2 # z numero para dividir, parte del 2 porque es el 1er primo\n",
    "    Num_Primo = True # Condición de verdadero dando por hecho que el número será primo\n",
    "    \n",
    "    while z < a:\n",
    "        if a % z == 0: # Si el residuo de N entre z da 0 el número no será primo\n",
    "            Num_Primo = False # Se cambia esta variable de True a False porque no es primo\n",
    "            break # Se rompe el ciclo\n",
    "        z += 1\n",
    "    if Num_Primo == True : # Este if decide que se imprimirá dependiendo si Num_Primo es True o False    \n",
    "        return True\n",
    "    else :\n",
    "        return False"
   ]
  },
  {
   "cell_type": "code",
   "execution_count": 27,
   "id": "ac57b05a-c7e5-4905-ab9f-5e5874aab7ab",
   "metadata": {},
   "outputs": [
    {
     "data": {
      "text/plain": [
       "True"
      ]
     },
     "execution_count": 27,
     "metadata": {},
     "output_type": "execute_result"
    }
   ],
   "source": [
    "esprimo(7)"
   ]
  },
  {
   "cell_type": "markdown",
   "id": "c0e4beb1-41a5-4015-a7a4-c378776765ee",
   "metadata": {},
   "source": [
    "2. Crear una función que ingrese un número a y que encuentre el número primo más cercano."
   ]
  },
  {
   "cell_type": "code",
   "execution_count": null,
   "id": "b08583ba-00b3-421c-8c4e-6cc2e3abb020",
   "metadata": {},
   "outputs": [],
   "source": [
    "def primo(b):\n",
    "    a = 7\n",
    "    "
   ]
  },
  {
   "cell_type": "markdown",
   "id": "666f8c78-6f88-4d39-b5cc-4dd220e5d056",
   "metadata": {},
   "source": [
    "3. Pasar a función el código de encontrar factorial y encontrar factorial de:\n",
    "   - 4\n",
    "   - 7\n",
    "   - 5\n",
    "   - 8\n",
    "   - 9\n",
    "   - 3"
   ]
  },
  {
   "cell_type": "code",
   "execution_count": 63,
   "id": "594aca47-b776-42f0-877a-6ead0d46f1bc",
   "metadata": {},
   "outputs": [
    {
     "name": "stdout",
     "output_type": "stream",
     "text": [
      "24\n",
      "5040\n",
      "120\n",
      "40320\n",
      "362880\n",
      "6\n"
     ]
    }
   ],
   "source": [
    "def fact(a):\n",
    "    z = 1\n",
    "    factorial = 1\n",
    "    while z <= int(a):\n",
    "        factorial = factorial * z\n",
    "        z = z + 1\n",
    "    return(factorial)\n",
    "\n",
    "lista = [4, 7, 5, 8, 9, 3]\n",
    "\n",
    "for elemento in lista:\n",
    "    print(fact(elemento))"
   ]
  },
  {
   "cell_type": "markdown",
   "id": "81f4afbe-ed01-47b9-944d-ba74509e243d",
   "metadata": {},
   "source": [
    "4. Crear una lista con los primeros 100 multiplos de 3."
   ]
  },
  {
   "cell_type": "code",
   "execution_count": 68,
   "id": "9881b459-730b-4f32-96f9-db70acbd22af",
   "metadata": {},
   "outputs": [
    {
     "ename": "SyntaxError",
     "evalue": "expected ':' (3214335845.py, line 5)",
     "output_type": "error",
     "traceback": [
      "\u001b[1;36m  Cell \u001b[1;32mIn[68], line 5\u001b[1;36m\u001b[0m\n\u001b[1;33m    while(contador<101)\u001b[0m\n\u001b[1;37m                       ^\u001b[0m\n\u001b[1;31mSyntaxError\u001b[0m\u001b[1;31m:\u001b[0m expected ':'\n"
     ]
    }
   ],
   "source": [
    "multiplo=3\n",
    "contador=2\n",
    "tres=3\n",
    "lista = 0\n",
    "while(contador<101)\n",
    "    lista.append(tres)\n",
    "    tres=multiplo*contador\n",
    "    contador+=1\n",
    "print(lista)"
   ]
  },
  {
   "cell_type": "code",
   "execution_count": null,
   "id": "bc9ada28-d9c5-4570-a284-34a83264f6e4",
   "metadata": {},
   "outputs": [],
   "source": []
  }
 ],
 "metadata": {
  "kernelspec": {
   "display_name": "Python 3 (ipykernel)",
   "language": "python",
   "name": "python3"
  },
  "language_info": {
   "codemirror_mode": {
    "name": "ipython",
    "version": 3
   },
   "file_extension": ".py",
   "mimetype": "text/x-python",
   "name": "python",
   "nbconvert_exporter": "python",
   "pygments_lexer": "ipython3",
   "version": "3.12.4"
  }
 },
 "nbformat": 4,
 "nbformat_minor": 5
}
